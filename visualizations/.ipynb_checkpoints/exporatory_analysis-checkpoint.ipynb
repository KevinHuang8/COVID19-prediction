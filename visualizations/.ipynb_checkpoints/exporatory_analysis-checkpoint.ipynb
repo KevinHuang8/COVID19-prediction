{
 "cells": [
  {
   "cell_type": "code",
   "execution_count": 1,
   "metadata": {},
   "outputs": [
    {
     "data": {
      "text/plain": [
       "<module 'utils' from '..\\\\utils.py'>"
      ]
     },
     "execution_count": 1,
     "metadata": {},
     "output_type": "execute_result"
    }
   ],
   "source": [
    "import sys\n",
    "sys.path.append('../')\n",
    "from datetime import date, timedelta\n",
    "import numpy as np\n",
    "import pandas as pd\n",
    "import plotly.express as px\n",
    "import plotly.graph_objects as go\n",
    "import matplotlib.pyplot as plt\n",
    "import importlib\n",
    "import utils as u\n",
    "importlib.reload(u)"
   ]
  },
  {
   "cell_type": "code",
   "execution_count": 2,
   "metadata": {},
   "outputs": [
    {
     "name": "stderr",
     "output_type": "stream",
     "text": [
      "c:\\users\\kehua\\appdata\\local\\programs\\python\\python38\\lib\\site-packages\\pandas\\core\\series.py:856: RuntimeWarning:\n",
      "\n",
      "divide by zero encountered in log10\n",
      "\n"
     ]
    },
    {
     "data": {
      "text/html": [
       "<div>\n",
       "<style scoped>\n",
       "    .dataframe tbody tr th:only-of-type {\n",
       "        vertical-align: middle;\n",
       "    }\n",
       "\n",
       "    .dataframe tbody tr th {\n",
       "        vertical-align: top;\n",
       "    }\n",
       "\n",
       "    .dataframe thead th {\n",
       "        text-align: right;\n",
       "    }\n",
       "</style>\n",
       "<table border=\"1\" class=\"dataframe\">\n",
       "  <thead>\n",
       "    <tr style=\"text-align: right;\">\n",
       "      <th></th>\n",
       "      <th>FIPS</th>\n",
       "      <th>County Name</th>\n",
       "      <th>cases</th>\n",
       "      <th>deaths</th>\n",
       "      <th>log_cases</th>\n",
       "      <th>log_deaths</th>\n",
       "    </tr>\n",
       "  </thead>\n",
       "  <tbody>\n",
       "    <tr>\n",
       "      <th>0</th>\n",
       "      <td>01001</td>\n",
       "      <td>Autauga County</td>\n",
       "      <td>25</td>\n",
       "      <td>1</td>\n",
       "      <td>1.397940</td>\n",
       "      <td>0.0</td>\n",
       "    </tr>\n",
       "    <tr>\n",
       "      <th>1</th>\n",
       "      <td>01003</td>\n",
       "      <td>Baldwin County</td>\n",
       "      <td>102</td>\n",
       "      <td>0</td>\n",
       "      <td>2.008600</td>\n",
       "      <td>0.0</td>\n",
       "    </tr>\n",
       "    <tr>\n",
       "      <th>2</th>\n",
       "      <td>01005</td>\n",
       "      <td>Barbour County</td>\n",
       "      <td>14</td>\n",
       "      <td>0</td>\n",
       "      <td>1.146128</td>\n",
       "      <td>0.0</td>\n",
       "    </tr>\n",
       "    <tr>\n",
       "      <th>3</th>\n",
       "      <td>01007</td>\n",
       "      <td>Bibb County</td>\n",
       "      <td>24</td>\n",
       "      <td>0</td>\n",
       "      <td>1.380211</td>\n",
       "      <td>0.0</td>\n",
       "    </tr>\n",
       "    <tr>\n",
       "      <th>4</th>\n",
       "      <td>01009</td>\n",
       "      <td>Blount County</td>\n",
       "      <td>18</td>\n",
       "      <td>0</td>\n",
       "      <td>1.255273</td>\n",
       "      <td>0.0</td>\n",
       "    </tr>\n",
       "  </tbody>\n",
       "</table>\n",
       "</div>"
      ],
      "text/plain": [
       "    FIPS     County Name  cases  deaths  log_cases  log_deaths\n",
       "0  01001  Autauga County     25       1   1.397940         0.0\n",
       "1  01003  Baldwin County    102       0   2.008600         0.0\n",
       "2  01005  Barbour County     14       0   1.146128         0.0\n",
       "3  01007     Bibb County     24       0   1.380211         0.0\n",
       "4  01009   Blount County     18       0   1.255273         0.0"
      ]
     },
     "execution_count": 2,
     "metadata": {},
     "output_type": "execute_result"
    }
   ],
   "source": [
    "data = u.load_covid_data()\n",
    "data.head()"
   ]
  },
  {
   "cell_type": "code",
   "execution_count": 3,
   "metadata": {},
   "outputs": [
    {
     "data": {
      "text/html": [
       "<div>\n",
       "<style scoped>\n",
       "    .dataframe tbody tr th:only-of-type {\n",
       "        vertical-align: middle;\n",
       "    }\n",
       "\n",
       "    .dataframe tbody tr th {\n",
       "        vertical-align: top;\n",
       "    }\n",
       "\n",
       "    .dataframe thead th {\n",
       "        text-align: right;\n",
       "    }\n",
       "</style>\n",
       "<table border=\"1\" class=\"dataframe\">\n",
       "  <thead>\n",
       "    <tr style=\"text-align: right;\">\n",
       "      <th></th>\n",
       "      <th>FIPS</th>\n",
       "      <th>total_pop</th>\n",
       "      <th>60plus</th>\n",
       "      <th>area</th>\n",
       "      <th>median_age</th>\n",
       "      <th>pop_white</th>\n",
       "      <th>pop_black</th>\n",
       "      <th>pop_hispanic</th>\n",
       "    </tr>\n",
       "  </thead>\n",
       "  <tbody>\n",
       "    <tr>\n",
       "      <th>0</th>\n",
       "      <td>01001</td>\n",
       "      <td>55036</td>\n",
       "      <td>10523</td>\n",
       "      <td>594.44</td>\n",
       "      <td>37.8</td>\n",
       "      <td>76.9</td>\n",
       "      <td>19.1</td>\n",
       "      <td>2.8</td>\n",
       "    </tr>\n",
       "    <tr>\n",
       "      <th>1</th>\n",
       "      <td>01003</td>\n",
       "      <td>203360</td>\n",
       "      <td>53519</td>\n",
       "      <td>1589.78</td>\n",
       "      <td>42.8</td>\n",
       "      <td>86.3</td>\n",
       "      <td>9.5</td>\n",
       "      <td>4.5</td>\n",
       "    </tr>\n",
       "    <tr>\n",
       "      <th>2</th>\n",
       "      <td>01005</td>\n",
       "      <td>26201</td>\n",
       "      <td>6150</td>\n",
       "      <td>884.88</td>\n",
       "      <td>39.9</td>\n",
       "      <td>47.4</td>\n",
       "      <td>47.6</td>\n",
       "      <td>4.3</td>\n",
       "    </tr>\n",
       "    <tr>\n",
       "      <th>3</th>\n",
       "      <td>01007</td>\n",
       "      <td>22580</td>\n",
       "      <td>4773</td>\n",
       "      <td>622.58</td>\n",
       "      <td>39.9</td>\n",
       "      <td>76.7</td>\n",
       "      <td>22.3</td>\n",
       "      <td>2.4</td>\n",
       "    </tr>\n",
       "    <tr>\n",
       "      <th>4</th>\n",
       "      <td>01009</td>\n",
       "      <td>57667</td>\n",
       "      <td>13600</td>\n",
       "      <td>644.78</td>\n",
       "      <td>40.8</td>\n",
       "      <td>95.5</td>\n",
       "      <td>1.5</td>\n",
       "      <td>9.1</td>\n",
       "    </tr>\n",
       "    <tr>\n",
       "      <th>...</th>\n",
       "      <td>...</td>\n",
       "      <td>...</td>\n",
       "      <td>...</td>\n",
       "      <td>...</td>\n",
       "      <td>...</td>\n",
       "      <td>...</td>\n",
       "      <td>...</td>\n",
       "      <td>...</td>\n",
       "    </tr>\n",
       "    <tr>\n",
       "      <th>3137</th>\n",
       "      <td>56037</td>\n",
       "      <td>44527</td>\n",
       "      <td>7015</td>\n",
       "      <td>10426.65</td>\n",
       "      <td>34.6</td>\n",
       "      <td>93.1</td>\n",
       "      <td>0.8</td>\n",
       "      <td>16.0</td>\n",
       "    </tr>\n",
       "    <tr>\n",
       "      <th>3138</th>\n",
       "      <td>56039</td>\n",
       "      <td>22923</td>\n",
       "      <td>4298</td>\n",
       "      <td>3995.38</td>\n",
       "      <td>39.3</td>\n",
       "      <td>90.3</td>\n",
       "      <td>1.2</td>\n",
       "      <td>14.9</td>\n",
       "    </tr>\n",
       "    <tr>\n",
       "      <th>3139</th>\n",
       "      <td>56041</td>\n",
       "      <td>20758</td>\n",
       "      <td>3554</td>\n",
       "      <td>2081.26</td>\n",
       "      <td>35.5</td>\n",
       "      <td>93.4</td>\n",
       "      <td>0.1</td>\n",
       "      <td>9.1</td>\n",
       "    </tr>\n",
       "    <tr>\n",
       "      <th>3140</th>\n",
       "      <td>56043</td>\n",
       "      <td>8253</td>\n",
       "      <td>2206</td>\n",
       "      <td>2238.55</td>\n",
       "      <td>43.5</td>\n",
       "      <td>89.7</td>\n",
       "      <td>0.0</td>\n",
       "      <td>14.2</td>\n",
       "    </tr>\n",
       "    <tr>\n",
       "      <th>3141</th>\n",
       "      <td>56045</td>\n",
       "      <td>7117</td>\n",
       "      <td>2073</td>\n",
       "      <td>2398.09</td>\n",
       "      <td>42.9</td>\n",
       "      <td>92.5</td>\n",
       "      <td>0.5</td>\n",
       "      <td>1.5</td>\n",
       "    </tr>\n",
       "  </tbody>\n",
       "</table>\n",
       "<p>3142 rows × 8 columns</p>\n",
       "</div>"
      ],
      "text/plain": [
       "       FIPS  total_pop  60plus      area  median_age  pop_white  pop_black  \\\n",
       "0     01001      55036   10523    594.44        37.8       76.9       19.1   \n",
       "1     01003     203360   53519   1589.78        42.8       86.3        9.5   \n",
       "2     01005      26201    6150    884.88        39.9       47.4       47.6   \n",
       "3     01007      22580    4773    622.58        39.9       76.7       22.3   \n",
       "4     01009      57667   13600    644.78        40.8       95.5        1.5   \n",
       "...     ...        ...     ...       ...         ...        ...        ...   \n",
       "3137  56037      44527    7015  10426.65        34.6       93.1        0.8   \n",
       "3138  56039      22923    4298   3995.38        39.3       90.3        1.2   \n",
       "3139  56041      20758    3554   2081.26        35.5       93.4        0.1   \n",
       "3140  56043       8253    2206   2238.55        43.5       89.7        0.0   \n",
       "3141  56045       7117    2073   2398.09        42.9       92.5        0.5   \n",
       "\n",
       "      pop_hispanic  \n",
       "0              2.8  \n",
       "1              4.5  \n",
       "2              4.3  \n",
       "3              2.4  \n",
       "4              9.1  \n",
       "...            ...  \n",
       "3137          16.0  \n",
       "3138          14.9  \n",
       "3139           9.1  \n",
       "3140          14.2  \n",
       "3141           1.5  \n",
       "\n",
       "[3142 rows x 8 columns]"
      ]
     },
     "execution_count": 3,
     "metadata": {},
     "output_type": "execute_result"
    }
   ],
   "source": [
    "demographics = u.load_demographics_data()\n",
    "demographics"
   ]
  },
  {
   "cell_type": "code",
   "execution_count": 4,
   "metadata": {},
   "outputs": [],
   "source": [
    "cases_per_pop = data['cases'].astype(int) / demographics['total_pop'].astype(int) * 10000\n",
    "data['cases_per_pop'] = pd.Series(cases_per_pop, index=data.index)\n",
    "data['logcases_per_pop'] = pd.Series(np.log10(cases_per_pop).replace([np.inf, -np.inf], 0), index=data.index)\n",
    "\n",
    "data['deaths_per_pop'] = data['deaths'] / demographics['total_pop'] * 100000\n",
    "data['logdeaths_per_pop'] = pd.Series(np.log10(data['deaths_per_pop'] ).replace([np.inf, -np.inf], 0), index=data.index)\n",
    "\n",
    "demographics['pop_density'] = demographics['total_pop'] / demographics['area']\n",
    "demographics['p60_plus'] = demographics['60plus'] / demographics['total_pop']"
   ]
  },
  {
   "cell_type": "code",
   "execution_count": 5,
   "metadata": {},
   "outputs": [],
   "source": [
    "combined = pd.merge(data, demographics)"
   ]
  },
  {
   "cell_type": "code",
   "execution_count": 6,
   "metadata": {},
   "outputs": [
    {
     "data": {
      "image/png": "[encoded data removed]",
      "text/plain": [
       "<Figure size 1152x1152 with 2 Axes>"
      ]
     },
     "metadata": {
      "needs_background": "light"
     },
     "output_type": "display_data"
    }
   ],
   "source": [
    "fig = plt.figure(figsize=(16, 16))\n",
    "ax = fig.add_subplot(111)\n",
    "a = ax.matshow(combined.corr(), cmap='jet', vmin=-1, vmax=1)\n",
    "labels = combined.columns.tolist()[2:]\n",
    "ax.set_xticklabels(labels,rotation=90, fontsize=10)\n",
    "ax.set_xticks(np.arange(len(labels)))\n",
    "ax.set_yticklabels(labels, fontsize=10)\n",
    "ax.set_yticks(np.arange(len(labels)))\n",
    "fig.colorbar(a)\n",
    "plt.show()"
   ]
  },
  {
   "cell_type": "code",
   "execution_count": 7,
   "metadata": {},
   "outputs": [
    {
     "data": {
      "text/plain": [
       "<matplotlib.axes._subplots.AxesSubplot at 0x207ca9cbcd0>"
      ]
     },
     "execution_count": 7,
     "metadata": {},
     "output_type": "execute_result"
    },
    {
     "data": {
      "image/png": "[encoded data removed]",
      "text/plain": [
       "<Figure size 432x288 with 1 Axes>"
      ]
     },
     "metadata": {
      "needs_background": "light"
     },
     "output_type": "display_data"
    }
   ],
   "source": [
    "combined.plot(x='p60_plus', y='deaths_per_pop', style='o')"
   ]
  },
  {
   "cell_type": "code",
   "execution_count": null,
   "metadata": {},
   "outputs": [],
   "source": []
  }
 ],
 "metadata": {
  "kernelspec": {
   "display_name": "Python 3",
   "language": "python",
   "name": "python3"
  },
  "language_info": {
   "codemirror_mode": {
    "name": "ipython",
    "version": 3
   },
   "file_extension": ".py",
   "mimetype": "text/x-python",
   "name": "python",
   "nbconvert_exporter": "python",
   "pygments_lexer": "ipython3",
   "version": "3.8.2"
  }
 },
 "nbformat": 4,
 "nbformat_minor": 4
}
