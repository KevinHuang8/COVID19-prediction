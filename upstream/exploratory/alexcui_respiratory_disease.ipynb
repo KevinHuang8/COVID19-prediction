{
 "cells": [
  {
   "cell_type": "markdown",
   "metadata": {},
   "source": [
    "# Respiratory disease mortality data"
   ]
  },
  {
   "cell_type": "markdown",
   "metadata": {},
   "source": [
    "We will load data on age-standardized mortality rate for both sexes combined (deaths per 100,000 population)."
   ]
  },
  {
   "cell_type": "code",
   "execution_count": 1,
   "metadata": {},
   "outputs": [],
   "source": [
    "import pandas as pd\n",
    "import numpy as np\n",
    "import matplotlib.pyplot as plt"
   ]
  },
  {
   "cell_type": "code",
   "execution_count": 4,
   "metadata": {},
   "outputs": [],
   "source": [
    "resp_filepath = \"../data/us/respiratory_disease/IHME_USA_COUNTY_RESP_DISEASE_MORTALITY_1980_2014_NATIONAL_Y2017M09D26.XLSX\" \n",
    "\n",
    "def load_resp_disease_sheet():\n",
    "    # Load just the overall respiratory mortality rates for 2014\n",
    "    filepath = resp_filepath\n",
    "    orig_data = pd.read_excel(filepath,\n",
    "                              sheet_name = \"Chronic respiratory diseases\",\n",
    "                              skiprows = 1,\n",
    "                              skipfooter = 2)\n",
    "    orig_data = orig_data.dropna(subset = [\"FIPS\"])\n",
    "    # omit the confidence intervals for now\n",
    "    resp_mortality = orig_data['Mortality Rate, 2014*'].str.split(expand = True).iloc[:, 0]\n",
    "    data = pd.DataFrame({'countyFIPS': orig_data['FIPS'].astype(int), \n",
    "                         'Respiratory Mortality': resp_mortality})\n",
    "    return data\n",
    "\n",
    "def load_all_resp_disease_sheets():\n",
    "    # Load the respiratory mortality rates split by disease for 2014\n",
    "    filepath = resp_filepath\n",
    "    xl = pd.ExcelFile(filepath)\n",
    "    all_data = None\n",
    "    for i, sheet_name in enumerate(xl.sheet_names):\n",
    "        disease_name = sheet_name\n",
    "        if i == 0:\n",
    "            # all diseases\n",
    "            disease_name = 'All chronic respiratory diseases'\n",
    "        \n",
    "        print('Loading the sheet for', disease_name)\n",
    "        \n",
    "        orig_data = xl.parse(sheet_name, skiprows = 1, skifooter = 2)    \n",
    "        orig_data = orig_data.dropna(subset = [\"FIPS\"])        \n",
    "        # omit the confidence intervals for now\n",
    "        resp_mortality = orig_data['Mortality Rate, 2014*'].str.split(expand = True).iloc[:, 0]\n",
    "        col_name = disease_name + ' mortality'\n",
    "        data = pd.DataFrame({'countyFIPS': orig_data['FIPS'].astype(int), \n",
    "                             col_name: resp_mortality})\n",
    "        # Combine the data\n",
    "        if all_data is None:\n",
    "            all_data = data\n",
    "        else:\n",
    "            all_data = all_data.merge(data, left_on='countyFIPS', right_on='countyFIPS')\n",
    "    return all_data"
   ]
  },
  {
   "cell_type": "code",
   "execution_count": 5,
   "metadata": {},
   "outputs": [
    {
     "name": "stdout",
     "output_type": "stream",
     "text": [
      "Loading the sheet for All chronic respiratory diseases\n",
      "Loading the sheet for Chronic obstructive pulmonary \n",
      "Loading the sheet for Pneumoconiosis\n",
      "Loading the sheet for Silicosis\n",
      "Loading the sheet for Asbestosis\n",
      "Loading the sheet for Coal workers pneumoconiosis\n",
      "Loading the sheet for Other pneumoconiosis\n",
      "Loading the sheet for Asthma\n",
      "Loading the sheet for Interstitial lung disease\n",
      "Loading the sheet for Other chronic respiratory \n"
     ]
    }
   ],
   "source": [
    "df = load_all_resp_disease_sheets()"
   ]
  },
  {
   "cell_type": "code",
   "execution_count": 6,
   "metadata": {},
   "outputs": [],
   "source": [
    "# Convert columns to float, as they are loaded as object by default\n",
    "df = df.astype(np.float)"
   ]
  },
  {
   "cell_type": "code",
   "execution_count": 7,
   "metadata": {},
   "outputs": [
    {
     "data": {
      "text/plain": [
       "(3193, 11)"
      ]
     },
     "execution_count": 7,
     "metadata": {},
     "output_type": "execute_result"
    }
   ],
   "source": [
    "df.shape"
   ]
  },
  {
   "cell_type": "code",
   "execution_count": 8,
   "metadata": {},
   "outputs": [
    {
     "data": {
      "text/html": [
       "<div>\n",
       "<style scoped>\n",
       "    .dataframe tbody tr th:only-of-type {\n",
       "        vertical-align: middle;\n",
       "    }\n",
       "\n",
       "    .dataframe tbody tr th {\n",
       "        vertical-align: top;\n",
       "    }\n",
       "\n",
       "    .dataframe thead th {\n",
       "        text-align: right;\n",
       "    }\n",
       "</style>\n",
       "<table border=\"1\" class=\"dataframe\">\n",
       "  <thead>\n",
       "    <tr style=\"text-align: right;\">\n",
       "      <th></th>\n",
       "      <th>countyFIPS</th>\n",
       "      <th>All chronic respiratory diseases mortality</th>\n",
       "      <th>Chronic obstructive pulmonary  mortality</th>\n",
       "      <th>Pneumoconiosis mortality</th>\n",
       "      <th>Silicosis mortality</th>\n",
       "      <th>Asbestosis mortality</th>\n",
       "      <th>Coal workers pneumoconiosis mortality</th>\n",
       "      <th>Other pneumoconiosis mortality</th>\n",
       "      <th>Asthma mortality</th>\n",
       "      <th>Interstitial lung disease mortality</th>\n",
       "      <th>Other chronic respiratory  mortality</th>\n",
       "    </tr>\n",
       "  </thead>\n",
       "  <tbody>\n",
       "    <tr>\n",
       "      <th>count</th>\n",
       "      <td>3193.000000</td>\n",
       "      <td>3193.000000</td>\n",
       "      <td>3193.000000</td>\n",
       "      <td>3193.000000</td>\n",
       "      <td>3193.000000</td>\n",
       "      <td>3193.000000</td>\n",
       "      <td>3193.000000</td>\n",
       "      <td>3193.000000</td>\n",
       "      <td>3193.000000</td>\n",
       "      <td>3193.000000</td>\n",
       "      <td>3193.000000</td>\n",
       "    </tr>\n",
       "    <tr>\n",
       "      <th>mean</th>\n",
       "      <td>29898.810836</td>\n",
       "      <td>63.655662</td>\n",
       "      <td>55.254212</td>\n",
       "      <td>0.675193</td>\n",
       "      <td>0.038086</td>\n",
       "      <td>0.212014</td>\n",
       "      <td>0.184707</td>\n",
       "      <td>0.240482</td>\n",
       "      <td>1.257448</td>\n",
       "      <td>5.585875</td>\n",
       "      <td>0.882853</td>\n",
       "    </tr>\n",
       "    <tr>\n",
       "      <th>std</th>\n",
       "      <td>15514.993121</td>\n",
       "      <td>16.881974</td>\n",
       "      <td>16.187117</td>\n",
       "      <td>1.330763</td>\n",
       "      <td>0.101880</td>\n",
       "      <td>0.320250</td>\n",
       "      <td>1.241403</td>\n",
       "      <td>0.075142</td>\n",
       "      <td>0.390768</td>\n",
       "      <td>1.113304</td>\n",
       "      <td>0.180589</td>\n",
       "    </tr>\n",
       "    <tr>\n",
       "      <th>min</th>\n",
       "      <td>1.000000</td>\n",
       "      <td>14.270000</td>\n",
       "      <td>9.940000</td>\n",
       "      <td>0.100000</td>\n",
       "      <td>0.000000</td>\n",
       "      <td>0.020000</td>\n",
       "      <td>0.000000</td>\n",
       "      <td>0.060000</td>\n",
       "      <td>0.490000</td>\n",
       "      <td>2.750000</td>\n",
       "      <td>0.290000</td>\n",
       "    </tr>\n",
       "    <tr>\n",
       "      <th>25%</th>\n",
       "      <td>18101.000000</td>\n",
       "      <td>52.060000</td>\n",
       "      <td>43.850000</td>\n",
       "      <td>0.370000</td>\n",
       "      <td>0.010000</td>\n",
       "      <td>0.090000</td>\n",
       "      <td>0.010000</td>\n",
       "      <td>0.190000</td>\n",
       "      <td>1.020000</td>\n",
       "      <td>4.840000</td>\n",
       "      <td>0.770000</td>\n",
       "    </tr>\n",
       "    <tr>\n",
       "      <th>50%</th>\n",
       "      <td>29125.000000</td>\n",
       "      <td>62.290000</td>\n",
       "      <td>53.860000</td>\n",
       "      <td>0.470000</td>\n",
       "      <td>0.020000</td>\n",
       "      <td>0.140000</td>\n",
       "      <td>0.030000</td>\n",
       "      <td>0.230000</td>\n",
       "      <td>1.170000</td>\n",
       "      <td>5.430000</td>\n",
       "      <td>0.870000</td>\n",
       "    </tr>\n",
       "    <tr>\n",
       "      <th>75%</th>\n",
       "      <td>45055.000000</td>\n",
       "      <td>73.270000</td>\n",
       "      <td>64.690000</td>\n",
       "      <td>0.640000</td>\n",
       "      <td>0.040000</td>\n",
       "      <td>0.240000</td>\n",
       "      <td>0.070000</td>\n",
       "      <td>0.280000</td>\n",
       "      <td>1.410000</td>\n",
       "      <td>6.160000</td>\n",
       "      <td>0.980000</td>\n",
       "    </tr>\n",
       "    <tr>\n",
       "      <th>max</th>\n",
       "      <td>56045.000000</td>\n",
       "      <td>160.970000</td>\n",
       "      <td>152.290000</td>\n",
       "      <td>43.450000</td>\n",
       "      <td>4.120000</td>\n",
       "      <td>10.810000</td>\n",
       "      <td>42.390000</td>\n",
       "      <td>0.670000</td>\n",
       "      <td>4.120000</td>\n",
       "      <td>14.930000</td>\n",
       "      <td>2.160000</td>\n",
       "    </tr>\n",
       "  </tbody>\n",
       "</table>\n",
       "</div>"
      ],
      "text/plain": [
       "         countyFIPS  All chronic respiratory diseases mortality  \\\n",
       "count   3193.000000                                 3193.000000   \n",
       "mean   29898.810836                                   63.655662   \n",
       "std    15514.993121                                   16.881974   \n",
       "min        1.000000                                   14.270000   \n",
       "25%    18101.000000                                   52.060000   \n",
       "50%    29125.000000                                   62.290000   \n",
       "75%    45055.000000                                   73.270000   \n",
       "max    56045.000000                                  160.970000   \n",
       "\n",
       "       Chronic obstructive pulmonary  mortality  Pneumoconiosis mortality  \\\n",
       "count                               3193.000000               3193.000000   \n",
       "mean                                  55.254212                  0.675193   \n",
       "std                                   16.187117                  1.330763   \n",
       "min                                    9.940000                  0.100000   \n",
       "25%                                   43.850000                  0.370000   \n",
       "50%                                   53.860000                  0.470000   \n",
       "75%                                   64.690000                  0.640000   \n",
       "max                                  152.290000                 43.450000   \n",
       "\n",
       "       Silicosis mortality  Asbestosis mortality  \\\n",
       "count          3193.000000           3193.000000   \n",
       "mean              0.038086              0.212014   \n",
       "std               0.101880              0.320250   \n",
       "min               0.000000              0.020000   \n",
       "25%               0.010000              0.090000   \n",
       "50%               0.020000              0.140000   \n",
       "75%               0.040000              0.240000   \n",
       "max               4.120000             10.810000   \n",
       "\n",
       "       Coal workers pneumoconiosis mortality  Other pneumoconiosis mortality  \\\n",
       "count                            3193.000000                     3193.000000   \n",
       "mean                                0.184707                        0.240482   \n",
       "std                                 1.241403                        0.075142   \n",
       "min                                 0.000000                        0.060000   \n",
       "25%                                 0.010000                        0.190000   \n",
       "50%                                 0.030000                        0.230000   \n",
       "75%                                 0.070000                        0.280000   \n",
       "max                                42.390000                        0.670000   \n",
       "\n",
       "       Asthma mortality  Interstitial lung disease mortality  \\\n",
       "count       3193.000000                          3193.000000   \n",
       "mean           1.257448                             5.585875   \n",
       "std            0.390768                             1.113304   \n",
       "min            0.490000                             2.750000   \n",
       "25%            1.020000                             4.840000   \n",
       "50%            1.170000                             5.430000   \n",
       "75%            1.410000                             6.160000   \n",
       "max            4.120000                            14.930000   \n",
       "\n",
       "       Other chronic respiratory  mortality  \n",
       "count                           3193.000000  \n",
       "mean                               0.882853  \n",
       "std                                0.180589  \n",
       "min                                0.290000  \n",
       "25%                                0.770000  \n",
       "50%                                0.870000  \n",
       "75%                                0.980000  \n",
       "max                                2.160000  "
      ]
     },
     "execution_count": 8,
     "metadata": {},
     "output_type": "execute_result"
    }
   ],
   "source": [
    "df.describe()"
   ]
  },
  {
   "cell_type": "markdown",
   "metadata": {},
   "source": [
    "We can see here that COPD (chronic obstructive pulmonary disease) is the greatest contributor to mortality, followed by interstitial lung disease. COPD is known to be heavily correlated to smoking, so more analysis needs to be done to see if it correlates with other health indicators"
   ]
  },
  {
   "cell_type": "code",
   "execution_count": 9,
   "metadata": {},
   "outputs": [
    {
     "data": {
      "image/png": "[encoded data removed]",
      "text/plain": [
       "<Figure size 432x288 with 2 Axes>"
      ]
     },
     "metadata": {
      "needs_background": "light"
     },
     "output_type": "display_data"
    }
   ],
   "source": [
    "n_cols = len(df.columns)\n",
    "fig, ax = plt.subplots()\n",
    "im = ax.imshow(df.corr())\n",
    "\n",
    "# We want to show all ticks...\n",
    "ax.set_xticks(np.arange(n_cols))\n",
    "ax.set_yticks(np.arange(n_cols))\n",
    "# ... and label them with the respective list entries\n",
    "ax.set_xticklabels(df.columns)\n",
    "ax.set_yticklabels(df.columns)\n",
    "\n",
    "# Rotate the tick labels and set their alignment.\n",
    "plt.setp(ax.get_xticklabels(), rotation=90, ha=\"right\",\n",
    "         rotation_mode=\"anchor\")\n",
    "\n",
    "# Create colorbar\n",
    "cbar = ax.figure.colorbar(im, ax=ax)\n",
    "cbar.ax.set_ylabel(\"Correlation\", rotation=-90, va=\"bottom\")\n",
    "\n",
    "ax.set_title(\"Respiratory disease death rate correlations\")\n",
    "plt.show()"
   ]
  },
  {
   "cell_type": "code",
   "execution_count": 10,
   "metadata": {},
   "outputs": [
    {
     "data": {
      "text/plain": [
       "<matplotlib.axes._subplots.AxesSubplot at 0x2b2532b0490>"
      ]
     },
     "execution_count": 10,
     "metadata": {},
     "output_type": "execute_result"
    },
    {
     "data": {
      "image/png": "[encoded data removed]",
      "text/plain": [
       "<Figure size 432x288 with 1 Axes>"
      ]
     },
     "metadata": {
      "needs_background": "light"
     },
     "output_type": "display_data"
    }
   ],
   "source": [
    "df['All chronic respiratory diseases mortality'].hist()"
   ]
  },
  {
   "cell_type": "code",
   "execution_count": null,
   "metadata": {},
   "outputs": [],
   "source": []
  }
 ],
 "metadata": {
  "kernelspec": {
   "display_name": "Python 3",
   "language": "python",
   "name": "python3"
  },
  "language_info": {
   "codemirror_mode": {
    "name": "ipython",
    "version": 3
   },
   "file_extension": ".py",
   "mimetype": "text/x-python",
   "name": "python",
   "nbconvert_exporter": "python",
   "pygments_lexer": "ipython3",
   "version": "3.8.2"
  }
 },
 "nbformat": 4,
 "nbformat_minor": 4
}
