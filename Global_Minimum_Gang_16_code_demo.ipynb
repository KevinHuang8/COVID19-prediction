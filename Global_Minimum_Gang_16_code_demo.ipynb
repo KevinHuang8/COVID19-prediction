{
 "cells": [
  {
   "cell_type": "code",
   "execution_count": 1,
   "metadata": {},
   "outputs": [
    {
     "name": "stderr",
     "output_type": "stream",
     "text": [
      "WARNING (theano.tensor.blas): Using NumPy C-API based implementation for BLAS functions.\n"
     ]
    },
    {
     "data": {
      "text/plain": [
       "<module 'models.curvefit.curvefit_models' from 'C:\\\\Users\\\\kehua\\\\Documents\\\\Caltech\\\\CS156-COVID19\\\\models\\\\curvefit\\\\curvefit_models.py'>"
      ]
     },
     "execution_count": 1,
     "metadata": {},
     "output_type": "execute_result"
    }
   ],
   "source": [
    "import numpy as np\n",
    "import importlib\n",
    "from models.utils import dataloader as loader\n",
    "from models.curvefit import curvefit_models as models\n",
    "from models.curvefit import curvefit_pipeline as p\n",
    "import matplotlib.pyplot as plt\n",
    "import datetime as dt\n",
    "import pickle\n",
    "importlib.reload(p)\n",
    "importlib.reload(loader)\n",
    "importlib.reload(models)"
   ]
  },
  {
   "cell_type": "markdown",
   "metadata": {},
   "source": [
    "### Final model code demo\n",
    "\n",
    "This code generates the submission file used for the final submission.\n",
    "\n",
    "Running our code simply specifies some parameters and calls some very high level functions. Please see the curvefit module (models/curvefit) for all information on implementation details.\n",
    "\n",
    "The code should run in any Python 3.6+ environment with the correct dependencies installed. \n",
    "\n",
    "Runtime estimate: ~3 hours (This was with Theano configured to use GPU and with an actual (non numpy) OpenBLAS installation. Unsure about effect of GPU, but this is MUCH slower without OpenBLAS)\n",
    "\n",
    "The Guassian Process step can be elimated by setting 'use_gp' to None in model_params. This has almost no impact on RMSE, and only a relatively small albeit noticeable pinball loss penalty. However, this makes the entire training take only about 3 minutes. Furthermore, the Gaussian process step can be enabled for only a subset of counties by passing a list of county indices (not FIPS! use utils.dataloader.get_index_from_fips to convert) for 'use_gp', which can greatly speed up training depending on how few counties the GP step applies to."
   ]
  },
  {
   "cell_type": "code",
   "execution_count": 2,
   "metadata": {},
   "outputs": [],
   "source": [
    "data_format = {'name': 'deaths_raw', 'smoothing': 3, 'val_steps': 10}\n",
    "gp_params = {'draw': 150, 'tune': 300, 'samples': 100, 'trials': 3}\n",
    "use_gp = None\n",
    "model_params = {'name': 'ExpNormModel', 'use_gp': use_gp, 'gp_params': gp_params}\n",
    "horizon = 14\n",
    "samples = 250\n",
    "quantiles = [10, 20, 30, 40, 50, 60, 70, 80, 90]\n",
    "\n",
    "today = dt.date.today()\n",
    "output_file = f'predictions/predictions-{str(today)}.csv'\n",
    "sample_file = 'sample_submission.csv'"
   ]
  },
  {
   "cell_type": "code",
   "execution_count": 3,
   "metadata": {},
   "outputs": [
    {
     "name": "stdout",
     "output_type": "stream",
     "text": [
      "Fitting 17/3142\r"
     ]
    },
    {
     "name": "stderr",
     "output_type": "stream",
     "text": [
      "C:\\Users\\kehua\\AppData\\Local\\Programs\\Python\\python-venv\\37_env\\lib\\site-packages\\scipy\\optimize\\minpack.py:808: OptimizeWarning: Covariance of the parameters could not be estimated\n",
      "  category=OptimizeWarning)\n"
     ]
    },
    {
     "name": "stdout",
     "output_type": "stream",
     "text": [
      "Fitting 3142/3142\r"
     ]
    }
   ],
   "source": [
    "# Do a blind run to generate the use_cumulative dict based on 10 validation steps\n",
    "init_pipeline = p.Pipeline(data_format, model_params, horizon)\n",
    "init_pipeline.run()\n",
    "use_c = init_pipeline.use_cumulative"
   ]
  },
  {
   "cell_type": "code",
   "execution_count": 8,
   "metadata": {},
   "outputs": [],
   "source": [
    "data_format['val_steps'] = 0\n",
    "# We just chose some high-death counties here as an example. In the actual submission, we used 'all', but training takes very long\n",
    "model_params['use_gp'] = [204, 309, 246, 2289, 1782, 1225, 1312, 610]"
   ]
  },
  {
   "cell_type": "code",
   "execution_count": 9,
   "metadata": {},
   "outputs": [],
   "source": [
    "pipeline = p.Pipeline(data_format, model_params, horizon, use_c)"
   ]
  },
  {
   "cell_type": "code",
   "execution_count": 10,
   "metadata": {
    "collapsed": true,
    "jupyter": {
     "outputs_hidden": true
    }
   },
   "outputs": [
    {
     "name": "stdout",
     "output_type": "stream",
     "text": [
      "Fitting 204/3142\r"
     ]
    },
    {
     "name": "stderr",
     "output_type": "stream",
     "text": [
      "Only 150 samples in chain.\n",
      "Auto-assigning NUTS sampler...\n",
      "Initializing NUTS using jitter+adapt_diag...\n",
      "Sequential sampling (2 chains in 1 job)\n",
      "NUTS: [σ, η, ρ]\n",
      "Sampling chain 0, 0 divergences: 100%|█████████████████████████████████████████████████████████| 450/450 [00:04<00:00, 108.01it/s]\n",
      "Sampling chain 1, 0 divergences: 100%|█████████████████████████████████████████████████████████| 450/450 [00:03<00:00, 137.29it/s]\n",
      "C:\\Users\\kehua\\AppData\\Local\\Programs\\Python\\python-venv\\37_env\\lib\\site-packages\\theano\\tensor\\basic.py:6611: FutureWarning: Using a non-tuple sequence for multidimensional indexing is deprecated; use `arr[tuple(seq)]` instead of `arr[seq]`. In the future this will be interpreted as an array index, `arr[np.array(seq)]`, which will result either in an error or a different result.\n",
      "  result[diagonal_slice] = x\n",
      "The acceptance probability does not match the target. It is 0.8858179080857868, but should be close to 0.8. Try to increase the number of tuning steps.\n",
      "C:\\Users\\kehua\\AppData\\Local\\Programs\\Python\\python-venv\\37_env\\lib\\site-packages\\theano\\tensor\\basic.py:6611: FutureWarning: Using a non-tuple sequence for multidimensional indexing is deprecated; use `arr[tuple(seq)]` instead of `arr[seq]`. In the future this will be interpreted as an array index, `arr[np.array(seq)]`, which will result either in an error or a different result.\n",
      "  result[diagonal_slice] = x\n",
      "C:\\Users\\kehua\\AppData\\Local\\Programs\\Python\\python-venv\\37_env\\lib\\site-packages\\pymc3\\sampling.py:1247: UserWarning: samples parameter is smaller than nchains times ndraws, some draws and/or chains may not be represented in the returned posterior predictive sample\n",
      "  \"samples parameter is smaller than nchains times ndraws, some draws \"\n",
      "  0%|                                                                                                     | 0/100 [00:00<?, ?it/s]C:\\Users\\kehua\\AppData\\Local\\Programs\\Python\\python-venv\\37_env\\lib\\site-packages\\theano\\tensor\\basic.py:6611: FutureWarning: Using a non-tuple sequence for multidimensional indexing is deprecated; use `arr[tuple(seq)]` instead of `arr[seq]`. In the future this will be interpreted as an array index, `arr[np.array(seq)]`, which will result either in an error or a different result.\n",
      "  result[diagonal_slice] = x\n",
      "100%|███████████████████████████████████████████████████████████████████████████████████████████| 100/100 [00:03<00:00, 28.80it/s]\n",
      "Only 150 samples in chain.\n",
      "Auto-assigning NUTS sampler...\n",
      "Initializing NUTS using jitter+adapt_diag...\n",
      "Sequential sampling (2 chains in 1 job)\n",
      "NUTS: [σ, η, ρ]\n",
      "Sampling chain 0, 0 divergences: 100%|█████████████████████████████████████████████████████████| 450/450 [00:04<00:00, 101.07it/s]\n",
      "Sampling chain 1, 0 divergences: 100%|█████████████████████████████████████████████████████████| 450/450 [00:03<00:00, 119.81it/s]\n",
      "C:\\Users\\kehua\\AppData\\Local\\Programs\\Python\\python-venv\\37_env\\lib\\site-packages\\theano\\tensor\\basic.py:6611: FutureWarning: Using a non-tuple sequence for multidimensional indexing is deprecated; use `arr[tuple(seq)]` instead of `arr[seq]`. In the future this will be interpreted as an array index, `arr[np.array(seq)]`, which will result either in an error or a different result.\n",
      "  result[diagonal_slice] = x\n",
      "The acceptance probability does not match the target. It is 0.8903467434791605, but should be close to 0.8. Try to increase the number of tuning steps.\n",
      "C:\\Users\\kehua\\AppData\\Local\\Programs\\Python\\python-venv\\37_env\\lib\\site-packages\\pymc3\\sampling.py:1247: UserWarning: samples parameter is smaller than nchains times ndraws, some draws and/or chains may not be represented in the returned posterior predictive sample\n",
      "  \"samples parameter is smaller than nchains times ndraws, some draws \"\n",
      "100%|███████████████████████████████████████████████████████████████████████████████████████████| 100/100 [00:03<00:00, 29.40it/s]\n",
      "Only 150 samples in chain.\n",
      "Auto-assigning NUTS sampler...\n",
      "Initializing NUTS using jitter+adapt_diag...\n",
      "Sequential sampling (2 chains in 1 job)\n",
      "NUTS: [σ, η, ρ]\n",
      "Sampling chain 0, 0 divergences: 100%|██████████████████████████████████████████████████████████| 450/450 [00:04<00:00, 99.29it/s]\n",
      "Sampling chain 1, 0 divergences: 100%|█████████████████████████████████████████████████████████| 450/450 [00:03<00:00, 119.48it/s]\n",
      "C:\\Users\\kehua\\AppData\\Local\\Programs\\Python\\python-venv\\37_env\\lib\\site-packages\\theano\\tensor\\basic.py:6611: FutureWarning: Using a non-tuple sequence for multidimensional indexing is deprecated; use `arr[tuple(seq)]` instead of `arr[seq]`. In the future this will be interpreted as an array index, `arr[np.array(seq)]`, which will result either in an error or a different result.\n",
      "  result[diagonal_slice] = x\n",
      "The acceptance probability does not match the target. It is 0.8903467434791605, but should be close to 0.8. Try to increase the number of tuning steps.\n",
      "C:\\Users\\kehua\\AppData\\Local\\Programs\\Python\\python-venv\\37_env\\lib\\site-packages\\pymc3\\sampling.py:1247: UserWarning: samples parameter is smaller than nchains times ndraws, some draws and/or chains may not be represented in the returned posterior predictive sample\n",
      "  \"samples parameter is smaller than nchains times ndraws, some draws \"\n",
      "100%|███████████████████████████████████████████████████████████████████████████████████████████| 100/100 [00:03<00:00, 27.91it/s]\n"
     ]
    },
    {
     "name": "stdout",
     "output_type": "stream",
     "text": [
      "Fitting 246/3142\r"
     ]
    },
    {
     "name": "stderr",
     "output_type": "stream",
     "text": [
      "Only 150 samples in chain.\n",
      "Auto-assigning NUTS sampler...\n",
      "Initializing NUTS using jitter+adapt_diag...\n",
      "Sequential sampling (2 chains in 1 job)\n",
      "NUTS: [σ, η, ρ]\n",
      "Sampling chain 0, 0 divergences: 100%|██████████████████████████████████████████████████████████| 450/450 [00:06<00:00, 73.48it/s]\n",
      "Sampling chain 1, 0 divergences: 100%|██████████████████████████████████████████████████████████| 450/450 [00:04<00:00, 94.97it/s]\n",
      "C:\\Users\\kehua\\AppData\\Local\\Programs\\Python\\python-venv\\37_env\\lib\\site-packages\\theano\\tensor\\basic.py:6611: FutureWarning: Using a non-tuple sequence for multidimensional indexing is deprecated; use `arr[tuple(seq)]` instead of `arr[seq]`. In the future this will be interpreted as an array index, `arr[np.array(seq)]`, which will result either in an error or a different result.\n",
      "  result[diagonal_slice] = x\n",
      "The acceptance probability does not match the target. It is 0.8821550317966786, but should be close to 0.8. Try to increase the number of tuning steps.\n",
      "The acceptance probability does not match the target. It is 0.8916307169911931, but should be close to 0.8. Try to increase the number of tuning steps.\n",
      "C:\\Users\\kehua\\AppData\\Local\\Programs\\Python\\python-venv\\37_env\\lib\\site-packages\\pymc3\\sampling.py:1247: UserWarning: samples parameter is smaller than nchains times ndraws, some draws and/or chains may not be represented in the returned posterior predictive sample\n",
      "  \"samples parameter is smaller than nchains times ndraws, some draws \"\n",
      "100%|███████████████████████████████████████████████████████████████████████████████████████████| 100/100 [00:03<00:00, 30.88it/s]\n",
      "Only 150 samples in chain.\n",
      "Auto-assigning NUTS sampler...\n",
      "Initializing NUTS using jitter+adapt_diag...\n",
      "Sequential sampling (2 chains in 1 job)\n",
      "NUTS: [σ, η, ρ]\n",
      "Sampling chain 0, 0 divergences: 100%|██████████████████████████████████████████████████████████| 450/450 [00:06<00:00, 71.90it/s]\n",
      "Sampling chain 1, 0 divergences: 100%|█████████████████████████████████████████████████████████| 450/450 [00:03<00:00, 115.16it/s]\n",
      "C:\\Users\\kehua\\AppData\\Local\\Programs\\Python\\python-venv\\37_env\\lib\\site-packages\\theano\\tensor\\basic.py:6611: FutureWarning: Using a non-tuple sequence for multidimensional indexing is deprecated; use `arr[tuple(seq)]` instead of `arr[seq]`. In the future this will be interpreted as an array index, `arr[np.array(seq)]`, which will result either in an error or a different result.\n",
      "  result[diagonal_slice] = x\n",
      "The acceptance probability does not match the target. It is 0.8854381641673134, but should be close to 0.8. Try to increase the number of tuning steps.\n",
      "The acceptance probability does not match the target. It is 0.8814681144963129, but should be close to 0.8. Try to increase the number of tuning steps.\n",
      "C:\\Users\\kehua\\AppData\\Local\\Programs\\Python\\python-venv\\37_env\\lib\\site-packages\\pymc3\\sampling.py:1247: UserWarning: samples parameter is smaller than nchains times ndraws, some draws and/or chains may not be represented in the returned posterior predictive sample\n",
      "  \"samples parameter is smaller than nchains times ndraws, some draws \"\n",
      "100%|███████████████████████████████████████████████████████████████████████████████████████████| 100/100 [00:02<00:00, 34.47it/s]\n",
      "Only 150 samples in chain.\n",
      "Auto-assigning NUTS sampler...\n",
      "Initializing NUTS using jitter+adapt_diag...\n",
      "Sequential sampling (2 chains in 1 job)\n",
      "NUTS: [σ, η, ρ]\n",
      "Sampling chain 0, 0 divergences: 100%|██████████████████████████████████████████████████████████| 450/450 [00:06<00:00, 70.62it/s]\n",
      "Sampling chain 1, 0 divergences: 100%|█████████████████████████████████████████████████████████| 450/450 [00:03<00:00, 114.44it/s]\n",
      "C:\\Users\\kehua\\AppData\\Local\\Programs\\Python\\python-venv\\37_env\\lib\\site-packages\\theano\\tensor\\basic.py:6611: FutureWarning: Using a non-tuple sequence for multidimensional indexing is deprecated; use `arr[tuple(seq)]` instead of `arr[seq]`. In the future this will be interpreted as an array index, `arr[np.array(seq)]`, which will result either in an error or a different result.\n",
      "  result[diagonal_slice] = x\n",
      "The acceptance probability does not match the target. It is 0.8854381641673134, but should be close to 0.8. Try to increase the number of tuning steps.\n",
      "The acceptance probability does not match the target. It is 0.8814681144963129, but should be close to 0.8. Try to increase the number of tuning steps.\n",
      "C:\\Users\\kehua\\AppData\\Local\\Programs\\Python\\python-venv\\37_env\\lib\\site-packages\\pymc3\\sampling.py:1247: UserWarning: samples parameter is smaller than nchains times ndraws, some draws and/or chains may not be represented in the returned posterior predictive sample\n",
      "  \"samples parameter is smaller than nchains times ndraws, some draws \"\n",
      "100%|███████████████████████████████████████████████████████████████████████████████████████████| 100/100 [00:02<00:00, 33.46it/s]\n"
     ]
    },
    {
     "name": "stdout",
     "output_type": "stream",
     "text": [
      "Fitting 309/3142\r"
     ]
    },
    {
     "name": "stderr",
     "output_type": "stream",
     "text": [
      "Only 150 samples in chain.\n",
      "Auto-assigning NUTS sampler...\n",
      "Initializing NUTS using jitter+adapt_diag...\n",
      "Sequential sampling (2 chains in 1 job)\n",
      "NUTS: [σ, η, ρ]\n",
      "Sampling chain 0, 0 divergences: 100%|██████████████████████████████████████████████████████████| 450/450 [00:05<00:00, 89.58it/s]\n",
      "Sampling chain 1, 0 divergences: 100%|█████████████████████████████████████████████████████████| 450/450 [00:03<00:00, 119.35it/s]\n",
      "C:\\Users\\kehua\\AppData\\Local\\Programs\\Python\\python-venv\\37_env\\lib\\site-packages\\theano\\tensor\\basic.py:6611: FutureWarning: Using a non-tuple sequence for multidimensional indexing is deprecated; use `arr[tuple(seq)]` instead of `arr[seq]`. In the future this will be interpreted as an array index, `arr[np.array(seq)]`, which will result either in an error or a different result.\n",
      "  result[diagonal_slice] = x\n",
      "C:\\Users\\kehua\\AppData\\Local\\Programs\\Python\\python-venv\\37_env\\lib\\site-packages\\pymc3\\sampling.py:1247: UserWarning: samples parameter is smaller than nchains times ndraws, some draws and/or chains may not be represented in the returned posterior predictive sample\n",
      "  \"samples parameter is smaller than nchains times ndraws, some draws \"\n",
      "100%|███████████████████████████████████████████████████████████████████████████████████████████| 100/100 [00:02<00:00, 34.74it/s]\n",
      "Only 150 samples in chain.\n",
      "Auto-assigning NUTS sampler...\n",
      "Initializing NUTS using jitter+adapt_diag...\n",
      "Sequential sampling (2 chains in 1 job)\n",
      "NUTS: [σ, η, ρ]\n",
      "Sampling chain 0, 0 divergences: 100%|█████████████████████████████████████████████████████████| 450/450 [00:04<00:00, 102.24it/s]\n",
      "Sampling chain 1, 0 divergences: 100%|█████████████████████████████████████████████████████████| 450/450 [00:03<00:00, 124.97it/s]\n",
      "C:\\Users\\kehua\\AppData\\Local\\Programs\\Python\\python-venv\\37_env\\lib\\site-packages\\theano\\tensor\\basic.py:6611: FutureWarning: Using a non-tuple sequence for multidimensional indexing is deprecated; use `arr[tuple(seq)]` instead of `arr[seq]`. In the future this will be interpreted as an array index, `arr[np.array(seq)]`, which will result either in an error or a different result.\n",
      "  result[diagonal_slice] = x\n",
      "C:\\Users\\kehua\\AppData\\Local\\Programs\\Python\\python-venv\\37_env\\lib\\site-packages\\pymc3\\sampling.py:1247: UserWarning: samples parameter is smaller than nchains times ndraws, some draws and/or chains may not be represented in the returned posterior predictive sample\n",
      "  \"samples parameter is smaller than nchains times ndraws, some draws \"\n",
      "100%|███████████████████████████████████████████████████████████████████████████████████████████| 100/100 [00:02<00:00, 36.43it/s]\n",
      "Only 150 samples in chain.\n",
      "Auto-assigning NUTS sampler...\n",
      "Initializing NUTS using jitter+adapt_diag...\n",
      "Sequential sampling (2 chains in 1 job)\n",
      "NUTS: [σ, η, ρ]\n",
      "Sampling chain 0, 0 divergences: 100%|█████████████████████████████████████████████████████████| 450/450 [00:04<00:00, 101.50it/s]\n",
      "Sampling chain 1, 0 divergences: 100%|█████████████████████████████████████████████████████████| 450/450 [00:03<00:00, 124.55it/s]\n",
      "C:\\Users\\kehua\\AppData\\Local\\Programs\\Python\\python-venv\\37_env\\lib\\site-packages\\theano\\tensor\\basic.py:6611: FutureWarning: Using a non-tuple sequence for multidimensional indexing is deprecated; use `arr[tuple(seq)]` instead of `arr[seq]`. In the future this will be interpreted as an array index, `arr[np.array(seq)]`, which will result either in an error or a different result.\n",
      "  result[diagonal_slice] = x\n",
      "C:\\Users\\kehua\\AppData\\Local\\Programs\\Python\\python-venv\\37_env\\lib\\site-packages\\pymc3\\sampling.py:1247: UserWarning: samples parameter is smaller than nchains times ndraws, some draws and/or chains may not be represented in the returned posterior predictive sample\n",
      "  \"samples parameter is smaller than nchains times ndraws, some draws \"\n",
      "100%|███████████████████████████████████████████████████████████████████████████████████████████| 100/100 [00:02<00:00, 36.64it/s]\n"
     ]
    },
    {
     "name": "stdout",
     "output_type": "stream",
     "text": [
      "Fitting 610/3142\r"
     ]
    },
    {
     "name": "stderr",
     "output_type": "stream",
     "text": [
      "Only 150 samples in chain.\n",
      "Auto-assigning NUTS sampler...\n",
      "Initializing NUTS using jitter+adapt_diag...\n",
      "Sequential sampling (2 chains in 1 job)\n",
      "NUTS: [σ, η, ρ]\n",
      "Sampling chain 0, 0 divergences: 100%|█████████████████████████████████████████████████████████| 450/450 [00:04<00:00, 107.59it/s]\n",
      "Sampling chain 1, 0 divergences: 100%|█████████████████████████████████████████████████████████| 450/450 [00:03<00:00, 124.58it/s]\n",
      "C:\\Users\\kehua\\AppData\\Local\\Programs\\Python\\python-venv\\37_env\\lib\\site-packages\\theano\\tensor\\basic.py:6611: FutureWarning: Using a non-tuple sequence for multidimensional indexing is deprecated; use `arr[tuple(seq)]` instead of `arr[seq]`. In the future this will be interpreted as an array index, `arr[np.array(seq)]`, which will result either in an error or a different result.\n",
      "  result[diagonal_slice] = x\n",
      "The acceptance probability does not match the target. It is 0.8847807829337758, but should be close to 0.8. Try to increase the number of tuning steps.\n",
      "C:\\Users\\kehua\\AppData\\Local\\Programs\\Python\\python-venv\\37_env\\lib\\site-packages\\pymc3\\sampling.py:1247: UserWarning: samples parameter is smaller than nchains times ndraws, some draws and/or chains may not be represented in the returned posterior predictive sample\n",
      "  \"samples parameter is smaller than nchains times ndraws, some draws \"\n",
      "100%|███████████████████████████████████████████████████████████████████████████████████████████| 100/100 [00:03<00:00, 31.55it/s]\n",
      "Only 150 samples in chain.\n",
      "Auto-assigning NUTS sampler...\n",
      "Initializing NUTS using jitter+adapt_diag...\n",
      "Sequential sampling (2 chains in 1 job)\n",
      "NUTS: [σ, η, ρ]\n",
      "Sampling chain 0, 0 divergences: 100%|█████████████████████████████████████████████████████████| 450/450 [00:04<00:00, 105.41it/s]\n",
      "Sampling chain 1, 0 divergences: 100%|█████████████████████████████████████████████████████████| 450/450 [00:03<00:00, 125.18it/s]\n",
      "C:\\Users\\kehua\\AppData\\Local\\Programs\\Python\\python-venv\\37_env\\lib\\site-packages\\theano\\tensor\\basic.py:6611: FutureWarning: Using a non-tuple sequence for multidimensional indexing is deprecated; use `arr[tuple(seq)]` instead of `arr[seq]`. In the future this will be interpreted as an array index, `arr[np.array(seq)]`, which will result either in an error or a different result.\n",
      "  result[diagonal_slice] = x\n",
      "C:\\Users\\kehua\\AppData\\Local\\Programs\\Python\\python-venv\\37_env\\lib\\site-packages\\pymc3\\sampling.py:1247: UserWarning: samples parameter is smaller than nchains times ndraws, some draws and/or chains may not be represented in the returned posterior predictive sample\n",
      "  \"samples parameter is smaller than nchains times ndraws, some draws \"\n",
      "100%|███████████████████████████████████████████████████████████████████████████████████████████| 100/100 [00:03<00:00, 32.57it/s]\n",
      "Only 150 samples in chain.\n",
      "Auto-assigning NUTS sampler...\n",
      "Initializing NUTS using jitter+adapt_diag...\n",
      "Sequential sampling (2 chains in 1 job)\n",
      "NUTS: [σ, η, ρ]\n",
      "Sampling chain 0, 0 divergences: 100%|█████████████████████████████████████████████████████████| 450/450 [00:04<00:00, 103.75it/s]\n",
      "Sampling chain 1, 0 divergences: 100%|█████████████████████████████████████████████████████████| 450/450 [00:03<00:00, 117.15it/s]\n",
      "C:\\Users\\kehua\\AppData\\Local\\Programs\\Python\\python-venv\\37_env\\lib\\site-packages\\theano\\tensor\\basic.py:6611: FutureWarning: Using a non-tuple sequence for multidimensional indexing is deprecated; use `arr[tuple(seq)]` instead of `arr[seq]`. In the future this will be interpreted as an array index, `arr[np.array(seq)]`, which will result either in an error or a different result.\n",
      "  result[diagonal_slice] = x\n",
      "C:\\Users\\kehua\\AppData\\Local\\Programs\\Python\\python-venv\\37_env\\lib\\site-packages\\pymc3\\sampling.py:1247: UserWarning: samples parameter is smaller than nchains times ndraws, some draws and/or chains may not be represented in the returned posterior predictive sample\n",
      "  \"samples parameter is smaller than nchains times ndraws, some draws \"\n",
      "100%|███████████████████████████████████████████████████████████████████████████████████████████| 100/100 [00:03<00:00, 32.53it/s]\n"
     ]
    },
    {
     "name": "stdout",
     "output_type": "stream",
     "text": [
      "Fitting 1225/3142\r"
     ]
    },
    {
     "name": "stderr",
     "output_type": "stream",
     "text": [
      "Only 150 samples in chain.\n",
      "Auto-assigning NUTS sampler...\n",
      "Initializing NUTS using jitter+adapt_diag...\n",
      "Sequential sampling (2 chains in 1 job)\n",
      "NUTS: [σ, η, ρ]\n",
      "Sampling chain 0, 0 divergences: 100%|██████████████████████████████████████████████████████████| 450/450 [00:04<00:00, 93.70it/s]\n",
      "Sampling chain 1, 0 divergences: 100%|█████████████████████████████████████████████████████████| 450/450 [00:03<00:00, 127.31it/s]\n",
      "C:\\Users\\kehua\\AppData\\Local\\Programs\\Python\\python-venv\\37_env\\lib\\site-packages\\theano\\tensor\\basic.py:6611: FutureWarning: Using a non-tuple sequence for multidimensional indexing is deprecated; use `arr[tuple(seq)]` instead of `arr[seq]`. In the future this will be interpreted as an array index, `arr[np.array(seq)]`, which will result either in an error or a different result.\n",
      "  result[diagonal_slice] = x\n",
      "The acceptance probability does not match the target. It is 0.8956176619962843, but should be close to 0.8. Try to increase the number of tuning steps.\n",
      "C:\\Users\\kehua\\AppData\\Local\\Programs\\Python\\python-venv\\37_env\\lib\\site-packages\\pymc3\\sampling.py:1247: UserWarning: samples parameter is smaller than nchains times ndraws, some draws and/or chains may not be represented in the returned posterior predictive sample\n",
      "  \"samples parameter is smaller than nchains times ndraws, some draws \"\n",
      "100%|███████████████████████████████████████████████████████████████████████████████████████████| 100/100 [00:02<00:00, 35.41it/s]\n",
      "Only 150 samples in chain.\n",
      "Auto-assigning NUTS sampler...\n",
      "Initializing NUTS using jitter+adapt_diag...\n",
      "Sequential sampling (2 chains in 1 job)\n",
      "NUTS: [σ, η, ρ]\n",
      "Sampling chain 0, 0 divergences: 100%|█████████████████████████████████████████████████████████| 450/450 [00:04<00:00, 100.65it/s]\n",
      "Sampling chain 1, 0 divergences: 100%|█████████████████████████████████████████████████████████| 450/450 [00:03<00:00, 128.40it/s]\n",
      "C:\\Users\\kehua\\AppData\\Local\\Programs\\Python\\python-venv\\37_env\\lib\\site-packages\\theano\\tensor\\basic.py:6611: FutureWarning: Using a non-tuple sequence for multidimensional indexing is deprecated; use `arr[tuple(seq)]` instead of `arr[seq]`. In the future this will be interpreted as an array index, `arr[np.array(seq)]`, which will result either in an error or a different result.\n",
      "  result[diagonal_slice] = x\n",
      "The acceptance probability does not match the target. It is 0.8963234912179395, but should be close to 0.8. Try to increase the number of tuning steps.\n",
      "C:\\Users\\kehua\\AppData\\Local\\Programs\\Python\\python-venv\\37_env\\lib\\site-packages\\pymc3\\sampling.py:1247: UserWarning: samples parameter is smaller than nchains times ndraws, some draws and/or chains may not be represented in the returned posterior predictive sample\n",
      "  \"samples parameter is smaller than nchains times ndraws, some draws \"\n",
      "100%|███████████████████████████████████████████████████████████████████████████████████████████| 100/100 [00:02<00:00, 35.49it/s]\n",
      "Only 150 samples in chain.\n",
      "Auto-assigning NUTS sampler...\n",
      "Initializing NUTS using jitter+adapt_diag...\n",
      "Sequential sampling (2 chains in 1 job)\n",
      "NUTS: [σ, η, ρ]\n",
      "Sampling chain 0, 0 divergences: 100%|█████████████████████████████████████████████████████████| 450/450 [00:04<00:00, 101.03it/s]\n",
      "Sampling chain 1, 0 divergences: 100%|█████████████████████████████████████████████████████████| 450/450 [00:03<00:00, 127.12it/s]\n",
      "C:\\Users\\kehua\\AppData\\Local\\Programs\\Python\\python-venv\\37_env\\lib\\site-packages\\theano\\tensor\\basic.py:6611: FutureWarning: Using a non-tuple sequence for multidimensional indexing is deprecated; use `arr[tuple(seq)]` instead of `arr[seq]`. In the future this will be interpreted as an array index, `arr[np.array(seq)]`, which will result either in an error or a different result.\n",
      "  result[diagonal_slice] = x\n",
      "The acceptance probability does not match the target. It is 0.8963234912179395, but should be close to 0.8. Try to increase the number of tuning steps.\n",
      "C:\\Users\\kehua\\AppData\\Local\\Programs\\Python\\python-venv\\37_env\\lib\\site-packages\\pymc3\\sampling.py:1247: UserWarning: samples parameter is smaller than nchains times ndraws, some draws and/or chains may not be represented in the returned posterior predictive sample\n",
      "  \"samples parameter is smaller than nchains times ndraws, some draws \"\n",
      "100%|███████████████████████████████████████████████████████████████████████████████████████████| 100/100 [00:02<00:00, 34.67it/s]\n"
     ]
    },
    {
     "name": "stdout",
     "output_type": "stream",
     "text": [
      "Fitting 1312/3142\r"
     ]
    },
    {
     "name": "stderr",
     "output_type": "stream",
     "text": [
      "Only 150 samples in chain.\n",
      "Auto-assigning NUTS sampler...\n",
      "Initializing NUTS using jitter+adapt_diag...\n",
      "Sequential sampling (2 chains in 1 job)\n",
      "NUTS: [σ, η, ρ]\n",
      "Sampling chain 0, 0 divergences: 100%|██████████████████████████████████████████████████████████| 450/450 [00:04<00:00, 99.14it/s]\n",
      "Sampling chain 1, 0 divergences: 100%|█████████████████████████████████████████████████████████| 450/450 [00:03<00:00, 118.64it/s]\n",
      "C:\\Users\\kehua\\AppData\\Local\\Programs\\Python\\python-venv\\37_env\\lib\\site-packages\\theano\\tensor\\basic.py:6611: FutureWarning: Using a non-tuple sequence for multidimensional indexing is deprecated; use `arr[tuple(seq)]` instead of `arr[seq]`. In the future this will be interpreted as an array index, `arr[np.array(seq)]`, which will result either in an error or a different result.\n",
      "  result[diagonal_slice] = x\n",
      "The acceptance probability does not match the target. It is 0.8868553358610615, but should be close to 0.8. Try to increase the number of tuning steps.\n",
      "C:\\Users\\kehua\\AppData\\Local\\Programs\\Python\\python-venv\\37_env\\lib\\site-packages\\pymc3\\sampling.py:1247: UserWarning: samples parameter is smaller than nchains times ndraws, some draws and/or chains may not be represented in the returned posterior predictive sample\n",
      "  \"samples parameter is smaller than nchains times ndraws, some draws \"\n",
      "100%|███████████████████████████████████████████████████████████████████████████████████████████| 100/100 [00:03<00:00, 32.71it/s]\n",
      "Only 150 samples in chain.\n",
      "Auto-assigning NUTS sampler...\n",
      "Initializing NUTS using jitter+adapt_diag...\n",
      "Sequential sampling (2 chains in 1 job)\n",
      "NUTS: [σ, η, ρ]\n",
      "Sampling chain 0, 0 divergences: 100%|██████████████████████████████████████████████████████████| 450/450 [00:04<00:00, 91.76it/s]\n",
      "Sampling chain 1, 0 divergences: 100%|█████████████████████████████████████████████████████████| 450/450 [00:04<00:00, 107.11it/s]\n",
      "C:\\Users\\kehua\\AppData\\Local\\Programs\\Python\\python-venv\\37_env\\lib\\site-packages\\theano\\tensor\\basic.py:6611: FutureWarning: Using a non-tuple sequence for multidimensional indexing is deprecated; use `arr[tuple(seq)]` instead of `arr[seq]`. In the future this will be interpreted as an array index, `arr[np.array(seq)]`, which will result either in an error or a different result.\n",
      "  result[diagonal_slice] = x\n",
      "The rhat statistic is larger than 1.05 for some parameters. This indicates slight problems during sampling.\n",
      "The number of effective samples is smaller than 25% for some parameters.\n",
      "C:\\Users\\kehua\\AppData\\Local\\Programs\\Python\\python-venv\\37_env\\lib\\site-packages\\pymc3\\sampling.py:1247: UserWarning: samples parameter is smaller than nchains times ndraws, some draws and/or chains may not be represented in the returned posterior predictive sample\n",
      "  \"samples parameter is smaller than nchains times ndraws, some draws \"\n",
      "100%|███████████████████████████████████████████████████████████████████████████████████████████| 100/100 [00:03<00:00, 33.31it/s]\n",
      "Only 150 samples in chain.\n",
      "Auto-assigning NUTS sampler...\n",
      "Initializing NUTS using jitter+adapt_diag...\n",
      "Sequential sampling (2 chains in 1 job)\n",
      "NUTS: [σ, η, ρ]\n",
      "Sampling chain 0, 0 divergences: 100%|██████████████████████████████████████████████████████████| 450/450 [00:04<00:00, 90.82it/s]\n",
      "Sampling chain 1, 0 divergences: 100%|█████████████████████████████████████████████████████████| 450/450 [00:04<00:00, 107.50it/s]\n",
      "C:\\Users\\kehua\\AppData\\Local\\Programs\\Python\\python-venv\\37_env\\lib\\site-packages\\theano\\tensor\\basic.py:6611: FutureWarning: Using a non-tuple sequence for multidimensional indexing is deprecated; use `arr[tuple(seq)]` instead of `arr[seq]`. In the future this will be interpreted as an array index, `arr[np.array(seq)]`, which will result either in an error or a different result.\n",
      "  result[diagonal_slice] = x\n",
      "The rhat statistic is larger than 1.05 for some parameters. This indicates slight problems during sampling.\n",
      "The number of effective samples is smaller than 25% for some parameters.\n",
      "C:\\Users\\kehua\\AppData\\Local\\Programs\\Python\\python-venv\\37_env\\lib\\site-packages\\pymc3\\sampling.py:1247: UserWarning: samples parameter is smaller than nchains times ndraws, some draws and/or chains may not be represented in the returned posterior predictive sample\n",
      "  \"samples parameter is smaller than nchains times ndraws, some draws \"\n",
      "100%|███████████████████████████████████████████████████████████████████████████████████████████| 100/100 [00:02<00:00, 33.98it/s]\n"
     ]
    },
    {
     "name": "stdout",
     "output_type": "stream",
     "text": [
      "Fitting 1782/3142\r"
     ]
    },
    {
     "name": "stderr",
     "output_type": "stream",
     "text": [
      "Only 150 samples in chain.\n",
      "Auto-assigning NUTS sampler...\n",
      "Initializing NUTS using jitter+adapt_diag...\n",
      "Sequential sampling (2 chains in 1 job)\n",
      "NUTS: [σ, η, ρ]\n",
      "Sampling chain 0, 0 divergences: 100%|██████████████████████████████████████████████████████████| 450/450 [00:05<00:00, 88.45it/s]\n",
      "Sampling chain 1, 0 divergences: 100%|█████████████████████████████████████████████████████████| 450/450 [00:04<00:00, 107.58it/s]\n",
      "C:\\Users\\kehua\\AppData\\Local\\Programs\\Python\\python-venv\\37_env\\lib\\site-packages\\theano\\tensor\\basic.py:6611: FutureWarning: Using a non-tuple sequence for multidimensional indexing is deprecated; use `arr[tuple(seq)]` instead of `arr[seq]`. In the future this will be interpreted as an array index, `arr[np.array(seq)]`, which will result either in an error or a different result.\n",
      "  result[diagonal_slice] = x\n",
      "C:\\Users\\kehua\\AppData\\Local\\Programs\\Python\\python-venv\\37_env\\lib\\site-packages\\pymc3\\sampling.py:1247: UserWarning: samples parameter is smaller than nchains times ndraws, some draws and/or chains may not be represented in the returned posterior predictive sample\n",
      "  \"samples parameter is smaller than nchains times ndraws, some draws \"\n",
      "100%|███████████████████████████████████████████████████████████████████████████████████████████| 100/100 [00:03<00:00, 32.36it/s]\n",
      "Only 150 samples in chain.\n",
      "Auto-assigning NUTS sampler...\n",
      "Initializing NUTS using jitter+adapt_diag...\n",
      "Sequential sampling (2 chains in 1 job)\n",
      "NUTS: [σ, η, ρ]\n",
      "Sampling chain 0, 0 divergences: 100%|██████████████████████████████████████████████████████████| 450/450 [00:04<00:00, 91.78it/s]\n",
      "Sampling chain 1, 0 divergences: 100%|█████████████████████████████████████████████████████████| 450/450 [00:03<00:00, 124.77it/s]\n",
      "C:\\Users\\kehua\\AppData\\Local\\Programs\\Python\\python-venv\\37_env\\lib\\site-packages\\theano\\tensor\\basic.py:6611: FutureWarning: Using a non-tuple sequence for multidimensional indexing is deprecated; use `arr[tuple(seq)]` instead of `arr[seq]`. In the future this will be interpreted as an array index, `arr[np.array(seq)]`, which will result either in an error or a different result.\n",
      "  result[diagonal_slice] = x\n",
      "The acceptance probability does not match the target. It is 0.9111216390711111, but should be close to 0.8. Try to increase the number of tuning steps.\n",
      "C:\\Users\\kehua\\AppData\\Local\\Programs\\Python\\python-venv\\37_env\\lib\\site-packages\\pymc3\\sampling.py:1247: UserWarning: samples parameter is smaller than nchains times ndraws, some draws and/or chains may not be represented in the returned posterior predictive sample\n",
      "  \"samples parameter is smaller than nchains times ndraws, some draws \"\n",
      "100%|███████████████████████████████████████████████████████████████████████████████████████████| 100/100 [00:03<00:00, 32.77it/s]\n",
      "Only 150 samples in chain.\n",
      "Auto-assigning NUTS sampler...\n",
      "Initializing NUTS using jitter+adapt_diag...\n",
      "Sequential sampling (2 chains in 1 job)\n",
      "NUTS: [σ, η, ρ]\n",
      "Sampling chain 0, 0 divergences: 100%|██████████████████████████████████████████████████████████| 450/450 [00:04<00:00, 91.80it/s]\n",
      "Sampling chain 1, 0 divergences: 100%|█████████████████████████████████████████████████████████| 450/450 [00:03<00:00, 130.37it/s]\n",
      "C:\\Users\\kehua\\AppData\\Local\\Programs\\Python\\python-venv\\37_env\\lib\\site-packages\\theano\\tensor\\basic.py:6611: FutureWarning: Using a non-tuple sequence for multidimensional indexing is deprecated; use `arr[tuple(seq)]` instead of `arr[seq]`. In the future this will be interpreted as an array index, `arr[np.array(seq)]`, which will result either in an error or a different result.\n",
      "  result[diagonal_slice] = x\n",
      "The acceptance probability does not match the target. It is 0.9111216390711111, but should be close to 0.8. Try to increase the number of tuning steps.\n",
      "C:\\Users\\kehua\\AppData\\Local\\Programs\\Python\\python-venv\\37_env\\lib\\site-packages\\pymc3\\sampling.py:1247: UserWarning: samples parameter is smaller than nchains times ndraws, some draws and/or chains may not be represented in the returned posterior predictive sample\n",
      "  \"samples parameter is smaller than nchains times ndraws, some draws \"\n",
      "100%|███████████████████████████████████████████████████████████████████████████████████████████| 100/100 [00:02<00:00, 33.78it/s]\n"
     ]
    },
    {
     "name": "stdout",
     "output_type": "stream",
     "text": [
      "Fitting 2289/3142\r"
     ]
    },
    {
     "name": "stderr",
     "output_type": "stream",
     "text": [
      "Only 150 samples in chain.\n",
      "Auto-assigning NUTS sampler...\n",
      "Initializing NUTS using jitter+adapt_diag...\n",
      "Sequential sampling (2 chains in 1 job)\n",
      "NUTS: [σ, η, ρ]\n",
      "Sampling chain 0, 0 divergences: 100%|██████████████████████████████████████████████████████████| 450/450 [00:04<00:00, 91.33it/s]\n",
      "Sampling chain 1, 0 divergences: 100%|█████████████████████████████████████████████████████████| 450/450 [00:03<00:00, 134.53it/s]\n",
      "C:\\Users\\kehua\\AppData\\Local\\Programs\\Python\\python-venv\\37_env\\lib\\site-packages\\theano\\tensor\\basic.py:6611: FutureWarning: Using a non-tuple sequence for multidimensional indexing is deprecated; use `arr[tuple(seq)]` instead of `arr[seq]`. In the future this will be interpreted as an array index, `arr[np.array(seq)]`, which will result either in an error or a different result.\n",
      "  result[diagonal_slice] = x\n",
      "C:\\Users\\kehua\\AppData\\Local\\Programs\\Python\\python-venv\\37_env\\lib\\site-packages\\pymc3\\sampling.py:1247: UserWarning: samples parameter is smaller than nchains times ndraws, some draws and/or chains may not be represented in the returned posterior predictive sample\n",
      "  \"samples parameter is smaller than nchains times ndraws, some draws \"\n",
      "100%|███████████████████████████████████████████████████████████████████████████████████████████| 100/100 [00:02<00:00, 35.23it/s]\n",
      "Only 150 samples in chain.\n",
      "Auto-assigning NUTS sampler...\n",
      "Initializing NUTS using jitter+adapt_diag...\n",
      "Sequential sampling (2 chains in 1 job)\n",
      "NUTS: [σ, η, ρ]\n",
      "Sampling chain 0, 0 divergences: 100%|█████████████████████████████████████████████████████████| 450/450 [00:04<00:00, 101.39it/s]\n",
      "Sampling chain 1, 0 divergences: 100%|█████████████████████████████████████████████████████████| 450/450 [00:03<00:00, 133.70it/s]\n",
      "C:\\Users\\kehua\\AppData\\Local\\Programs\\Python\\python-venv\\37_env\\lib\\site-packages\\theano\\tensor\\basic.py:6611: FutureWarning: Using a non-tuple sequence for multidimensional indexing is deprecated; use `arr[tuple(seq)]` instead of `arr[seq]`. In the future this will be interpreted as an array index, `arr[np.array(seq)]`, which will result either in an error or a different result.\n",
      "  result[diagonal_slice] = x\n",
      "C:\\Users\\kehua\\AppData\\Local\\Programs\\Python\\python-venv\\37_env\\lib\\site-packages\\pymc3\\sampling.py:1247: UserWarning: samples parameter is smaller than nchains times ndraws, some draws and/or chains may not be represented in the returned posterior predictive sample\n",
      "  \"samples parameter is smaller than nchains times ndraws, some draws \"\n",
      "100%|███████████████████████████████████████████████████████████████████████████████████████████| 100/100 [00:03<00:00, 31.17it/s]\n",
      "Only 150 samples in chain.\n",
      "Auto-assigning NUTS sampler...\n",
      "Initializing NUTS using jitter+adapt_diag...\n",
      "Sequential sampling (2 chains in 1 job)\n",
      "NUTS: [σ, η, ρ]\n",
      "Sampling chain 0, 0 divergences: 100%|█████████████████████████████████████████████████████████| 450/450 [00:04<00:00, 102.47it/s]\n",
      "Sampling chain 1, 0 divergences: 100%|█████████████████████████████████████████████████████████| 450/450 [00:03<00:00, 132.04it/s]\n",
      "C:\\Users\\kehua\\AppData\\Local\\Programs\\Python\\python-venv\\37_env\\lib\\site-packages\\theano\\tensor\\basic.py:6611: FutureWarning: Using a non-tuple sequence for multidimensional indexing is deprecated; use `arr[tuple(seq)]` instead of `arr[seq]`. In the future this will be interpreted as an array index, `arr[np.array(seq)]`, which will result either in an error or a different result.\n",
      "  result[diagonal_slice] = x\n",
      "C:\\Users\\kehua\\AppData\\Local\\Programs\\Python\\python-venv\\37_env\\lib\\site-packages\\pymc3\\sampling.py:1247: UserWarning: samples parameter is smaller than nchains times ndraws, some draws and/or chains may not be represented in the returned posterior predictive sample\n",
      "  \"samples parameter is smaller than nchains times ndraws, some draws \"\n",
      "100%|███████████████████████████████████████████████████████████████████████████████████████████| 100/100 [00:02<00:00, 35.71it/s]\n"
     ]
    },
    {
     "name": "stdout",
     "output_type": "stream",
     "text": [
      "Fitting 3142/3142\n",
      "Predicting 3142/3142\r"
     ]
    }
   ],
   "source": [
    "pipeline.run()"
   ]
  },
  {
   "cell_type": "code",
   "execution_count": 11,
   "metadata": {},
   "outputs": [
    {
     "name": "stdout",
     "output_type": "stream",
     "text": [
      "\n",
      "Predicting 3142/3142\r"
     ]
    }
   ],
   "source": [
    "pipeline.predict(quantiles=quantiles, samples=samples)"
   ]
  },
  {
   "cell_type": "code",
   "execution_count": null,
   "metadata": {},
   "outputs": [],
   "source": [
    "pipeline.write_to_file(output_file, sample_file, quantiles)"
   ]
  },
  {
   "cell_type": "markdown",
   "metadata": {},
   "source": [
    "### Prediction Visualization"
   ]
  },
  {
   "cell_type": "code",
   "execution_count": 12,
   "metadata": {},
   "outputs": [
    {
     "name": "stdout",
     "output_type": "stream",
     "text": [
      "Predicting 3142/3142\r"
     ]
    }
   ],
   "source": [
    "pred = pipeline.get_combined_predictions(quantiles=quantiles, samples=250)"
   ]
  },
  {
   "cell_type": "code",
   "execution_count": 15,
   "metadata": {},
   "outputs": [
    {
     "data": {
      "text/plain": [
       "Text(0.5, 1.0, 'Daily Deaths for county 36061')"
      ]
     },
     "execution_count": 15,
     "metadata": {},
     "output_type": "execute_result"
    },
    {
     "data": {
      "image/png": "[encoded data removed]",
      "text/plain": [
       "<Figure size 432x288 with 1 Axes>"
      ]
     },
     "metadata": {
      "needs_background": "light"
     },
     "output_type": "display_data"
    }
   ],
   "source": [
    "# Replace fips with any county you want to visualize the predictions for\n",
    "fips = '36061'\n",
    "county = loader.get_index_from_fips(fips)\n",
    "x = np.arange(pred[county].shape[0])\n",
    "y = pred[county][:, 0]\n",
    "plt.plot(x, y, label='10th percentile')\n",
    "\n",
    "y = pred[county][:, 4]\n",
    "plt.plot(x, y, label='50th percentile')\n",
    "\n",
    "y = pred[county][:, 8]\n",
    "plt.plot(x, y, label='90th percentile')\n",
    "\n",
    "y = pipeline.data.daily_change[county]\n",
    "x = np.arange(y.shape[0])\n",
    "plt.plot(x, y, label='True deaths')\n",
    "\n",
    "plt.legend()\n",
    "plt.xlabel('Days since 1st death')\n",
    "plt.ylabel('Daily Deaths')\n",
    "plt.title(f'Daily Deaths for county {fips}')"
   ]
  },
  {
   "cell_type": "markdown",
   "metadata": {},
   "source": [
    "### Unincorporated model demo\n",
    "\n",
    "This is a demo of the unincoporated cases-deaths GP model as described in the report. This is not included in the final submission. \n",
    "\n",
    "Note that this takes very long to run, ~12 hours"
   ]
  },
  {
   "cell_type": "code",
   "execution_count": 16,
   "metadata": {},
   "outputs": [
    {
     "data": {
      "text/plain": [
       "<module 'models.gaussianprocess.gp_pipeline' from 'C:\\\\Users\\\\kehua\\\\Documents\\\\Caltech\\\\CS156-COVID19\\\\models\\\\gaussianprocess\\\\gp_pipeline.py'>"
      ]
     },
     "execution_count": 16,
     "metadata": {},
     "output_type": "execute_result"
    }
   ],
   "source": [
    "import importlib\n",
    "from models.utils import dataloader as loader\n",
    "from models.gaussianprocess import gp_pipeline as gpp\n",
    "from models.gaussianprocess import gp_model as m\n",
    "from models.utils import clustering as c\n",
    "import matplotlib.pyplot as plt\n",
    "import numpy as np\n",
    "\n",
    "importlib.reload(m)\n",
    "importlib.reload(loader)\n",
    "importlib.reload(gpp)"
   ]
  },
  {
   "cell_type": "code",
   "execution_count": 17,
   "metadata": {},
   "outputs": [
    {
     "name": "stdout",
     "output_type": "stream",
     "text": [
      "Fitting 85/3142\r"
     ]
    },
    {
     "name": "stderr",
     "output_type": "stream",
     "text": [
      "C:\\Users\\kehua\\AppData\\Local\\Programs\\Python\\python-venv\\37_env\\lib\\site-packages\\scipy\\optimize\\minpack.py:808: OptimizeWarning: Covariance of the parameters could not be estimated\n",
      "  category=OptimizeWarning)\n"
     ]
    },
    {
     "name": "stdout",
     "output_type": "stream",
     "text": [
      "Fitting 3033/3142\r"
     ]
    },
    {
     "ename": "ValueError",
     "evalue": "array must not contain infs or NaNs",
     "output_type": "error",
     "traceback": [
      "\u001b[1;31m---------------------------------------------------------------------------\u001b[0m",
      "\u001b[1;31mValueError\u001b[0m                                Traceback (most recent call last)",
      "\u001b[1;32m<ipython-input-17-fd375a028ac7>\u001b[0m in \u001b[0;36m<module>\u001b[1;34m\u001b[0m\n\u001b[0;32m     12\u001b[0m \u001b[1;33m\u001b[0m\u001b[0m\n\u001b[0;32m     13\u001b[0m \u001b[0mcases_pipeline\u001b[0m \u001b[1;33m=\u001b[0m \u001b[0mp\u001b[0m\u001b[1;33m.\u001b[0m\u001b[0mPipeline\u001b[0m\u001b[1;33m(\u001b[0m\u001b[0mdata_format\u001b[0m\u001b[1;33m,\u001b[0m \u001b[0mmodel_params\u001b[0m\u001b[1;33m,\u001b[0m \u001b[0mhorizon\u001b[0m\u001b[1;33m,\u001b[0m \u001b[0muse_c\u001b[0m\u001b[1;33m)\u001b[0m\u001b[1;33m\u001b[0m\u001b[1;33m\u001b[0m\u001b[0m\n\u001b[1;32m---> 14\u001b[1;33m \u001b[0mcases_pipeline\u001b[0m\u001b[1;33m.\u001b[0m\u001b[0mrun\u001b[0m\u001b[1;33m(\u001b[0m\u001b[1;33m)\u001b[0m\u001b[1;33m\u001b[0m\u001b[1;33m\u001b[0m\u001b[0m\n\u001b[0m\u001b[0;32m     15\u001b[0m \u001b[0mcases_pipeline\u001b[0m\u001b[1;33m.\u001b[0m\u001b[0mpredict\u001b[0m\u001b[1;33m(\u001b[0m\u001b[1;33m)\u001b[0m\u001b[1;33m\u001b[0m\u001b[1;33m\u001b[0m\u001b[0m\n\u001b[0;32m     16\u001b[0m \u001b[0mcases_pred\u001b[0m \u001b[1;33m=\u001b[0m \u001b[0mcases_pipeline\u001b[0m\u001b[1;33m.\u001b[0m\u001b[0mpredictions\u001b[0m\u001b[1;33m\u001b[0m\u001b[1;33m\u001b[0m\u001b[0m\n",
      "\u001b[1;32m~\\Documents\\Caltech\\CS156-COVID19\\models\\curvefit\\curvefit_pipeline.py\u001b[0m in \u001b[0;36mrun\u001b[1;34m(self)\u001b[0m\n\u001b[0;32m    154\u001b[0m             \u001b[0mself\u001b[0m\u001b[1;33m.\u001b[0m\u001b[0mblind_run\u001b[0m\u001b[1;33m(\u001b[0m\u001b[1;33m)\u001b[0m\u001b[1;33m\u001b[0m\u001b[1;33m\u001b[0m\u001b[0m\n\u001b[0;32m    155\u001b[0m         \u001b[1;32melse\u001b[0m\u001b[1;33m:\u001b[0m\u001b[1;33m\u001b[0m\u001b[1;33m\u001b[0m\u001b[0m\n\u001b[1;32m--> 156\u001b[1;33m             \u001b[0mself\u001b[0m\u001b[1;33m.\u001b[0m\u001b[0mwarm_run\u001b[0m\u001b[1;33m(\u001b[0m\u001b[1;33m)\u001b[0m\u001b[1;33m\u001b[0m\u001b[1;33m\u001b[0m\u001b[0m\n\u001b[0m\u001b[0;32m    157\u001b[0m \u001b[1;33m\u001b[0m\u001b[0m\n\u001b[0;32m    158\u001b[0m     \u001b[1;32mdef\u001b[0m \u001b[0mblind_run\u001b[0m\u001b[1;33m(\u001b[0m\u001b[0mself\u001b[0m\u001b[1;33m)\u001b[0m\u001b[1;33m:\u001b[0m\u001b[1;33m\u001b[0m\u001b[1;33m\u001b[0m\u001b[0m\n",
      "\u001b[1;32m~\\Documents\\Caltech\\CS156-COVID19\\models\\curvefit\\curvefit_pipeline.py\u001b[0m in \u001b[0;36mwarm_run\u001b[1;34m(self)\u001b[0m\n\u001b[0;32m    252\u001b[0m                 \u001b[0mmodel\u001b[0m\u001b[1;33m.\u001b[0m\u001b[0mfit\u001b[0m\u001b[1;33m(\u001b[0m\u001b[0mX_train\u001b[0m\u001b[1;33m,\u001b[0m \u001b[0my_train\u001b[0m\u001b[1;33m,\u001b[0m \u001b[0munsmoothed\u001b[0m\u001b[1;33m,\u001b[0m \u001b[1;33m**\u001b[0m\u001b[0mself\u001b[0m\u001b[1;33m.\u001b[0m\u001b[0mgp_params\u001b[0m\u001b[1;33m)\u001b[0m\u001b[1;33m\u001b[0m\u001b[1;33m\u001b[0m\u001b[0m\n\u001b[0;32m    253\u001b[0m             \u001b[1;32melse\u001b[0m\u001b[1;33m:\u001b[0m\u001b[1;33m\u001b[0m\u001b[1;33m\u001b[0m\u001b[0m\n\u001b[1;32m--> 254\u001b[1;33m                 \u001b[0mmodel\u001b[0m\u001b[1;33m.\u001b[0m\u001b[0mfit\u001b[0m\u001b[1;33m(\u001b[0m\u001b[0mX_train\u001b[0m\u001b[1;33m,\u001b[0m \u001b[0my_train\u001b[0m\u001b[1;33m)\u001b[0m\u001b[1;33m\u001b[0m\u001b[1;33m\u001b[0m\u001b[0m\n\u001b[0m\u001b[0;32m    255\u001b[0m \u001b[1;33m\u001b[0m\u001b[0m\n\u001b[0;32m    256\u001b[0m         \u001b[0mself\u001b[0m\u001b[1;33m.\u001b[0m\u001b[0mpredict\u001b[0m\u001b[1;33m(\u001b[0m\u001b[1;33m)\u001b[0m\u001b[1;33m\u001b[0m\u001b[1;33m\u001b[0m\u001b[0m\n",
      "\u001b[1;32m~\\Documents\\Caltech\\CS156-COVID19\\models\\curvefit\\curvefit_models.py\u001b[0m in \u001b[0;36mfit\u001b[1;34m(self, X_train, y_train)\u001b[0m\n\u001b[0;32m     34\u001b[0m         \u001b[1;32mtry\u001b[0m\u001b[1;33m:\u001b[0m\u001b[1;33m\u001b[0m\u001b[1;33m\u001b[0m\u001b[0m\n\u001b[0;32m     35\u001b[0m             self.popt, self.pcov = curve_fit(self.func, X_train, y_train, \n\u001b[1;32m---> 36\u001b[1;33m                 bounds=self.bounds)\n\u001b[0m\u001b[0;32m     37\u001b[0m         \u001b[1;32mexcept\u001b[0m \u001b[0mRuntimeError\u001b[0m\u001b[1;33m:\u001b[0m\u001b[1;33m\u001b[0m\u001b[1;33m\u001b[0m\u001b[0m\n\u001b[0;32m     38\u001b[0m             \u001b[0mself\u001b[0m\u001b[1;33m.\u001b[0m\u001b[0mdegenerate\u001b[0m \u001b[1;33m=\u001b[0m \u001b[1;32mTrue\u001b[0m\u001b[1;33m\u001b[0m\u001b[1;33m\u001b[0m\u001b[0m\n",
      "\u001b[1;32m~\\AppData\\Local\\Programs\\Python\\python-venv\\37_env\\lib\\site-packages\\scipy\\optimize\\minpack.py\u001b[0m in \u001b[0;36mcurve_fit\u001b[1;34m(f, xdata, ydata, p0, sigma, absolute_sigma, check_finite, bounds, method, jac, **kwargs)\u001b[0m\n\u001b[0;32m    773\u001b[0m \u001b[1;33m\u001b[0m\u001b[0m\n\u001b[0;32m    774\u001b[0m         res = least_squares(func, p0, jac=jac, bounds=bounds, method=method,\n\u001b[1;32m--> 775\u001b[1;33m                             **kwargs)\n\u001b[0m\u001b[0;32m    776\u001b[0m \u001b[1;33m\u001b[0m\u001b[0m\n\u001b[0;32m    777\u001b[0m         \u001b[1;32mif\u001b[0m \u001b[1;32mnot\u001b[0m \u001b[0mres\u001b[0m\u001b[1;33m.\u001b[0m\u001b[0msuccess\u001b[0m\u001b[1;33m:\u001b[0m\u001b[1;33m\u001b[0m\u001b[1;33m\u001b[0m\u001b[0m\n",
      "\u001b[1;32m~\\AppData\\Local\\Programs\\Python\\python-venv\\37_env\\lib\\site-packages\\scipy\\optimize\\_lsq\\least_squares.py\u001b[0m in \u001b[0;36mleast_squares\u001b[1;34m(fun, x0, jac, bounds, method, ftol, xtol, gtol, x_scale, loss, f_scale, diff_step, tr_solver, tr_options, jac_sparsity, max_nfev, verbose, args, kwargs)\u001b[0m\n\u001b[0;32m    915\u001b[0m         result = trf(fun_wrapped, jac_wrapped, x0, f0, J0, lb, ub, ftol, xtol,\n\u001b[0;32m    916\u001b[0m                      \u001b[0mgtol\u001b[0m\u001b[1;33m,\u001b[0m \u001b[0mmax_nfev\u001b[0m\u001b[1;33m,\u001b[0m \u001b[0mx_scale\u001b[0m\u001b[1;33m,\u001b[0m \u001b[0mloss_function\u001b[0m\u001b[1;33m,\u001b[0m \u001b[0mtr_solver\u001b[0m\u001b[1;33m,\u001b[0m\u001b[1;33m\u001b[0m\u001b[1;33m\u001b[0m\u001b[0m\n\u001b[1;32m--> 917\u001b[1;33m                      tr_options.copy(), verbose)\n\u001b[0m\u001b[0;32m    918\u001b[0m \u001b[1;33m\u001b[0m\u001b[0m\n\u001b[0;32m    919\u001b[0m     \u001b[1;32melif\u001b[0m \u001b[0mmethod\u001b[0m \u001b[1;33m==\u001b[0m \u001b[1;34m'dogbox'\u001b[0m\u001b[1;33m:\u001b[0m\u001b[1;33m\u001b[0m\u001b[1;33m\u001b[0m\u001b[0m\n",
      "\u001b[1;32m~\\AppData\\Local\\Programs\\Python\\python-venv\\37_env\\lib\\site-packages\\scipy\\optimize\\_lsq\\trf.py\u001b[0m in \u001b[0;36mtrf\u001b[1;34m(fun, jac, x0, f0, J0, lb, ub, ftol, xtol, gtol, max_nfev, x_scale, loss_function, tr_solver, tr_options, verbose)\u001b[0m\n\u001b[0;32m    126\u001b[0m         return trf_bounds(\n\u001b[0;32m    127\u001b[0m             \u001b[0mfun\u001b[0m\u001b[1;33m,\u001b[0m \u001b[0mjac\u001b[0m\u001b[1;33m,\u001b[0m \u001b[0mx0\u001b[0m\u001b[1;33m,\u001b[0m \u001b[0mf0\u001b[0m\u001b[1;33m,\u001b[0m \u001b[0mJ0\u001b[0m\u001b[1;33m,\u001b[0m \u001b[0mlb\u001b[0m\u001b[1;33m,\u001b[0m \u001b[0mub\u001b[0m\u001b[1;33m,\u001b[0m \u001b[0mftol\u001b[0m\u001b[1;33m,\u001b[0m \u001b[0mxtol\u001b[0m\u001b[1;33m,\u001b[0m \u001b[0mgtol\u001b[0m\u001b[1;33m,\u001b[0m \u001b[0mmax_nfev\u001b[0m\u001b[1;33m,\u001b[0m \u001b[0mx_scale\u001b[0m\u001b[1;33m,\u001b[0m\u001b[1;33m\u001b[0m\u001b[1;33m\u001b[0m\u001b[0m\n\u001b[1;32m--> 128\u001b[1;33m             loss_function, tr_solver, tr_options, verbose)\n\u001b[0m\u001b[0;32m    129\u001b[0m \u001b[1;33m\u001b[0m\u001b[0m\n\u001b[0;32m    130\u001b[0m \u001b[1;33m\u001b[0m\u001b[0m\n",
      "\u001b[1;32m~\\AppData\\Local\\Programs\\Python\\python-venv\\37_env\\lib\\site-packages\\scipy\\optimize\\_lsq\\trf.py\u001b[0m in \u001b[0;36mtrf_bounds\u001b[1;34m(fun, jac, x0, f0, J0, lb, ub, ftol, xtol, gtol, max_nfev, x_scale, loss_function, tr_solver, tr_options, verbose)\u001b[0m\n\u001b[0;32m    302\u001b[0m             \u001b[0mJ_h\u001b[0m \u001b[1;33m=\u001b[0m \u001b[0mJ_augmented\u001b[0m\u001b[1;33m[\u001b[0m\u001b[1;33m:\u001b[0m\u001b[0mm\u001b[0m\u001b[1;33m]\u001b[0m  \u001b[1;31m# Memory view.\u001b[0m\u001b[1;33m\u001b[0m\u001b[1;33m\u001b[0m\u001b[0m\n\u001b[0;32m    303\u001b[0m             \u001b[0mJ_augmented\u001b[0m\u001b[1;33m[\u001b[0m\u001b[0mm\u001b[0m\u001b[1;33m:\u001b[0m\u001b[1;33m]\u001b[0m \u001b[1;33m=\u001b[0m \u001b[0mnp\u001b[0m\u001b[1;33m.\u001b[0m\u001b[0mdiag\u001b[0m\u001b[1;33m(\u001b[0m\u001b[0mdiag_h\u001b[0m\u001b[1;33m**\u001b[0m\u001b[1;36m0.5\u001b[0m\u001b[1;33m)\u001b[0m\u001b[1;33m\u001b[0m\u001b[1;33m\u001b[0m\u001b[0m\n\u001b[1;32m--> 304\u001b[1;33m             \u001b[0mU\u001b[0m\u001b[1;33m,\u001b[0m \u001b[0ms\u001b[0m\u001b[1;33m,\u001b[0m \u001b[0mV\u001b[0m \u001b[1;33m=\u001b[0m \u001b[0msvd\u001b[0m\u001b[1;33m(\u001b[0m\u001b[0mJ_augmented\u001b[0m\u001b[1;33m,\u001b[0m \u001b[0mfull_matrices\u001b[0m\u001b[1;33m=\u001b[0m\u001b[1;32mFalse\u001b[0m\u001b[1;33m)\u001b[0m\u001b[1;33m\u001b[0m\u001b[1;33m\u001b[0m\u001b[0m\n\u001b[0m\u001b[0;32m    305\u001b[0m             \u001b[0mV\u001b[0m \u001b[1;33m=\u001b[0m \u001b[0mV\u001b[0m\u001b[1;33m.\u001b[0m\u001b[0mT\u001b[0m\u001b[1;33m\u001b[0m\u001b[1;33m\u001b[0m\u001b[0m\n\u001b[0;32m    306\u001b[0m             \u001b[0muf\u001b[0m \u001b[1;33m=\u001b[0m \u001b[0mU\u001b[0m\u001b[1;33m.\u001b[0m\u001b[0mT\u001b[0m\u001b[1;33m.\u001b[0m\u001b[0mdot\u001b[0m\u001b[1;33m(\u001b[0m\u001b[0mf_augmented\u001b[0m\u001b[1;33m)\u001b[0m\u001b[1;33m\u001b[0m\u001b[1;33m\u001b[0m\u001b[0m\n",
      "\u001b[1;32m~\\AppData\\Local\\Programs\\Python\\python-venv\\37_env\\lib\\site-packages\\scipy\\linalg\\decomp_svd.py\u001b[0m in \u001b[0;36msvd\u001b[1;34m(a, full_matrices, compute_uv, overwrite_a, check_finite, lapack_driver)\u001b[0m\n\u001b[0;32m    107\u001b[0m \u001b[1;33m\u001b[0m\u001b[0m\n\u001b[0;32m    108\u001b[0m     \"\"\"\n\u001b[1;32m--> 109\u001b[1;33m     \u001b[0ma1\u001b[0m \u001b[1;33m=\u001b[0m \u001b[0m_asarray_validated\u001b[0m\u001b[1;33m(\u001b[0m\u001b[0ma\u001b[0m\u001b[1;33m,\u001b[0m \u001b[0mcheck_finite\u001b[0m\u001b[1;33m=\u001b[0m\u001b[0mcheck_finite\u001b[0m\u001b[1;33m)\u001b[0m\u001b[1;33m\u001b[0m\u001b[1;33m\u001b[0m\u001b[0m\n\u001b[0m\u001b[0;32m    110\u001b[0m     \u001b[1;32mif\u001b[0m \u001b[0mlen\u001b[0m\u001b[1;33m(\u001b[0m\u001b[0ma1\u001b[0m\u001b[1;33m.\u001b[0m\u001b[0mshape\u001b[0m\u001b[1;33m)\u001b[0m \u001b[1;33m!=\u001b[0m \u001b[1;36m2\u001b[0m\u001b[1;33m:\u001b[0m\u001b[1;33m\u001b[0m\u001b[1;33m\u001b[0m\u001b[0m\n\u001b[0;32m    111\u001b[0m         \u001b[1;32mraise\u001b[0m \u001b[0mValueError\u001b[0m\u001b[1;33m(\u001b[0m\u001b[1;34m'expected matrix'\u001b[0m\u001b[1;33m)\u001b[0m\u001b[1;33m\u001b[0m\u001b[1;33m\u001b[0m\u001b[0m\n",
      "\u001b[1;32m~\\AppData\\Local\\Programs\\Python\\python-venv\\37_env\\lib\\site-packages\\scipy\\_lib\\_util.py\u001b[0m in \u001b[0;36m_asarray_validated\u001b[1;34m(a, check_finite, sparse_ok, objects_ok, mask_ok, as_inexact)\u001b[0m\n\u001b[0;32m    244\u001b[0m             \u001b[1;32mraise\u001b[0m \u001b[0mValueError\u001b[0m\u001b[1;33m(\u001b[0m\u001b[1;34m'masked arrays are not supported'\u001b[0m\u001b[1;33m)\u001b[0m\u001b[1;33m\u001b[0m\u001b[1;33m\u001b[0m\u001b[0m\n\u001b[0;32m    245\u001b[0m     \u001b[0mtoarray\u001b[0m \u001b[1;33m=\u001b[0m \u001b[0mnp\u001b[0m\u001b[1;33m.\u001b[0m\u001b[0masarray_chkfinite\u001b[0m \u001b[1;32mif\u001b[0m \u001b[0mcheck_finite\u001b[0m \u001b[1;32melse\u001b[0m \u001b[0mnp\u001b[0m\u001b[1;33m.\u001b[0m\u001b[0masarray\u001b[0m\u001b[1;33m\u001b[0m\u001b[1;33m\u001b[0m\u001b[0m\n\u001b[1;32m--> 246\u001b[1;33m     \u001b[0ma\u001b[0m \u001b[1;33m=\u001b[0m \u001b[0mtoarray\u001b[0m\u001b[1;33m(\u001b[0m\u001b[0ma\u001b[0m\u001b[1;33m)\u001b[0m\u001b[1;33m\u001b[0m\u001b[1;33m\u001b[0m\u001b[0m\n\u001b[0m\u001b[0;32m    247\u001b[0m     \u001b[1;32mif\u001b[0m \u001b[1;32mnot\u001b[0m \u001b[0mobjects_ok\u001b[0m\u001b[1;33m:\u001b[0m\u001b[1;33m\u001b[0m\u001b[1;33m\u001b[0m\u001b[0m\n\u001b[0;32m    248\u001b[0m         \u001b[1;32mif\u001b[0m \u001b[0ma\u001b[0m\u001b[1;33m.\u001b[0m\u001b[0mdtype\u001b[0m \u001b[1;32mis\u001b[0m \u001b[0mnp\u001b[0m\u001b[1;33m.\u001b[0m\u001b[0mdtype\u001b[0m\u001b[1;33m(\u001b[0m\u001b[1;34m'O'\u001b[0m\u001b[1;33m)\u001b[0m\u001b[1;33m:\u001b[0m\u001b[1;33m\u001b[0m\u001b[1;33m\u001b[0m\u001b[0m\n",
      "\u001b[1;32m~\\AppData\\Local\\Programs\\Python\\python-venv\\37_env\\lib\\site-packages\\numpy\\lib\\function_base.py\u001b[0m in \u001b[0;36masarray_chkfinite\u001b[1;34m(a, dtype, order)\u001b[0m\n\u001b[0;32m    497\u001b[0m     \u001b[1;32mif\u001b[0m \u001b[0ma\u001b[0m\u001b[1;33m.\u001b[0m\u001b[0mdtype\u001b[0m\u001b[1;33m.\u001b[0m\u001b[0mchar\u001b[0m \u001b[1;32min\u001b[0m \u001b[0mtypecodes\u001b[0m\u001b[1;33m[\u001b[0m\u001b[1;34m'AllFloat'\u001b[0m\u001b[1;33m]\u001b[0m \u001b[1;32mand\u001b[0m \u001b[1;32mnot\u001b[0m \u001b[0mnp\u001b[0m\u001b[1;33m.\u001b[0m\u001b[0misfinite\u001b[0m\u001b[1;33m(\u001b[0m\u001b[0ma\u001b[0m\u001b[1;33m)\u001b[0m\u001b[1;33m.\u001b[0m\u001b[0mall\u001b[0m\u001b[1;33m(\u001b[0m\u001b[1;33m)\u001b[0m\u001b[1;33m:\u001b[0m\u001b[1;33m\u001b[0m\u001b[1;33m\u001b[0m\u001b[0m\n\u001b[0;32m    498\u001b[0m         raise ValueError(\n\u001b[1;32m--> 499\u001b[1;33m             \"array must not contain infs or NaNs\")\n\u001b[0m\u001b[0;32m    500\u001b[0m     \u001b[1;32mreturn\u001b[0m \u001b[0ma\u001b[0m\u001b[1;33m\u001b[0m\u001b[1;33m\u001b[0m\u001b[0m\n\u001b[0;32m    501\u001b[0m \u001b[1;33m\u001b[0m\u001b[0m\n",
      "\u001b[1;31mValueError\u001b[0m: array must not contain infs or NaNs"
     ]
    }
   ],
   "source": [
    "data_format = {'name': 'cases_raw', 'smoothing': 3, 'val_steps': 10}\n",
    "use_gp = None\n",
    "model_params = {'name': 'ExpNormModel', 'use_gp': use_gp, 'gp_params': {}}\n",
    "horizon = 14\n",
    "samples = 250\n",
    "quantiles = [10, 20, 30, 40, 50, 60, 70, 80, 90]\n",
    "\n",
    "init_pipeline = p.Pipeline(data_format, model_params, horizon)\n",
    "init_pipeline.run()\n",
    "use_c = init_pipeline.use_cumulative\n",
    "data_format['val_steps'] = 0\n",
    "\n",
    "cases_pipeline = p.Pipeline(data_format, model_params, horizon, use_c)\n",
    "cases_pipeline.run()\n",
    "cases_pipeline.predict()\n",
    "cases_pred = cases_pipeline.predictions"
   ]
  },
  {
   "cell_type": "code",
   "execution_count": null,
   "metadata": {},
   "outputs": [],
   "source": [
    "gp_pipeline = gpp.Pipeline({}, {}, val_steps=0)"
   ]
  },
  {
   "cell_type": "code",
   "execution_count": null,
   "metadata": {},
   "outputs": [],
   "source": [
    "gp_pipeline.run(folder='gp_cluster_demo')"
   ]
  },
  {
   "cell_type": "code",
   "execution_count": null,
   "metadata": {},
   "outputs": [],
   "source": [
    "gp_pipeline.extend_cases_smooth(cases_pred)\n",
    "predictions = gp_pipeline.predict(horizon)"
   ]
  },
  {
   "cell_type": "code",
   "execution_count": null,
   "metadata": {},
   "outputs": [],
   "source": []
  }
 ],
 "metadata": {
  "kernelspec": {
   "display_name": "37_env",
   "language": "python",
   "name": "37_env"
  },
  "language_info": {
   "codemirror_mode": {
    "name": "ipython",
    "version": 3
   },
   "file_extension": ".py",
   "mimetype": "text/x-python",
   "name": "python",
   "nbconvert_exporter": "python",
   "pygments_lexer": "ipython3",
   "version": "3.7.6"
  }
 },
 "nbformat": 4,
 "nbformat_minor": 4
}
