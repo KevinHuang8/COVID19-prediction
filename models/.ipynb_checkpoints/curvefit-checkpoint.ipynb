{
 "cells": [
  {
   "cell_type": "code",
   "execution_count": 1,
   "metadata": {},
   "outputs": [
    {
     "name": "stderr",
     "output_type": "stream",
     "text": [
      "WARNING (theano.configdefaults): g++ not available, if using conda: `conda install m2w64-toolchain`\n",
      "c:\\users\\kehua\\appdata\\local\\programs\\python\\python38\\lib\\site-packages\\theano\\configdefaults.py:560: UserWarning: DeprecationWarning: there is no c++ compiler.This is deprecated and with Theano 0.11 a c++ compiler will be mandatory\n",
      "  warnings.warn(\"DeprecationWarning: there is no c++ compiler.\"\n",
      "WARNING (theano.configdefaults): g++ not detected ! Theano will be unable to execute optimized C-implementations (for both CPU and GPU) and will default to Python implementations. Performance will be severely degraded. To remove this warning, set Theano flags cxx to an empty string.\n",
      "WARNING (theano.tensor.blas): Using NumPy C-API based implementation for BLAS functions.\n"
     ]
    }
   ],
   "source": [
    "import sys\n",
    "sys.path.append('../')\n",
    "import numpy as np\n",
    "import importlib\n",
    "import dataloader as u\n",
    "from sklearn.metrics import mean_squared_error\n",
    "import matplotlib.pyplot as plt\n",
    "import scipy\n",
    "from scipy.optimize import curve_fit\n",
    "import scipy.stats as stats\n",
    "import pymc3 as pm\n",
    "import arviz as az"
   ]
  },
  {
   "cell_type": "code",
   "execution_count": 2,
   "metadata": {},
   "outputs": [],
   "source": [
    "def smooth_timeseries(t, size=5):\n",
    "    '''Smooth the function by taking a moving average of \"size\" time steps'''\n",
    "    average_filter = np.full((size, ), 1 / size)\n",
    "\n",
    "    t = np.pad(t, [(size // 2, size // 2)], mode='edge')\n",
    "    return np.apply_along_axis(lambda r: np.convolve(r, average_filter, mode='valid'), \n",
    "        axis=0, arr=t)"
   ]
  },
  {
   "cell_type": "code",
   "execution_count": 3,
   "metadata": {},
   "outputs": [],
   "source": [
    "datadict = u.load_covid_timeseries(smoothing=3, cases_cutoff=5)\n",
    "cases = datadict['cases_raw']\n",
    "deaths = datadict['deaths_raw']"
   ]
  },
  {
   "cell_type": "code",
   "execution_count": 4,
   "metadata": {},
   "outputs": [],
   "source": [
    "demographics = u.load_demographics_data()\n",
    "pop = demographics['total_pop']"
   ]
  },
  {
   "cell_type": "code",
   "execution_count": 159,
   "metadata": {},
   "outputs": [
    {
     "name": "stdout",
     "output_type": "stream",
     "text": [
      "[1. 1. 1. 1. 2. 2. 2. 2. 2. 2. 2. 1. 1. 1. 1. 1. 1. 1. 1. 1. 1. 1. 1. 1.\n",
      " 1. 1. 1. 1. 1. 1.]\n"
     ]
    }
   ],
   "source": [
    "county = 428 \n",
    "z = deaths[county] \n",
    "z = z[z != 0]\n",
    "init = [z[0]]\n",
    "z1 = np.diff(z)\n",
    "init.append(z1[0])\n",
    "z2 = np.diff(z1)\n",
    "print(z)"
   ]
  },
  {
   "cell_type": "code",
   "execution_count": 160,
   "metadata": {},
   "outputs": [],
   "source": [
    "z_smooth = smooth_timeseries(z1, 9)"
   ]
  },
  {
   "cell_type": "code",
   "execution_count": 152,
   "metadata": {},
   "outputs": [
    {
     "data": {
      "text/plain": [
       "[<matplotlib.lines.Line2D at 0x2b085524e50>]"
      ]
     },
     "execution_count": 152,
     "metadata": {},
     "output_type": "execute_result"
    },
    {
     "data": {
      "image/png": "[encoded data removed]",
      "text/plain": [
       "<Figure size 432x288 with 1 Axes>"
      ]
     },
     "metadata": {
      "needs_background": "light"
     },
     "output_type": "display_data"
    }
   ],
   "source": [
    "y = z_smooth\n",
    "x = np.linspace(1, y.shape[0], y.shape[0])\n",
    "plt.plot(x, y)"
   ]
  },
  {
   "cell_type": "code",
   "execution_count": 153,
   "metadata": {},
   "outputs": [
    {
     "name": "stdout",
     "output_type": "stream",
     "text": [
      "(36,) (36,) (0,) (0,)\n"
     ]
    }
   ],
   "source": [
    "dat = z_smooth\n",
    "\n",
    "validation_steps = 0\n",
    "\n",
    "X_train = np.arange(dat.shape[0] - validation_steps)\n",
    "y_train = dat[:dat.shape[0] - validation_steps]\n",
    "\n",
    "X_test = np.arange(dat.shape[0] - validation_steps, dat.shape[0])\n",
    "y_test = dat[dat.shape[0] - validation_steps:]\n",
    "\n",
    "print(X_train.shape, y_train.shape, X_test.shape, y_test.shape)"
   ]
  },
  {
   "cell_type": "code",
   "execution_count": 154,
   "metadata": {},
   "outputs": [
    {
     "name": "stdout",
     "output_type": "stream",
     "text": [
      "[ 0  1  2  3  4  5  6  7  8  9 10 11 12 13 14 15 16 17 18 19 20 21 22 23\n",
      " 24 25 26 27 28 29 30 31 32 33 34 35] [ 0.11111111  0.11111111  0.11111111  0.11111111 -0.11111111 -0.11111111\n",
      " -0.11111111 -0.11111111 -0.11111111 -0.22222222 -0.22222222 -0.22222222\n",
      " -0.22222222  0.          0.          0.          0.          0.\n",
      "  0.          0.          0.          0.          0.          0.\n",
      "  0.          0.          0.          0.          0.          0.\n",
      "  0.          0.          0.          0.          0.          0.        ]\n"
     ]
    }
   ],
   "source": [
    "print(X_train, y_train)"
   ]
  },
  {
   "cell_type": "code",
   "execution_count": 155,
   "metadata": {},
   "outputs": [],
   "source": [
    "def erf_model(x, max_val, loc, scale):\n",
    "    return max_val*(1 + scipy.special.erf(scale*(x - loc)))\n",
    "\n",
    "def skew_model(x, max_val, loc, scale, a, shift):\n",
    "    return max_val * stats.skewnorm.pdf(x, a, loc, scale) + shift\n",
    "\n",
    "def exp_model(x, max_val, loc, scale, K, shift):\n",
    "    return max_val*stats.exponnorm.pdf(x, K, loc, scale) + shift\n",
    "\n",
    "def exp_modelcdf(x, max_val, loc, scale, K, shift):\n",
    "    return max_val*stats.exponnorm.cdf(x, K, loc, scale) + shift\n",
    "\n",
    "erf_bounds = ([-np.inf, -np.inf, -np.inf], [np.inf, np.inf, np.inf])\n",
    "other_bounds = ([z.max(), 0, 0, 0, 0], [100*z.max(), np.inf, np.inf, 10, np.inf])\n",
    "\n",
    "model = exp_model\n",
    "bounds = other_bounds\n",
    "popt, pcov = curve_fit(model, X_train, y_train, bounds=bounds)"
   ]
  },
  {
   "cell_type": "code",
   "execution_count": 156,
   "metadata": {},
   "outputs": [
    {
     "name": "stdout",
     "output_type": "stream",
     "text": [
      "[3.10378643e+00 7.69723004e+02 1.32658187e+01 9.98071596e+00\n",
      " 2.90733377e-11]\n"
     ]
    }
   ],
   "source": [
    "print(popt)"
   ]
  },
  {
   "cell_type": "code",
   "execution_count": 157,
   "metadata": {},
   "outputs": [
    {
     "name": "stdout",
     "output_type": "stream",
     "text": [
      "[0.         0.         0.         0.         0.01663012]\n"
     ]
    }
   ],
   "source": [
    "errors = np.sqrt(np.diag(pcov))\n",
    "print(errors)"
   ]
  },
  {
   "cell_type": "code",
   "execution_count": 158,
   "metadata": {},
   "outputs": [
    {
     "data": {
      "text/plain": [
       "[<matplotlib.lines.Line2D at 0x2b0808f7100>]"
      ]
     },
     "execution_count": 158,
     "metadata": {},
     "output_type": "execute_result"
    },
    {
     "data": {
      "image/png": "[encoded data removed]",
      "text/plain": [
       "<Figure size 432x288 with 1 Axes>"
      ]
     },
     "metadata": {
      "needs_background": "light"
     },
     "output_type": "display_data"
    }
   ],
   "source": [
    "d = z_smooth\n",
    "x = np.linspace(0, d.shape[0] - 1, d.shape[0])\n",
    "y = d\n",
    "plt.plot(x, y)\n",
    "\n",
    "x = np.linspace(0, 80, 1000)\n",
    "y = exp_model(x, *popt)\n",
    "# x = np.linspace(0, d.shape[0] + 19, d.shape[0] + 20)\n",
    "# y = exp_modelcdf(x, *popt)\n",
    "# y0 = [z[0]]\n",
    "# y = np.concatenate([y0, np.diff(y)])\n",
    "plt.plot(x, y)\n",
    "\n",
    "#plt.plot(X_train, y_train, marker='o', linewidth=0)\n",
    "#plt.plot(X_test, y_test, marker='o', linewidth=0)"
   ]
  },
  {
   "cell_type": "code",
   "execution_count": 884,
   "metadata": {},
   "outputs": [
    {
     "data": {
      "text/plain": [
       "[<matplotlib.lines.Line2D at 0x191d7714af0>]"
      ]
     },
     "execution_count": 884,
     "metadata": {},
     "output_type": "execute_result"
    },
    {
     "data": {
      "image/png": "[encoded data removed]",
      "text/plain": [
       "<Figure size 432x288 with 1 Axes>"
      ]
     },
     "metadata": {
      "needs_background": "light"
     },
     "output_type": "display_data"
    }
   ],
   "source": [
    "d = z\n",
    "x = np.linspace(1, d.shape[0], d.shape[0])\n",
    "y = d\n",
    "plt.plot(x, y)\n",
    "\n",
    "x = np.linspace(1, 100, 1000)\n",
    "y = exp_modelcdf(x, *popt)\n",
    "plt.plot(x, y)"
   ]
  },
  {
   "cell_type": "code",
   "execution_count": 848,
   "metadata": {},
   "outputs": [
    {
     "name": "stdout",
     "output_type": "stream",
     "text": [
      "[0.877 0.877 -0.123 -0.123 -0.123 -0.123 -0.123 -0.123 -0.123 -0.123\n",
      " -0.123 -0.123 -0.123 -0.123 -0.123 -0.123 -0.124 -0.126 -0.131 -0.144\n",
      " -0.171 -0.219 0.705 -0.400 -0.525 -0.654 0.235 1.159 -0.877 -0.875 1.154\n",
      " -0.801 2.251 0.303 -0.648]\n"
     ]
    }
   ],
   "source": [
    "d = z1\n",
    "x = np.linspace(1, d.shape[0], d.shape[0])\n",
    "y = model(x, *popt)\n",
    "\n",
    "residuals = z1 - y\n",
    "print(residuals)"
   ]
  },
  {
   "cell_type": "code",
   "execution_count": 128,
   "metadata": {},
   "outputs": [
    {
     "data": {
      "text/plain": [
       "<module 'dataloader' from '..\\\\dataloader.py'>"
      ]
     },
     "execution_count": 128,
     "metadata": {},
     "output_type": "execute_result"
    }
   ],
   "source": [
    "import curvefit_pipeline as p\n",
    "import curvefit_models as models\n",
    "importlib.reload(p)\n",
    "importlib.reload(models)\n",
    "importlib.reload(u)"
   ]
  },
  {
   "cell_type": "code",
   "execution_count": 7,
   "metadata": {},
   "outputs": [],
   "source": [
    "data_format = {'name': 'deaths_raw', 'smoothing': 9, 'val_steps': 10}\n",
    "model_params = {'name': 'ExpNormModel'}\n",
    "horizon = 14"
   ]
  },
  {
   "cell_type": "code",
   "execution_count": 8,
   "metadata": {},
   "outputs": [],
   "source": [
    "pipeline = p.Pipeline(data_format, model_params, horizon)"
   ]
  },
  {
   "cell_type": "code",
   "execution_count": 9,
   "metadata": {},
   "outputs": [
    {
     "name": "stdout",
     "output_type": "stream",
     "text": [
      "Fitting 12/3142\r"
     ]
    },
    {
     "name": "stderr",
     "output_type": "stream",
     "text": [
      "c:\\users\\kehua\\appdata\\local\\programs\\python\\python38\\lib\\site-packages\\scipy\\optimize\\minpack.py:807: OptimizeWarning: Covariance of the parameters could not be estimated\n",
      "  warnings.warn('Covariance of the parameters could not be estimated',\n"
     ]
    },
    {
     "name": "stdout",
     "output_type": "stream",
     "text": [
      "Fitting 3142/3142\r"
     ]
    }
   ],
   "source": [
    "pipeline.run()"
   ]
  },
  {
   "cell_type": "code",
   "execution_count": 11,
   "metadata": {},
   "outputs": [],
   "source": [
    "use_c = pipeline.use_cumulative"
   ]
  },
  {
   "cell_type": "code",
   "execution_count": 13,
   "metadata": {},
   "outputs": [
    {
     "data": {
      "text/plain": [
       "False"
      ]
     },
     "execution_count": 13,
     "metadata": {},
     "output_type": "execute_result"
    }
   ],
   "source": [
    "use_c[1879]"
   ]
  },
  {
   "cell_type": "code",
   "execution_count": 139,
   "metadata": {},
   "outputs": [
    {
     "name": "stdout",
     "output_type": "stream",
     "text": [
      "785 578\n"
     ]
    }
   ],
   "source": [
    "t = 0\n",
    "f = 0\n",
    "for i in use_c:\n",
    "    if use_c[i]:\n",
    "        t += 1\n",
    "    else:\n",
    "        f += 1\n",
    "print(t, f)"
   ]
  },
  {
   "cell_type": "code",
   "execution_count": 140,
   "metadata": {},
   "outputs": [],
   "source": [
    "import pickle\n",
    "\n",
    "with open('use_c.dat', 'wb') as handle:\n",
    "    pickle.dump(use_c, handle, protocol=pickle.HIGHEST_PROTOCOL)\n",
    "\n",
    "# with open('filename.pickle', 'rb') as handle:\n",
    "#     b = pickle.load(handle)\n"
   ]
  },
  {
   "cell_type": "code",
   "execution_count": 15,
   "metadata": {},
   "outputs": [],
   "source": [
    "data_format = {'name': 'deaths_raw', 'smoothing': 9, 'val_steps': 0}"
   ]
  },
  {
   "cell_type": "code",
   "execution_count": 16,
   "metadata": {},
   "outputs": [
    {
     "name": "stdout",
     "output_type": "stream",
     "text": [
      "Predicting 3142/3142\r"
     ]
    }
   ],
   "source": [
    "pipeline2 = p.Pipeline(data_format, model_params, horizon, use_c)\n",
    "pipeline2.run()"
   ]
  },
  {
   "cell_type": "code",
   "execution_count": 17,
   "metadata": {},
   "outputs": [],
   "source": [
    "quantiles = [10, 20, 30, 40, 50, 60, 70, 80, 90]"
   ]
  },
  {
   "cell_type": "code",
   "execution_count": 112,
   "metadata": {},
   "outputs": [
    {
     "name": "stdout",
     "output_type": "stream",
     "text": [
      "Predicting 3142/3142\r"
     ]
    }
   ],
   "source": [
    "cpredictions = pipeline2.get_combined_predictions(quantiles=quantiles, samples=250)"
   ]
  },
  {
   "cell_type": "code",
   "execution_count": 113,
   "metadata": {},
   "outputs": [
    {
     "name": "stdout",
     "output_type": "stream",
     "text": [
      "Predicting 3142/3142\r"
     ]
    }
   ],
   "source": [
    "pred2 = pipeline2.get_combined_predictions()"
   ]
  },
  {
   "cell_type": "code",
   "execution_count": 116,
   "metadata": {},
   "outputs": [
    {
     "name": "stdout",
     "output_type": "stream",
     "text": [
      "[136.72176039 128.99612581 121.8255537  114.8705486  108.32422009\n",
      " 102.18420327  96.39221847  90.8498155   85.68008919  80.93324687\n",
      "  76.44477756  72.16746469  68.08179123  64.16531974]\n"
     ]
    },
    {
     "data": {
      "text/plain": [
       "[<matplotlib.lines.Line2D at 0x2b089fdfb20>]"
      ]
     },
     "execution_count": 116,
     "metadata": {},
     "output_type": "execute_result"
    },
    {
     "data": {
      "image/png": "[encoded data removed]",
      "text/plain": [
       "<Figure size 432x288 with 1 Axes>"
      ]
     },
     "metadata": {
      "needs_background": "light"
     },
     "output_type": "display_data"
    }
   ],
   "source": [
    "# 1208**, 1200, 716, 1382, 204, 1791, 1868, 1858, 2969, 1887, 1308, 1224, 1776-1794, 2289**, 2848, 3087**, 1138*, 1280, 1293**, 1870**\n",
    "county = 1858\n",
    "x = np.arange(0, cpredictions[county].shape[0])\n",
    "y = cpredictions[county][:, 3]\n",
    "plt.plot(x, y)\n",
    "\n",
    "y = cpredictions[county][:, 4]\n",
    "plt.plot(x, y)\n",
    "\n",
    "print(cpredictions[county][:, 4][-14:])\n",
    "\n",
    "y = cpredictions[county][:, 8]\n",
    "plt.plot(x, y)\n",
    "\n",
    "x = np.arange(0, pred2[county].shape[0])\n",
    "y = pred2[county]\n",
    "plt.plot(x, y, color='red')\n",
    "\n",
    "d = pipeline2.data.daily_smoothed[county]\n",
    "x = np.linspace(0, d.shape[0] - 1, d.shape[0])\n",
    "y = d\n",
    "plt.plot(x, y)\n"
   ]
  },
  {
   "cell_type": "code",
   "execution_count": 120,
   "metadata": {},
   "outputs": [
    {
     "data": {
      "text/plain": [
       "array([   4.,    2.,    3.,   10.,    2.,   21.,   17.,   39.,   32.,\n",
       "         61.,   88.,   85.,   85.,  222.,  104.,  138.,  182.,  278.,\n",
       "        188.,  305.,  387.,  218., 1013.,  524.,  562.,  579.,  513.,\n",
       "        539.,  515.,  437.,  536.,  525.,  417.,    0.,    0., 1076.,\n",
       "        301.,  292.,  313.,  275.,  268.,  262.,  229.,  209.,  210.,\n",
       "        258.,  189.,  186.,  195.,  169.,  143.,  129.])"
      ]
     },
     "execution_count": 120,
     "metadata": {},
     "output_type": "execute_result"
    }
   ],
   "source": [
    "z1"
   ]
  },
  {
   "cell_type": "code",
   "execution_count": 21,
   "metadata": {},
   "outputs": [
    {
     "name": "stdout",
     "output_type": "stream",
     "text": [
      "Predicting 3142/3142\r"
     ]
    }
   ],
   "source": [
    "pipeline2.predict(quantiles=quantiles, samples=250)"
   ]
  },
  {
   "cell_type": "code",
   "execution_count": 56,
   "metadata": {},
   "outputs": [
    {
     "data": {
      "text/plain": [
       "3142"
      ]
     },
     "execution_count": 56,
     "metadata": {},
     "output_type": "execute_result"
    }
   ],
   "source": [
    "import pandas as pd\n",
    "df = pd.read_csv('../upstream/sample_submission.csv')\n",
    "data = u.load_covid_static(days_ago=5)\n",
    "data[data['FIPS'] == '08014']\n",
    "len(data)"
   ]
  },
  {
   "cell_type": "code",
   "execution_count": 50,
   "metadata": {},
   "outputs": [],
   "source": [
    "i = df.set_index('id').sort_index().index\n",
    "sub_fips = np.unique([s[11:] for s in i])\n",
    "data_fips = [s.lstrip('0') for s in data['FIPS']]"
   ]
  },
  {
   "cell_type": "code",
   "execution_count": 55,
   "metadata": {},
   "outputs": [
    {
     "data": {
      "text/plain": [
       "['2105', '2195', '2198', '2230', '2275', '8014', '46102']"
      ]
     },
     "execution_count": 55,
     "metadata": {},
     "output_type": "execute_result"
    }
   ],
   "source": [
    "dont_include = []\n",
    "for fips in data_fips:\n",
    "    if fips not in sub_fips:\n",
    "        dont_include.append(fips)\n",
    "dont_include"
   ]
  },
  {
   "cell_type": "code",
   "execution_count": 58,
   "metadata": {
    "collapsed": true,
    "jupyter": {
     "outputs_hidden": true
    }
   },
   "outputs": [
    {
     "data": {
      "text/plain": [
       "['2201',\n",
       " '2232',\n",
       " '2280',\n",
       " '46113',\n",
       " '51515',\n",
       " '51560',\n",
       " '72001',\n",
       " '72003',\n",
       " '72005',\n",
       " '72007',\n",
       " '72009',\n",
       " '72011',\n",
       " '72013',\n",
       " '72015',\n",
       " '72017',\n",
       " '72019',\n",
       " '72021',\n",
       " '72023',\n",
       " '72025',\n",
       " '72027',\n",
       " '72029',\n",
       " '72031',\n",
       " '72033',\n",
       " '72035',\n",
       " '72037',\n",
       " '72039',\n",
       " '72041',\n",
       " '72043',\n",
       " '72045',\n",
       " '72047',\n",
       " '72049',\n",
       " '72051',\n",
       " '72053',\n",
       " '72054',\n",
       " '72055',\n",
       " '72057',\n",
       " '72059',\n",
       " '72061',\n",
       " '72063',\n",
       " '72065',\n",
       " '72067',\n",
       " '72069',\n",
       " '72071',\n",
       " '72073',\n",
       " '72075',\n",
       " '72077',\n",
       " '72079',\n",
       " '72081',\n",
       " '72083',\n",
       " '72085',\n",
       " '72087',\n",
       " '72089',\n",
       " '72091',\n",
       " '72093',\n",
       " '72095',\n",
       " '72097',\n",
       " '72099',\n",
       " '72101',\n",
       " '72103',\n",
       " '72105',\n",
       " '72107',\n",
       " '72109',\n",
       " '72111',\n",
       " '72113',\n",
       " '72115',\n",
       " '72117',\n",
       " '72119',\n",
       " '72121',\n",
       " '72123',\n",
       " '72125',\n",
       " '72127',\n",
       " '72129',\n",
       " '72131',\n",
       " '72133',\n",
       " '72135',\n",
       " '72137',\n",
       " '72139',\n",
       " '72141',\n",
       " '72143',\n",
       " '72145',\n",
       " '72147',\n",
       " '72149',\n",
       " '72151',\n",
       " '72153',\n",
       " '78010',\n",
       " '78020',\n",
       " '78030']"
      ]
     },
     "execution_count": 58,
     "metadata": {},
     "output_type": "execute_result"
    }
   ],
   "source": [
    "must_include = []\n",
    "for fips in sub_fips:\n",
    "    if fips not in data_fips:\n",
    "        must_include.append(fips)\n",
    "must_include.remove('66010')\n",
    "must_include"
   ]
  },
  {
   "cell_type": "code",
   "execution_count": 86,
   "metadata": {},
   "outputs": [
    {
     "data": {
      "text/plain": [
       "[18.31121650428807,\n",
       " 25.530274682983936,\n",
       " 30.476718218132937,\n",
       " 33.66332923800322,\n",
       " 37.16383584517867,\n",
       " 40.274649165925496,\n",
       " 44.762069237891325,\n",
       " 49.11515849007347,\n",
       " 54.979848436804396]"
      ]
     },
     "execution_count": 86,
     "metadata": {},
     "output_type": "execute_result"
    }
   ],
   "source": [
    "list(pipeline2.predictions[1868][0, :])"
   ]
  },
  {
   "cell_type": "code",
   "execution_count": 99,
   "metadata": {},
   "outputs": [
    {
     "name": "stdout",
     "output_type": "stream",
     "text": [
      "writing 3142/3143\r"
     ]
    }
   ],
   "source": [
    "start_date = '04/01/2020'\n",
    "end_date = '06/30/2020'\n",
    "prediction_start = '05/06/2020'\n",
    "horizon = 14\n",
    "\n",
    "predictions = pipeline2.predictions\n",
    "data = u.load_covid_static(days_ago=5)\n",
    "\n",
    "to_write = [['id'] + [str(q) for q in quantiles]]\n",
    "for county in predictions:\n",
    "    print(f'writing {county}/{len(predictions) - 1}', end='\\r')\n",
    "    if county == 3142:\n",
    "        fips = '66010'\n",
    "    else:\n",
    "        fips = data.iloc[county]['FIPS'].lstrip('0')\n",
    "    if fips in dont_include:\n",
    "        continue\n",
    "    \n",
    "    county_pred = predictions[county]\n",
    "    \n",
    "    date = dt.datetime.strptime(start_date, '%m/%d/%Y')\n",
    "    end = dt.datetime.strptime(end_date, '%m/%d/%Y')\n",
    "    predict_start = dt.datetime.strptime(prediction_start, '%m/%d/%Y')\n",
    "    predict_end = predict_start + dt.timedelta(days=horizon - 1)\n",
    "    while date <= end:\n",
    "        id_ = date.strftime('%Y-%m-%d-') + fips\n",
    "        \n",
    "        if predict_start <= date <= predict_end:\n",
    "            index = (date - predict_start).days\n",
    "            p = list(county_pred[index, :])\n",
    "        else:\n",
    "            p = [0 for i in range(len(quantiles))]\n",
    "            \n",
    "        to_write.append([id_] + p)\n",
    "        date = date + dt.timedelta(days=1)"
   ]
  },
  {
   "cell_type": "code",
   "execution_count": 100,
   "metadata": {},
   "outputs": [],
   "source": [
    "for fips in must_include:\n",
    "    date = dt.datetime.strptime(start_date, '%m/%d/%Y')\n",
    "    end = dt.datetime.strptime(end_date, '%m/%d/%Y')\n",
    "    while date <= end:\n",
    "        id_ = date.strftime('%Y-%m-%d-') + fips\n",
    "        p = [0 for i in range(len(quantiles))]\n",
    "            \n",
    "        to_write.append([id_] + p)\n",
    "        date = date + dt.timedelta(days=1)"
   ]
  },
  {
   "cell_type": "code",
   "execution_count": 101,
   "metadata": {},
   "outputs": [],
   "source": [
    "import csv\n",
    "with open(\"predictions.csv\", \"w+\", newline='') as f:\n",
    "        csv_writer = csv.writer(f, delimiter = \",\")\n",
    "        csv_writer.writerows(to_write)"
   ]
  },
  {
   "cell_type": "code",
   "execution_count": 95,
   "metadata": {},
   "outputs": [],
   "source": [
    "data = u.load_covid_static(days_ago=5)"
   ]
  },
  {
   "cell_type": "code",
   "execution_count": 127,
   "metadata": {},
   "outputs": [
    {
     "name": "stdout",
     "output_type": "stream",
     "text": [
      "293293\n",
      "293293\n"
     ]
    }
   ],
   "source": [
    "your_submission = pd.read_csv('predictions.csv').set_index('id').sort_index()\n",
    "sample_submission = pd.read_csv('sample_submission.csv').set_index('id').sort_index()\n",
    "assert(your_submission.index.equals(sample_submission.index))\n",
    "\n",
    "print(len(your_submission.index))\n",
    "print(len(sample_submission.index))"
   ]
  },
  {
   "cell_type": "code",
   "execution_count": 131,
   "metadata": {},
   "outputs": [
    {
     "data": {
      "text/html": [
       "<div>\n",
       "<style scoped>\n",
       "    .dataframe tbody tr th:only-of-type {\n",
       "        vertical-align: middle;\n",
       "    }\n",
       "\n",
       "    .dataframe tbody tr th {\n",
       "        vertical-align: top;\n",
       "    }\n",
       "\n",
       "    .dataframe thead th {\n",
       "        text-align: right;\n",
       "    }\n",
       "</style>\n",
       "<table border=\"1\" class=\"dataframe\">\n",
       "  <thead>\n",
       "    <tr style=\"text-align: right;\">\n",
       "      <th></th>\n",
       "      <th>Unnamed: 0</th>\n",
       "      <th>FIPS</th>\n",
       "      <th>1/22/20</th>\n",
       "      <th>1/23/20</th>\n",
       "      <th>1/24/20</th>\n",
       "      <th>1/25/20</th>\n",
       "      <th>1/26/20</th>\n",
       "      <th>1/27/20</th>\n",
       "      <th>1/28/20</th>\n",
       "      <th>1/29/20</th>\n",
       "      <th>...</th>\n",
       "      <th>4/26/20</th>\n",
       "      <th>4/27/20</th>\n",
       "      <th>4/28/20</th>\n",
       "      <th>4/29/20</th>\n",
       "      <th>4/30/20</th>\n",
       "      <th>5/1/20</th>\n",
       "      <th>5/2/20</th>\n",
       "      <th>5/3/20</th>\n",
       "      <th>5/4/20</th>\n",
       "      <th>5/5/20</th>\n",
       "    </tr>\n",
       "  </thead>\n",
       "  <tbody>\n",
       "    <tr>\n",
       "      <th>0</th>\n",
       "      <td>0</td>\n",
       "      <td>01001</td>\n",
       "      <td>0.0</td>\n",
       "      <td>0.0</td>\n",
       "      <td>0.0</td>\n",
       "      <td>0.0</td>\n",
       "      <td>0.0</td>\n",
       "      <td>0.0</td>\n",
       "      <td>0.0</td>\n",
       "      <td>0.0</td>\n",
       "      <td>...</td>\n",
       "      <td>2</td>\n",
       "      <td>3</td>\n",
       "      <td>4</td>\n",
       "      <td>4</td>\n",
       "      <td>4</td>\n",
       "      <td>3</td>\n",
       "      <td>3</td>\n",
       "      <td>3</td>\n",
       "      <td>3</td>\n",
       "      <td>3</td>\n",
       "    </tr>\n",
       "    <tr>\n",
       "      <th>1</th>\n",
       "      <td>1</td>\n",
       "      <td>01003</td>\n",
       "      <td>0.0</td>\n",
       "      <td>0.0</td>\n",
       "      <td>0.0</td>\n",
       "      <td>0.0</td>\n",
       "      <td>0.0</td>\n",
       "      <td>0.0</td>\n",
       "      <td>0.0</td>\n",
       "      <td>0.0</td>\n",
       "      <td>...</td>\n",
       "      <td>3</td>\n",
       "      <td>3</td>\n",
       "      <td>3</td>\n",
       "      <td>2</td>\n",
       "      <td>3</td>\n",
       "      <td>4</td>\n",
       "      <td>4</td>\n",
       "      <td>4</td>\n",
       "      <td>4</td>\n",
       "      <td>5</td>\n",
       "    </tr>\n",
       "    <tr>\n",
       "      <th>2</th>\n",
       "      <td>2</td>\n",
       "      <td>01005</td>\n",
       "      <td>0.0</td>\n",
       "      <td>0.0</td>\n",
       "      <td>0.0</td>\n",
       "      <td>0.0</td>\n",
       "      <td>0.0</td>\n",
       "      <td>0.0</td>\n",
       "      <td>0.0</td>\n",
       "      <td>0.0</td>\n",
       "      <td>...</td>\n",
       "      <td>0</td>\n",
       "      <td>0</td>\n",
       "      <td>0</td>\n",
       "      <td>1</td>\n",
       "      <td>1</td>\n",
       "      <td>1</td>\n",
       "      <td>1</td>\n",
       "      <td>1</td>\n",
       "      <td>1</td>\n",
       "      <td>1</td>\n",
       "    </tr>\n",
       "    <tr>\n",
       "      <th>3</th>\n",
       "      <td>3</td>\n",
       "      <td>01007</td>\n",
       "      <td>0.0</td>\n",
       "      <td>0.0</td>\n",
       "      <td>0.0</td>\n",
       "      <td>0.0</td>\n",
       "      <td>0.0</td>\n",
       "      <td>0.0</td>\n",
       "      <td>0.0</td>\n",
       "      <td>0.0</td>\n",
       "      <td>...</td>\n",
       "      <td>0</td>\n",
       "      <td>0</td>\n",
       "      <td>0</td>\n",
       "      <td>0</td>\n",
       "      <td>0</td>\n",
       "      <td>0</td>\n",
       "      <td>0</td>\n",
       "      <td>0</td>\n",
       "      <td>0</td>\n",
       "      <td>0</td>\n",
       "    </tr>\n",
       "    <tr>\n",
       "      <th>4</th>\n",
       "      <td>4</td>\n",
       "      <td>01009</td>\n",
       "      <td>0.0</td>\n",
       "      <td>0.0</td>\n",
       "      <td>0.0</td>\n",
       "      <td>0.0</td>\n",
       "      <td>0.0</td>\n",
       "      <td>0.0</td>\n",
       "      <td>0.0</td>\n",
       "      <td>0.0</td>\n",
       "      <td>...</td>\n",
       "      <td>0</td>\n",
       "      <td>0</td>\n",
       "      <td>0</td>\n",
       "      <td>0</td>\n",
       "      <td>0</td>\n",
       "      <td>0</td>\n",
       "      <td>0</td>\n",
       "      <td>0</td>\n",
       "      <td>0</td>\n",
       "      <td>0</td>\n",
       "    </tr>\n",
       "    <tr>\n",
       "      <th>...</th>\n",
       "      <td>...</td>\n",
       "      <td>...</td>\n",
       "      <td>...</td>\n",
       "      <td>...</td>\n",
       "      <td>...</td>\n",
       "      <td>...</td>\n",
       "      <td>...</td>\n",
       "      <td>...</td>\n",
       "      <td>...</td>\n",
       "      <td>...</td>\n",
       "      <td>...</td>\n",
       "      <td>...</td>\n",
       "      <td>...</td>\n",
       "      <td>...</td>\n",
       "      <td>...</td>\n",
       "      <td>...</td>\n",
       "      <td>...</td>\n",
       "      <td>...</td>\n",
       "      <td>...</td>\n",
       "      <td>...</td>\n",
       "      <td>...</td>\n",
       "    </tr>\n",
       "    <tr>\n",
       "      <th>3138</th>\n",
       "      <td>3138</td>\n",
       "      <td>56039</td>\n",
       "      <td>0.0</td>\n",
       "      <td>0.0</td>\n",
       "      <td>0.0</td>\n",
       "      <td>0.0</td>\n",
       "      <td>0.0</td>\n",
       "      <td>0.0</td>\n",
       "      <td>0.0</td>\n",
       "      <td>0.0</td>\n",
       "      <td>...</td>\n",
       "      <td>1</td>\n",
       "      <td>1</td>\n",
       "      <td>1</td>\n",
       "      <td>1</td>\n",
       "      <td>1</td>\n",
       "      <td>1</td>\n",
       "      <td>1</td>\n",
       "      <td>1</td>\n",
       "      <td>1</td>\n",
       "      <td>1</td>\n",
       "    </tr>\n",
       "    <tr>\n",
       "      <th>3139</th>\n",
       "      <td>3139</td>\n",
       "      <td>56041</td>\n",
       "      <td>0.0</td>\n",
       "      <td>0.0</td>\n",
       "      <td>0.0</td>\n",
       "      <td>0.0</td>\n",
       "      <td>0.0</td>\n",
       "      <td>0.0</td>\n",
       "      <td>0.0</td>\n",
       "      <td>0.0</td>\n",
       "      <td>...</td>\n",
       "      <td>0</td>\n",
       "      <td>0</td>\n",
       "      <td>0</td>\n",
       "      <td>0</td>\n",
       "      <td>0</td>\n",
       "      <td>0</td>\n",
       "      <td>0</td>\n",
       "      <td>0</td>\n",
       "      <td>0</td>\n",
       "      <td>0</td>\n",
       "    </tr>\n",
       "    <tr>\n",
       "      <th>3140</th>\n",
       "      <td>3140</td>\n",
       "      <td>56043</td>\n",
       "      <td>0.0</td>\n",
       "      <td>0.0</td>\n",
       "      <td>0.0</td>\n",
       "      <td>0.0</td>\n",
       "      <td>0.0</td>\n",
       "      <td>0.0</td>\n",
       "      <td>0.0</td>\n",
       "      <td>0.0</td>\n",
       "      <td>...</td>\n",
       "      <td>0</td>\n",
       "      <td>0</td>\n",
       "      <td>0</td>\n",
       "      <td>0</td>\n",
       "      <td>0</td>\n",
       "      <td>0</td>\n",
       "      <td>0</td>\n",
       "      <td>0</td>\n",
       "      <td>0</td>\n",
       "      <td>0</td>\n",
       "    </tr>\n",
       "    <tr>\n",
       "      <th>3141</th>\n",
       "      <td>3141</td>\n",
       "      <td>56045</td>\n",
       "      <td>0.0</td>\n",
       "      <td>0.0</td>\n",
       "      <td>0.0</td>\n",
       "      <td>0.0</td>\n",
       "      <td>0.0</td>\n",
       "      <td>0.0</td>\n",
       "      <td>0.0</td>\n",
       "      <td>0.0</td>\n",
       "      <td>...</td>\n",
       "      <td>0</td>\n",
       "      <td>0</td>\n",
       "      <td>0</td>\n",
       "      <td>0</td>\n",
       "      <td>0</td>\n",
       "      <td>0</td>\n",
       "      <td>0</td>\n",
       "      <td>0</td>\n",
       "      <td>0</td>\n",
       "      <td>0</td>\n",
       "    </tr>\n",
       "    <tr>\n",
       "      <th>3142</th>\n",
       "      <td>3142</td>\n",
       "      <td>66010</td>\n",
       "      <td>0.0</td>\n",
       "      <td>0.0</td>\n",
       "      <td>0.0</td>\n",
       "      <td>0.0</td>\n",
       "      <td>0.0</td>\n",
       "      <td>0.0</td>\n",
       "      <td>0.0</td>\n",
       "      <td>0.0</td>\n",
       "      <td>...</td>\n",
       "      <td>6</td>\n",
       "      <td>6</td>\n",
       "      <td>6</td>\n",
       "      <td>6</td>\n",
       "      <td>6</td>\n",
       "      <td>6</td>\n",
       "      <td>6</td>\n",
       "      <td>6</td>\n",
       "      <td>6</td>\n",
       "      <td>6</td>\n",
       "    </tr>\n",
       "  </tbody>\n",
       "</table>\n",
       "<p>3143 rows × 107 columns</p>\n",
       "</div>"
      ],
      "text/plain": [
       "      Unnamed: 0   FIPS  1/22/20  1/23/20  1/24/20  1/25/20  1/26/20  1/27/20  \\\n",
       "0              0  01001      0.0      0.0      0.0      0.0      0.0      0.0   \n",
       "1              1  01003      0.0      0.0      0.0      0.0      0.0      0.0   \n",
       "2              2  01005      0.0      0.0      0.0      0.0      0.0      0.0   \n",
       "3              3  01007      0.0      0.0      0.0      0.0      0.0      0.0   \n",
       "4              4  01009      0.0      0.0      0.0      0.0      0.0      0.0   \n",
       "...          ...    ...      ...      ...      ...      ...      ...      ...   \n",
       "3138        3138  56039      0.0      0.0      0.0      0.0      0.0      0.0   \n",
       "3139        3139  56041      0.0      0.0      0.0      0.0      0.0      0.0   \n",
       "3140        3140  56043      0.0      0.0      0.0      0.0      0.0      0.0   \n",
       "3141        3141  56045      0.0      0.0      0.0      0.0      0.0      0.0   \n",
       "3142        3142  66010      0.0      0.0      0.0      0.0      0.0      0.0   \n",
       "\n",
       "      1/28/20  1/29/20  ...  4/26/20  4/27/20  4/28/20  4/29/20  4/30/20  \\\n",
       "0         0.0      0.0  ...        2        3        4        4        4   \n",
       "1         0.0      0.0  ...        3        3        3        2        3   \n",
       "2         0.0      0.0  ...        0        0        0        1        1   \n",
       "3         0.0      0.0  ...        0        0        0        0        0   \n",
       "4         0.0      0.0  ...        0        0        0        0        0   \n",
       "...       ...      ...  ...      ...      ...      ...      ...      ...   \n",
       "3138      0.0      0.0  ...        1        1        1        1        1   \n",
       "3139      0.0      0.0  ...        0        0        0        0        0   \n",
       "3140      0.0      0.0  ...        0        0        0        0        0   \n",
       "3141      0.0      0.0  ...        0        0        0        0        0   \n",
       "3142      0.0      0.0  ...        6        6        6        6        6   \n",
       "\n",
       "      5/1/20  5/2/20  5/3/20  5/4/20  5/5/20  \n",
       "0          3       3       3       3       3  \n",
       "1          4       4       4       4       5  \n",
       "2          1       1       1       1       1  \n",
       "3          0       0       0       0       0  \n",
       "4          0       0       0       0       0  \n",
       "...      ...     ...     ...     ...     ...  \n",
       "3138       1       1       1       1       1  \n",
       "3139       0       0       0       0       0  \n",
       "3140       0       0       0       0       0  \n",
       "3141       0       0       0       0       0  \n",
       "3142       6       6       6       6       6  \n",
       "\n",
       "[3143 rows x 107 columns]"
      ]
     },
     "execution_count": 131,
     "metadata": {},
     "output_type": "execute_result"
    }
   ],
   "source": [
    "df = u.load_nyt_deaths_raw()"
   ]
  },
  {
   "cell_type": "code",
   "execution_count": 138,
   "metadata": {},
   "outputs": [
    {
     "name": "stdout",
     "output_type": "stream",
     "text": [
      "2020-05-05 00:00:00\n"
     ]
    }
   ],
   "source": [
    "p = dt.datetime.strptime(df.columns[-1], '%m/%d/%y')\n",
    "print(p)"
   ]
  },
  {
   "cell_type": "code",
   "execution_count": null,
   "metadata": {},
   "outputs": [],
   "source": []
  }
 ],
 "metadata": {
  "kernelspec": {
   "display_name": "Python 3",
   "language": "python",
   "name": "python3"
  },
  "language_info": {
   "codemirror_mode": {
    "name": "ipython",
    "version": 3
   },
   "file_extension": ".py",
   "mimetype": "text/x-python",
   "name": "python",
   "nbconvert_exporter": "python",
   "pygments_lexer": "ipython3",
   "version": "3.8.2"
  }
 },
 "nbformat": 4,
 "nbformat_minor": 4
}
