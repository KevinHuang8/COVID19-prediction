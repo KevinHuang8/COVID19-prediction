{
 "cells": [
  {
   "cell_type": "code",
   "execution_count": 1,
   "metadata": {
    "scrolled": true
   },
   "outputs": [
    {
     "name": "stderr",
     "output_type": "stream",
     "text": [
      "Using TensorFlow backend.\n"
     ]
    },
    {
     "data": {
      "text/plain": [
       "<module 'dataloader' from '..\\\\dataloader.py'>"
      ]
     },
     "execution_count": 1,
     "metadata": {},
     "output_type": "execute_result"
    }
   ],
   "source": [
    "import sys\n",
    "sys.path.append('../')\n",
    "import numpy as np\n",
    "import importlib\n",
    "import dataloader as u\n",
    "from sklearn.metrics import mean_squared_error\n",
    "import matplotlib.pyplot as plt\n",
    "import keras\n",
    "import tensorflow as tf\n",
    "from tensorflow.keras.models import Model, Sequential, load_model\n",
    "from tensorflow.keras.layers import Embedding, LSTM, Dense, TimeDistributed, Activation, Dropout, Input\n",
    "from tensorflow.keras.regularizers import L1L2\n",
    "import tensorflow.keras.backend as K\n",
    "import pipeline as p\n",
    "from tensorflow.keras.optimizers import Adam\n",
    "import data\n",
    "import models\n",
    "\n",
    "importlib.reload(models)\n",
    "importlib.reload(data)\n",
    "importlib.reload(p)\n",
    "importlib.reload(u)"
   ]
  },
  {
   "cell_type": "code",
   "execution_count": 2,
   "metadata": {},
   "outputs": [],
   "source": [
    "gpus = tf.config.list_physical_devices('GPU')\n",
    "if gpus:\n",
    "    try:\n",
    "        for gpu in gpus:\n",
    "            tf.config.experimental.set_memory_growth(gpu, True)\n",
    "\n",
    "    except RuntimeError as e:\n",
    "        print(e)"
   ]
  },
  {
   "cell_type": "code",
   "execution_count": 3,
   "metadata": {},
   "outputs": [],
   "source": [
    "datadict = u.load_covid_timeseries(smoothing=5, cases_cutoff=5)"
   ]
  },
  {
   "cell_type": "code",
   "execution_count": 217,
   "metadata": {},
   "outputs": [],
   "source": [
    "time_features = [\n",
    "#     {\n",
    "#         'name': 'cases_calibrated_smoothed',\n",
    "#         'norm': False,\n",
    "#         'diff_order': 1,\n",
    "#         'target': True\n",
    "#     },\n",
    "    {\n",
    "        'name': 'deaths_calibrated_smoothed',\n",
    "        'norm': False,\n",
    "        'diff_order': 1,\n",
    "        'target': True\n",
    "    },\n",
    "]\n",
    "dformat = {'time_features': time_features, 'time_context': False}\n",
    "\n",
    "loader_args = {'smoothing': 5, 'cases_cutoff': 0, 'log': True}"
   ]
  },
  {
   "cell_type": "code",
   "execution_count": 242,
   "metadata": {},
   "outputs": [],
   "source": [
    "opt = Adam(lr=0.00001, beta_1=0.9, beta_2=0.999, decay=0.01)\n",
    "\n",
    "model_params = {\n",
    "    'name': 'standard_LSTM',\n",
    "    'lag_features': 14,\n",
    "    'prediction_horizon': 14,\n",
    "    'dropout': 0.1,\n",
    "    'quantiles': 9,\n",
    "    'loss': 'mse',\n",
    "    'units': 16,\n",
    "    'layers': 1,\n",
    "    'optimizer': opt,\n",
    "    'reg': (0, 0)\n",
    "}\n",
    "\n",
    "training_params = {\n",
    "    'val_steps': 1,\n",
    "    'predict_time': 0,\n",
    "    'epochs': 50,\n",
    "    'batch_size': 512,\n",
    "    'verbose': 2,\n",
    "    'dense': False,\n",
    "}\n",
    "\n",
    "horizon=14"
   ]
  },
  {
   "cell_type": "code",
   "execution_count": 243,
   "metadata": {},
   "outputs": [
    {
     "data": {
      "text/plain": [
       "<module 'models' from '..\\\\models.py'>"
      ]
     },
     "execution_count": 243,
     "metadata": {},
     "output_type": "execute_result"
    }
   ],
   "source": [
    "importlib.reload(data)\n",
    "importlib.reload(p)\n",
    "importlib.reload(u)\n",
    "importlib.reload(models)"
   ]
  },
  {
   "cell_type": "code",
   "execution_count": 244,
   "metadata": {
    "scrolled": true
   },
   "outputs": [
    {
     "name": "stdout",
     "output_type": "stream",
     "text": [
      "WARNING:tensorflow:Layer lstm_40 will not use cuDNN kernel since it doesn't meet the cuDNN kernel criteria. It will use generic GPU kernel as fallback when running on GPU\n"
     ]
    }
   ],
   "source": [
    "pipeline = p.Pipeline(dformat, model_params, training_params, horizon, loader_args)"
   ]
  },
  {
   "cell_type": "code",
   "execution_count": 245,
   "metadata": {},
   "outputs": [
    {
     "name": "stdout",
     "output_type": "stream",
     "text": [
      "(16600, 14, 2) (16600, 14, 2) (1794, 14, 2) (1794, 14, 2)\n"
     ]
    }
   ],
   "source": [
    "print(pipeline.X_train.shape, pipeline.y_train.shape, pipeline.X_test.shape, pipeline.y_test.shape)"
   ]
  },
  {
   "cell_type": "code",
   "execution_count": 246,
   "metadata": {
    "scrolled": true
   },
   "outputs": [
    {
     "name": "stdout",
     "output_type": "stream",
     "text": [
      "Epoch 1/50\n",
      "33/33 - 1s - loss: 0.1337 - time_distributed_102_loss: 0.0309 - time_distributed_103_loss: 0.0225 - time_distributed_104_loss: 0.0154 - time_distributed_105_loss: 0.0123 - time_distributed_106_loss: 0.0152 - time_distributed_107_loss: 0.0140 - time_distributed_108_loss: 0.0088 - time_distributed_109_loss: 0.0051 - time_distributed_110_loss: 0.0095 - val_loss: 0.0847 - val_time_distributed_102_loss: 0.0189 - val_time_distributed_103_loss: 0.0145 - val_time_distributed_104_loss: 0.0097 - val_time_distributed_105_loss: 0.0077 - val_time_distributed_106_loss: 0.0089 - val_time_distributed_107_loss: 0.0086 - val_time_distributed_108_loss: 0.0061 - val_time_distributed_109_loss: 0.0032 - val_time_distributed_110_loss: 0.0071\n",
      "Epoch 2/50\n",
      "33/33 - 1s - loss: 0.1320 - time_distributed_102_loss: 0.0304 - time_distributed_103_loss: 0.0222 - time_distributed_104_loss: 0.0153 - time_distributed_105_loss: 0.0123 - time_distributed_106_loss: 0.0150 - time_distributed_107_loss: 0.0138 - time_distributed_108_loss: 0.0087 - time_distributed_109_loss: 0.0051 - time_distributed_110_loss: 0.0092 - val_loss: 0.0832 - val_time_distributed_102_loss: 0.0185 - val_time_distributed_103_loss: 0.0142 - val_time_distributed_104_loss: 0.0096 - val_time_distributed_105_loss: 0.0076 - val_time_distributed_106_loss: 0.0087 - val_time_distributed_107_loss: 0.0085 - val_time_distributed_108_loss: 0.0060 - val_time_distributed_109_loss: 0.0031 - val_time_distributed_110_loss: 0.0068\n",
      "Epoch 3/50\n",
      "33/33 - 1s - loss: 0.1306 - time_distributed_102_loss: 0.0301 - time_distributed_103_loss: 0.0220 - time_distributed_104_loss: 0.0152 - time_distributed_105_loss: 0.0123 - time_distributed_106_loss: 0.0148 - time_distributed_107_loss: 0.0137 - time_distributed_108_loss: 0.0086 - time_distributed_109_loss: 0.0051 - time_distributed_110_loss: 0.0090 - val_loss: 0.0821 - val_time_distributed_102_loss: 0.0182 - val_time_distributed_103_loss: 0.0140 - val_time_distributed_104_loss: 0.0095 - val_time_distributed_105_loss: 0.0076 - val_time_distributed_106_loss: 0.0086 - val_time_distributed_107_loss: 0.0084 - val_time_distributed_108_loss: 0.0059 - val_time_distributed_109_loss: 0.0031 - val_time_distributed_110_loss: 0.0066\n",
      "Epoch 4/50\n",
      "33/33 - 1s - loss: 0.1294 - time_distributed_102_loss: 0.0297 - time_distributed_103_loss: 0.0218 - time_distributed_104_loss: 0.0151 - time_distributed_105_loss: 0.0123 - time_distributed_106_loss: 0.0147 - time_distributed_107_loss: 0.0136 - time_distributed_108_loss: 0.0085 - time_distributed_109_loss: 0.0050 - time_distributed_110_loss: 0.0088 - val_loss: 0.0811 - val_time_distributed_102_loss: 0.0180 - val_time_distributed_103_loss: 0.0139 - val_time_distributed_104_loss: 0.0095 - val_time_distributed_105_loss: 0.0076 - val_time_distributed_106_loss: 0.0085 - val_time_distributed_107_loss: 0.0083 - val_time_distributed_108_loss: 0.0058 - val_time_distributed_109_loss: 0.0031 - val_time_distributed_110_loss: 0.0064\n",
      "Epoch 5/50\n",
      "33/33 - 1s - loss: 0.1284 - time_distributed_102_loss: 0.0295 - time_distributed_103_loss: 0.0216 - time_distributed_104_loss: 0.0150 - time_distributed_105_loss: 0.0122 - time_distributed_106_loss: 0.0145 - time_distributed_107_loss: 0.0135 - time_distributed_108_loss: 0.0084 - time_distributed_109_loss: 0.0050 - time_distributed_110_loss: 0.0086 - val_loss: 0.0803 - val_time_distributed_102_loss: 0.0178 - val_time_distributed_103_loss: 0.0137 - val_time_distributed_104_loss: 0.0094 - val_time_distributed_105_loss: 0.0076 - val_time_distributed_106_loss: 0.0084 - val_time_distributed_107_loss: 0.0083 - val_time_distributed_108_loss: 0.0057 - val_time_distributed_109_loss: 0.0031 - val_time_distributed_110_loss: 0.0063\n",
      "Epoch 6/50\n",
      "33/33 - 1s - loss: 0.1279 - time_distributed_102_loss: 0.0293 - time_distributed_103_loss: 0.0215 - time_distributed_104_loss: 0.0150 - time_distributed_105_loss: 0.0123 - time_distributed_106_loss: 0.0145 - time_distributed_107_loss: 0.0134 - time_distributed_108_loss: 0.0083 - time_distributed_109_loss: 0.0050 - time_distributed_110_loss: 0.0085 - val_loss: 0.0796 - val_time_distributed_102_loss: 0.0176 - val_time_distributed_103_loss: 0.0136 - val_time_distributed_104_loss: 0.0094 - val_time_distributed_105_loss: 0.0076 - val_time_distributed_106_loss: 0.0083 - val_time_distributed_107_loss: 0.0082 - val_time_distributed_108_loss: 0.0057 - val_time_distributed_109_loss: 0.0031 - val_time_distributed_110_loss: 0.0062\n",
      "Epoch 7/50\n",
      "33/33 - 1s - loss: 0.1270 - time_distributed_102_loss: 0.0291 - time_distributed_103_loss: 0.0214 - time_distributed_104_loss: 0.0149 - time_distributed_105_loss: 0.0122 - time_distributed_106_loss: 0.0144 - time_distributed_107_loss: 0.0133 - time_distributed_108_loss: 0.0083 - time_distributed_109_loss: 0.0050 - time_distributed_110_loss: 0.0083 - val_loss: 0.0790 - val_time_distributed_102_loss: 0.0174 - val_time_distributed_103_loss: 0.0135 - val_time_distributed_104_loss: 0.0093 - val_time_distributed_105_loss: 0.0076 - val_time_distributed_106_loss: 0.0082 - val_time_distributed_107_loss: 0.0082 - val_time_distributed_108_loss: 0.0056 - val_time_distributed_109_loss: 0.0031 - val_time_distributed_110_loss: 0.0060\n",
      "Epoch 8/50\n",
      "33/33 - 1s - loss: 0.1264 - time_distributed_102_loss: 0.0289 - time_distributed_103_loss: 0.0213 - time_distributed_104_loss: 0.0149 - time_distributed_105_loss: 0.0122 - time_distributed_106_loss: 0.0143 - time_distributed_107_loss: 0.0133 - time_distributed_108_loss: 0.0082 - time_distributed_109_loss: 0.0050 - time_distributed_110_loss: 0.0082 - val_loss: 0.0785 - val_time_distributed_102_loss: 0.0173 - val_time_distributed_103_loss: 0.0134 - val_time_distributed_104_loss: 0.0093 - val_time_distributed_105_loss: 0.0076 - val_time_distributed_106_loss: 0.0082 - val_time_distributed_107_loss: 0.0081 - val_time_distributed_108_loss: 0.0055 - val_time_distributed_109_loss: 0.0031 - val_time_distributed_110_loss: 0.0059\n",
      "Epoch 9/50\n",
      "33/33 - 1s - loss: 0.1259 - time_distributed_102_loss: 0.0288 - time_distributed_103_loss: 0.0212 - time_distributed_104_loss: 0.0148 - time_distributed_105_loss: 0.0122 - time_distributed_106_loss: 0.0142 - time_distributed_107_loss: 0.0132 - time_distributed_108_loss: 0.0082 - time_distributed_109_loss: 0.0050 - time_distributed_110_loss: 0.0082 - val_loss: 0.0780 - val_time_distributed_102_loss: 0.0171 - val_time_distributed_103_loss: 0.0133 - val_time_distributed_104_loss: 0.0092 - val_time_distributed_105_loss: 0.0076 - val_time_distributed_106_loss: 0.0081 - val_time_distributed_107_loss: 0.0081 - val_time_distributed_108_loss: 0.0055 - val_time_distributed_109_loss: 0.0031 - val_time_distributed_110_loss: 0.0059\n",
      "Epoch 10/50\n",
      "33/33 - 1s - loss: 0.1253 - time_distributed_102_loss: 0.0287 - time_distributed_103_loss: 0.0211 - time_distributed_104_loss: 0.0148 - time_distributed_105_loss: 0.0122 - time_distributed_106_loss: 0.0142 - time_distributed_107_loss: 0.0132 - time_distributed_108_loss: 0.0081 - time_distributed_109_loss: 0.0050 - time_distributed_110_loss: 0.0081 - val_loss: 0.0776 - val_time_distributed_102_loss: 0.0170 - val_time_distributed_103_loss: 0.0132 - val_time_distributed_104_loss: 0.0092 - val_time_distributed_105_loss: 0.0076 - val_time_distributed_106_loss: 0.0081 - val_time_distributed_107_loss: 0.0081 - val_time_distributed_108_loss: 0.0055 - val_time_distributed_109_loss: 0.0031 - val_time_distributed_110_loss: 0.0058\n",
      "Epoch 11/50\n",
      "33/33 - 1s - loss: 0.1249 - time_distributed_102_loss: 0.0285 - time_distributed_103_loss: 0.0210 - time_distributed_104_loss: 0.0148 - time_distributed_105_loss: 0.0122 - time_distributed_106_loss: 0.0141 - time_distributed_107_loss: 0.0132 - time_distributed_108_loss: 0.0081 - time_distributed_109_loss: 0.0050 - time_distributed_110_loss: 0.0080 - val_loss: 0.0772 - val_time_distributed_102_loss: 0.0169 - val_time_distributed_103_loss: 0.0132 - val_time_distributed_104_loss: 0.0092 - val_time_distributed_105_loss: 0.0076 - val_time_distributed_106_loss: 0.0080 - val_time_distributed_107_loss: 0.0080 - val_time_distributed_108_loss: 0.0054 - val_time_distributed_109_loss: 0.0031 - val_time_distributed_110_loss: 0.0057\n",
      "Epoch 12/50\n",
      "33/33 - 1s - loss: 0.1243 - time_distributed_102_loss: 0.0284 - time_distributed_103_loss: 0.0209 - time_distributed_104_loss: 0.0147 - time_distributed_105_loss: 0.0122 - time_distributed_106_loss: 0.0140 - time_distributed_107_loss: 0.0131 - time_distributed_108_loss: 0.0081 - time_distributed_109_loss: 0.0050 - time_distributed_110_loss: 0.0079 - val_loss: 0.0768 - val_time_distributed_102_loss: 0.0168 - val_time_distributed_103_loss: 0.0131 - val_time_distributed_104_loss: 0.0092 - val_time_distributed_105_loss: 0.0076 - val_time_distributed_106_loss: 0.0080 - val_time_distributed_107_loss: 0.0080 - val_time_distributed_108_loss: 0.0054 - val_time_distributed_109_loss: 0.0031 - val_time_distributed_110_loss: 0.0056\n"
     ]
    },
    {
     "name": "stdout",
     "output_type": "stream",
     "text": [
      "Epoch 13/50\n",
      "33/33 - 1s - loss: 0.1238 - time_distributed_102_loss: 0.0283 - time_distributed_103_loss: 0.0208 - time_distributed_104_loss: 0.0147 - time_distributed_105_loss: 0.0122 - time_distributed_106_loss: 0.0140 - time_distributed_107_loss: 0.0131 - time_distributed_108_loss: 0.0080 - time_distributed_109_loss: 0.0050 - time_distributed_110_loss: 0.0078 - val_loss: 0.0765 - val_time_distributed_102_loss: 0.0167 - val_time_distributed_103_loss: 0.0130 - val_time_distributed_104_loss: 0.0091 - val_time_distributed_105_loss: 0.0076 - val_time_distributed_106_loss: 0.0079 - val_time_distributed_107_loss: 0.0080 - val_time_distributed_108_loss: 0.0054 - val_time_distributed_109_loss: 0.0031 - val_time_distributed_110_loss: 0.0056\n",
      "Epoch 14/50\n",
      "33/33 - 1s - loss: 0.1236 - time_distributed_102_loss: 0.0282 - time_distributed_103_loss: 0.0208 - time_distributed_104_loss: 0.0147 - time_distributed_105_loss: 0.0122 - time_distributed_106_loss: 0.0140 - time_distributed_107_loss: 0.0130 - time_distributed_108_loss: 0.0080 - time_distributed_109_loss: 0.0050 - time_distributed_110_loss: 0.0078 - val_loss: 0.0761 - val_time_distributed_102_loss: 0.0166 - val_time_distributed_103_loss: 0.0130 - val_time_distributed_104_loss: 0.0091 - val_time_distributed_105_loss: 0.0076 - val_time_distributed_106_loss: 0.0079 - val_time_distributed_107_loss: 0.0079 - val_time_distributed_108_loss: 0.0053 - val_time_distributed_109_loss: 0.0031 - val_time_distributed_110_loss: 0.0055\n",
      "Epoch 15/50\n",
      "33/33 - 1s - loss: 0.1232 - time_distributed_102_loss: 0.0281 - time_distributed_103_loss: 0.0207 - time_distributed_104_loss: 0.0146 - time_distributed_105_loss: 0.0122 - time_distributed_106_loss: 0.0139 - time_distributed_107_loss: 0.0130 - time_distributed_108_loss: 0.0080 - time_distributed_109_loss: 0.0050 - time_distributed_110_loss: 0.0077 - val_loss: 0.0758 - val_time_distributed_102_loss: 0.0166 - val_time_distributed_103_loss: 0.0129 - val_time_distributed_104_loss: 0.0091 - val_time_distributed_105_loss: 0.0076 - val_time_distributed_106_loss: 0.0079 - val_time_distributed_107_loss: 0.0079 - val_time_distributed_108_loss: 0.0053 - val_time_distributed_109_loss: 0.0031 - val_time_distributed_110_loss: 0.0055\n",
      "Epoch 16/50\n",
      "33/33 - 1s - loss: 0.1228 - time_distributed_102_loss: 0.0280 - time_distributed_103_loss: 0.0206 - time_distributed_104_loss: 0.0146 - time_distributed_105_loss: 0.0122 - time_distributed_106_loss: 0.0139 - time_distributed_107_loss: 0.0130 - time_distributed_108_loss: 0.0079 - time_distributed_109_loss: 0.0050 - time_distributed_110_loss: 0.0077 - val_loss: 0.0756 - val_time_distributed_102_loss: 0.0165 - val_time_distributed_103_loss: 0.0129 - val_time_distributed_104_loss: 0.0091 - val_time_distributed_105_loss: 0.0076 - val_time_distributed_106_loss: 0.0078 - val_time_distributed_107_loss: 0.0079 - val_time_distributed_108_loss: 0.0053 - val_time_distributed_109_loss: 0.0031 - val_time_distributed_110_loss: 0.0054\n",
      "Epoch 17/50\n",
      "33/33 - 1s - loss: 0.1225 - time_distributed_102_loss: 0.0279 - time_distributed_103_loss: 0.0206 - time_distributed_104_loss: 0.0146 - time_distributed_105_loss: 0.0122 - time_distributed_106_loss: 0.0138 - time_distributed_107_loss: 0.0129 - time_distributed_108_loss: 0.0079 - time_distributed_109_loss: 0.0050 - time_distributed_110_loss: 0.0076 - val_loss: 0.0753 - val_time_distributed_102_loss: 0.0164 - val_time_distributed_103_loss: 0.0128 - val_time_distributed_104_loss: 0.0091 - val_time_distributed_105_loss: 0.0076 - val_time_distributed_106_loss: 0.0078 - val_time_distributed_107_loss: 0.0079 - val_time_distributed_108_loss: 0.0052 - val_time_distributed_109_loss: 0.0031 - val_time_distributed_110_loss: 0.0054\n",
      "Epoch 18/50\n",
      "33/33 - 1s - loss: 0.1222 - time_distributed_102_loss: 0.0278 - time_distributed_103_loss: 0.0205 - time_distributed_104_loss: 0.0145 - time_distributed_105_loss: 0.0122 - time_distributed_106_loss: 0.0138 - time_distributed_107_loss: 0.0129 - time_distributed_108_loss: 0.0079 - time_distributed_109_loss: 0.0050 - time_distributed_110_loss: 0.0076 - val_loss: 0.0751 - val_time_distributed_102_loss: 0.0164 - val_time_distributed_103_loss: 0.0128 - val_time_distributed_104_loss: 0.0090 - val_time_distributed_105_loss: 0.0076 - val_time_distributed_106_loss: 0.0078 - val_time_distributed_107_loss: 0.0079 - val_time_distributed_108_loss: 0.0052 - val_time_distributed_109_loss: 0.0031 - val_time_distributed_110_loss: 0.0053\n",
      "Epoch 19/50\n",
      "33/33 - 1s - loss: 0.1219 - time_distributed_102_loss: 0.0278 - time_distributed_103_loss: 0.0205 - time_distributed_104_loss: 0.0145 - time_distributed_105_loss: 0.0122 - time_distributed_106_loss: 0.0137 - time_distributed_107_loss: 0.0129 - time_distributed_108_loss: 0.0079 - time_distributed_109_loss: 0.0050 - time_distributed_110_loss: 0.0075 - val_loss: 0.0748 - val_time_distributed_102_loss: 0.0163 - val_time_distributed_103_loss: 0.0127 - val_time_distributed_104_loss: 0.0090 - val_time_distributed_105_loss: 0.0076 - val_time_distributed_106_loss: 0.0078 - val_time_distributed_107_loss: 0.0078 - val_time_distributed_108_loss: 0.0052 - val_time_distributed_109_loss: 0.0031 - val_time_distributed_110_loss: 0.0053\n",
      "Epoch 20/50\n",
      "33/33 - 1s - loss: 0.1217 - time_distributed_102_loss: 0.0277 - time_distributed_103_loss: 0.0204 - time_distributed_104_loss: 0.0145 - time_distributed_105_loss: 0.0122 - time_distributed_106_loss: 0.0137 - time_distributed_107_loss: 0.0129 - time_distributed_108_loss: 0.0079 - time_distributed_109_loss: 0.0050 - time_distributed_110_loss: 0.0075 - val_loss: 0.0746 - val_time_distributed_102_loss: 0.0162 - val_time_distributed_103_loss: 0.0127 - val_time_distributed_104_loss: 0.0090 - val_time_distributed_105_loss: 0.0076 - val_time_distributed_106_loss: 0.0077 - val_time_distributed_107_loss: 0.0078 - val_time_distributed_108_loss: 0.0052 - val_time_distributed_109_loss: 0.0031 - val_time_distributed_110_loss: 0.0052\n",
      "Epoch 21/50\n",
      "33/33 - 1s - loss: 0.1215 - time_distributed_102_loss: 0.0276 - time_distributed_103_loss: 0.0204 - time_distributed_104_loss: 0.0145 - time_distributed_105_loss: 0.0122 - time_distributed_106_loss: 0.0137 - time_distributed_107_loss: 0.0129 - time_distributed_108_loss: 0.0078 - time_distributed_109_loss: 0.0050 - time_distributed_110_loss: 0.0075 - val_loss: 0.0744 - val_time_distributed_102_loss: 0.0162 - val_time_distributed_103_loss: 0.0126 - val_time_distributed_104_loss: 0.0090 - val_time_distributed_105_loss: 0.0076 - val_time_distributed_106_loss: 0.0077 - val_time_distributed_107_loss: 0.0078 - val_time_distributed_108_loss: 0.0052 - val_time_distributed_109_loss: 0.0031 - val_time_distributed_110_loss: 0.0052\n",
      "Epoch 22/50\n",
      "33/33 - 1s - loss: 0.1211 - time_distributed_102_loss: 0.0275 - time_distributed_103_loss: 0.0203 - time_distributed_104_loss: 0.0145 - time_distributed_105_loss: 0.0121 - time_distributed_106_loss: 0.0136 - time_distributed_107_loss: 0.0128 - time_distributed_108_loss: 0.0078 - time_distributed_109_loss: 0.0050 - time_distributed_110_loss: 0.0074 - val_loss: 0.0742 - val_time_distributed_102_loss: 0.0161 - val_time_distributed_103_loss: 0.0126 - val_time_distributed_104_loss: 0.0090 - val_time_distributed_105_loss: 0.0076 - val_time_distributed_106_loss: 0.0077 - val_time_distributed_107_loss: 0.0078 - val_time_distributed_108_loss: 0.0052 - val_time_distributed_109_loss: 0.0031 - val_time_distributed_110_loss: 0.0052\n",
      "Epoch 23/50\n",
      "33/33 - 1s - loss: 0.1210 - time_distributed_102_loss: 0.0275 - time_distributed_103_loss: 0.0203 - time_distributed_104_loss: 0.0144 - time_distributed_105_loss: 0.0121 - time_distributed_106_loss: 0.0136 - time_distributed_107_loss: 0.0128 - time_distributed_108_loss: 0.0078 - time_distributed_109_loss: 0.0050 - time_distributed_110_loss: 0.0074 - val_loss: 0.0740 - val_time_distributed_102_loss: 0.0161 - val_time_distributed_103_loss: 0.0125 - val_time_distributed_104_loss: 0.0090 - val_time_distributed_105_loss: 0.0076 - val_time_distributed_106_loss: 0.0077 - val_time_distributed_107_loss: 0.0078 - val_time_distributed_108_loss: 0.0051 - val_time_distributed_109_loss: 0.0031 - val_time_distributed_110_loss: 0.0051\n",
      "Epoch 24/50\n",
      "33/33 - 1s - loss: 0.1206 - time_distributed_102_loss: 0.0274 - time_distributed_103_loss: 0.0202 - time_distributed_104_loss: 0.0144 - time_distributed_105_loss: 0.0121 - time_distributed_106_loss: 0.0136 - time_distributed_107_loss: 0.0128 - time_distributed_108_loss: 0.0078 - time_distributed_109_loss: 0.0050 - time_distributed_110_loss: 0.0073 - val_loss: 0.0739 - val_time_distributed_102_loss: 0.0160 - val_time_distributed_103_loss: 0.0125 - val_time_distributed_104_loss: 0.0090 - val_time_distributed_105_loss: 0.0076 - val_time_distributed_106_loss: 0.0077 - val_time_distributed_107_loss: 0.0078 - val_time_distributed_108_loss: 0.0051 - val_time_distributed_109_loss: 0.0031 - val_time_distributed_110_loss: 0.0051\n"
     ]
    },
    {
     "name": "stdout",
     "output_type": "stream",
     "text": [
      "Epoch 25/50\n",
      "33/33 - 1s - loss: 0.1206 - time_distributed_102_loss: 0.0274 - time_distributed_103_loss: 0.0202 - time_distributed_104_loss: 0.0144 - time_distributed_105_loss: 0.0122 - time_distributed_106_loss: 0.0136 - time_distributed_107_loss: 0.0128 - time_distributed_108_loss: 0.0078 - time_distributed_109_loss: 0.0050 - time_distributed_110_loss: 0.0073 - val_loss: 0.0737 - val_time_distributed_102_loss: 0.0160 - val_time_distributed_103_loss: 0.0125 - val_time_distributed_104_loss: 0.0089 - val_time_distributed_105_loss: 0.0076 - val_time_distributed_106_loss: 0.0076 - val_time_distributed_107_loss: 0.0077 - val_time_distributed_108_loss: 0.0051 - val_time_distributed_109_loss: 0.0031 - val_time_distributed_110_loss: 0.0051\n",
      "Epoch 26/50\n",
      "33/33 - 1s - loss: 0.1203 - time_distributed_102_loss: 0.0273 - time_distributed_103_loss: 0.0202 - time_distributed_104_loss: 0.0144 - time_distributed_105_loss: 0.0121 - time_distributed_106_loss: 0.0136 - time_distributed_107_loss: 0.0128 - time_distributed_108_loss: 0.0078 - time_distributed_109_loss: 0.0050 - time_distributed_110_loss: 0.0073 - val_loss: 0.0735 - val_time_distributed_102_loss: 0.0159 - val_time_distributed_103_loss: 0.0124 - val_time_distributed_104_loss: 0.0089 - val_time_distributed_105_loss: 0.0076 - val_time_distributed_106_loss: 0.0076 - val_time_distributed_107_loss: 0.0077 - val_time_distributed_108_loss: 0.0051 - val_time_distributed_109_loss: 0.0031 - val_time_distributed_110_loss: 0.0050\n",
      "Epoch 27/50\n",
      "33/33 - 1s - loss: 0.1202 - time_distributed_102_loss: 0.0273 - time_distributed_103_loss: 0.0202 - time_distributed_104_loss: 0.0144 - time_distributed_105_loss: 0.0121 - time_distributed_106_loss: 0.0135 - time_distributed_107_loss: 0.0127 - time_distributed_108_loss: 0.0077 - time_distributed_109_loss: 0.0050 - time_distributed_110_loss: 0.0072 - val_loss: 0.0734 - val_time_distributed_102_loss: 0.0159 - val_time_distributed_103_loss: 0.0124 - val_time_distributed_104_loss: 0.0089 - val_time_distributed_105_loss: 0.0076 - val_time_distributed_106_loss: 0.0076 - val_time_distributed_107_loss: 0.0077 - val_time_distributed_108_loss: 0.0051 - val_time_distributed_109_loss: 0.0031 - val_time_distributed_110_loss: 0.0050\n",
      "Epoch 28/50\n",
      "33/33 - 1s - loss: 0.1202 - time_distributed_102_loss: 0.0273 - time_distributed_103_loss: 0.0201 - time_distributed_104_loss: 0.0144 - time_distributed_105_loss: 0.0122 - time_distributed_106_loss: 0.0135 - time_distributed_107_loss: 0.0127 - time_distributed_108_loss: 0.0077 - time_distributed_109_loss: 0.0050 - time_distributed_110_loss: 0.0072 - val_loss: 0.0732 - val_time_distributed_102_loss: 0.0159 - val_time_distributed_103_loss: 0.0124 - val_time_distributed_104_loss: 0.0089 - val_time_distributed_105_loss: 0.0076 - val_time_distributed_106_loss: 0.0076 - val_time_distributed_107_loss: 0.0077 - val_time_distributed_108_loss: 0.0051 - val_time_distributed_109_loss: 0.0031 - val_time_distributed_110_loss: 0.0050\n",
      "Epoch 29/50\n",
      "33/33 - 1s - loss: 0.1196 - time_distributed_102_loss: 0.0271 - time_distributed_103_loss: 0.0200 - time_distributed_104_loss: 0.0143 - time_distributed_105_loss: 0.0121 - time_distributed_106_loss: 0.0135 - time_distributed_107_loss: 0.0127 - time_distributed_108_loss: 0.0077 - time_distributed_109_loss: 0.0049 - time_distributed_110_loss: 0.0072 - val_loss: 0.0731 - val_time_distributed_102_loss: 0.0158 - val_time_distributed_103_loss: 0.0123 - val_time_distributed_104_loss: 0.0089 - val_time_distributed_105_loss: 0.0076 - val_time_distributed_106_loss: 0.0076 - val_time_distributed_107_loss: 0.0077 - val_time_distributed_108_loss: 0.0051 - val_time_distributed_109_loss: 0.0031 - val_time_distributed_110_loss: 0.0050\n",
      "Epoch 30/50\n",
      "33/33 - 1s - loss: 0.1195 - time_distributed_102_loss: 0.0271 - time_distributed_103_loss: 0.0200 - time_distributed_104_loss: 0.0143 - time_distributed_105_loss: 0.0121 - time_distributed_106_loss: 0.0135 - time_distributed_107_loss: 0.0127 - time_distributed_108_loss: 0.0077 - time_distributed_109_loss: 0.0050 - time_distributed_110_loss: 0.0071 - val_loss: 0.0729 - val_time_distributed_102_loss: 0.0158 - val_time_distributed_103_loss: 0.0123 - val_time_distributed_104_loss: 0.0089 - val_time_distributed_105_loss: 0.0076 - val_time_distributed_106_loss: 0.0076 - val_time_distributed_107_loss: 0.0077 - val_time_distributed_108_loss: 0.0050 - val_time_distributed_109_loss: 0.0031 - val_time_distributed_110_loss: 0.0049\n",
      "Epoch 31/50\n",
      "33/33 - 1s - loss: 0.1194 - time_distributed_102_loss: 0.0271 - time_distributed_103_loss: 0.0200 - time_distributed_104_loss: 0.0143 - time_distributed_105_loss: 0.0121 - time_distributed_106_loss: 0.0134 - time_distributed_107_loss: 0.0127 - time_distributed_108_loss: 0.0077 - time_distributed_109_loss: 0.0050 - time_distributed_110_loss: 0.0071 - val_loss: 0.0728 - val_time_distributed_102_loss: 0.0158 - val_time_distributed_103_loss: 0.0123 - val_time_distributed_104_loss: 0.0089 - val_time_distributed_105_loss: 0.0076 - val_time_distributed_106_loss: 0.0075 - val_time_distributed_107_loss: 0.0077 - val_time_distributed_108_loss: 0.0050 - val_time_distributed_109_loss: 0.0031 - val_time_distributed_110_loss: 0.0049\n",
      "Epoch 32/50\n",
      "33/33 - 1s - loss: 0.1193 - time_distributed_102_loss: 0.0271 - time_distributed_103_loss: 0.0200 - time_distributed_104_loss: 0.0143 - time_distributed_105_loss: 0.0121 - time_distributed_106_loss: 0.0134 - time_distributed_107_loss: 0.0127 - time_distributed_108_loss: 0.0077 - time_distributed_109_loss: 0.0050 - time_distributed_110_loss: 0.0071 - val_loss: 0.0727 - val_time_distributed_102_loss: 0.0157 - val_time_distributed_103_loss: 0.0123 - val_time_distributed_104_loss: 0.0089 - val_time_distributed_105_loss: 0.0076 - val_time_distributed_106_loss: 0.0075 - val_time_distributed_107_loss: 0.0077 - val_time_distributed_108_loss: 0.0050 - val_time_distributed_109_loss: 0.0031 - val_time_distributed_110_loss: 0.0049\n",
      "Epoch 33/50\n",
      "33/33 - 1s - loss: 0.1192 - time_distributed_102_loss: 0.0270 - time_distributed_103_loss: 0.0199 - time_distributed_104_loss: 0.0143 - time_distributed_105_loss: 0.0121 - time_distributed_106_loss: 0.0134 - time_distributed_107_loss: 0.0127 - time_distributed_108_loss: 0.0077 - time_distributed_109_loss: 0.0050 - time_distributed_110_loss: 0.0071 - val_loss: 0.0725 - val_time_distributed_102_loss: 0.0157 - val_time_distributed_103_loss: 0.0122 - val_time_distributed_104_loss: 0.0089 - val_time_distributed_105_loss: 0.0076 - val_time_distributed_106_loss: 0.0075 - val_time_distributed_107_loss: 0.0076 - val_time_distributed_108_loss: 0.0050 - val_time_distributed_109_loss: 0.0031 - val_time_distributed_110_loss: 0.0049\n",
      "Epoch 34/50\n",
      "33/33 - 1s - loss: 0.1190 - time_distributed_102_loss: 0.0270 - time_distributed_103_loss: 0.0199 - time_distributed_104_loss: 0.0143 - time_distributed_105_loss: 0.0121 - time_distributed_106_loss: 0.0134 - time_distributed_107_loss: 0.0126 - time_distributed_108_loss: 0.0077 - time_distributed_109_loss: 0.0050 - time_distributed_110_loss: 0.0071 - val_loss: 0.0724 - val_time_distributed_102_loss: 0.0157 - val_time_distributed_103_loss: 0.0122 - val_time_distributed_104_loss: 0.0088 - val_time_distributed_105_loss: 0.0076 - val_time_distributed_106_loss: 0.0075 - val_time_distributed_107_loss: 0.0076 - val_time_distributed_108_loss: 0.0050 - val_time_distributed_109_loss: 0.0031 - val_time_distributed_110_loss: 0.0048\n",
      "Epoch 35/50\n",
      "33/33 - 1s - loss: 0.1187 - time_distributed_102_loss: 0.0269 - time_distributed_103_loss: 0.0199 - time_distributed_104_loss: 0.0142 - time_distributed_105_loss: 0.0121 - time_distributed_106_loss: 0.0134 - time_distributed_107_loss: 0.0126 - time_distributed_108_loss: 0.0076 - time_distributed_109_loss: 0.0049 - time_distributed_110_loss: 0.0070 - val_loss: 0.0723 - val_time_distributed_102_loss: 0.0156 - val_time_distributed_103_loss: 0.0122 - val_time_distributed_104_loss: 0.0088 - val_time_distributed_105_loss: 0.0076 - val_time_distributed_106_loss: 0.0075 - val_time_distributed_107_loss: 0.0076 - val_time_distributed_108_loss: 0.0050 - val_time_distributed_109_loss: 0.0031 - val_time_distributed_110_loss: 0.0048\n",
      "Epoch 36/50\n",
      "33/33 - 1s - loss: 0.1188 - time_distributed_102_loss: 0.0269 - time_distributed_103_loss: 0.0199 - time_distributed_104_loss: 0.0143 - time_distributed_105_loss: 0.0121 - time_distributed_106_loss: 0.0134 - time_distributed_107_loss: 0.0126 - time_distributed_108_loss: 0.0076 - time_distributed_109_loss: 0.0050 - time_distributed_110_loss: 0.0070 - val_loss: 0.0722 - val_time_distributed_102_loss: 0.0156 - val_time_distributed_103_loss: 0.0122 - val_time_distributed_104_loss: 0.0088 - val_time_distributed_105_loss: 0.0076 - val_time_distributed_106_loss: 0.0075 - val_time_distributed_107_loss: 0.0076 - val_time_distributed_108_loss: 0.0050 - val_time_distributed_109_loss: 0.0031 - val_time_distributed_110_loss: 0.0048\n"
     ]
    },
    {
     "name": "stdout",
     "output_type": "stream",
     "text": [
      "Epoch 37/50\n",
      "33/33 - 1s - loss: 0.1185 - time_distributed_102_loss: 0.0269 - time_distributed_103_loss: 0.0198 - time_distributed_104_loss: 0.0142 - time_distributed_105_loss: 0.0121 - time_distributed_106_loss: 0.0133 - time_distributed_107_loss: 0.0126 - time_distributed_108_loss: 0.0076 - time_distributed_109_loss: 0.0049 - time_distributed_110_loss: 0.0070 - val_loss: 0.0721 - val_time_distributed_102_loss: 0.0156 - val_time_distributed_103_loss: 0.0121 - val_time_distributed_104_loss: 0.0088 - val_time_distributed_105_loss: 0.0076 - val_time_distributed_106_loss: 0.0075 - val_time_distributed_107_loss: 0.0076 - val_time_distributed_108_loss: 0.0050 - val_time_distributed_109_loss: 0.0031 - val_time_distributed_110_loss: 0.0048\n",
      "Epoch 38/50\n",
      "33/33 - 1s - loss: 0.1184 - time_distributed_102_loss: 0.0268 - time_distributed_103_loss: 0.0198 - time_distributed_104_loss: 0.0142 - time_distributed_105_loss: 0.0121 - time_distributed_106_loss: 0.0133 - time_distributed_107_loss: 0.0126 - time_distributed_108_loss: 0.0076 - time_distributed_109_loss: 0.0049 - time_distributed_110_loss: 0.0070 - val_loss: 0.0720 - val_time_distributed_102_loss: 0.0155 - val_time_distributed_103_loss: 0.0121 - val_time_distributed_104_loss: 0.0088 - val_time_distributed_105_loss: 0.0076 - val_time_distributed_106_loss: 0.0075 - val_time_distributed_107_loss: 0.0076 - val_time_distributed_108_loss: 0.0050 - val_time_distributed_109_loss: 0.0031 - val_time_distributed_110_loss: 0.0048\n",
      "Epoch 39/50\n",
      "33/33 - 1s - loss: 0.1182 - time_distributed_102_loss: 0.0268 - time_distributed_103_loss: 0.0197 - time_distributed_104_loss: 0.0142 - time_distributed_105_loss: 0.0121 - time_distributed_106_loss: 0.0133 - time_distributed_107_loss: 0.0126 - time_distributed_108_loss: 0.0076 - time_distributed_109_loss: 0.0049 - time_distributed_110_loss: 0.0069 - val_loss: 0.0718 - val_time_distributed_102_loss: 0.0155 - val_time_distributed_103_loss: 0.0121 - val_time_distributed_104_loss: 0.0088 - val_time_distributed_105_loss: 0.0076 - val_time_distributed_106_loss: 0.0075 - val_time_distributed_107_loss: 0.0076 - val_time_distributed_108_loss: 0.0050 - val_time_distributed_109_loss: 0.0031 - val_time_distributed_110_loss: 0.0047\n",
      "Epoch 40/50\n",
      "33/33 - 1s - loss: 0.1180 - time_distributed_102_loss: 0.0267 - time_distributed_103_loss: 0.0197 - time_distributed_104_loss: 0.0142 - time_distributed_105_loss: 0.0121 - time_distributed_106_loss: 0.0133 - time_distributed_107_loss: 0.0125 - time_distributed_108_loss: 0.0076 - time_distributed_109_loss: 0.0049 - time_distributed_110_loss: 0.0069 - val_loss: 0.0717 - val_time_distributed_102_loss: 0.0155 - val_time_distributed_103_loss: 0.0121 - val_time_distributed_104_loss: 0.0088 - val_time_distributed_105_loss: 0.0076 - val_time_distributed_106_loss: 0.0074 - val_time_distributed_107_loss: 0.0076 - val_time_distributed_108_loss: 0.0050 - val_time_distributed_109_loss: 0.0031 - val_time_distributed_110_loss: 0.0047\n",
      "Epoch 41/50\n",
      "33/33 - 1s - loss: 0.1181 - time_distributed_102_loss: 0.0268 - time_distributed_103_loss: 0.0197 - time_distributed_104_loss: 0.0142 - time_distributed_105_loss: 0.0121 - time_distributed_106_loss: 0.0133 - time_distributed_107_loss: 0.0126 - time_distributed_108_loss: 0.0076 - time_distributed_109_loss: 0.0049 - time_distributed_110_loss: 0.0069 - val_loss: 0.0716 - val_time_distributed_102_loss: 0.0155 - val_time_distributed_103_loss: 0.0120 - val_time_distributed_104_loss: 0.0088 - val_time_distributed_105_loss: 0.0076 - val_time_distributed_106_loss: 0.0074 - val_time_distributed_107_loss: 0.0076 - val_time_distributed_108_loss: 0.0049 - val_time_distributed_109_loss: 0.0031 - val_time_distributed_110_loss: 0.0047\n",
      "Epoch 42/50\n",
      "33/33 - 1s - loss: 0.1181 - time_distributed_102_loss: 0.0267 - time_distributed_103_loss: 0.0197 - time_distributed_104_loss: 0.0142 - time_distributed_105_loss: 0.0121 - time_distributed_106_loss: 0.0133 - time_distributed_107_loss: 0.0126 - time_distributed_108_loss: 0.0076 - time_distributed_109_loss: 0.0049 - time_distributed_110_loss: 0.0069 - val_loss: 0.0715 - val_time_distributed_102_loss: 0.0154 - val_time_distributed_103_loss: 0.0120 - val_time_distributed_104_loss: 0.0088 - val_time_distributed_105_loss: 0.0076 - val_time_distributed_106_loss: 0.0074 - val_time_distributed_107_loss: 0.0076 - val_time_distributed_108_loss: 0.0049 - val_time_distributed_109_loss: 0.0031 - val_time_distributed_110_loss: 0.0047\n",
      "Epoch 43/50\n",
      "33/33 - 1s - loss: 0.1178 - time_distributed_102_loss: 0.0267 - time_distributed_103_loss: 0.0197 - time_distributed_104_loss: 0.0142 - time_distributed_105_loss: 0.0121 - time_distributed_106_loss: 0.0132 - time_distributed_107_loss: 0.0125 - time_distributed_108_loss: 0.0076 - time_distributed_109_loss: 0.0049 - time_distributed_110_loss: 0.0069 - val_loss: 0.0715 - val_time_distributed_102_loss: 0.0154 - val_time_distributed_103_loss: 0.0120 - val_time_distributed_104_loss: 0.0088 - val_time_distributed_105_loss: 0.0076 - val_time_distributed_106_loss: 0.0074 - val_time_distributed_107_loss: 0.0075 - val_time_distributed_108_loss: 0.0049 - val_time_distributed_109_loss: 0.0031 - val_time_distributed_110_loss: 0.0047\n",
      "Epoch 44/50\n",
      "33/33 - 1s - loss: 0.1176 - time_distributed_102_loss: 0.0266 - time_distributed_103_loss: 0.0196 - time_distributed_104_loss: 0.0142 - time_distributed_105_loss: 0.0121 - time_distributed_106_loss: 0.0132 - time_distributed_107_loss: 0.0125 - time_distributed_108_loss: 0.0076 - time_distributed_109_loss: 0.0049 - time_distributed_110_loss: 0.0069 - val_loss: 0.0714 - val_time_distributed_102_loss: 0.0154 - val_time_distributed_103_loss: 0.0120 - val_time_distributed_104_loss: 0.0088 - val_time_distributed_105_loss: 0.0076 - val_time_distributed_106_loss: 0.0074 - val_time_distributed_107_loss: 0.0075 - val_time_distributed_108_loss: 0.0049 - val_time_distributed_109_loss: 0.0031 - val_time_distributed_110_loss: 0.0047\n",
      "Epoch 45/50\n",
      "33/33 - 1s - loss: 0.1175 - time_distributed_102_loss: 0.0266 - time_distributed_103_loss: 0.0196 - time_distributed_104_loss: 0.0142 - time_distributed_105_loss: 0.0121 - time_distributed_106_loss: 0.0132 - time_distributed_107_loss: 0.0125 - time_distributed_108_loss: 0.0076 - time_distributed_109_loss: 0.0049 - time_distributed_110_loss: 0.0068 - val_loss: 0.0713 - val_time_distributed_102_loss: 0.0154 - val_time_distributed_103_loss: 0.0120 - val_time_distributed_104_loss: 0.0088 - val_time_distributed_105_loss: 0.0076 - val_time_distributed_106_loss: 0.0074 - val_time_distributed_107_loss: 0.0075 - val_time_distributed_108_loss: 0.0049 - val_time_distributed_109_loss: 0.0031 - val_time_distributed_110_loss: 0.0046\n",
      "Epoch 46/50\n",
      "33/33 - 1s - loss: 0.1174 - time_distributed_102_loss: 0.0266 - time_distributed_103_loss: 0.0196 - time_distributed_104_loss: 0.0141 - time_distributed_105_loss: 0.0121 - time_distributed_106_loss: 0.0132 - time_distributed_107_loss: 0.0125 - time_distributed_108_loss: 0.0076 - time_distributed_109_loss: 0.0049 - time_distributed_110_loss: 0.0068 - val_loss: 0.0712 - val_time_distributed_102_loss: 0.0153 - val_time_distributed_103_loss: 0.0119 - val_time_distributed_104_loss: 0.0088 - val_time_distributed_105_loss: 0.0076 - val_time_distributed_106_loss: 0.0074 - val_time_distributed_107_loss: 0.0075 - val_time_distributed_108_loss: 0.0049 - val_time_distributed_109_loss: 0.0031 - val_time_distributed_110_loss: 0.0046\n",
      "Epoch 47/50\n",
      "33/33 - 1s - loss: 0.1175 - time_distributed_102_loss: 0.0266 - time_distributed_103_loss: 0.0196 - time_distributed_104_loss: 0.0142 - time_distributed_105_loss: 0.0121 - time_distributed_106_loss: 0.0132 - time_distributed_107_loss: 0.0125 - time_distributed_108_loss: 0.0076 - time_distributed_109_loss: 0.0049 - time_distributed_110_loss: 0.0068 - val_loss: 0.0711 - val_time_distributed_102_loss: 0.0153 - val_time_distributed_103_loss: 0.0119 - val_time_distributed_104_loss: 0.0088 - val_time_distributed_105_loss: 0.0076 - val_time_distributed_106_loss: 0.0074 - val_time_distributed_107_loss: 0.0075 - val_time_distributed_108_loss: 0.0049 - val_time_distributed_109_loss: 0.0031 - val_time_distributed_110_loss: 0.0046\n",
      "Epoch 48/50\n",
      "33/33 - 1s - loss: 0.1171 - time_distributed_102_loss: 0.0265 - time_distributed_103_loss: 0.0195 - time_distributed_104_loss: 0.0141 - time_distributed_105_loss: 0.0121 - time_distributed_106_loss: 0.0132 - time_distributed_107_loss: 0.0125 - time_distributed_108_loss: 0.0075 - time_distributed_109_loss: 0.0049 - time_distributed_110_loss: 0.0068 - val_loss: 0.0710 - val_time_distributed_102_loss: 0.0153 - val_time_distributed_103_loss: 0.0119 - val_time_distributed_104_loss: 0.0087 - val_time_distributed_105_loss: 0.0076 - val_time_distributed_106_loss: 0.0074 - val_time_distributed_107_loss: 0.0075 - val_time_distributed_108_loss: 0.0049 - val_time_distributed_109_loss: 0.0031 - val_time_distributed_110_loss: 0.0046\n"
     ]
    },
    {
     "name": "stdout",
     "output_type": "stream",
     "text": [
      "Epoch 49/50\n",
      "33/33 - 1s - loss: 0.1172 - time_distributed_102_loss: 0.0265 - time_distributed_103_loss: 0.0195 - time_distributed_104_loss: 0.0141 - time_distributed_105_loss: 0.0121 - time_distributed_106_loss: 0.0132 - time_distributed_107_loss: 0.0125 - time_distributed_108_loss: 0.0075 - time_distributed_109_loss: 0.0049 - time_distributed_110_loss: 0.0068 - val_loss: 0.0709 - val_time_distributed_102_loss: 0.0153 - val_time_distributed_103_loss: 0.0119 - val_time_distributed_104_loss: 0.0087 - val_time_distributed_105_loss: 0.0076 - val_time_distributed_106_loss: 0.0074 - val_time_distributed_107_loss: 0.0075 - val_time_distributed_108_loss: 0.0049 - val_time_distributed_109_loss: 0.0031 - val_time_distributed_110_loss: 0.0046\n",
      "Epoch 50/50\n",
      "33/33 - 1s - loss: 0.1170 - time_distributed_102_loss: 0.0265 - time_distributed_103_loss: 0.0195 - time_distributed_104_loss: 0.0141 - time_distributed_105_loss: 0.0121 - time_distributed_106_loss: 0.0132 - time_distributed_107_loss: 0.0125 - time_distributed_108_loss: 0.0075 - time_distributed_109_loss: 0.0049 - time_distributed_110_loss: 0.0067 - val_loss: 0.0709 - val_time_distributed_102_loss: 0.0152 - val_time_distributed_103_loss: 0.0119 - val_time_distributed_104_loss: 0.0087 - val_time_distributed_105_loss: 0.0076 - val_time_distributed_106_loss: 0.0074 - val_time_distributed_107_loss: 0.0075 - val_time_distributed_108_loss: 0.0049 - val_time_distributed_109_loss: 0.0031 - val_time_distributed_110_loss: 0.0046\n"
     ]
    }
   ],
   "source": [
    "pipeline.run()"
   ]
  },
  {
   "cell_type": "code",
   "execution_count": 247,
   "metadata": {
    "scrolled": true
   },
   "outputs": [],
   "source": [
    "predictions = pipeline.get_predictions()"
   ]
  },
  {
   "cell_type": "code",
   "execution_count": 131,
   "metadata": {},
   "outputs": [
    {
     "data": {
      "text/plain": [
       "(3143, 115)"
      ]
     },
     "execution_count": 131,
     "metadata": {},
     "output_type": "execute_result"
    }
   ],
   "source": [
    "predictions[1].shape"
   ]
  },
  {
   "cell_type": "code",
   "execution_count": 21,
   "metadata": {},
   "outputs": [
    {
     "name": "stdout",
     "output_type": "stream",
     "text": [
      "WARNING:tensorflow:Layer lstm_6 will not use cuDNN kernel since it doesn't meet the cuDNN kernel criteria. It will use generic GPU kernel as fallback when running on GPU\n"
     ]
    }
   ],
   "source": [
    "pipeline.model = load_model('LSTM_model2.h5')"
   ]
  },
  {
   "cell_type": "code",
   "execution_count": 25,
   "metadata": {},
   "outputs": [],
   "source": [
    "pipeline.predictions = pipeline.predict(t=pipeline.lag, dense=False)"
   ]
  },
  {
   "cell_type": "code",
   "execution_count": 158,
   "metadata": {},
   "outputs": [
    {
     "name": "stdout",
     "output_type": "stream",
     "text": [
      "(3143, 115)\n"
     ]
    }
   ],
   "source": [
    "print(predictions[0][1].shape)"
   ]
  },
  {
   "cell_type": "code",
   "execution_count": 250,
   "metadata": {},
   "outputs": [
    {
     "data": {
      "image/png": "[encoded data removed]",
      "text/plain": [
       "<Figure size 864x864 with 1 Axes>"
      ]
     },
     "metadata": {
      "needs_background": "light"
     },
     "output_type": "display_data"
    }
   ],
   "source": [
    "fig = plt.figure(figsize=(12, 12))\n",
    "ax = fig.add_subplot(111)\n",
    "\n",
    "county = 1868\n",
    "\n",
    "###\n",
    "\n",
    "d1 = 10**pipeline.data.original()[1]\n",
    "\n",
    "f = pipeline.data.time_features[1].series[county]\n",
    "s = np.argmax(np.isnan(f))\n",
    "d1 = f[:s]\n",
    "\n",
    "x1 = np.linspace(1, d1.shape[0], d1.shape[0])\n",
    "plt.plot(x1, d1, color='red')\n",
    "\n",
    "###\n",
    "#d2 = 10**predictions[1][county]\n",
    "\n",
    "d2 = np.concatenate([d1[:s - 14], pipeline.predictions[8, county, :, 1]])\n",
    "\n",
    "x2 = np.linspace(1, d2.shape[0], d2.shape[0])\n",
    "plt.plot(x2, d2, color='blue')\n",
    "\n",
    "plt.show()"
   ]
  },
  {
   "cell_type": "code",
   "execution_count": 251,
   "metadata": {
    "scrolled": false
   },
   "outputs": [
    {
     "data": {
      "image/png": "[encoded data removed]",
      "text/plain": [
       "<Figure size 864x864 with 1 Axes>"
      ]
     },
     "metadata": {
      "needs_background": "light"
     },
     "output_type": "display_data"
    }
   ],
   "source": [
    "fig = plt.figure(figsize=(12, 12))\n",
    "ax = fig.add_subplot(111)\n",
    "\n",
    "county = 204\n",
    "\n",
    "###\n",
    "\n",
    "d1 = 10**pipeline.data.original()[1][county]\n",
    "x1 = np.linspace(1, d1.shape[0], d1.shape[0])\n",
    "plt.plot(x1, d1, color='red')\n",
    "\n",
    "###\n",
    "d2 = 10**predictions[2][1][county]\n",
    "s = np.argmax(np.isnan(d2))\n",
    "x2 = np.linspace(1, d2.shape[0], d2.shape[0])\n",
    "plt.plot(x2[s - 15:], d2[s - 15:], color='blue')\n",
    "\n",
    "d2 = 10**predictions[6][1][county]\n",
    "s = np.argmax(np.isnan(d2))\n",
    "x2 = np.linspace(1, d2.shape[0], d2.shape[0])\n",
    "plt.plot(x2[s - 15:], d2[s - 15:], color='green')\n",
    "\n",
    "d2 = 10**predictions[7][1][county]\n",
    "s = np.argmax(np.isnan(d2))\n",
    "x2 = np.linspace(1, d2.shape[0], d2.shape[0])\n",
    "plt.plot(x2[s - 15:], d2[s - 15:], color='yellow')\n",
    "\n",
    "d2 = 10**predictions[4][1][county]\n",
    "s = np.argmax(np.isnan(d2))\n",
    "x2 = np.linspace(1, d2.shape[0], d2.shape[0])\n",
    "plt.plot(x2[s - 15:], d2[s - 15:], color='purple')\n",
    "\n",
    "\n",
    "plt.show()"
   ]
  },
  {
   "cell_type": "code",
   "execution_count": 201,
   "metadata": {},
   "outputs": [
    {
     "data": {
      "text/html": [
       "<div>\n",
       "<style scoped>\n",
       "    .dataframe tbody tr th:only-of-type {\n",
       "        vertical-align: middle;\n",
       "    }\n",
       "\n",
       "    .dataframe tbody tr th {\n",
       "        vertical-align: top;\n",
       "    }\n",
       "\n",
       "    .dataframe thead th {\n",
       "        text-align: right;\n",
       "    }\n",
       "</style>\n",
       "<table border=\"1\" class=\"dataframe\">\n",
       "  <thead>\n",
       "    <tr style=\"text-align: right;\">\n",
       "      <th></th>\n",
       "      <th>FIPS</th>\n",
       "      <th>County Name</th>\n",
       "      <th>cases</th>\n",
       "      <th>deaths</th>\n",
       "      <th>log_cases</th>\n",
       "      <th>log_deaths</th>\n",
       "    </tr>\n",
       "  </thead>\n",
       "  <tbody>\n",
       "    <tr>\n",
       "      <th>1189</th>\n",
       "      <td>23025</td>\n",
       "      <td>Somerset County</td>\n",
       "      <td>NaN</td>\n",
       "      <td>NaN</td>\n",
       "      <td>NaN</td>\n",
       "      <td>NaN</td>\n",
       "    </tr>\n",
       "    <tr>\n",
       "      <th>1211</th>\n",
       "      <td>24039</td>\n",
       "      <td>Somerset County</td>\n",
       "      <td>NaN</td>\n",
       "      <td>NaN</td>\n",
       "      <td>NaN</td>\n",
       "      <td>NaN</td>\n",
       "    </tr>\n",
       "    <tr>\n",
       "      <th>1791</th>\n",
       "      <td>34035</td>\n",
       "      <td>Somerset County</td>\n",
       "      <td>NaN</td>\n",
       "      <td>NaN</td>\n",
       "      <td>NaN</td>\n",
       "      <td>NaN</td>\n",
       "    </tr>\n",
       "    <tr>\n",
       "      <th>2299</th>\n",
       "      <td>42111</td>\n",
       "      <td>Somerset County</td>\n",
       "      <td>NaN</td>\n",
       "      <td>NaN</td>\n",
       "      <td>NaN</td>\n",
       "      <td>NaN</td>\n",
       "    </tr>\n",
       "  </tbody>\n",
       "</table>\n",
       "</div>"
      ],
      "text/plain": [
       "       FIPS      County Name  cases  deaths  log_cases  log_deaths\n",
       "1189  23025  Somerset County    NaN     NaN        NaN         NaN\n",
       "1211  24039  Somerset County    NaN     NaN        NaN         NaN\n",
       "1791  34035  Somerset County    NaN     NaN        NaN         NaN\n",
       "2299  42111  Somerset County    NaN     NaN        NaN         NaN"
      ]
     },
     "execution_count": 201,
     "metadata": {},
     "output_type": "execute_result"
    }
   ],
   "source": [
    "demo = u.load_covid_static()\n",
    "demo[demo['County Name'] == 'Somerset County']"
   ]
  },
  {
   "cell_type": "code",
   "execution_count": 87,
   "metadata": {},
   "outputs": [],
   "source": [
    "pipeline.model.save('LSTM_model2.h5')"
   ]
  },
  {
   "cell_type": "code",
   "execution_count": null,
   "metadata": {},
   "outputs": [],
   "source": []
  }
 ],
 "metadata": {
  "kernelspec": {
   "display_name": "Python 3",
   "language": "python",
   "name": "python3"
  },
  "language_info": {
   "codemirror_mode": {
    "name": "ipython",
    "version": 3
   },
   "file_extension": ".py",
   "mimetype": "text/x-python",
   "name": "python",
   "nbconvert_exporter": "python",
   "pygments_lexer": "ipython3",
   "version": "3.8.2"
  }
 },
 "nbformat": 4,
 "nbformat_minor": 4
}
