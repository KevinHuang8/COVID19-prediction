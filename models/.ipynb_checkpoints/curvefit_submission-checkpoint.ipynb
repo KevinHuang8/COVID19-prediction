{
 "cells": [
  {
   "cell_type": "code",
   "execution_count": 58,
   "metadata": {},
   "outputs": [
    {
     "data": {
      "text/plain": [
       "<module 'curvefit_models' from '..\\\\curvefit_models.py'>"
      ]
     },
     "execution_count": 58,
     "metadata": {},
     "output_type": "execute_result"
    }
   ],
   "source": [
    "import sys\n",
    "sys.path.append('../')\n",
    "import numpy as np\n",
    "import importlib\n",
    "import dataloader as loader\n",
    "import curvefit_models as models\n",
    "import curvefit_pipeline as p\n",
    "import matplotlib.pyplot as plt\n",
    "import datetime as dt\n",
    "import pickle\n",
    "importlib.reload(p)\n",
    "importlib.reload(loader)\n",
    "importlib.reload(models)"
   ]
  },
  {
   "cell_type": "code",
   "execution_count": 66,
   "metadata": {},
   "outputs": [],
   "source": [
    "data_format = {'name': 'deaths_raw', 'smoothing': 3, 'val_steps': 0}\n",
    "model_params = {'name': 'ExpNormModel'}\n",
    "horizon = 14\n",
    "samples = 250\n",
    "quantiles = [10, 20, 30, 40, 50, 60, 70, 80, 90]\n",
    "\n",
    "today = dt.date.today()\n",
    "output_file = f'../predictions/predictions-{str(today)}.csv'\n",
    "sample_file = 'sample_submission.csv'"
   ]
  },
  {
   "cell_type": "code",
   "execution_count": 67,
   "metadata": {},
   "outputs": [],
   "source": [
    "with open('use_c.dat', 'rb') as handle:\n",
    "    use_c = pickle.load(handle)"
   ]
  },
  {
   "cell_type": "code",
   "execution_count": null,
   "metadata": {},
   "outputs": [
    {
     "name": "stdout",
     "output_type": "stream",
     "text": [
      "Fitting 2693/3142\r"
     ]
    }
   ],
   "source": [
    "pipeline = p.Pipeline(data_format, model_params, horizon, use_c)\n",
    "pipeline.run()"
   ]
  },
  {
   "cell_type": "code",
   "execution_count": null,
   "metadata": {},
   "outputs": [],
   "source": [
    "pipeline.predict(quantiles=quantiles, samples=samples)"
   ]
  },
  {
   "cell_type": "code",
   "execution_count": null,
   "metadata": {},
   "outputs": [],
   "source": [
    "pipeline.write_to_file(output_file, sample_file, quantiles)"
   ]
  },
  {
   "cell_type": "code",
   "execution_count": null,
   "metadata": {},
   "outputs": [],
   "source": [
    "pred2 = pipeline.get_combined_predictions(quantiles=quantiles, samples=250)"
   ]
  },
  {
   "cell_type": "code",
   "execution_count": 65,
   "metadata": {},
   "outputs": [
    {
     "data": {
      "text/plain": [
       "[<matplotlib.lines.Line2D at 0x2c7c37e2af0>]"
      ]
     },
     "execution_count": 65,
     "metadata": {},
     "output_type": "execute_result"
    },
    {
     "data": {
      "image/png": "[encoded data removed]",
      "text/plain": [
       "<Figure size 432x288 with 1 Axes>"
      ]
     },
     "metadata": {
      "needs_background": "light"
     },
     "output_type": "display_data"
    }
   ],
   "source": [
    "# 1208**, 1200, 716, 1382, 204, 1791, 1868, 1858, 2969, 1887, 1308, 1224, 1776-1794, 2289**, 2848, 3087**, 1138*, 1280, 1293**, 1870**, 2312!!, 2315!!\n",
    "county = 2312\n",
    "x = np.arange(0, pred2[county].shape[0])\n",
    "y = pred2[county][:, 3]\n",
    "plt.plot(x, y)\n",
    "\n",
    "y = pred2[county][:, 4]\n",
    "plt.plot(x, y)\n",
    "\n",
    "y = pred2[county][:, 8]\n",
    "plt.plot(x, y)\n",
    "\n",
    "d = pipeline.data.daily_change[county]\n",
    "x = np.linspace(0, d.shape[0] - 1, d.shape[0])\n",
    "y = d\n",
    "plt.plot(x, y)\n",
    "# plt.ylim(0, 80)"
   ]
  },
  {
   "cell_type": "code",
   "execution_count": null,
   "metadata": {},
   "outputs": [],
   "source": []
  }
 ],
 "metadata": {
  "kernelspec": {
   "display_name": "Python 3",
   "language": "python",
   "name": "python3"
  },
  "language_info": {
   "codemirror_mode": {
    "name": "ipython",
    "version": 3
   },
   "file_extension": ".py",
   "mimetype": "text/x-python",
   "name": "python",
   "nbconvert_exporter": "python",
   "pygments_lexer": "ipython3",
   "version": "3.8.2"
  }
 },
 "nbformat": 4,
 "nbformat_minor": 4
}
