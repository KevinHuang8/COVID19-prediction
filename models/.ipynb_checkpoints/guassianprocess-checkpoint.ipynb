{
 "cells": [
  {
   "cell_type": "code",
   "execution_count": 43,
   "metadata": {
    "scrolled": true
   },
   "outputs": [
    {
     "data": {
      "text/plain": [
       "<module 'dataloader' from '..\\\\dataloader.py'>"
      ]
     },
     "execution_count": 43,
     "metadata": {},
     "output_type": "execute_result"
    }
   ],
   "source": [
    "import sys\n",
    "sys.path.append('../')\n",
    "import numpy as np\n",
    "import importlib\n",
    "import dataloader as u\n",
    "from sklearn.metrics import mean_squared_error\n",
    "import matplotlib.pyplot as plt\n",
    "import sklearn.gaussian_process as gp\n",
    "importlib.reload(u)"
   ]
  },
  {
   "cell_type": "code",
   "execution_count": 44,
   "metadata": {},
   "outputs": [],
   "source": [
    "datadict = u.load_covid_timeseries(smoothing=3, cases_cutoff=5)\n",
    "cases = datadict['cases_raw']\n",
    "deaths = datadict['deaths_raw']"
   ]
  },
  {
   "cell_type": "code",
   "execution_count": 45,
   "metadata": {},
   "outputs": [],
   "source": [
    "z = deaths[1868]\n",
    "z2 = cases[1868]\n",
    "z = z[z != 0]\n",
    "z2 = z2[z2 != 0]"
   ]
  },
  {
   "cell_type": "code",
   "execution_count": 46,
   "metadata": {},
   "outputs": [
    {
     "data": {
      "text/plain": [
       "[<matplotlib.lines.Line2D at 0x2163881dbe0>]"
      ]
     },
     "execution_count": 46,
     "metadata": {},
     "output_type": "execute_result"
    },
    {
     "data": {
      "image/png": "[encoded data removed]",
      "text/plain": [
       "<Figure size 432x288 with 1 Axes>"
      ]
     },
     "metadata": {
      "needs_background": "light"
     },
     "output_type": "display_data"
    }
   ],
   "source": [
    "x = np.linspace(1, z.shape[0], z.shape[0])\n",
    "y = z\n",
    "plt.plot(x, y)"
   ]
  },
  {
   "cell_type": "code",
   "execution_count": 47,
   "metadata": {},
   "outputs": [
    {
     "data": {
      "text/html": [
       "<div>\n",
       "<style scoped>\n",
       "    .dataframe tbody tr th:only-of-type {\n",
       "        vertical-align: middle;\n",
       "    }\n",
       "\n",
       "    .dataframe tbody tr th {\n",
       "        vertical-align: top;\n",
       "    }\n",
       "\n",
       "    .dataframe thead th {\n",
       "        text-align: right;\n",
       "    }\n",
       "</style>\n",
       "<table border=\"1\" class=\"dataframe\">\n",
       "  <thead>\n",
       "    <tr style=\"text-align: right;\">\n",
       "      <th></th>\n",
       "      <th>FIPS</th>\n",
       "      <th>total_pop</th>\n",
       "      <th>60plus</th>\n",
       "      <th>area</th>\n",
       "      <th>median_age</th>\n",
       "      <th>pop_white</th>\n",
       "      <th>pop_black</th>\n",
       "      <th>pop_hispanic</th>\n",
       "      <th>pop_density</th>\n",
       "      <th>p60_plus</th>\n",
       "    </tr>\n",
       "  </thead>\n",
       "  <tbody>\n",
       "    <tr>\n",
       "      <th>0</th>\n",
       "      <td>1001</td>\n",
       "      <td>55036</td>\n",
       "      <td>10523</td>\n",
       "      <td>594.44</td>\n",
       "      <td>37.8</td>\n",
       "      <td>76.9</td>\n",
       "      <td>19.1</td>\n",
       "      <td>2.8</td>\n",
       "      <td>92.584617</td>\n",
       "      <td>0.191202</td>\n",
       "    </tr>\n",
       "    <tr>\n",
       "      <th>1</th>\n",
       "      <td>1003</td>\n",
       "      <td>203360</td>\n",
       "      <td>53519</td>\n",
       "      <td>1589.78</td>\n",
       "      <td>42.8</td>\n",
       "      <td>86.3</td>\n",
       "      <td>9.5</td>\n",
       "      <td>4.5</td>\n",
       "      <td>127.917070</td>\n",
       "      <td>0.263174</td>\n",
       "    </tr>\n",
       "    <tr>\n",
       "      <th>2</th>\n",
       "      <td>1005</td>\n",
       "      <td>26201</td>\n",
       "      <td>6150</td>\n",
       "      <td>884.88</td>\n",
       "      <td>39.9</td>\n",
       "      <td>47.4</td>\n",
       "      <td>47.6</td>\n",
       "      <td>4.3</td>\n",
       "      <td>29.609665</td>\n",
       "      <td>0.234724</td>\n",
       "    </tr>\n",
       "    <tr>\n",
       "      <th>3</th>\n",
       "      <td>1007</td>\n",
       "      <td>22580</td>\n",
       "      <td>4773</td>\n",
       "      <td>622.58</td>\n",
       "      <td>39.9</td>\n",
       "      <td>76.7</td>\n",
       "      <td>22.3</td>\n",
       "      <td>2.4</td>\n",
       "      <td>36.268431</td>\n",
       "      <td>0.211382</td>\n",
       "    </tr>\n",
       "    <tr>\n",
       "      <th>4</th>\n",
       "      <td>1009</td>\n",
       "      <td>57667</td>\n",
       "      <td>13600</td>\n",
       "      <td>644.78</td>\n",
       "      <td>40.8</td>\n",
       "      <td>95.5</td>\n",
       "      <td>1.5</td>\n",
       "      <td>9.1</td>\n",
       "      <td>89.436707</td>\n",
       "      <td>0.235837</td>\n",
       "    </tr>\n",
       "  </tbody>\n",
       "</table>\n",
       "</div>"
      ],
      "text/plain": [
       "   FIPS  total_pop  60plus     area  median_age  pop_white  pop_black  \\\n",
       "0  1001      55036   10523   594.44        37.8       76.9       19.1   \n",
       "1  1003     203360   53519  1589.78        42.8       86.3        9.5   \n",
       "2  1005      26201    6150   884.88        39.9       47.4       47.6   \n",
       "3  1007      22580    4773   622.58        39.9       76.7       22.3   \n",
       "4  1009      57667   13600   644.78        40.8       95.5        1.5   \n",
       "\n",
       "   pop_hispanic  pop_density  p60_plus  \n",
       "0           2.8    92.584617  0.191202  \n",
       "1           4.5   127.917070  0.263174  \n",
       "2           4.3    29.609665  0.234724  \n",
       "3           2.4    36.268431  0.211382  \n",
       "4           9.1    89.436707  0.235837  "
      ]
     },
     "execution_count": 47,
     "metadata": {},
     "output_type": "execute_result"
    }
   ],
   "source": [
    "demographics = u.load_demographics_data()\n",
    "demographics.head()"
   ]
  },
  {
   "cell_type": "code",
   "execution_count": 48,
   "metadata": {},
   "outputs": [],
   "source": [
    "pop = np.expand_dims(demographics['total_pop'].values, axis=1)\n",
    "cases_norm = cases / pop * 10000\n",
    "deaths_norm = deaths / pop * 10000"
   ]
  },
  {
   "cell_type": "code",
   "execution_count": 49,
   "metadata": {},
   "outputs": [
    {
     "name": "stdout",
     "output_type": "stream",
     "text": [
      "(46, 1) (46,) (10, 1) (10,)\n"
     ]
    }
   ],
   "source": [
    "X_train = []\n",
    "y_train = []\n",
    "X_test = []\n",
    "y_test = []\n",
    "validation_steps = 10\n",
    "\n",
    "for i in range(z2.shape[0]):\n",
    "    if i < z2.shape[0] - validation_steps:\n",
    "        X_train.append(i)\n",
    "        y_train.append(z2[i])\n",
    "    else:\n",
    "        X_test.append(i)\n",
    "        y_test.append(z2[i])\n",
    "        \n",
    "X_train = np.array(X_train).reshape(-1, 1)\n",
    "y_train = np.array(y_train)\n",
    "X_test = np.array(X_test).reshape(-1, 1)\n",
    "y_test = np.array(y_test)\n",
    "print(X_train.shape, y_train.shape, X_test.shape, y_test.shape)"
   ]
  },
  {
   "cell_type": "code",
   "execution_count": 26,
   "metadata": {},
   "outputs": [],
   "source": [
    "model = gp.GaussianProcessRegressor(kernel=kernel, n_restarts_optimizer=10, alpha=0.1, normalize_y=True)\n",
    "model.fit(X_train, y_train)\n",
    "y_pred = model.predict(X_test)"
   ]
  },
  {
   "cell_type": "code",
   "execution_count": 34,
   "metadata": {},
   "outputs": [
    {
     "name": "stdout",
     "output_type": "stream",
     "text": [
      "[49099.6634557  51307.39898174 53563.4018559  55867.67196652\n",
      " 58220.20921085 60621.0134942  63070.08472916 65567.42283491\n",
      " 68113.02773661 70706.89936486]\n"
     ]
    }
   ],
   "source": [
    "print(y_pred)"
   ]
  },
  {
   "cell_type": "code",
   "execution_count": 37,
   "metadata": {},
   "outputs": [],
   "source": [
    "total = np.concatenate([y_train, y_pred])"
   ]
  },
  {
   "cell_type": "code",
   "execution_count": 40,
   "metadata": {},
   "outputs": [
    {
     "data": {
      "text/plain": [
       "[<matplotlib.lines.Line2D at 0x2163861bdc0>]"
      ]
     },
     "execution_count": 40,
     "metadata": {},
     "output_type": "execute_result"
    },
    {
     "data": {
      "image/png": "[encoded data removed]",
      "text/plain": [
       "<Figure size 432x288 with 1 Axes>"
      ]
     },
     "metadata": {
      "needs_background": "light"
     },
     "output_type": "display_data"
    }
   ],
   "source": [
    "x = np.linspace(1, total.shape[0], total.shape[0])\n",
    "y = total\n",
    "plt.plot(x, y)\n",
    "\n",
    "y = z2\n",
    "plt.plot(x, y)"
   ]
  },
  {
   "cell_type": "code",
   "execution_count": null,
   "metadata": {},
   "outputs": [],
   "source": []
  }
 ],
 "metadata": {
  "kernelspec": {
   "display_name": "Python 3",
   "language": "python",
   "name": "python3"
  },
  "language_info": {
   "codemirror_mode": {
    "name": "ipython",
    "version": 3
   },
   "file_extension": ".py",
   "mimetype": "text/x-python",
   "name": "python",
   "nbconvert_exporter": "python",
   "pygments_lexer": "ipython3",
   "version": "3.8.2"
  }
 },
 "nbformat": 4,
 "nbformat_minor": 4
}
