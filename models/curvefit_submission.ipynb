{
 "cells": [
  {
   "cell_type": "code",
   "execution_count": 2,
   "metadata": {},
   "outputs": [
    {
     "name": "stderr",
     "output_type": "stream",
     "text": [
      "WARNING (theano.tensor.blas): Using NumPy C-API based implementation for BLAS functions.\n"
     ]
    },
    {
     "data": {
      "text/plain": [
       "<module 'curvefit_models' from '..\\\\curvefit_models.py'>"
      ]
     },
     "execution_count": 2,
     "metadata": {},
     "output_type": "execute_result"
    }
   ],
   "source": [
    "import sys\n",
    "sys.path.append('../')\n",
    "import numpy as np\n",
    "import importlib\n",
    "import dataloader as loader\n",
    "import curvefit_models as models\n",
    "import curvefit_pipeline as p\n",
    "import matplotlib.pyplot as plt\n",
    "import datetime as dt\n",
    "import pickle\n",
    "importlib.reload(p)\n",
    "importlib.reload(loader)\n",
    "importlib.reload(models)"
   ]
  },
  {
   "cell_type": "code",
   "execution_count": 3,
   "metadata": {},
   "outputs": [],
   "source": [
    "data_format = {'name': 'deaths_raw', 'smoothing': 3, 'val_steps': 10}\n",
    "gp_params = {'draw': 100, 'tune': 200, 'samples': 100, 'trials': 3}\n",
    "model_params = {'name': 'GPModel', 'use_gp': True, 'gp_params': gp_params}\n",
    "horizon = 14\n",
    "samples = 250\n",
    "quantiles = [10, 20, 30, 40, 50, 60, 70, 80, 90]\n",
    "\n",
    "today = dt.date.today()\n",
    "output_file = f'../predictions/predictions-{str(today)}-v3.csv'\n",
    "sample_file = 'sample_submission.csv'"
   ]
  },
  {
   "cell_type": "code",
   "execution_count": 4,
   "metadata": {},
   "outputs": [],
   "source": [
    "with open('use_c4.dat', 'rb') as handle:\n",
    "    use_c = pickle.load(handle)"
   ]
  },
  {
   "cell_type": "code",
   "execution_count": 5,
   "metadata": {
    "collapsed": true,
    "jupyter": {
     "outputs_hidden": true
    }
   },
   "outputs": [
    {
     "name": "stdout",
     "output_type": "stream",
     "text": [
      "Fitting 0/3142\r"
     ]
    },
    {
     "name": "stderr",
     "output_type": "stream",
     "text": [
      "C:\\Users\\kehua\\AppData\\Local\\Programs\\Python\\python-venv\\37_env\\lib\\site-packages\\theano\\tensor\\basic.py:6611: FutureWarning: Using a non-tuple sequence for multidimensional indexing is deprecated; use `arr[tuple(seq)]` instead of `arr[seq]`. In the future this will be interpreted as an array index, `arr[np.array(seq)]`, which will result either in an error or a different result.\n",
      "  result[diagonal_slice] = x\n",
      "Only 100 samples in chain.\n",
      "Auto-assigning NUTS sampler...\n",
      "Initializing NUTS using jitter+adapt_diag...\n",
      "C:\\Users\\kehua\\AppData\\Local\\Programs\\Python\\python-venv\\37_env\\lib\\site-packages\\theano\\tensor\\basic.py:6611: FutureWarning: Using a non-tuple sequence for multidimensional indexing is deprecated; use `arr[tuple(seq)]` instead of `arr[seq]`. In the future this will be interpreted as an array index, `arr[np.array(seq)]`, which will result either in an error or a different result.\n",
      "  result[diagonal_slice] = x\n",
      "C:\\Users\\kehua\\AppData\\Local\\Programs\\Python\\python-venv\\37_env\\lib\\site-packages\\theano\\tensor\\basic.py:6611: FutureWarning: Using a non-tuple sequence for multidimensional indexing is deprecated; use `arr[tuple(seq)]` instead of `arr[seq]`. In the future this will be interpreted as an array index, `arr[np.array(seq)]`, which will result either in an error or a different result.\n",
      "  result[diagonal_slice] = x\n",
      "C:\\Users\\kehua\\AppData\\Local\\Programs\\Python\\python-venv\\37_env\\lib\\site-packages\\theano\\tensor\\basic.py:6611: FutureWarning: Using a non-tuple sequence for multidimensional indexing is deprecated; use `arr[tuple(seq)]` instead of `arr[seq]`. In the future this will be interpreted as an array index, `arr[np.array(seq)]`, which will result either in an error or a different result.\n",
      "  result[diagonal_slice] = x\n",
      "C:\\Users\\kehua\\AppData\\Local\\Programs\\Python\\python-venv\\37_env\\lib\\site-packages\\theano\\tensor\\basic.py:6611: FutureWarning: Using a non-tuple sequence for multidimensional indexing is deprecated; use `arr[tuple(seq)]` instead of `arr[seq]`. In the future this will be interpreted as an array index, `arr[np.array(seq)]`, which will result either in an error or a different result.\n",
      "  result[diagonal_slice] = x\n",
      "Sequential sampling (2 chains in 1 job)\n",
      "NUTS: [σ, η, ρ]\n",
      "Sampling chain 0, 0 divergences:   0%|                                                                    | 0/300 [00:00<?, ?it/s]C:\\Users\\kehua\\AppData\\Local\\Programs\\Python\\python-venv\\37_env\\lib\\site-packages\\theano\\tensor\\basic.py:6611: FutureWarning: Using a non-tuple sequence for multidimensional indexing is deprecated; use `arr[tuple(seq)]` instead of `arr[seq]`. In the future this will be interpreted as an array index, `arr[np.array(seq)]`, which will result either in an error or a different result.\n",
      "  result[diagonal_slice] = x\n",
      "Sampling chain 0, 0 divergences: 100%|██████████████████████████████████████████████████████████| 300/300 [00:08<00:00, 34.63it/s]\n",
      "Sampling chain 1, 0 divergences: 100%|██████████████████████████████████████████████████████████| 300/300 [00:03<00:00, 79.65it/s]\n",
      "C:\\Users\\kehua\\AppData\\Local\\Programs\\Python\\python-venv\\37_env\\lib\\site-packages\\theano\\tensor\\basic.py:6611: FutureWarning: Using a non-tuple sequence for multidimensional indexing is deprecated; use `arr[tuple(seq)]` instead of `arr[seq]`. In the future this will be interpreted as an array index, `arr[np.array(seq)]`, which will result either in an error or a different result.\n",
      "  result[diagonal_slice] = x\n",
      "C:\\Users\\kehua\\AppData\\Local\\Programs\\Python\\python-venv\\37_env\\lib\\site-packages\\theano\\tensor\\basic.py:6611: FutureWarning: Using a non-tuple sequence for multidimensional indexing is deprecated; use `arr[tuple(seq)]` instead of `arr[seq]`. In the future this will be interpreted as an array index, `arr[np.array(seq)]`, which will result either in an error or a different result.\n",
      "  result[diagonal_slice] = x\n",
      "The number of effective samples is smaller than 25% for some parameters.\n",
      "C:\\Users\\kehua\\AppData\\Local\\Programs\\Python\\python-venv\\37_env\\lib\\site-packages\\theano\\tensor\\basic.py:6611: FutureWarning: Using a non-tuple sequence for multidimensional indexing is deprecated; use `arr[tuple(seq)]` instead of `arr[seq]`. In the future this will be interpreted as an array index, `arr[np.array(seq)]`, which will result either in an error or a different result.\n",
      "  result[diagonal_slice] = x\n",
      "C:\\Users\\kehua\\AppData\\Local\\Programs\\Python\\python-venv\\37_env\\lib\\site-packages\\pymc3\\sampling.py:1247: UserWarning: samples parameter is smaller than nchains times ndraws, some draws and/or chains may not be represented in the returned posterior predictive sample\n",
      "  \"samples parameter is smaller than nchains times ndraws, some draws \"\n",
      "  0%|                                                                                                     | 0/100 [00:00<?, ?it/s]C:\\Users\\kehua\\AppData\\Local\\Programs\\Python\\python-venv\\37_env\\lib\\site-packages\\theano\\tensor\\basic.py:6611: FutureWarning: Using a non-tuple sequence for multidimensional indexing is deprecated; use `arr[tuple(seq)]` instead of `arr[seq]`. In the future this will be interpreted as an array index, `arr[np.array(seq)]`, which will result either in an error or a different result.\n",
      "  result[diagonal_slice] = x\n",
      "C:\\Users\\kehua\\AppData\\Local\\Programs\\Python\\python-venv\\37_env\\lib\\site-packages\\theano\\tensor\\basic.py:6611: FutureWarning: Using a non-tuple sequence for multidimensional indexing is deprecated; use `arr[tuple(seq)]` instead of `arr[seq]`. In the future this will be interpreted as an array index, `arr[np.array(seq)]`, which will result either in an error or a different result.\n",
      "  result[diagonal_slice] = x\n",
      "100%|███████████████████████████████████████████████████████████████████████████████████████████| 100/100 [00:01<00:00, 74.72it/s]\n",
      "Only 100 samples in chain.\n",
      "Auto-assigning NUTS sampler...\n",
      "Initializing NUTS using jitter+adapt_diag...\n",
      "Sequential sampling (2 chains in 1 job)\n",
      "NUTS: [σ, η, ρ]\n",
      "Sampling chain 0, 0 divergences: 100%|██████████████████████████████████████████████████████████| 300/300 [00:09<00:00, 32.29it/s]\n",
      "Sampling chain 1, 0 divergences: 100%|██████████████████████████████████████████████████████████| 300/300 [00:03<00:00, 82.16it/s]\n",
      "C:\\Users\\kehua\\AppData\\Local\\Programs\\Python\\python-venv\\37_env\\lib\\site-packages\\theano\\tensor\\basic.py:6611: FutureWarning: Using a non-tuple sequence for multidimensional indexing is deprecated; use `arr[tuple(seq)]` instead of `arr[seq]`. In the future this will be interpreted as an array index, `arr[np.array(seq)]`, which will result either in an error or a different result.\n",
      "  result[diagonal_slice] = x\n",
      "The acceptance probability does not match the target. It is 0.8797334120310942, but should be close to 0.8. Try to increase the number of tuning steps.\n",
      "The acceptance probability does not match the target. It is 0.9086639843836215, but should be close to 0.8. Try to increase the number of tuning steps.\n",
      "The rhat statistic is larger than 1.05 for some parameters. This indicates slight problems during sampling.\n",
      "The number of effective samples is smaller than 10% for some parameters.\n",
      "C:\\Users\\kehua\\AppData\\Local\\Programs\\Python\\python-venv\\37_env\\lib\\site-packages\\pymc3\\sampling.py:1247: UserWarning: samples parameter is smaller than nchains times ndraws, some draws and/or chains may not be represented in the returned posterior predictive sample\n",
      "  \"samples parameter is smaller than nchains times ndraws, some draws \"\n",
      "100%|███████████████████████████████████████████████████████████████████████████████████████████| 100/100 [00:01<00:00, 72.78it/s]\n",
      "Only 100 samples in chain.\n",
      "Auto-assigning NUTS sampler...\n",
      "Initializing NUTS using jitter+adapt_diag...\n",
      "Sequential sampling (2 chains in 1 job)\n",
      "NUTS: [σ, η, ρ]\n",
      "Sampling chain 0, 0 divergences: 100%|██████████████████████████████████████████████████████████| 300/300 [00:09<00:00, 32.00it/s]\n",
      "Sampling chain 1, 0 divergences: 100%|██████████████████████████████████████████████████████████| 300/300 [00:03<00:00, 81.38it/s]\n",
      "C:\\Users\\kehua\\AppData\\Local\\Programs\\Python\\python-venv\\37_env\\lib\\site-packages\\theano\\tensor\\basic.py:6611: FutureWarning: Using a non-tuple sequence for multidimensional indexing is deprecated; use `arr[tuple(seq)]` instead of `arr[seq]`. In the future this will be interpreted as an array index, `arr[np.array(seq)]`, which will result either in an error or a different result.\n",
      "  result[diagonal_slice] = x\n",
      "The acceptance probability does not match the target. It is 0.8797334120310942, but should be close to 0.8. Try to increase the number of tuning steps.\n",
      "The acceptance probability does not match the target. It is 0.9086639843836215, but should be close to 0.8. Try to increase the number of tuning steps.\n",
      "The rhat statistic is larger than 1.05 for some parameters. This indicates slight problems during sampling.\n",
      "The number of effective samples is smaller than 10% for some parameters.\n",
      "C:\\Users\\kehua\\AppData\\Local\\Programs\\Python\\python-venv\\37_env\\lib\\site-packages\\pymc3\\sampling.py:1247: UserWarning: samples parameter is smaller than nchains times ndraws, some draws and/or chains may not be represented in the returned posterior predictive sample\n",
      "  \"samples parameter is smaller than nchains times ndraws, some draws \"\n",
      "100%|███████████████████████████████████████████████████████████████████████████████████████████| 100/100 [00:01<00:00, 78.64it/s]\n"
     ]
    },
    {
     "name": "stdout",
     "output_type": "stream",
     "text": [
      "Fitting 1/3142\r"
     ]
    },
    {
     "name": "stderr",
     "output_type": "stream",
     "text": [
      "Only 100 samples in chain.\n",
      "Auto-assigning NUTS sampler...\n",
      "Initializing NUTS using jitter+adapt_diag...\n",
      "Sequential sampling (2 chains in 1 job)\n",
      "NUTS: [σ, η, ρ]\n",
      "Sampling chain 0, 0 divergences: 100%|██████████████████████████████████████████████████████████| 300/300 [00:08<00:00, 35.81it/s]\n",
      "Sampling chain 1, 0 divergences: 100%|██████████████████████████████████████████████████████████| 300/300 [00:03<00:00, 77.88it/s]\n",
      "C:\\Users\\kehua\\AppData\\Local\\Programs\\Python\\python-venv\\37_env\\lib\\site-packages\\theano\\tensor\\basic.py:6611: FutureWarning: Using a non-tuple sequence for multidimensional indexing is deprecated; use `arr[tuple(seq)]` instead of `arr[seq]`. In the future this will be interpreted as an array index, `arr[np.array(seq)]`, which will result either in an error or a different result.\n",
      "  result[diagonal_slice] = x\n",
      "The acceptance probability does not match the target. It is 0.9325155864627309, but should be close to 0.8. Try to increase the number of tuning steps.\n",
      "The acceptance probability does not match the target. It is 0.9337710307915811, but should be close to 0.8. Try to increase the number of tuning steps.\n",
      "C:\\Users\\kehua\\AppData\\Local\\Programs\\Python\\python-venv\\37_env\\lib\\site-packages\\pymc3\\sampling.py:1247: UserWarning: samples parameter is smaller than nchains times ndraws, some draws and/or chains may not be represented in the returned posterior predictive sample\n",
      "  \"samples parameter is smaller than nchains times ndraws, some draws \"\n",
      "100%|███████████████████████████████████████████████████████████████████████████████████████████| 100/100 [00:01<00:00, 73.73it/s]\n",
      "Only 100 samples in chain.\n",
      "Auto-assigning NUTS sampler...\n",
      "Initializing NUTS using jitter+adapt_diag...\n",
      "Sequential sampling (2 chains in 1 job)\n",
      "NUTS: [σ, η, ρ]\n",
      "Sampling chain 0, 0 divergences: 100%|██████████████████████████████████████████████████████████| 300/300 [00:08<00:00, 34.28it/s]\n",
      "Sampling chain 1, 0 divergences: 100%|██████████████████████████████████████████████████████████| 300/300 [00:04<00:00, 62.86it/s]\n",
      "C:\\Users\\kehua\\AppData\\Local\\Programs\\Python\\python-venv\\37_env\\lib\\site-packages\\theano\\tensor\\basic.py:6611: FutureWarning: Using a non-tuple sequence for multidimensional indexing is deprecated; use `arr[tuple(seq)]` instead of `arr[seq]`. In the future this will be interpreted as an array index, `arr[np.array(seq)]`, which will result either in an error or a different result.\n",
      "  result[diagonal_slice] = x\n",
      "The acceptance probability does not match the target. It is 0.947658126958602, but should be close to 0.8. Try to increase the number of tuning steps.\n",
      "The acceptance probability does not match the target. It is 0.9430418938618694, but should be close to 0.8. Try to increase the number of tuning steps.\n",
      "C:\\Users\\kehua\\AppData\\Local\\Programs\\Python\\python-venv\\37_env\\lib\\site-packages\\pymc3\\sampling.py:1247: UserWarning: samples parameter is smaller than nchains times ndraws, some draws and/or chains may not be represented in the returned posterior predictive sample\n",
      "  \"samples parameter is smaller than nchains times ndraws, some draws \"\n",
      "100%|███████████████████████████████████████████████████████████████████████████████████████████| 100/100 [00:01<00:00, 74.25it/s]\n",
      "Only 100 samples in chain.\n",
      "Auto-assigning NUTS sampler...\n",
      "Initializing NUTS using jitter+adapt_diag...\n",
      "Sequential sampling (2 chains in 1 job)\n",
      "NUTS: [σ, η, ρ]\n",
      "Sampling chain 0, 0 divergences: 100%|██████████████████████████████████████████████████████████| 300/300 [00:08<00:00, 34.18it/s]\n",
      "Sampling chain 1, 0 divergences: 100%|██████████████████████████████████████████████████████████| 300/300 [00:04<00:00, 62.56it/s]\n",
      "C:\\Users\\kehua\\AppData\\Local\\Programs\\Python\\python-venv\\37_env\\lib\\site-packages\\theano\\tensor\\basic.py:6611: FutureWarning: Using a non-tuple sequence for multidimensional indexing is deprecated; use `arr[tuple(seq)]` instead of `arr[seq]`. In the future this will be interpreted as an array index, `arr[np.array(seq)]`, which will result either in an error or a different result.\n",
      "  result[diagonal_slice] = x\n",
      "The acceptance probability does not match the target. It is 0.947658126958602, but should be close to 0.8. Try to increase the number of tuning steps.\n",
      "The acceptance probability does not match the target. It is 0.9430418938618694, but should be close to 0.8. Try to increase the number of tuning steps.\n",
      "C:\\Users\\kehua\\AppData\\Local\\Programs\\Python\\python-venv\\37_env\\lib\\site-packages\\pymc3\\sampling.py:1247: UserWarning: samples parameter is smaller than nchains times ndraws, some draws and/or chains may not be represented in the returned posterior predictive sample\n",
      "  \"samples parameter is smaller than nchains times ndraws, some draws \"\n",
      "100%|███████████████████████████████████████████████████████████████████████████████████████████| 100/100 [00:01<00:00, 73.11it/s]\n"
     ]
    },
    {
     "name": "stdout",
     "output_type": "stream",
     "text": [
      "Fitting 7/3142\r"
     ]
    },
    {
     "name": "stderr",
     "output_type": "stream",
     "text": [
      "Only 100 samples in chain.\n",
      "Auto-assigning NUTS sampler...\n",
      "Initializing NUTS using jitter+adapt_diag...\n",
      "Sequential sampling (2 chains in 1 job)\n",
      "NUTS: [σ, η, ρ]\n",
      "Sampling chain 0, 0 divergences: 100%|██████████████████████████████████████████████████████████| 300/300 [00:08<00:00, 37.03it/s]\n",
      "Sampling chain 1, 0 divergences: 100%|██████████████████████████████████████████████████████████| 300/300 [00:03<00:00, 76.51it/s]\n",
      "C:\\Users\\kehua\\AppData\\Local\\Programs\\Python\\python-venv\\37_env\\lib\\site-packages\\theano\\tensor\\basic.py:6611: FutureWarning: Using a non-tuple sequence for multidimensional indexing is deprecated; use `arr[tuple(seq)]` instead of `arr[seq]`. In the future this will be interpreted as an array index, `arr[np.array(seq)]`, which will result either in an error or a different result.\n",
      "  result[diagonal_slice] = x\n",
      "The acceptance probability does not match the target. It is 0.879108959590309, but should be close to 0.8. Try to increase the number of tuning steps.\n",
      "The number of effective samples is smaller than 25% for some parameters.\n",
      "C:\\Users\\kehua\\AppData\\Local\\Programs\\Python\\python-venv\\37_env\\lib\\site-packages\\pymc3\\sampling.py:1247: UserWarning: samples parameter is smaller than nchains times ndraws, some draws and/or chains may not be represented in the returned posterior predictive sample\n",
      "  \"samples parameter is smaller than nchains times ndraws, some draws \"\n",
      "100%|███████████████████████████████████████████████████████████████████████████████████████████| 100/100 [00:01<00:00, 81.79it/s]\n",
      "Only 100 samples in chain.\n",
      "Auto-assigning NUTS sampler...\n",
      "Initializing NUTS using jitter+adapt_diag...\n",
      "Sequential sampling (2 chains in 1 job)\n",
      "NUTS: [σ, η, ρ]\n",
      "Sampling chain 0, 0 divergences: 100%|██████████████████████████████████████████████████████████| 300/300 [00:08<00:00, 36.17it/s]\n",
      "Sampling chain 1, 0 divergences: 100%|██████████████████████████████████████████████████████████| 300/300 [00:04<00:00, 72.38it/s]\n",
      "C:\\Users\\kehua\\AppData\\Local\\Programs\\Python\\python-venv\\37_env\\lib\\site-packages\\theano\\tensor\\basic.py:6611: FutureWarning: Using a non-tuple sequence for multidimensional indexing is deprecated; use `arr[tuple(seq)]` instead of `arr[seq]`. In the future this will be interpreted as an array index, `arr[np.array(seq)]`, which will result either in an error or a different result.\n",
      "  result[diagonal_slice] = x\n",
      "The rhat statistic is larger than 1.05 for some parameters. This indicates slight problems during sampling.\n",
      "The number of effective samples is smaller than 10% for some parameters.\n",
      "C:\\Users\\kehua\\AppData\\Local\\Programs\\Python\\python-venv\\37_env\\lib\\site-packages\\pymc3\\sampling.py:1247: UserWarning: samples parameter is smaller than nchains times ndraws, some draws and/or chains may not be represented in the returned posterior predictive sample\n",
      "  \"samples parameter is smaller than nchains times ndraws, some draws \"\n",
      "100%|███████████████████████████████████████████████████████████████████████████████████████████| 100/100 [00:01<00:00, 89.74it/s]\n",
      "Only 100 samples in chain.\n",
      "Auto-assigning NUTS sampler...\n",
      "Initializing NUTS using jitter+adapt_diag...\n",
      "Sequential sampling (2 chains in 1 job)\n",
      "NUTS: [σ, η, ρ]\n",
      "Sampling chain 0, 0 divergences: 100%|██████████████████████████████████████████████████████████| 300/300 [00:08<00:00, 36.39it/s]\n",
      "Sampling chain 1, 0 divergences: 100%|██████████████████████████████████████████████████████████| 300/300 [00:04<00:00, 73.34it/s]\n",
      "C:\\Users\\kehua\\AppData\\Local\\Programs\\Python\\python-venv\\37_env\\lib\\site-packages\\theano\\tensor\\basic.py:6611: FutureWarning: Using a non-tuple sequence for multidimensional indexing is deprecated; use `arr[tuple(seq)]` instead of `arr[seq]`. In the future this will be interpreted as an array index, `arr[np.array(seq)]`, which will result either in an error or a different result.\n",
      "  result[diagonal_slice] = x\n",
      "The rhat statistic is larger than 1.05 for some parameters. This indicates slight problems during sampling.\n",
      "The number of effective samples is smaller than 10% for some parameters.\n",
      "C:\\Users\\kehua\\AppData\\Local\\Programs\\Python\\python-venv\\37_env\\lib\\site-packages\\pymc3\\sampling.py:1247: UserWarning: samples parameter is smaller than nchains times ndraws, some draws and/or chains may not be represented in the returned posterior predictive sample\n",
      "  \"samples parameter is smaller than nchains times ndraws, some draws \"\n",
      "100%|███████████████████████████████████████████████████████████████████████████████████████████| 100/100 [00:01<00:00, 89.14it/s]\n"
     ]
    },
    {
     "name": "stdout",
     "output_type": "stream",
     "text": [
      "Fitting 8/3142\r"
     ]
    },
    {
     "name": "stderr",
     "output_type": "stream",
     "text": [
      "Only 100 samples in chain.\n",
      "Auto-assigning NUTS sampler...\n",
      "Initializing NUTS using jitter+adapt_diag...\n",
      "Sequential sampling (2 chains in 1 job)\n",
      "NUTS: [σ, η, ρ]\n",
      "Sampling chain 0, 0 divergences: 100%|██████████████████████████████████████████████████████████| 300/300 [00:05<00:00, 52.66it/s]\n",
      "Sampling chain 1, 0 divergences: 100%|██████████████████████████████████████████████████████████| 300/300 [00:04<00:00, 71.94it/s]\n",
      "C:\\Users\\kehua\\AppData\\Local\\Programs\\Python\\python-venv\\37_env\\lib\\site-packages\\theano\\tensor\\basic.py:6611: FutureWarning: Using a non-tuple sequence for multidimensional indexing is deprecated; use `arr[tuple(seq)]` instead of `arr[seq]`. In the future this will be interpreted as an array index, `arr[np.array(seq)]`, which will result either in an error or a different result.\n",
      "  result[diagonal_slice] = x\n",
      "C:\\Users\\kehua\\AppData\\Local\\Programs\\Python\\python-venv\\37_env\\lib\\site-packages\\pymc3\\sampling.py:1247: UserWarning: samples parameter is smaller than nchains times ndraws, some draws and/or chains may not be represented in the returned posterior predictive sample\n",
      "  \"samples parameter is smaller than nchains times ndraws, some draws \"\n",
      "100%|███████████████████████████████████████████████████████████████████████████████████████████| 100/100 [00:01<00:00, 68.71it/s]\n",
      "Only 100 samples in chain.\n",
      "Auto-assigning NUTS sampler...\n",
      "Initializing NUTS using jitter+adapt_diag...\n",
      "Sequential sampling (2 chains in 1 job)\n",
      "NUTS: [σ, η, ρ]\n",
      "Sampling chain 0, 0 divergences: 100%|██████████████████████████████████████████████████████████| 300/300 [00:05<00:00, 56.59it/s]\n",
      "Sampling chain 1, 0 divergences: 100%|██████████████████████████████████████████████████████████| 300/300 [00:04<00:00, 74.33it/s]\n",
      "C:\\Users\\kehua\\AppData\\Local\\Programs\\Python\\python-venv\\37_env\\lib\\site-packages\\theano\\tensor\\basic.py:6611: FutureWarning: Using a non-tuple sequence for multidimensional indexing is deprecated; use `arr[tuple(seq)]` instead of `arr[seq]`. In the future this will be interpreted as an array index, `arr[np.array(seq)]`, which will result either in an error or a different result.\n",
      "  result[diagonal_slice] = x\n",
      "The acceptance probability does not match the target. It is 0.8994424526182985, but should be close to 0.8. Try to increase the number of tuning steps.\n",
      "C:\\Users\\kehua\\AppData\\Local\\Programs\\Python\\python-venv\\37_env\\lib\\site-packages\\pymc3\\sampling.py:1247: UserWarning: samples parameter is smaller than nchains times ndraws, some draws and/or chains may not be represented in the returned posterior predictive sample\n",
      "  \"samples parameter is smaller than nchains times ndraws, some draws \"\n",
      "100%|███████████████████████████████████████████████████████████████████████████████████████████| 100/100 [00:01<00:00, 72.16it/s]\n",
      "Only 100 samples in chain.\n",
      "Auto-assigning NUTS sampler...\n",
      "Initializing NUTS using jitter+adapt_diag...\n",
      "Sequential sampling (2 chains in 1 job)\n",
      "NUTS: [σ, η, ρ]\n",
      "Sampling chain 0, 0 divergences: 100%|██████████████████████████████████████████████████████████| 300/300 [00:05<00:00, 56.34it/s]\n",
      "Sampling chain 1, 0 divergences: 100%|██████████████████████████████████████████████████████████| 300/300 [00:04<00:00, 73.72it/s]\n",
      "C:\\Users\\kehua\\AppData\\Local\\Programs\\Python\\python-venv\\37_env\\lib\\site-packages\\theano\\tensor\\basic.py:6611: FutureWarning: Using a non-tuple sequence for multidimensional indexing is deprecated; use `arr[tuple(seq)]` instead of `arr[seq]`. In the future this will be interpreted as an array index, `arr[np.array(seq)]`, which will result either in an error or a different result.\n",
      "  result[diagonal_slice] = x\n",
      "The acceptance probability does not match the target. It is 0.8994424526182985, but should be close to 0.8. Try to increase the number of tuning steps.\n",
      "C:\\Users\\kehua\\AppData\\Local\\Programs\\Python\\python-venv\\37_env\\lib\\site-packages\\pymc3\\sampling.py:1247: UserWarning: samples parameter is smaller than nchains times ndraws, some draws and/or chains may not be represented in the returned posterior predictive sample\n",
      "  \"samples parameter is smaller than nchains times ndraws, some draws \"\n",
      "100%|███████████████████████████████████████████████████████████████████████████████████████████| 100/100 [00:01<00:00, 71.28it/s]\n"
     ]
    },
    {
     "name": "stdout",
     "output_type": "stream",
     "text": [
      "Fitting 10/3142\r"
     ]
    },
    {
     "name": "stderr",
     "output_type": "stream",
     "text": [
      "Only 100 samples in chain.\n",
      "Auto-assigning NUTS sampler...\n",
      "Initializing NUTS using jitter+adapt_diag...\n",
      "Sequential sampling (2 chains in 1 job)\n",
      "NUTS: [σ, η, ρ]\n",
      "Sampling chain 0, 64 divergences: 100%|█████████████████████████████████████████████████████████| 300/300 [01:26<00:00,  3.47it/s]\n",
      "Sampling chain 1, 99 divergences: 100%|█████████████████████████████████████████████████████████| 300/300 [00:41<00:00,  7.20it/s]\n",
      "C:\\Users\\kehua\\AppData\\Local\\Programs\\Python\\python-venv\\37_env\\lib\\site-packages\\theano\\tensor\\basic.py:6611: FutureWarning: Using a non-tuple sequence for multidimensional indexing is deprecated; use `arr[tuple(seq)]` instead of `arr[seq]`. In the future this will be interpreted as an array index, `arr[np.array(seq)]`, which will result either in an error or a different result.\n",
      "  result[diagonal_slice] = x\n",
      "There were 65 divergences after tuning. Increase `target_accept` or reparameterize.\n",
      "The acceptance probability does not match the target. It is 0.7099790784524737, but should be close to 0.8. Try to increase the number of tuning steps.\n",
      "The chain reached the maximum tree depth. Increase max_treedepth, increase target_accept or reparameterize.\n",
      "There were 165 divergences after tuning. Increase `target_accept` or reparameterize.\n",
      "The acceptance probability does not match the target. It is 0.4646398254134182, but should be close to 0.8. Try to increase the number of tuning steps.\n",
      "The chain reached the maximum tree depth. Increase max_treedepth, increase target_accept or reparameterize.\n",
      "The rhat statistic is larger than 1.4 for some parameters. The sampler did not converge.\n",
      "The number of effective samples is smaller than 10% for some parameters.\n",
      "C:\\Users\\kehua\\AppData\\Local\\Programs\\Python\\python-venv\\37_env\\lib\\site-packages\\pymc3\\sampling.py:1247: UserWarning: samples parameter is smaller than nchains times ndraws, some draws and/or chains may not be represented in the returned posterior predictive sample\n",
      "  \"samples parameter is smaller than nchains times ndraws, some draws \"\n",
      "100%|███████████████████████████████████████████████████████████████████████████████████████████| 100/100 [00:01<00:00, 70.06it/s]\n",
      "Only 100 samples in chain.\n",
      "Auto-assigning NUTS sampler...\n",
      "Initializing NUTS using jitter+adapt_diag...\n",
      "Sequential sampling (2 chains in 1 job)\n",
      "NUTS: [σ, η, ρ]\n",
      "Sampling chain 0, 79 divergences: 100%|█████████████████████████████████████████████████████████| 300/300 [01:02<00:00,  4.77it/s]\n",
      "Sampling chain 1, 99 divergences: 100%|█████████████████████████████████████████████████████████| 300/300 [00:41<00:00,  7.28it/s]\n",
      "C:\\Users\\kehua\\AppData\\Local\\Programs\\Python\\python-venv\\37_env\\lib\\site-packages\\theano\\tensor\\basic.py:6611: FutureWarning: Using a non-tuple sequence for multidimensional indexing is deprecated; use `arr[tuple(seq)]` instead of `arr[seq]`. In the future this will be interpreted as an array index, `arr[np.array(seq)]`, which will result either in an error or a different result.\n",
      "  result[diagonal_slice] = x\n",
      "There were 80 divergences after tuning. Increase `target_accept` or reparameterize.\n",
      "The acceptance probability does not match the target. It is 0.6409149116357591, but should be close to 0.8. Try to increase the number of tuning steps.\n",
      "The chain reached the maximum tree depth. Increase max_treedepth, increase target_accept or reparameterize.\n",
      "There were 180 divergences after tuning. Increase `target_accept` or reparameterize.\n",
      "The acceptance probability does not match the target. It is 0.4173589670226681, but should be close to 0.8. Try to increase the number of tuning steps.\n",
      "The chain reached the maximum tree depth. Increase max_treedepth, increase target_accept or reparameterize.\n",
      "The rhat statistic is larger than 1.4 for some parameters. The sampler did not converge.\n",
      "The number of effective samples is smaller than 10% for some parameters.\n",
      "C:\\Users\\kehua\\AppData\\Local\\Programs\\Python\\python-venv\\37_env\\lib\\site-packages\\pymc3\\sampling.py:1247: UserWarning: samples parameter is smaller than nchains times ndraws, some draws and/or chains may not be represented in the returned posterior predictive sample\n",
      "  \"samples parameter is smaller than nchains times ndraws, some draws \"\n",
      "100%|███████████████████████████████████████████████████████████████████████████████████████████| 100/100 [00:01<00:00, 90.39it/s]\n",
      "Only 100 samples in chain.\n",
      "Auto-assigning NUTS sampler...\n",
      "Initializing NUTS using jitter+adapt_diag...\n",
      "Sequential sampling (2 chains in 1 job)\n",
      "NUTS: [σ, η, ρ]\n",
      "Sampling chain 0, 79 divergences: 100%|█████████████████████████████████████████████████████████| 300/300 [01:02<00:00,  4.82it/s]\n",
      "Sampling chain 1, 0 divergences:  21%|████████████▍                                              | 63/300 [00:25<01:34,  2.51it/s]\n",
      "There were 80 divergences after tuning. Increase `target_accept` or reparameterize.\n",
      "The acceptance probability does not match the target. It is 0.6409149116357591, but should be close to 0.8. Try to increase the number of tuning steps.\n",
      "The chain reached the maximum tree depth. Increase max_treedepth, increase target_accept or reparameterize.\n",
      "Only one chain was sampled, this makes it impossible to run some convergence checks\n",
      "100%|███████████████████████████████████████████████████████████████████████████████████████████| 100/100 [00:01<00:00, 89.93it/s]\n"
     ]
    },
    {
     "name": "stdout",
     "output_type": "stream",
     "text": [
      "Fitting 12/3142\r"
     ]
    },
    {
     "name": "stderr",
     "output_type": "stream",
     "text": [
      "Only 100 samples in chain.\n",
      "Auto-assigning NUTS sampler...\n",
      "Initializing NUTS using jitter+adapt_diag...\n",
      "Sequential sampling (2 chains in 1 job)\n",
      "NUTS: [σ, η, ρ]\n",
      "Sampling chain 0, 0 divergences:  34%|███████████████████▋                                      | 102/300 [00:06<00:25,  7.78it/s]C:\\Users\\kehua\\AppData\\Local\\Programs\\Python\\python-venv\\37_env\\lib\\site-packages\\numpy\\core\\fromnumeric.py:3335: RuntimeWarning: Mean of empty slice.\n",
      "  out=out, **kwargs)\n",
      "Sampling chain 0, 0 divergences:  35%|████████████████████▎                                     | 105/300 [00:06<00:12, 15.57it/s]\n",
      "Only one chain was sampled, this makes it impossible to run some convergence checks\n",
      "  0%|                                                                                                     | 0/100 [00:00<?, ?it/s]\n"
     ]
    },
    {
     "ename": "IndexError",
     "evalue": "index 0 is out of bounds for axis 0 with size 0",
     "output_type": "error",
     "traceback": [
      "\u001b[1;31m---------------------------------------------------------------------------\u001b[0m",
      "\u001b[1;31mIndexError\u001b[0m                                Traceback (most recent call last)",
      "\u001b[1;32m<ipython-input-5-ec7c369d4d24>\u001b[0m in \u001b[0;36m<module>\u001b[1;34m\u001b[0m\n\u001b[0;32m      1\u001b[0m \u001b[0mpipeline\u001b[0m \u001b[1;33m=\u001b[0m \u001b[0mp\u001b[0m\u001b[1;33m.\u001b[0m\u001b[0mPipeline\u001b[0m\u001b[1;33m(\u001b[0m\u001b[0mdata_format\u001b[0m\u001b[1;33m,\u001b[0m \u001b[0mmodel_params\u001b[0m\u001b[1;33m,\u001b[0m \u001b[0mhorizon\u001b[0m\u001b[1;33m,\u001b[0m \u001b[0muse_c\u001b[0m\u001b[1;33m)\u001b[0m\u001b[1;33m\u001b[0m\u001b[1;33m\u001b[0m\u001b[0m\n\u001b[1;32m----> 2\u001b[1;33m \u001b[0mpipeline\u001b[0m\u001b[1;33m.\u001b[0m\u001b[0mrun\u001b[0m\u001b[1;33m(\u001b[0m\u001b[1;33m)\u001b[0m\u001b[1;33m\u001b[0m\u001b[1;33m\u001b[0m\u001b[0m\n\u001b[0m",
      "\u001b[1;32m~\\Documents\\Caltech\\CS156-COVID19\\curvefit_pipeline.py\u001b[0m in \u001b[0;36mrun\u001b[1;34m(self)\u001b[0m\n\u001b[0;32m    104\u001b[0m             \u001b[0mself\u001b[0m\u001b[1;33m.\u001b[0m\u001b[0mblind_run\u001b[0m\u001b[1;33m(\u001b[0m\u001b[1;33m)\u001b[0m\u001b[1;33m\u001b[0m\u001b[1;33m\u001b[0m\u001b[0m\n\u001b[0;32m    105\u001b[0m         \u001b[1;32melse\u001b[0m\u001b[1;33m:\u001b[0m\u001b[1;33m\u001b[0m\u001b[1;33m\u001b[0m\u001b[0m\n\u001b[1;32m--> 106\u001b[1;33m             \u001b[0mself\u001b[0m\u001b[1;33m.\u001b[0m\u001b[0mwarm_run\u001b[0m\u001b[1;33m(\u001b[0m\u001b[1;33m)\u001b[0m\u001b[1;33m\u001b[0m\u001b[1;33m\u001b[0m\u001b[0m\n\u001b[0m\u001b[0;32m    107\u001b[0m \u001b[1;33m\u001b[0m\u001b[0m\n\u001b[0;32m    108\u001b[0m     \u001b[1;32mdef\u001b[0m \u001b[0mblind_run\u001b[0m\u001b[1;33m(\u001b[0m\u001b[0mself\u001b[0m\u001b[1;33m)\u001b[0m\u001b[1;33m:\u001b[0m\u001b[1;33m\u001b[0m\u001b[1;33m\u001b[0m\u001b[0m\n",
      "\u001b[1;32m~\\Documents\\Caltech\\CS156-COVID19\\curvefit_pipeline.py\u001b[0m in \u001b[0;36mwarm_run\u001b[1;34m(self)\u001b[0m\n\u001b[0;32m    187\u001b[0m \u001b[1;33m\u001b[0m\u001b[0m\n\u001b[0;32m    188\u001b[0m             \u001b[1;32mif\u001b[0m \u001b[0mself\u001b[0m\u001b[1;33m.\u001b[0m\u001b[0muse_gp\u001b[0m\u001b[1;33m:\u001b[0m\u001b[1;33m\u001b[0m\u001b[1;33m\u001b[0m\u001b[0m\n\u001b[1;32m--> 189\u001b[1;33m                 \u001b[0mmodel\u001b[0m\u001b[1;33m.\u001b[0m\u001b[0mfit\u001b[0m\u001b[1;33m(\u001b[0m\u001b[0mX_train\u001b[0m\u001b[1;33m,\u001b[0m \u001b[0my_train\u001b[0m\u001b[1;33m,\u001b[0m \u001b[0munsmoothed\u001b[0m\u001b[1;33m,\u001b[0m \u001b[1;33m**\u001b[0m\u001b[0mself\u001b[0m\u001b[1;33m.\u001b[0m\u001b[0mgp_params\u001b[0m\u001b[1;33m)\u001b[0m\u001b[1;33m\u001b[0m\u001b[1;33m\u001b[0m\u001b[0m\n\u001b[0m\u001b[0;32m    190\u001b[0m             \u001b[1;32melse\u001b[0m\u001b[1;33m:\u001b[0m\u001b[1;33m\u001b[0m\u001b[1;33m\u001b[0m\u001b[0m\n\u001b[0;32m    191\u001b[0m                 \u001b[0mmodel\u001b[0m\u001b[1;33m.\u001b[0m\u001b[0mfit\u001b[0m\u001b[1;33m(\u001b[0m\u001b[0mX_train\u001b[0m\u001b[1;33m,\u001b[0m \u001b[0my_train\u001b[0m\u001b[1;33m)\u001b[0m\u001b[1;33m\u001b[0m\u001b[1;33m\u001b[0m\u001b[0m\n",
      "\u001b[1;32m~\\Documents\\Caltech\\CS156-COVID19\\curvefit_models.py\u001b[0m in \u001b[0;36mfit\u001b[1;34m(self, X_train, y_train, unsmoothed_y_train, **gp_params)\u001b[0m\n\u001b[0;32m    123\u001b[0m         \u001b[0moutputs\u001b[0m \u001b[1;33m=\u001b[0m \u001b[1;33m[\u001b[0m\u001b[1;33m]\u001b[0m\u001b[1;33m\u001b[0m\u001b[1;33m\u001b[0m\u001b[0m\n\u001b[0;32m    124\u001b[0m         \u001b[1;32mfor\u001b[0m \u001b[0mi\u001b[0m \u001b[1;32min\u001b[0m \u001b[0mrange\u001b[0m\u001b[1;33m(\u001b[0m\u001b[0mtrials\u001b[0m\u001b[1;33m)\u001b[0m\u001b[1;33m:\u001b[0m\u001b[1;33m\u001b[0m\u001b[1;33m\u001b[0m\u001b[0m\n\u001b[1;32m--> 125\u001b[1;33m             \u001b[0moutput\u001b[0m \u001b[1;33m=\u001b[0m \u001b[0mself\u001b[0m\u001b[1;33m.\u001b[0m\u001b[0mfit_gp\u001b[0m\u001b[1;33m(\u001b[0m\u001b[0mX_train\u001b[0m\u001b[1;33m,\u001b[0m \u001b[0mresiduals\u001b[0m\u001b[1;33m,\u001b[0m \u001b[1;33m**\u001b[0m\u001b[0mgp_params\u001b[0m\u001b[1;33m)\u001b[0m\u001b[1;33m\u001b[0m\u001b[1;33m\u001b[0m\u001b[0m\n\u001b[0m\u001b[0;32m    126\u001b[0m             \u001b[0moutputs\u001b[0m\u001b[1;33m.\u001b[0m\u001b[0mappend\u001b[0m\u001b[1;33m(\u001b[0m\u001b[0moutput\u001b[0m\u001b[1;33m)\u001b[0m\u001b[1;33m\u001b[0m\u001b[1;33m\u001b[0m\u001b[0m\n\u001b[0;32m    127\u001b[0m         \u001b[0moutputs\u001b[0m \u001b[1;33m=\u001b[0m \u001b[0mnp\u001b[0m\u001b[1;33m.\u001b[0m\u001b[0marray\u001b[0m\u001b[1;33m(\u001b[0m\u001b[0moutputs\u001b[0m\u001b[1;33m)\u001b[0m\u001b[1;33m\u001b[0m\u001b[1;33m\u001b[0m\u001b[0m\n",
      "\u001b[1;32m~\\Documents\\Caltech\\CS156-COVID19\\curvefit_models.py\u001b[0m in \u001b[0;36mfit_gp\u001b[1;34m(self, X_train, residuals, **gp_params)\u001b[0m\n\u001b[0;32m    181\u001b[0m                 self.X_pred.reshape(-1, 1), pred_noise=True)\n\u001b[0;32m    182\u001b[0m             gp_samples = pm.sample_posterior_predictive(expnorm_gp_trace, \n\u001b[1;32m--> 183\u001b[1;33m                 vars=[expnorm_deaths_pred], samples=samples, random_seed=42)\n\u001b[0m\u001b[0;32m    184\u001b[0m \u001b[1;33m\u001b[0m\u001b[0m\n\u001b[0;32m    185\u001b[0m         \u001b[0mpercentiles\u001b[0m \u001b[1;33m=\u001b[0m \u001b[1;33m[\u001b[0m\u001b[0mp\u001b[0m \u001b[1;32mfor\u001b[0m \u001b[0mp\u001b[0m \u001b[1;32min\u001b[0m \u001b[0mrange\u001b[0m\u001b[1;33m(\u001b[0m\u001b[1;36m10\u001b[0m\u001b[1;33m,\u001b[0m \u001b[1;36m100\u001b[0m\u001b[1;33m,\u001b[0m \u001b[1;36m10\u001b[0m\u001b[1;33m)\u001b[0m\u001b[1;33m]\u001b[0m\u001b[1;33m\u001b[0m\u001b[1;33m\u001b[0m\u001b[0m\n",
      "\u001b[1;32m~\\AppData\\Local\\Programs\\Python\\python-venv\\37_env\\lib\\site-packages\\pymc3\\sampling.py\u001b[0m in \u001b[0;36msample_posterior_predictive\u001b[1;34m(trace, samples, model, vars, var_names, size, keep_size, random_seed, progressbar)\u001b[0m\n\u001b[0;32m   1277\u001b[0m                 \u001b[0mparam\u001b[0m \u001b[1;33m=\u001b[0m \u001b[0mtrace\u001b[0m\u001b[1;33m.\u001b[0m\u001b[0m_straces\u001b[0m\u001b[1;33m[\u001b[0m\u001b[0mchain_idx\u001b[0m \u001b[1;33m%\u001b[0m \u001b[0mnchain\u001b[0m\u001b[1;33m]\u001b[0m\u001b[1;33m.\u001b[0m\u001b[0mpoint\u001b[0m\u001b[1;33m(\u001b[0m\u001b[0mpoint_idx\u001b[0m\u001b[1;33m)\u001b[0m\u001b[1;33m\u001b[0m\u001b[1;33m\u001b[0m\u001b[0m\n\u001b[0;32m   1278\u001b[0m             \u001b[1;32melse\u001b[0m\u001b[1;33m:\u001b[0m\u001b[1;33m\u001b[0m\u001b[1;33m\u001b[0m\u001b[0m\n\u001b[1;32m-> 1279\u001b[1;33m                 \u001b[0mparam\u001b[0m \u001b[1;33m=\u001b[0m \u001b[0mtrace\u001b[0m\u001b[1;33m[\u001b[0m\u001b[0midx\u001b[0m \u001b[1;33m%\u001b[0m \u001b[0mlen_trace\u001b[0m\u001b[1;33m]\u001b[0m\u001b[1;33m\u001b[0m\u001b[1;33m\u001b[0m\u001b[0m\n\u001b[0m\u001b[0;32m   1280\u001b[0m \u001b[1;33m\u001b[0m\u001b[0m\n\u001b[0;32m   1281\u001b[0m             \u001b[0mvalues\u001b[0m \u001b[1;33m=\u001b[0m \u001b[0mdraw_values\u001b[0m\u001b[1;33m(\u001b[0m\u001b[0mvars\u001b[0m\u001b[1;33m,\u001b[0m \u001b[0mpoint\u001b[0m\u001b[1;33m=\u001b[0m\u001b[0mparam\u001b[0m\u001b[1;33m,\u001b[0m \u001b[0msize\u001b[0m\u001b[1;33m=\u001b[0m\u001b[0msize\u001b[0m\u001b[1;33m)\u001b[0m\u001b[1;33m\u001b[0m\u001b[1;33m\u001b[0m\u001b[0m\n",
      "\u001b[1;32m~\\AppData\\Local\\Programs\\Python\\python-venv\\37_env\\lib\\site-packages\\pymc3\\backends\\base.py\u001b[0m in \u001b[0;36m__getitem__\u001b[1;34m(self, idx)\u001b[0m\n\u001b[0;32m    306\u001b[0m \u001b[1;33m\u001b[0m\u001b[0m\n\u001b[0;32m    307\u001b[0m         \u001b[1;32mtry\u001b[0m\u001b[1;33m:\u001b[0m\u001b[1;33m\u001b[0m\u001b[1;33m\u001b[0m\u001b[0m\n\u001b[1;32m--> 308\u001b[1;33m             \u001b[1;32mreturn\u001b[0m \u001b[0mself\u001b[0m\u001b[1;33m.\u001b[0m\u001b[0mpoint\u001b[0m\u001b[1;33m(\u001b[0m\u001b[0mint\u001b[0m\u001b[1;33m(\u001b[0m\u001b[0midx\u001b[0m\u001b[1;33m)\u001b[0m\u001b[1;33m)\u001b[0m\u001b[1;33m\u001b[0m\u001b[1;33m\u001b[0m\u001b[0m\n\u001b[0m\u001b[0;32m    309\u001b[0m         \u001b[1;32mexcept\u001b[0m \u001b[1;33m(\u001b[0m\u001b[0mValueError\u001b[0m\u001b[1;33m,\u001b[0m \u001b[0mTypeError\u001b[0m\u001b[1;33m)\u001b[0m\u001b[1;33m:\u001b[0m  \u001b[1;31m# Passed variable or variable name.\u001b[0m\u001b[1;33m\u001b[0m\u001b[1;33m\u001b[0m\u001b[0m\n\u001b[0;32m    310\u001b[0m             \u001b[1;32mpass\u001b[0m\u001b[1;33m\u001b[0m\u001b[1;33m\u001b[0m\u001b[0m\n",
      "\u001b[1;32m~\\AppData\\Local\\Programs\\Python\\python-venv\\37_env\\lib\\site-packages\\pymc3\\backends\\base.py\u001b[0m in \u001b[0;36mpoint\u001b[1;34m(self, idx, chain)\u001b[0m\n\u001b[0;32m    528\u001b[0m         \u001b[1;32mif\u001b[0m \u001b[0mchain\u001b[0m \u001b[1;32mis\u001b[0m \u001b[1;32mNone\u001b[0m\u001b[1;33m:\u001b[0m\u001b[1;33m\u001b[0m\u001b[1;33m\u001b[0m\u001b[0m\n\u001b[0;32m    529\u001b[0m             \u001b[0mchain\u001b[0m \u001b[1;33m=\u001b[0m \u001b[0mself\u001b[0m\u001b[1;33m.\u001b[0m\u001b[0mchains\u001b[0m\u001b[1;33m[\u001b[0m\u001b[1;33m-\u001b[0m\u001b[1;36m1\u001b[0m\u001b[1;33m]\u001b[0m\u001b[1;33m\u001b[0m\u001b[1;33m\u001b[0m\u001b[0m\n\u001b[1;32m--> 530\u001b[1;33m         \u001b[1;32mreturn\u001b[0m \u001b[0mself\u001b[0m\u001b[1;33m.\u001b[0m\u001b[0m_straces\u001b[0m\u001b[1;33m[\u001b[0m\u001b[0mchain\u001b[0m\u001b[1;33m]\u001b[0m\u001b[1;33m.\u001b[0m\u001b[0mpoint\u001b[0m\u001b[1;33m(\u001b[0m\u001b[0midx\u001b[0m\u001b[1;33m)\u001b[0m\u001b[1;33m\u001b[0m\u001b[1;33m\u001b[0m\u001b[0m\n\u001b[0m\u001b[0;32m    531\u001b[0m \u001b[1;33m\u001b[0m\u001b[0m\n\u001b[0;32m    532\u001b[0m     \u001b[1;32mdef\u001b[0m \u001b[0mpoints\u001b[0m\u001b[1;33m(\u001b[0m\u001b[0mself\u001b[0m\u001b[1;33m,\u001b[0m \u001b[0mchains\u001b[0m\u001b[1;33m=\u001b[0m\u001b[1;32mNone\u001b[0m\u001b[1;33m)\u001b[0m\u001b[1;33m:\u001b[0m\u001b[1;33m\u001b[0m\u001b[1;33m\u001b[0m\u001b[0m\n",
      "\u001b[1;32m~\\AppData\\Local\\Programs\\Python\\python-venv\\37_env\\lib\\site-packages\\pymc3\\backends\\ndarray.py\u001b[0m in \u001b[0;36mpoint\u001b[1;34m(self, idx)\u001b[0m\n\u001b[0;32m    320\u001b[0m         \u001b[0midx\u001b[0m \u001b[1;33m=\u001b[0m \u001b[0mint\u001b[0m\u001b[1;33m(\u001b[0m\u001b[0midx\u001b[0m\u001b[1;33m)\u001b[0m\u001b[1;33m\u001b[0m\u001b[1;33m\u001b[0m\u001b[0m\n\u001b[0;32m    321\u001b[0m         return {varname: values[idx]\n\u001b[1;32m--> 322\u001b[1;33m                 for varname, values in self.samples.items()}\n\u001b[0m\u001b[0;32m    323\u001b[0m \u001b[1;33m\u001b[0m\u001b[0m\n\u001b[0;32m    324\u001b[0m \u001b[1;33m\u001b[0m\u001b[0m\n",
      "\u001b[1;32m~\\AppData\\Local\\Programs\\Python\\python-venv\\37_env\\lib\\site-packages\\pymc3\\backends\\ndarray.py\u001b[0m in \u001b[0;36m<dictcomp>\u001b[1;34m(.0)\u001b[0m\n\u001b[0;32m    320\u001b[0m         \u001b[0midx\u001b[0m \u001b[1;33m=\u001b[0m \u001b[0mint\u001b[0m\u001b[1;33m(\u001b[0m\u001b[0midx\u001b[0m\u001b[1;33m)\u001b[0m\u001b[1;33m\u001b[0m\u001b[1;33m\u001b[0m\u001b[0m\n\u001b[0;32m    321\u001b[0m         return {varname: values[idx]\n\u001b[1;32m--> 322\u001b[1;33m                 for varname, values in self.samples.items()}\n\u001b[0m\u001b[0;32m    323\u001b[0m \u001b[1;33m\u001b[0m\u001b[0m\n\u001b[0;32m    324\u001b[0m \u001b[1;33m\u001b[0m\u001b[0m\n",
      "\u001b[1;31mIndexError\u001b[0m: index 0 is out of bounds for axis 0 with size 0"
     ]
    }
   ],
   "source": [
    "pipeline = p.Pipeline(data_format, model_params, horizon, use_c)\n",
    "pipeline.run()"
   ]
  },
  {
   "cell_type": "code",
   "execution_count": 81,
   "metadata": {},
   "outputs": [
    {
     "name": "stdout",
     "output_type": "stream",
     "text": [
      "\n",
      "Predicting 3142/3142\r"
     ]
    }
   ],
   "source": [
    "pipeline.predict(quantiles=quantiles, samples=samples)"
   ]
  },
  {
   "cell_type": "code",
   "execution_count": 82,
   "metadata": {},
   "outputs": [
    {
     "name": "stdout",
     "output_type": "stream",
     "text": [
      "writing 3142/3142\r"
     ]
    }
   ],
   "source": [
    "pipeline.write_to_file(output_file, sample_file, quantiles)"
   ]
  },
  {
   "cell_type": "code",
   "execution_count": 69,
   "metadata": {},
   "outputs": [
    {
     "name": "stdout",
     "output_type": "stream",
     "text": [
      "Predicting 3142/3142\r"
     ]
    }
   ],
   "source": [
    "pred2 = pipeline.get_combined_predictions(quantiles=quantiles, samples=250)"
   ]
  },
  {
   "cell_type": "code",
   "execution_count": 21,
   "metadata": {},
   "outputs": [],
   "source": [
    "pipeline.save('saved_pipeline.pl')"
   ]
  },
  {
   "cell_type": "code",
   "execution_count": 20,
   "metadata": {},
   "outputs": [],
   "source": [
    "pipeline = pipeline.load('saved_pipeline.pl')"
   ]
  },
  {
   "cell_type": "code",
   "execution_count": 32,
   "metadata": {},
   "outputs": [
    {
     "data": {
      "text/plain": [
       "[<matplotlib.lines.Line2D at 0x254135819a0>]"
      ]
     },
     "execution_count": 32,
     "metadata": {},
     "output_type": "execute_result"
    },
    {
     "data": {
      "image/png": "[encoded data removed]",
      "text/plain": [
       "<Figure size 432x288 with 1 Axes>"
      ]
     },
     "metadata": {
      "needs_background": "light"
     },
     "output_type": "display_data"
    }
   ],
   "source": [
    "# 1208**, 1200, 716, 1382, 204, 1791, 1868, 1858, 2969, 1887, 1308, 1224, 1776-1794, 2289**, 2848, 3087**, 1138*, 1280, 1293**, 1870**, 2312!!, 2315!!\n",
    "county = 1858\n",
    "x = np.arange(0, pred2[county].shape[0])\n",
    "y = pred2[county][:, 3]\n",
    "plt.plot(x, y)\n",
    "\n",
    "y = pred2[county][:, 4]\n",
    "plt.plot(x, y)\n",
    "\n",
    "y = pred2[county][:, 8]\n",
    "plt.plot(x, y)\n",
    "\n",
    "d = pipeline.data.daily_change[county]\n",
    "x = np.linspace(0, d.shape[0] - 1, d.shape[0])\n",
    "y = d\n",
    "plt.plot(x, y)"
   ]
  },
  {
   "cell_type": "code",
   "execution_count": null,
   "metadata": {},
   "outputs": [],
   "source": []
  }
 ],
 "metadata": {
  "kernelspec": {
   "display_name": "37_env",
   "language": "python",
   "name": "37_env"
  },
  "language_info": {
   "codemirror_mode": {
    "name": "ipython",
    "version": 3
   },
   "file_extension": ".py",
   "mimetype": "text/x-python",
   "name": "python",
   "nbconvert_exporter": "python",
   "pygments_lexer": "ipython3",
   "version": "3.7.6"
  }
 },
 "nbformat": 4,
 "nbformat_minor": 4
}
