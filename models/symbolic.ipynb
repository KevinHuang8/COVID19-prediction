{
 "cells": [
  {
   "cell_type": "code",
   "execution_count": 18,
   "metadata": {},
   "outputs": [],
   "source": [
    "import sys\n",
    "sys.path.append('../')\n",
    "import numpy as np\n",
    "import importlib\n",
    "import dataloader as u\n",
    "import matplotlib.pyplot as plt\n",
    "import subprocess"
   ]
  },
  {
   "cell_type": "code",
   "execution_count": 13,
   "metadata": {},
   "outputs": [],
   "source": [
    "datadict = u.load_covid_timeseries(smoothing=3, cases_cutoff=5)\n",
    "cases = datadict['cases_raw']\n",
    "deaths = datadict['deaths_raw']"
   ]
  },
  {
   "cell_type": "code",
   "execution_count": 36,
   "metadata": {},
   "outputs": [
    {
     "name": "stdout",
     "output_type": "stream",
     "text": [
      "[  21.   40.   60.   92.  124.  149.  216.  253.  305.  376.  447.  499.\n",
      "  590.  685.  813.  948. 1129. 1344. 1400. 1759. 1848. 2116. 2116. 2948.\n",
      " 3208. 3358. 3426. 3466. 3878. 4026. 4204. 4345. 4463. 4571. 4723. 4800.\n",
      " 4870. 4983. 5070. 5150. 5204. 5279. 5385. 5433. 5460. 5609. 5671. 5717.\n",
      " 5777. 5791. 5820. 5851. 5878. 5896.]\n"
     ]
    }
   ],
   "source": [
    "county = 1868\n",
    "z = deaths[county] \n",
    "z = z[z != 0]\n",
    "init = [z[0]]\n",
    "z1 = np.diff(z)\n",
    "init.append(z1[0])\n",
    "z2 = np.diff(z1)\n",
    "print(z)"
   ]
  },
  {
   "cell_type": "code",
   "execution_count": 38,
   "metadata": {},
   "outputs": [
    {
     "data": {
      "text/plain": [
       "[<matplotlib.lines.Line2D at 0x1e081ebe520>]"
      ]
     },
     "execution_count": 38,
     "metadata": {},
     "output_type": "execute_result"
    },
    {
     "data": {
      "image/png": "[encoded data removed]",
      "text/plain": [
       "<Figure size 432x288 with 1 Axes>"
      ]
     },
     "metadata": {
      "needs_background": "light"
     },
     "output_type": "display_data"
    }
   ],
   "source": [
    "y = z\n",
    "x = np.arange(0, y.shape[0])\n",
    "plt.plot(x, y)"
   ]
  },
  {
   "cell_type": "code",
   "execution_count": 39,
   "metadata": {},
   "outputs": [],
   "source": [
    "series = z\n",
    "validation_steps = 10\n",
    "\n",
    "m = series.shape[0] - validation_steps\n",
    "x = np.arange(0, m)\n",
    "n = 1\n",
    "\n",
    "with open('deaths.in', 'w+') as file:\n",
    "    file.write(f'{m}\\t{n}\\n')\n",
    "    for i in range(m):\n",
    "        file.write(f'{series[i]}\\t{x[i]}\\n')"
   ]
  },
  {
   "cell_type": "code",
   "execution_count": 56,
   "metadata": {},
   "outputs": [],
   "source": [
    "result = subprocess.check_output(['../main', '-t', 'deaths.in', '-f', '12'])"
   ]
  },
  {
   "cell_type": "code",
   "execution_count": 57,
   "metadata": {},
   "outputs": [
    {
     "name": "stdout",
     "output_type": "stream",
     "text": [
      "Complete Command-line Arguments:../main -t deaths.in -f 12 \r\n",
      "Train File: deaths.in\r\n",
      "Fraction's Depth: 12\r\n",
      "Number of valid inputs: 44, Number of variables: 1\r\n",
      "Data Separating into Train-Test: 75-25 split\r\n",
      "Train data:: Number of Samples: 33, Number of Variables: 1\r\n",
      "Test data:: Number of Samples: 11, Number of Variables: 1\r\n",
      "==================================================\r\n",
      "BestFitness\t 1.3976e+005\tMSE_Train\t1.3976e+005\tNMSE_Train\t0\r\n",
      "MSE_Test\t1.3869e+005\tNMSE_Test\t0.02597\tSolution_Size\t0\r\n",
      "${-699.02}+\\cfrac{{726.51}}{{429.14}+\\cfrac{{-2709}}{{14238}+\\cfrac{{418.61}}{{-3131.9}+\\cfrac{{-4456}}{{-2073.2}+\\cfrac{{-615.7}}{{-3823.7}+\\cfrac{{-1428.2}}{{-633.04}+\\cfrac{{-281.86}}{{-2359.6}+\\cfrac{{-660.19}}{{72.326}+\\cfrac{{285.56}}{{710.63}+\\cfrac{{872.74}}{{979.82}+\\cfrac{{1280.3}}{{2386.5}+\\cfrac{{2474.5}}{{1677.8}}}}}}}}}}}}}$\r\n",
      "(-699.02)+(726.51)/((429.14)+(-2709)/((14238)+(418.61)/((-3131.9)+(-4456)/((-2073.2)+(-615.7)/((-3823.7)+(-1428.2)/((-633.04)+(-281.86)/((-2359.6)+(-660.19)/((72.326)+(285.56)/((710.63)+(872.74)/((979.82)+(1280.3)/((2386.5)+(2474.5)/((1677.8)))))))))))))\r\n",
      "\r\n",
      "==================================================\r\n",
      "\n"
     ]
    }
   ],
   "source": [
    "print(result.decode('utf-8'))"
   ]
  },
  {
   "cell_type": "code",
   "execution_count": 58,
   "metadata": {},
   "outputs": [
    {
     "data": {
      "text/plain": [
       "[<matplotlib.lines.Line2D at 0x1e082029a30>]"
      ]
     },
     "execution_count": 58,
     "metadata": {},
     "output_type": "execute_result"
    },
    {
     "data": {
      "image/png": "[encoded data removed]",
      "text/plain": [
       "<Figure size 432x288 with 1 Axes>"
      ]
     },
     "metadata": {
      "needs_background": "light"
     },
     "output_type": "display_data"
    }
   ],
   "source": [
    "B2 = np.arange(series.shape[0])\n",
    "y = (-1791.4+183.25*B2)+(-1795.6)/((10.502+1.1594*B2)+(-700.39-90.209*B2)/((61.49)+(-83.366)/((-481.32)+(3219.2)/((29.25)+(124.01+20.813*B2)/((-628.87)+(39.384)/((-107.49)+(-1003.4)/((382.97+104.02*B2)+(748.14+12.341*B2)/((88.699)))))))))\n",
    "\n",
    "plt.plot(B2, y)\n",
    "\n",
    "y = z\n",
    "x = np.arange(0, y.shape[0])\n",
    "plt.plot(x, y)"
   ]
  },
  {
   "cell_type": "code",
   "execution_count": null,
   "metadata": {},
   "outputs": [],
   "source": []
  }
 ],
 "metadata": {
  "kernelspec": {
   "display_name": "Python 3",
   "language": "python",
   "name": "python3"
  },
  "language_info": {
   "codemirror_mode": {
    "name": "ipython",
    "version": 3
   },
   "file_extension": ".py",
   "mimetype": "text/x-python",
   "name": "python",
   "nbconvert_exporter": "python",
   "pygments_lexer": "ipython3",
   "version": "3.8.2"
  }
 },
 "nbformat": 4,
 "nbformat_minor": 4
}
