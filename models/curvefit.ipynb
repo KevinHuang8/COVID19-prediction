{
 "cells": [
  {
   "cell_type": "code",
   "execution_count": 2,
   "metadata": {},
   "outputs": [
    {
     "name": "stderr",
     "output_type": "stream",
     "text": [
      "WARNING (theano.configdefaults): g++ not available, if using conda: `conda install m2w64-toolchain`\n",
      "c:\\users\\kehua\\appdata\\local\\programs\\python\\python38\\lib\\site-packages\\theano\\configdefaults.py:560: UserWarning: DeprecationWarning: there is no c++ compiler.This is deprecated and with Theano 0.11 a c++ compiler will be mandatory\n",
      "  warnings.warn(\"DeprecationWarning: there is no c++ compiler.\"\n",
      "WARNING (theano.configdefaults): g++ not detected ! Theano will be unable to execute optimized C-implementations (for both CPU and GPU) and will default to Python implementations. Performance will be severely degraded. To remove this warning, set Theano flags cxx to an empty string.\n",
      "WARNING (theano.tensor.blas): Using NumPy C-API based implementation for BLAS functions.\n"
     ]
    }
   ],
   "source": [
    "import sys\n",
    "sys.path.append('../')\n",
    "import numpy as np\n",
    "import importlib\n",
    "import dataloader as u\n",
    "from sklearn.metrics import mean_squared_error\n",
    "import matplotlib.pyplot as plt\n",
    "import scipy\n",
    "from scipy.optimize import curve_fit\n",
    "import scipy.stats as stats\n",
    "import pymc3 as pm\n",
    "import arviz as az"
   ]
  },
  {
   "cell_type": "code",
   "execution_count": 54,
   "metadata": {},
   "outputs": [],
   "source": [
    "def smooth_timeseries(t, size=5):\n",
    "    '''Smooth the function by taking a moving average of \"size\" time steps'''\n",
    "    average_filter = np.full((size, ), 1 / size)\n",
    "\n",
    "    t = np.pad(t, [(size // 2, size // 2)], mode='edge')\n",
    "    return np.apply_along_axis(lambda r: np.convolve(r, average_filter, mode='valid'), \n",
    "        axis=0, arr=t)"
   ]
  },
  {
   "cell_type": "code",
   "execution_count": 55,
   "metadata": {},
   "outputs": [],
   "source": [
    "datadict = u.load_covid_timeseries(smoothing=3, cases_cutoff=5)\n",
    "cases = datadict['cases_raw']\n",
    "deaths = datadict['deaths_raw']"
   ]
  },
  {
   "cell_type": "code",
   "execution_count": 56,
   "metadata": {},
   "outputs": [],
   "source": [
    "demographics = u.load_demographics_data()\n",
    "pop = demographics['total_pop']"
   ]
  },
  {
   "cell_type": "code",
   "execution_count": 875,
   "metadata": {},
   "outputs": [
    {
     "name": "stdout",
     "output_type": "stream",
     "text": [
      "[2.000 3.000 3.000 3.000 7.000 9.000 12.000 13.000 13.000 20.000 22.000\n",
      " 22.000 37.000 40.000 44.000 53.000 69.000 84.000 96.000 175.000 175.000\n",
      " 237.000 266.000 328.000 369.000 425.000 469.000 529.000 580.000 617.000\n",
      " 663.000 706.000 706.000 706.000 845.000 887.000 918.000 959.000 994.000\n",
      " 1035.000 1085.000 1115.000 1147.000 1179.000 1205.000 1228.000 1252.000\n",
      " 1277.000 1309.000 1325.000 1347.000]\n"
     ]
    }
   ],
   "source": [
    "county = 1879\n",
    "z = deaths[county] \n",
    "z = z[z != 0]\n",
    "init = [z[0]]\n",
    "z1 = np.diff(z)\n",
    "init.append(z1[0])\n",
    "z2 = np.diff(z1)\n",
    "print(z)"
   ]
  },
  {
   "cell_type": "code",
   "execution_count": 876,
   "metadata": {},
   "outputs": [],
   "source": [
    "z_smooth = smooth_timeseries(z1, 9)"
   ]
  },
  {
   "cell_type": "code",
   "execution_count": 877,
   "metadata": {},
   "outputs": [
    {
     "data": {
      "text/plain": [
       "[<matplotlib.lines.Line2D at 0x191d76a7940>]"
      ]
     },
     "execution_count": 877,
     "metadata": {},
     "output_type": "execute_result"
    },
    {
     "data": {
      "image/png": "[encoded data removed]",
      "text/plain": [
       "<Figure size 432x288 with 1 Axes>"
      ]
     },
     "metadata": {
      "needs_background": "light"
     },
     "output_type": "display_data"
    }
   ],
   "source": [
    "y = z_smooth\n",
    "x = np.linspace(1, y.shape[0], y.shape[0])\n",
    "plt.plot(x, y)"
   ]
  },
  {
   "cell_type": "code",
   "execution_count": 878,
   "metadata": {},
   "outputs": [
    {
     "name": "stdout",
     "output_type": "stream",
     "text": [
      "(50,) (50,) (0,) (0,)\n"
     ]
    }
   ],
   "source": [
    "dat = z_smooth\n",
    "\n",
    "validation_steps = 0\n",
    "\n",
    "X_train = np.arange(dat.shape[0] - validation_steps)\n",
    "y_train = dat[:dat.shape[0] - validation_steps]\n",
    "\n",
    "X_test = np.arange(dat.shape[0] - validation_steps, dat.shape[0])\n",
    "y_test = dat[dat.shape[0] - validation_steps:]\n",
    "\n",
    "print(X_train.shape, y_train.shape, X_test.shape, y_test.shape)"
   ]
  },
  {
   "cell_type": "code",
   "execution_count": 879,
   "metadata": {},
   "outputs": [
    {
     "name": "stdout",
     "output_type": "stream",
     "text": [
      "[ 0  1  2  3  4  5  6  7  8  9 10 11 12 13 14 15 16 17 18 19 20 21 22 23\n",
      " 24 25 26 27 28 29 30 31 32 33 34 35 36 37 38 39 40 41 42 43 44 45 46 47\n",
      " 48 49] [1.222 1.444 1.444 1.333 2.000 2.111 2.111 3.778 3.667 3.889 4.556 6.222\n",
      " 7.889 8.444 17.000 17.000 22.222 25.111 31.556 35.111 39.556 42.778\n",
      " 48.111 45.000 49.111 47.333 48.889 42.000 37.444 46.667 46.444 43.222\n",
      " 42.111 41.889 41.333 42.111 45.444 49.000 37.111 35.333 34.444 32.556\n",
      " 31.444 30.444 26.667 25.778 24.667 23.556 23.111 23.000]\n"
     ]
    }
   ],
   "source": [
    "print(X_train, y_train)"
   ]
  },
  {
   "cell_type": "code",
   "execution_count": 880,
   "metadata": {},
   "outputs": [],
   "source": [
    "def erf_model(x, max_val, loc, scale):\n",
    "    return max_val*(1 + scipy.special.erf(scale*(x - loc)))\n",
    "\n",
    "def skew_model(x, max_val, loc, scale, a, shift):\n",
    "    return max_val * stats.skewnorm.pdf(x, a, loc, scale) + shift\n",
    "\n",
    "def exp_model(x, max_val, loc, scale, K, shift):\n",
    "    return max_val*stats.exponnorm.pdf(x, K, loc, scale) + shift\n",
    "\n",
    "def exp_modelcdf(x, max_val, loc, scale, K, shift):\n",
    "    return max_val*stats.exponnorm.cdf(x, K, loc, scale) + shift\n",
    "\n",
    "erf_bounds = ([-np.inf, -np.inf, -np.inf], [np.inf, np.inf, np.inf])\n",
    "other_bounds = ([z.max(), 0, 0, 0, 0], [100*z.max(), np.inf, np.inf, 10, np.inf])\n",
    "\n",
    "model = exp_model\n",
    "bounds = other_bounds\n",
    "popt, pcov = curve_fit(model, X_train, y_train, bounds=bounds)"
   ]
  },
  {
   "cell_type": "code",
   "execution_count": 881,
   "metadata": {},
   "outputs": [
    {
     "name": "stdout",
     "output_type": "stream",
     "text": [
      "[1976.042 17.936 5.171 5.741 1.228]\n"
     ]
    }
   ],
   "source": [
    "print(popt)"
   ]
  },
  {
   "cell_type": "code",
   "execution_count": 882,
   "metadata": {},
   "outputs": [
    {
     "name": "stdout",
     "output_type": "stream",
     "text": [
      "[138.938 0.401 0.471 0.955 1.137]\n"
     ]
    }
   ],
   "source": [
    "errors = np.sqrt(np.diag(pcov))\n",
    "print(errors)"
   ]
  },
  {
   "cell_type": "code",
   "execution_count": 883,
   "metadata": {},
   "outputs": [
    {
     "data": {
      "text/plain": [
       "[<matplotlib.lines.Line2D at 0x191d76c4940>]"
      ]
     },
     "execution_count": 883,
     "metadata": {},
     "output_type": "execute_result"
    },
    {
     "data": {
      "image/png": "[encoded data removed]",
      "text/plain": [
       "<Figure size 432x288 with 1 Axes>"
      ]
     },
     "metadata": {
      "needs_background": "light"
     },
     "output_type": "display_data"
    }
   ],
   "source": [
    "d = z_smooth\n",
    "x = np.linspace(0, d.shape[0] - 1, d.shape[0])\n",
    "y = d\n",
    "plt.plot(x, y)\n",
    "\n",
    "x = np.linspace(0, 80, 1000)\n",
    "y = exp_model(x, *popt)\n",
    "# x = np.linspace(0, d.shape[0] + 19, d.shape[0] + 20)\n",
    "# y = exp_modelcdf(x, *popt)\n",
    "# y0 = [z[0]]\n",
    "# y = np.concatenate([y0, np.diff(y)])\n",
    "plt.plot(x, y)\n",
    "\n",
    "#plt.plot(X_train, y_train, marker='o', linewidth=0)\n",
    "#plt.plot(X_test, y_test, marker='o', linewidth=0)"
   ]
  },
  {
   "cell_type": "code",
   "execution_count": 884,
   "metadata": {},
   "outputs": [
    {
     "data": {
      "text/plain": [
       "[<matplotlib.lines.Line2D at 0x191d7714af0>]"
      ]
     },
     "execution_count": 884,
     "metadata": {},
     "output_type": "execute_result"
    },
    {
     "data": {
      "image/png": "[encoded data removed]",
      "text/plain": [
       "<Figure size 432x288 with 1 Axes>"
      ]
     },
     "metadata": {
      "needs_background": "light"
     },
     "output_type": "display_data"
    }
   ],
   "source": [
    "d = z\n",
    "x = np.linspace(1, d.shape[0], d.shape[0])\n",
    "y = d\n",
    "plt.plot(x, y)\n",
    "\n",
    "x = np.linspace(1, 100, 1000)\n",
    "y = exp_modelcdf(x, *popt)\n",
    "plt.plot(x, y)"
   ]
  },
  {
   "cell_type": "code",
   "execution_count": 848,
   "metadata": {},
   "outputs": [
    {
     "name": "stdout",
     "output_type": "stream",
     "text": [
      "[0.877 0.877 -0.123 -0.123 -0.123 -0.123 -0.123 -0.123 -0.123 -0.123\n",
      " -0.123 -0.123 -0.123 -0.123 -0.123 -0.123 -0.124 -0.126 -0.131 -0.144\n",
      " -0.171 -0.219 0.705 -0.400 -0.525 -0.654 0.235 1.159 -0.877 -0.875 1.154\n",
      " -0.801 2.251 0.303 -0.648]\n"
     ]
    }
   ],
   "source": [
    "d = z1\n",
    "x = np.linspace(1, d.shape[0], d.shape[0])\n",
    "y = model(x, *popt)\n",
    "\n",
    "residuals = z1 - y\n",
    "print(residuals)"
   ]
  },
  {
   "cell_type": "code",
   "execution_count": 849,
   "metadata": {},
   "outputs": [
    {
     "data": {
      "text/plain": [
       "<module 'curvefit_models' from '..\\\\curvefit_models.py'>"
      ]
     },
     "execution_count": 849,
     "metadata": {},
     "output_type": "execute_result"
    }
   ],
   "source": [
    "import curvefit_pipeline as p\n",
    "import curvefit_models as models\n",
    "importlib.reload(p)\n",
    "importlib.reload(models)"
   ]
  },
  {
   "cell_type": "code",
   "execution_count": 483,
   "metadata": {},
   "outputs": [],
   "source": [
    "data_format = {'name': 'deaths_raw', 'smoothing': 9, 'val_steps': 10}\n",
    "model_params = {'name': 'ExpNormModel'}\n",
    "horizon = 14"
   ]
  },
  {
   "cell_type": "code",
   "execution_count": 484,
   "metadata": {},
   "outputs": [],
   "source": [
    "pipeline = p.Pipeline(data_format, model_params, horizon)"
   ]
  },
  {
   "cell_type": "code",
   "execution_count": 454,
   "metadata": {},
   "outputs": [
    {
     "name": "stdout",
     "output_type": "stream",
     "text": [
      "Fitting 3142/3142\r"
     ]
    }
   ],
   "source": [
    "pipeline.run()"
   ]
  },
  {
   "cell_type": "code",
   "execution_count": 455,
   "metadata": {},
   "outputs": [],
   "source": [
    "use_c = pipeline.use_cumulative"
   ]
  },
  {
   "cell_type": "code",
   "execution_count": 874,
   "metadata": {},
   "outputs": [
    {
     "data": {
      "text/plain": [
       "True"
      ]
     },
     "execution_count": 874,
     "metadata": {},
     "output_type": "execute_result"
    }
   ],
   "source": [
    "use_c[1879]"
   ]
  },
  {
   "cell_type": "code",
   "execution_count": 456,
   "metadata": {},
   "outputs": [
    {
     "name": "stdout",
     "output_type": "stream",
     "text": [
      "834 529\n"
     ]
    }
   ],
   "source": [
    "t = 0\n",
    "f = 0\n",
    "for i in use_c:\n",
    "    if use_c[i]:\n",
    "        t += 1\n",
    "    else:\n",
    "        f += 1\n",
    "print(t, f)"
   ]
  },
  {
   "cell_type": "code",
   "execution_count": 592,
   "metadata": {},
   "outputs": [],
   "source": [
    "data_format = {'name': 'deaths_raw', 'smoothing': 9, 'val_steps': 0}"
   ]
  },
  {
   "cell_type": "code",
   "execution_count": 597,
   "metadata": {},
   "outputs": [
    {
     "name": "stdout",
     "output_type": "stream",
     "text": [
      "Predicting 3142/3142\r"
     ]
    }
   ],
   "source": [
    "pipeline2 = p.Pipeline(data_format, model_params, horizon, use_c)\n",
    "pipeline2.run()"
   ]
  },
  {
   "cell_type": "code",
   "execution_count": 598,
   "metadata": {},
   "outputs": [],
   "source": [
    "quantiles = [10, 20, 30, 40, 50, 60, 70, 80, 90]"
   ]
  },
  {
   "cell_type": "code",
   "execution_count": 816,
   "metadata": {},
   "outputs": [],
   "source": [
    "predictions = pipeline2.get_combined_predictions(quantiles=quantiles, samples=1000)"
   ]
  },
  {
   "cell_type": "code",
   "execution_count": 638,
   "metadata": {},
   "outputs": [],
   "source": [
    "pred2 = pipeline2.get_combined_predictions()"
   ]
  },
  {
   "cell_type": "code",
   "execution_count": 590,
   "metadata": {
    "collapsed": true,
    "jupyter": {
     "outputs_hidden": true
    }
   },
   "outputs": [
    {
     "name": "stdout",
     "output_type": "stream",
     "text": [
      "[1749.911 8.927 2.634 10.000]\n",
      "[219.220 0.441 0.588 3.333]\n",
      "[[0.002 0.012 0.072 0.371 1.325 3.922 8.303 14.745 20.742 27.272 32.510\n",
      "  36.217 39.170 40.790 41.481 40.881 39.889 38.731 37.825 36.537 35.384\n",
      "  34.017 32.835 31.693 30.448 29.374 28.378 26.791 25.908 24.978 24.002\n",
      "  22.903 21.374 20.442 19.934 18.779 17.555 16.560 15.669 14.623 13.895\n",
      "  12.956 12.085 11.272 10.514 9.807 9.148 8.533 7.963 7.451 6.972 6.523\n",
      "  6.104 5.711 5.344 5.000 4.682 4.384 4.105]\n",
      " [0.019 0.081 0.292 0.989 2.325 5.248 9.951 15.987 22.549 29.219 35.290\n",
      "  40.560 43.944 45.858 45.557 44.870 44.413 43.174 41.709 40.079 38.405\n",
      "  36.858 35.439 34.022 32.628 31.356 29.744 28.428 27.465 26.371 25.304\n",
      "  24.207 23.184 22.345 21.208 20.202 19.299 18.377 17.328 16.512 15.867\n",
      "  14.944 14.111 13.274 12.533 11.866 11.156 10.517 10.042 9.458 8.929\n",
      "  8.441 7.994 7.572 7.171 6.792 6.432 6.092 5.770]\n",
      " [0.041 0.145 0.452 1.213 3.000 6.061 10.666 17.522 25.372 33.105 39.386\n",
      "  44.021 46.833 48.002 48.120 47.372 46.121 44.565 42.986 41.761 39.830\n",
      "  38.554 37.365 35.747 34.335 33.043 31.684 30.577 29.123 27.872 26.245\n",
      "  25.114 24.055 22.726 21.909 21.074 20.317 19.416 18.593 17.692 16.966\n",
      "  16.292 15.649 15.026 14.336 13.700 13.141 12.496 12.013 11.459 10.891\n",
      "  10.466 10.104 9.695 9.285 8.892 8.516 8.156 7.811]\n",
      " [0.052 0.200 0.607 1.545 3.376 6.582 11.600 18.729 27.436 35.112 42.617\n",
      "  47.401 49.358 50.640 51.224 50.277 48.734 47.258 45.517 44.041 42.391\n",
      "  40.731 39.382 37.757 36.267 34.241 32.960 31.706 30.173 29.168 27.745\n",
      "  26.557 25.515 24.393 23.069 22.008 20.908 20.038 19.008 18.295 17.558\n",
      "  16.922 16.312 15.601 15.044 14.443 13.912 13.415 12.936 12.454 11.879\n",
      "  11.354 10.841 10.307 9.805 9.398 9.016 8.621 8.311]\n",
      " [0.088 0.286 0.785 1.855 3.889 7.207 12.391 20.121 29.206 38.081 46.090\n",
      "  52.009 55.760 56.771 56.788 55.567 53.846 51.618 49.628 47.242 45.123\n",
      "  43.175 40.976 39.372 37.739 36.457 34.798 33.274 31.651 30.144 28.992\n",
      "  27.685 26.641 25.351 24.270 23.271 22.199 21.260 20.473 19.689 18.902\n",
      "  18.217 17.449 16.783 16.133 15.536 14.932 14.290 13.695 13.124 12.578\n",
      "  12.098 11.651 11.166 10.699 10.254 9.817 9.475 9.093]\n",
      " [0.126 0.362 0.948 2.097 4.390 7.794 13.133 21.024 32.565 44.046 52.325\n",
      "  57.577 60.185 60.686 59.712 58.166 55.759 53.829 51.681 49.632 47.567\n",
      "  45.715 43.538 41.443 39.220 37.497 36.041 34.550 32.822 31.711 30.008\n",
      "  28.609 27.442 26.119 25.159 24.241 23.311 22.550 21.625 20.728 19.810\n",
      "  18.966 18.256 17.539 16.797 16.233 15.717 15.114 14.584 14.025 13.529\n",
      "  13.141 12.698 12.233 11.771 11.327 10.900 10.482 10.080]\n",
      " [0.187 0.482 1.134 2.406 4.802 9.778 15.732 24.920 35.549 48.135 59.555\n",
      "  67.127 68.176 67.838 65.721 63.272 60.519 58.023 55.124 52.024 49.481\n",
      "  46.830 44.716 42.981 41.204 39.215 37.296 35.202 33.941 32.475 31.149\n",
      "  29.847 28.674 27.581 26.360 25.305 24.313 23.377 22.454 21.709 20.850\n",
      "  20.151 19.404 18.692 17.972 17.299 16.639 16.043 15.472 14.921 14.379\n",
      "  13.886 13.443 12.913 12.367 11.905 11.519 11.149 10.787]\n",
      " [0.272 0.630 1.507 3.445 6.495 11.396 19.192 30.265 43.300 56.964 69.209\n",
      "  76.507 78.943 78.645 75.388 71.931 67.461 63.830 60.729 57.399 53.361\n",
      "  50.368 47.951 45.505 42.809 40.505 38.374 36.900 35.379 33.760 32.115\n",
      "  30.912 29.773 28.727 27.717 26.804 25.751 24.902 23.868 22.960 22.164\n",
      "  21.310 20.495 19.804 19.066 18.393 17.829 17.118 16.514 15.893 15.295\n",
      "  14.720 14.165 13.625 13.094 12.580 12.139 11.739 11.324]\n",
      " [0.503 1.118 2.254 4.155 7.625 13.654 22.483 36.215 53.165 70.626 83.932\n",
      "  96.620 94.709 91.309 86.006 81.653 77.038 72.555 67.674 62.895 58.987\n",
      "  55.279 51.593 48.392 45.204 43.101 40.761 38.651 36.920 35.438 33.919\n",
      "  32.565 31.345 29.916 28.769 27.470 26.335 25.343 24.556 23.661 22.876\n",
      "  22.165 21.308 20.553 19.665 18.936 18.227 17.576 16.996 16.459 15.938\n",
      "  15.445 14.991 14.512 14.009 13.621 13.244 12.877 12.521]]\n",
      "[0.048 0.163 0.491 1.299 3.022 6.211 11.326 18.424 26.926 35.676 43.341\n",
      " 48.931 52.121 53.210 52.819 51.577 49.943 48.182 46.416 44.695 43.031\n",
      " 41.429 39.885 38.399 36.969 35.592 34.266 32.989 31.760 30.577 29.438\n",
      " 28.341 27.285 26.269 25.290 24.348 23.441 22.568 21.727 20.917 20.138\n",
      " 19.388 18.666 17.970 17.301 16.656 16.036 15.438 14.863 14.309 13.776\n",
      " 13.263 12.769 12.293 11.835 11.394 10.970 10.561 10.168]\n"
     ]
    }
   ],
   "source": [
    "self = pipeline2.models[1887]\n",
    "np.set_printoptions(suppress=True,\n",
    "   formatter={'float_kind':'{:.3f}'.format})\n",
    "x = np.arange(0, 60)\n",
    "samples = 100\n",
    "errors = np.sqrt(np.diag(self.pcov))\n",
    "all_samples = []\n",
    "\n",
    "errors = np.sqrt(np.diag(self.pcov))\n",
    "## High errors for pre-peak/mid-peak counties\n",
    "## Make errors max 1/3 of mean value\n",
    "for i, err in enumerate(errors):\n",
    "    if err > (1/3)*self.popt[i]:\n",
    "        errors[i] = (1/3)*self.popt[i]\n",
    "        \n",
    "print(self.popt)\n",
    "print(errors)\n",
    "\n",
    "for i in range(samples):\n",
    "    sample_params = np.random.normal(loc=self.popt, scale=errors)\n",
    "\n",
    "\n",
    "\n",
    "    for i, param in enumerate(sample_params):\n",
    "        lower_bound = self.bounds[0][i]\n",
    "        upper_bound = self.bounds[1][i]\n",
    "\n",
    "        epsilon = 1e-5\n",
    "        if param < lower_bound:\n",
    "            sample_params[i] = lower_bound + epsilon\n",
    "        elif param > upper_bound:\n",
    "            sample_params[i] = upper_bound\n",
    "\n",
    "    y = self.predict(x, sample_params)\n",
    "    if (np.any(np.isnan(y))):\n",
    "        continue\n",
    "    all_samples.append(y)\n",
    "\n",
    "all_samples = np.array(all_samples)\n",
    "quantile_predictions = np.array([np.percentile(all_samples, p, axis=0) \n",
    "    for p in quantiles])\n",
    "#print(all_samples.shape)\n",
    "print(quantile_predictions)\n",
    "quantile_predictions = quantile_predictions.T\n",
    "quantile_predictions[quantile_predictions < 0] = 0\n",
    "\n",
    "y_pred = self.predict(x)\n",
    "print(y_pred)\n"
   ]
  },
  {
   "cell_type": "code",
   "execution_count": 888,
   "metadata": {},
   "outputs": [
    {
     "data": {
      "text/plain": [
       "[<matplotlib.lines.Line2D at 0x191d78a0430>]"
      ]
     },
     "execution_count": 888,
     "metadata": {},
     "output_type": "execute_result"
    },
    {
     "data": {
      "image/png": "[encoded data removed]",
      "text/plain": [
       "<Figure size 432x288 with 1 Axes>"
      ]
     },
     "metadata": {
      "needs_background": "light"
     },
     "output_type": "display_data"
    }
   ],
   "source": [
    "# 1208**, 1200, 716, 1382, 204, 1791, 1868, 1858, 2969, 1887, 1308, 1224, 1776-1794, 2289**, 2848, 3087**, 1138*, 1280, 1293**, 1870**\n",
    "county = 1858\n",
    "x = np.arange(0, predictions[county].shape[0])\n",
    "y = predictions[county][:, 3]\n",
    "plt.plot(x, y)\n",
    "\n",
    "y = predictions[county][:, 4]\n",
    "plt.plot(x, y)\n",
    "\n",
    "y = predictions[county][:, 8]\n",
    "plt.plot(x, y)\n",
    "\n",
    "x = np.arange(0, pred2[county].shape[0])\n",
    "y = pred2[county]\n",
    "plt.plot(x, y, color='red')\n",
    "\n",
    "d = pipeline2.data.daily_smoothed[county]\n",
    "x = np.linspace(0, d.shape[0] - 1, d.shape[0])\n",
    "y = d\n",
    "plt.plot(x, y)\n"
   ]
  },
  {
   "cell_type": "code",
   "execution_count": 172,
   "metadata": {},
   "outputs": [
    {
     "name": "stdout",
     "output_type": "stream",
     "text": [
      "1520\n"
     ]
    }
   ],
   "source": [
    "print(len(pipeline2.models))"
   ]
  },
  {
   "cell_type": "code",
   "execution_count": 761,
   "metadata": {},
   "outputs": [
    {
     "name": "stderr",
     "output_type": "stream",
     "text": [
      "c:\\users\\kehua\\appdata\\local\\programs\\python\\python38\\lib\\site-packages\\pandas\\core\\indexing.py:1418: FutureWarning: \n",
      "Passing list-likes to .loc or [] with any missing label will raise\n",
      "KeyError in the future, you can use .reindex() as an alternative.\n",
      "\n",
      "See the documentation here:\n",
      "https://pandas.pydata.org/pandas-docs/stable/user_guide/indexing.html#deprecate-loc-reindex-listlike\n",
      "  return self._getitem_tuple(key)\n"
     ]
    }
   ],
   "source": [
    "data = u.load_covid_static()"
   ]
  },
  {
   "cell_type": "code",
   "execution_count": 780,
   "metadata": {},
   "outputs": [
    {
     "data": {
      "text/plain": [
       "FIPS                            24033\n",
       "County Name    Prince George's County\n",
       "cases                             NaN\n",
       "deaths                            NaN\n",
       "log_cases                         NaN\n",
       "log_deaths                        NaN\n",
       "Name: 1208, dtype: object"
      ]
     },
     "execution_count": 780,
     "metadata": {},
     "output_type": "execute_result"
    }
   ],
   "source": [
    "data.iloc[1208]"
   ]
  },
  {
   "cell_type": "code",
   "execution_count": null,
   "metadata": {},
   "outputs": [],
   "source": []
  }
 ],
 "metadata": {
  "kernelspec": {
   "display_name": "Python 3",
   "language": "python",
   "name": "python3"
  },
  "language_info": {
   "codemirror_mode": {
    "name": "ipython",
    "version": 3
   },
   "file_extension": ".py",
   "mimetype": "text/x-python",
   "name": "python",
   "nbconvert_exporter": "python",
   "pygments_lexer": "ipython3",
   "version": "3.8.2"
  }
 },
 "nbformat": 4,
 "nbformat_minor": 4
}
