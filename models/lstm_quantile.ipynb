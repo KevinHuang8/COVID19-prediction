{
 "cells": [
  {
   "cell_type": "code",
   "execution_count": 16,
   "metadata": {
    "scrolled": true
   },
   "outputs": [
    {
     "data": {
      "text/plain": [
       "<module 'dataloader' from '..\\\\dataloader.py'>"
      ]
     },
     "execution_count": 16,
     "metadata": {},
     "output_type": "execute_result"
    }
   ],
   "source": [
    "import sys\n",
    "sys.path.append('../')\n",
    "import numpy as np\n",
    "import importlib\n",
    "import dataloader as u\n",
    "from sklearn.metrics import mean_squared_error\n",
    "import matplotlib.pyplot as plt\n",
    "import keras\n",
    "import tensorflow as tf\n",
    "from tensorflow.keras.models import Model, Sequential, load_model\n",
    "from tensorflow.keras.layers import Embedding, LSTM, Dense, TimeDistributed, Activation, Dropout, Input\n",
    "from tensorflow.keras.regularizers import L1L2\n",
    "import tensorflow.keras.backend as K\n",
    "importlib.reload(u)"
   ]
  },
  {
   "cell_type": "code",
   "execution_count": 4,
   "metadata": {},
   "outputs": [],
   "source": [
    "gpus = tf.config.list_physical_devices('GPU')\n",
    "if gpus:\n",
    "    try:\n",
    "        for gpu in gpus:\n",
    "            tf.config.experimental.set_memory_growth(gpu, True)\n",
    "\n",
    "    except RuntimeError as e:\n",
    "        print(e)"
   ]
  },
  {
   "cell_type": "code",
   "execution_count": 5,
   "metadata": {},
   "outputs": [],
   "source": [
    "datadict = u.load_covid_timeseries(smoothing=3, cases_cutoff=5)\n",
    "cases = datadict['cases_calibrated']\n",
    "deaths = datadict['deaths_calibrated']"
   ]
  },
  {
   "cell_type": "code",
   "execution_count": 6,
   "metadata": {},
   "outputs": [
    {
     "data": {
      "text/html": [
       "<div>\n",
       "<style scoped>\n",
       "    .dataframe tbody tr th:only-of-type {\n",
       "        vertical-align: middle;\n",
       "    }\n",
       "\n",
       "    .dataframe tbody tr th {\n",
       "        vertical-align: top;\n",
       "    }\n",
       "\n",
       "    .dataframe thead th {\n",
       "        text-align: right;\n",
       "    }\n",
       "</style>\n",
       "<table border=\"1\" class=\"dataframe\">\n",
       "  <thead>\n",
       "    <tr style=\"text-align: right;\">\n",
       "      <th></th>\n",
       "      <th>FIPS</th>\n",
       "      <th>total_pop</th>\n",
       "      <th>60plus</th>\n",
       "      <th>area</th>\n",
       "      <th>median_age</th>\n",
       "      <th>pop_white</th>\n",
       "      <th>pop_black</th>\n",
       "      <th>pop_hispanic</th>\n",
       "      <th>pop_density</th>\n",
       "      <th>p60_plus</th>\n",
       "    </tr>\n",
       "  </thead>\n",
       "  <tbody>\n",
       "    <tr>\n",
       "      <th>0</th>\n",
       "      <td>1001</td>\n",
       "      <td>55036</td>\n",
       "      <td>10523</td>\n",
       "      <td>594.44</td>\n",
       "      <td>37.8</td>\n",
       "      <td>76.9</td>\n",
       "      <td>19.1</td>\n",
       "      <td>2.8</td>\n",
       "      <td>92.584617</td>\n",
       "      <td>0.191202</td>\n",
       "    </tr>\n",
       "    <tr>\n",
       "      <th>1</th>\n",
       "      <td>1003</td>\n",
       "      <td>203360</td>\n",
       "      <td>53519</td>\n",
       "      <td>1589.78</td>\n",
       "      <td>42.8</td>\n",
       "      <td>86.3</td>\n",
       "      <td>9.5</td>\n",
       "      <td>4.5</td>\n",
       "      <td>127.917070</td>\n",
       "      <td>0.263174</td>\n",
       "    </tr>\n",
       "    <tr>\n",
       "      <th>2</th>\n",
       "      <td>1005</td>\n",
       "      <td>26201</td>\n",
       "      <td>6150</td>\n",
       "      <td>884.88</td>\n",
       "      <td>39.9</td>\n",
       "      <td>47.4</td>\n",
       "      <td>47.6</td>\n",
       "      <td>4.3</td>\n",
       "      <td>29.609665</td>\n",
       "      <td>0.234724</td>\n",
       "    </tr>\n",
       "    <tr>\n",
       "      <th>3</th>\n",
       "      <td>1007</td>\n",
       "      <td>22580</td>\n",
       "      <td>4773</td>\n",
       "      <td>622.58</td>\n",
       "      <td>39.9</td>\n",
       "      <td>76.7</td>\n",
       "      <td>22.3</td>\n",
       "      <td>2.4</td>\n",
       "      <td>36.268431</td>\n",
       "      <td>0.211382</td>\n",
       "    </tr>\n",
       "    <tr>\n",
       "      <th>4</th>\n",
       "      <td>1009</td>\n",
       "      <td>57667</td>\n",
       "      <td>13600</td>\n",
       "      <td>644.78</td>\n",
       "      <td>40.8</td>\n",
       "      <td>95.5</td>\n",
       "      <td>1.5</td>\n",
       "      <td>9.1</td>\n",
       "      <td>89.436707</td>\n",
       "      <td>0.235837</td>\n",
       "    </tr>\n",
       "  </tbody>\n",
       "</table>\n",
       "</div>"
      ],
      "text/plain": [
       "   FIPS  total_pop  60plus     area  median_age  pop_white  pop_black  \\\n",
       "0  1001      55036   10523   594.44        37.8       76.9       19.1   \n",
       "1  1003     203360   53519  1589.78        42.8       86.3        9.5   \n",
       "2  1005      26201    6150   884.88        39.9       47.4       47.6   \n",
       "3  1007      22580    4773   622.58        39.9       76.7       22.3   \n",
       "4  1009      57667   13600   644.78        40.8       95.5        1.5   \n",
       "\n",
       "   pop_hispanic  pop_density  p60_plus  \n",
       "0           2.8    92.584617  0.191202  \n",
       "1           4.5   127.917070  0.263174  \n",
       "2           4.3    29.609665  0.234724  \n",
       "3           2.4    36.268431  0.211382  \n",
       "4           9.1    89.436707  0.235837  "
      ]
     },
     "execution_count": 6,
     "metadata": {},
     "output_type": "execute_result"
    }
   ],
   "source": [
    "demographics = u.load_demographics_data()\n",
    "demographics.head()"
   ]
  },
  {
   "cell_type": "code",
   "execution_count": 7,
   "metadata": {},
   "outputs": [],
   "source": [
    "pop = np.expand_dims(demographics['total_pop'].values, axis=1)\n",
    "cases_norm = cases / pop * 10000\n",
    "deaths_norm = deaths / pop * 10000"
   ]
  },
  {
   "cell_type": "code",
   "execution_count": 8,
   "metadata": {},
   "outputs": [],
   "source": [
    "def transform(x):\n",
    "    x0 = np.expand_dims(x[:, 0], axis=1)\n",
    "    t = np.diff(x)\n",
    "    t0 = np.expand_dims(t[:, 0], axis=1)\n",
    "    t = np.diff(t)\n",
    "    return t, t0, x0"
   ]
  },
  {
   "cell_type": "code",
   "execution_count": 9,
   "metadata": {},
   "outputs": [],
   "source": [
    "def untransform(t, t0, x0, a=1):\n",
    "    x = np.hstack([t0, t])\n",
    "    x = np.cumsum(x, axis=a)\n",
    "    x = np.hstack([x0, x])\n",
    "    x = np.cumsum(x, axis=a)\n",
    "    return x"
   ]
  },
  {
   "cell_type": "code",
   "execution_count": 10,
   "metadata": {},
   "outputs": [],
   "source": [
    "cases2, ct0, cx0 = transform(cases_norm)\n",
    "deaths2, dt0, dx0 = transform(deaths_norm)"
   ]
  },
  {
   "cell_type": "code",
   "execution_count": 11,
   "metadata": {
    "scrolled": false
   },
   "outputs": [
    {
     "name": "stdout",
     "output_type": "stream",
     "text": [
      "(3143, 99)\n"
     ]
    },
    {
     "data": {
      "image/png": "[encoded data removed]",
      "text/plain": [
       "<Figure size 576x576 with 1 Axes>"
      ]
     },
     "metadata": {
      "needs_background": "light"
     },
     "output_type": "display_data"
    }
   ],
   "source": [
    "d = cases2\n",
    "x1 = np.linspace(1, d.shape[1], d.shape[1])\n",
    "fig = plt.figure(figsize=(8, 8))\n",
    "ax = fig.add_subplot(111)\n",
    "plt.plot(x1, d[206])\n",
    "print(d.shape)\n",
    "plt.show()"
   ]
  },
  {
   "cell_type": "code",
   "execution_count": 69,
   "metadata": {},
   "outputs": [],
   "source": [
    "X_train = []\n",
    "y_train = []\n",
    "X_test = []\n",
    "y_test = []\n",
    "lag = 8\n",
    "k = 8\n",
    "validation_steps = 4\n",
    "for j in range(deaths2.shape[0]):\n",
    "    d = deaths2[j]\n",
    "    c = cases2[j]\n",
    "    if np.all(np.isnan(d)) or np.all(np.isnan(c)):\n",
    "        continue\n",
    "    s = np.argmax(np.isnan(d))\n",
    "    for i in range(s):\n",
    "        if np.any(np.isnan(d[i:i+lag+k])) or np.any(np.isnan(c[i:i+lag+k])):\n",
    "            break\n",
    "        x = np.vstack([c[i:i+lag], d[i:i+lag], np.full((lag,), i)]).T\n",
    "        if i < s - validation_steps - lag - k:\n",
    "            X_train.append(x)\n",
    "            y_train.append(np.vstack([c[i+lag:i+lag+k], d[i+lag:i+lag+k]]).T)\n",
    "        else:\n",
    "            X_test.append(x)\n",
    "            y_test.append(np.vstack([c[i+lag:i+lag+k], d[i+lag:i+lag+k]]).T)\n",
    "X_train = np.array(X_train)\n",
    "y_train = np.array(y_train)\n",
    "X_test = np.array(X_test)\n",
    "y_test = np.array(y_test)"
   ]
  },
  {
   "cell_type": "code",
   "execution_count": 70,
   "metadata": {},
   "outputs": [
    {
     "name": "stdout",
     "output_type": "stream",
     "text": [
      "(21360, 8, 3) (21360, 8, 2) (8851, 8, 3) (8851, 8, 2)\n"
     ]
    }
   ],
   "source": [
    "print(X_train.shape, y_train.shape, X_test.shape, y_test.shape)"
   ]
  },
  {
   "cell_type": "code",
   "execution_count": 71,
   "metadata": {},
   "outputs": [],
   "source": [
    "def LSTM_model():\n",
    "    model = Sequential()\n",
    "    model.add(LSTM(64, input_shape=X_train.shape[1:], activation='relu', return_sequences=True, recurrent_regularizer=L1L2(0,1e-2), kernel_regularizer=L1L2(0, 0.1)))\n",
    "    model.add(TimeDistributed(Dense(2, kernel_regularizer=L1L2(0.1, 0.1))))\n",
    "    return model"
   ]
  },
  {
   "cell_type": "code",
   "execution_count": 72,
   "metadata": {},
   "outputs": [],
   "source": [
    "def quantile_head(inputs):\n",
    "    x = TimeDistributed(Dense(2, kernel_regularizer=L1L2(0.1, 0.1)))(inputs)\n",
    "    return x"
   ]
  },
  {
   "cell_type": "code",
   "execution_count": 73,
   "metadata": {},
   "outputs": [],
   "source": [
    "def LSTM_model2():\n",
    "    inputs = Input(shape=X_train.shape[1:])\n",
    "    x = LSTM(64, return_sequences=True, activation='relu', recurrent_regularizer=L1L2(0,1e-2), kernel_regularizer=L1L2(0, 0.1))(inputs)\n",
    "    x = Dropout(0.1)(x)\n",
    "    \n",
    "    qheads = []\n",
    "    for i in range(9):\n",
    "        qheads.append(quantile_head(x))\n",
    "        \n",
    "    model = Model(inputs=inputs, outputs=qheads)\n",
    "    return model"
   ]
  },
  {
   "cell_type": "code",
   "execution_count": 97,
   "metadata": {},
   "outputs": [],
   "source": [
    "def pinball_loss(q, pred, true):\n",
    "    e = true - pred\n",
    "    return K.mean(K.maximum(q*e, (q-1)*e))"
   ]
  },
  {
   "cell_type": "code",
   "execution_count": 135,
   "metadata": {
    "scrolled": true
   },
   "outputs": [
    {
     "name": "stdout",
     "output_type": "stream",
     "text": [
      "WARNING:tensorflow:Layer lstm_11 will not use cuDNN kernel since it doesn't meet the cuDNN kernel criteria. It will use generic GPU kernel as fallback when running on GPU\n",
      "Model: \"model_9\"\n",
      "__________________________________________________________________________________________________\n",
      "Layer (type)                    Output Shape         Param #     Connected to                     \n",
      "==================================================================================================\n",
      "input_12 (InputLayer)           [(None, 8, 3)]       0                                            \n",
      "__________________________________________________________________________________________________\n",
      "lstm_11 (LSTM)                  (None, 8, 64)        17408       input_12[0][0]                   \n",
      "__________________________________________________________________________________________________\n",
      "dropout_11 (Dropout)            (None, 8, 64)        0           lstm_11[0][0]                    \n",
      "__________________________________________________________________________________________________\n",
      "time_distributed_85 (TimeDistri (None, 8, 2)         130         dropout_11[0][0]                 \n",
      "__________________________________________________________________________________________________\n",
      "time_distributed_86 (TimeDistri (None, 8, 2)         130         dropout_11[0][0]                 \n",
      "__________________________________________________________________________________________________\n",
      "time_distributed_87 (TimeDistri (None, 8, 2)         130         dropout_11[0][0]                 \n",
      "__________________________________________________________________________________________________\n",
      "time_distributed_88 (TimeDistri (None, 8, 2)         130         dropout_11[0][0]                 \n",
      "__________________________________________________________________________________________________\n",
      "time_distributed_89 (TimeDistri (None, 8, 2)         130         dropout_11[0][0]                 \n",
      "__________________________________________________________________________________________________\n",
      "time_distributed_90 (TimeDistri (None, 8, 2)         130         dropout_11[0][0]                 \n",
      "__________________________________________________________________________________________________\n",
      "time_distributed_91 (TimeDistri (None, 8, 2)         130         dropout_11[0][0]                 \n",
      "__________________________________________________________________________________________________\n",
      "time_distributed_92 (TimeDistri (None, 8, 2)         130         dropout_11[0][0]                 \n",
      "__________________________________________________________________________________________________\n",
      "time_distributed_93 (TimeDistri (None, 8, 2)         130         dropout_11[0][0]                 \n",
      "==================================================================================================\n",
      "Total params: 18,578\n",
      "Trainable params: 18,578\n",
      "Non-trainable params: 0\n",
      "__________________________________________________________________________________________________\n"
     ]
    }
   ],
   "source": [
    "from tensorflow.keras.optimizers import Adam\n",
    "\n",
    "with tf.device('/GPU:0'):\n",
    "    model = LSTM_model2()\n",
    "\n",
    "losses = [lambda pred, true, q=q: pinball_loss(q, pred, true) for q in np.arange(0.1, 1, 0.1)]\n",
    "opt = Adam(lr=0.0001, beta_1=0.9, beta_2=0.999, decay=0.01)\n",
    "model.compile(loss=losses, optimizer=opt)\n",
    "model.summary()"
   ]
  },
  {
   "cell_type": "code",
   "execution_count": 146,
   "metadata": {
    "scrolled": true
   },
   "outputs": [
    {
     "name": "stdout",
     "output_type": "stream",
     "text": [
      "Epoch 1/25\n",
      "297/297 - 5s - loss: 16.7841 - time_distributed_85_loss: 0.1442 - time_distributed_86_loss: 0.1759 - time_distributed_87_loss: 0.1788 - time_distributed_88_loss: 0.1834 - time_distributed_89_loss: 0.1844 - time_distributed_90_loss: 0.1959 - time_distributed_91_loss: 0.1818 - time_distributed_92_loss: 0.1593 - time_distributed_93_loss: 0.1526 - val_loss: 17.0075 - val_time_distributed_85_loss: 0.1634 - val_time_distributed_86_loss: 0.2015 - val_time_distributed_87_loss: 0.2076 - val_time_distributed_88_loss: 0.2085 - val_time_distributed_89_loss: 0.2075 - val_time_distributed_90_loss: 0.2431 - val_time_distributed_91_loss: 0.2143 - val_time_distributed_92_loss: 0.1848 - val_time_distributed_93_loss: 0.1754\n",
      "Epoch 2/25\n",
      "297/297 - 5s - loss: 16.7290 - time_distributed_85_loss: 0.1441 - time_distributed_86_loss: 0.1756 - time_distributed_87_loss: 0.1785 - time_distributed_88_loss: 0.1830 - time_distributed_89_loss: 0.1840 - time_distributed_90_loss: 0.1952 - time_distributed_91_loss: 0.1814 - time_distributed_92_loss: 0.1591 - time_distributed_93_loss: 0.1523 - val_loss: 16.9517 - val_time_distributed_85_loss: 0.1632 - val_time_distributed_86_loss: 0.2010 - val_time_distributed_87_loss: 0.2069 - val_time_distributed_88_loss: 0.2080 - val_time_distributed_89_loss: 0.2071 - val_time_distributed_90_loss: 0.2417 - val_time_distributed_91_loss: 0.2136 - val_time_distributed_92_loss: 0.1846 - val_time_distributed_93_loss: 0.1752\n",
      "Epoch 3/25\n",
      "297/297 - 5s - loss: 16.6767 - time_distributed_85_loss: 0.1440 - time_distributed_86_loss: 0.1751 - time_distributed_87_loss: 0.1782 - time_distributed_88_loss: 0.1828 - time_distributed_89_loss: 0.1840 - time_distributed_90_loss: 0.1948 - time_distributed_91_loss: 0.1812 - time_distributed_92_loss: 0.1590 - time_distributed_93_loss: 0.1519 - val_loss: 16.8981 - val_time_distributed_85_loss: 0.1631 - val_time_distributed_86_loss: 0.2006 - val_time_distributed_87_loss: 0.2063 - val_time_distributed_88_loss: 0.2075 - val_time_distributed_89_loss: 0.2067 - val_time_distributed_90_loss: 0.2404 - val_time_distributed_91_loss: 0.2128 - val_time_distributed_92_loss: 0.1844 - val_time_distributed_93_loss: 0.1750\n",
      "Epoch 4/25\n",
      "297/297 - 5s - loss: 16.6255 - time_distributed_85_loss: 0.1438 - time_distributed_86_loss: 0.1750 - time_distributed_87_loss: 0.1780 - time_distributed_88_loss: 0.1826 - time_distributed_89_loss: 0.1837 - time_distributed_90_loss: 0.1941 - time_distributed_91_loss: 0.1807 - time_distributed_92_loss: 0.1587 - time_distributed_93_loss: 0.1516 - val_loss: 16.8466 - val_time_distributed_85_loss: 0.1630 - val_time_distributed_86_loss: 0.2002 - val_time_distributed_87_loss: 0.2058 - val_time_distributed_88_loss: 0.2071 - val_time_distributed_89_loss: 0.2064 - val_time_distributed_90_loss: 0.2392 - val_time_distributed_91_loss: 0.2122 - val_time_distributed_92_loss: 0.1841 - val_time_distributed_93_loss: 0.1748\n",
      "Epoch 5/25\n",
      "297/297 - 5s - loss: 16.5765 - time_distributed_85_loss: 0.1437 - time_distributed_86_loss: 0.1746 - time_distributed_87_loss: 0.1778 - time_distributed_88_loss: 0.1823 - time_distributed_89_loss: 0.1836 - time_distributed_90_loss: 0.1935 - time_distributed_91_loss: 0.1803 - time_distributed_92_loss: 0.1586 - time_distributed_93_loss: 0.1514 - val_loss: 16.7969 - val_time_distributed_85_loss: 0.1629 - val_time_distributed_86_loss: 0.1999 - val_time_distributed_87_loss: 0.2053 - val_time_distributed_88_loss: 0.2067 - val_time_distributed_89_loss: 0.2061 - val_time_distributed_90_loss: 0.2380 - val_time_distributed_91_loss: 0.2115 - val_time_distributed_92_loss: 0.1839 - val_time_distributed_93_loss: 0.1745\n",
      "Epoch 6/25\n",
      "297/297 - 5s - loss: 16.5289 - time_distributed_85_loss: 0.1437 - time_distributed_86_loss: 0.1743 - time_distributed_87_loss: 0.1775 - time_distributed_88_loss: 0.1820 - time_distributed_89_loss: 0.1831 - time_distributed_90_loss: 0.1929 - time_distributed_91_loss: 0.1799 - time_distributed_92_loss: 0.1583 - time_distributed_93_loss: 0.1513 - val_loss: 16.7491 - val_time_distributed_85_loss: 0.1627 - val_time_distributed_86_loss: 0.1996 - val_time_distributed_87_loss: 0.2048 - val_time_distributed_88_loss: 0.2064 - val_time_distributed_89_loss: 0.2058 - val_time_distributed_90_loss: 0.2368 - val_time_distributed_91_loss: 0.2109 - val_time_distributed_92_loss: 0.1838 - val_time_distributed_93_loss: 0.1743\n",
      "Epoch 7/25\n",
      "297/297 - 5s - loss: 16.4851 - time_distributed_85_loss: 0.1438 - time_distributed_86_loss: 0.1743 - time_distributed_87_loss: 0.1775 - time_distributed_88_loss: 0.1820 - time_distributed_89_loss: 0.1833 - time_distributed_90_loss: 0.1924 - time_distributed_91_loss: 0.1797 - time_distributed_92_loss: 0.1584 - time_distributed_93_loss: 0.1512 - val_loss: 16.7029 - val_time_distributed_85_loss: 0.1627 - val_time_distributed_86_loss: 0.1993 - val_time_distributed_87_loss: 0.2043 - val_time_distributed_88_loss: 0.2060 - val_time_distributed_89_loss: 0.2055 - val_time_distributed_90_loss: 0.2358 - val_time_distributed_91_loss: 0.2104 - val_time_distributed_92_loss: 0.1836 - val_time_distributed_93_loss: 0.1741\n",
      "Epoch 8/25\n",
      "297/297 - 5s - loss: 16.4390 - time_distributed_85_loss: 0.1433 - time_distributed_86_loss: 0.1737 - time_distributed_87_loss: 0.1770 - time_distributed_88_loss: 0.1815 - time_distributed_89_loss: 0.1829 - time_distributed_90_loss: 0.1920 - time_distributed_91_loss: 0.1791 - time_distributed_92_loss: 0.1581 - time_distributed_93_loss: 0.1507 - val_loss: 16.6583 - val_time_distributed_85_loss: 0.1626 - val_time_distributed_86_loss: 0.1990 - val_time_distributed_87_loss: 0.2039 - val_time_distributed_88_loss: 0.2057 - val_time_distributed_89_loss: 0.2052 - val_time_distributed_90_loss: 0.2348 - val_time_distributed_91_loss: 0.2098 - val_time_distributed_92_loss: 0.1834 - val_time_distributed_93_loss: 0.1739\n",
      "Epoch 9/25\n",
      "297/297 - 6s - loss: 16.3974 - time_distributed_85_loss: 0.1434 - time_distributed_86_loss: 0.1735 - time_distributed_87_loss: 0.1768 - time_distributed_88_loss: 0.1814 - time_distributed_89_loss: 0.1828 - time_distributed_90_loss: 0.1915 - time_distributed_91_loss: 0.1792 - time_distributed_92_loss: 0.1580 - time_distributed_93_loss: 0.1506 - val_loss: 16.6152 - val_time_distributed_85_loss: 0.1625 - val_time_distributed_86_loss: 0.1987 - val_time_distributed_87_loss: 0.2034 - val_time_distributed_88_loss: 0.2053 - val_time_distributed_89_loss: 0.2050 - val_time_distributed_90_loss: 0.2338 - val_time_distributed_91_loss: 0.2094 - val_time_distributed_92_loss: 0.1832 - val_time_distributed_93_loss: 0.1737\n",
      "Epoch 10/25\n",
      "297/297 - 5s - loss: 16.3557 - time_distributed_85_loss: 0.1432 - time_distributed_86_loss: 0.1734 - time_distributed_87_loss: 0.1767 - time_distributed_88_loss: 0.1811 - time_distributed_89_loss: 0.1825 - time_distributed_90_loss: 0.1911 - time_distributed_91_loss: 0.1786 - time_distributed_92_loss: 0.1579 - time_distributed_93_loss: 0.1504 - val_loss: 16.5734 - val_time_distributed_85_loss: 0.1624 - val_time_distributed_86_loss: 0.1984 - val_time_distributed_87_loss: 0.2031 - val_time_distributed_88_loss: 0.2050 - val_time_distributed_89_loss: 0.2047 - val_time_distributed_90_loss: 0.2330 - val_time_distributed_91_loss: 0.2088 - val_time_distributed_92_loss: 0.1831 - val_time_distributed_93_loss: 0.1735\n",
      "Epoch 11/25\n",
      "297/297 - 5s - loss: 16.3155 - time_distributed_85_loss: 0.1431 - time_distributed_86_loss: 0.1731 - time_distributed_87_loss: 0.1763 - time_distributed_88_loss: 0.1810 - time_distributed_89_loss: 0.1824 - time_distributed_90_loss: 0.1906 - time_distributed_91_loss: 0.1782 - time_distributed_92_loss: 0.1578 - time_distributed_93_loss: 0.1502 - val_loss: 16.5329 - val_time_distributed_85_loss: 0.1623 - val_time_distributed_86_loss: 0.1982 - val_time_distributed_87_loss: 0.2027 - val_time_distributed_88_loss: 0.2047 - val_time_distributed_89_loss: 0.2045 - val_time_distributed_90_loss: 0.2320 - val_time_distributed_91_loss: 0.2084 - val_time_distributed_92_loss: 0.1829 - val_time_distributed_93_loss: 0.1733\n",
      "Epoch 12/25\n",
      "297/297 - 5s - loss: 16.2769 - time_distributed_85_loss: 0.1431 - time_distributed_86_loss: 0.1729 - time_distributed_87_loss: 0.1762 - time_distributed_88_loss: 0.1807 - time_distributed_89_loss: 0.1822 - time_distributed_90_loss: 0.1904 - time_distributed_91_loss: 0.1781 - time_distributed_92_loss: 0.1576 - time_distributed_93_loss: 0.1501 - val_loss: 16.4936 - val_time_distributed_85_loss: 0.1622 - val_time_distributed_86_loss: 0.1979 - val_time_distributed_87_loss: 0.2023 - val_time_distributed_88_loss: 0.2044 - val_time_distributed_89_loss: 0.2043 - val_time_distributed_90_loss: 0.2312 - val_time_distributed_91_loss: 0.2079 - val_time_distributed_92_loss: 0.1828 - val_time_distributed_93_loss: 0.1731\n"
     ]
    },
    {
     "name": "stdout",
     "output_type": "stream",
     "text": [
      "Epoch 13/25\n",
      "297/297 - 5s - loss: 16.2384 - time_distributed_85_loss: 0.1429 - time_distributed_86_loss: 0.1725 - time_distributed_87_loss: 0.1760 - time_distributed_88_loss: 0.1805 - time_distributed_89_loss: 0.1820 - time_distributed_90_loss: 0.1898 - time_distributed_91_loss: 0.1777 - time_distributed_92_loss: 0.1576 - time_distributed_93_loss: 0.1498 - val_loss: 16.4554 - val_time_distributed_85_loss: 0.1622 - val_time_distributed_86_loss: 0.1976 - val_time_distributed_87_loss: 0.2020 - val_time_distributed_88_loss: 0.2042 - val_time_distributed_89_loss: 0.2040 - val_time_distributed_90_loss: 0.2305 - val_time_distributed_91_loss: 0.2074 - val_time_distributed_92_loss: 0.1826 - val_time_distributed_93_loss: 0.1730\n",
      "Epoch 14/25\n",
      "297/297 - 5s - loss: 16.2022 - time_distributed_85_loss: 0.1429 - time_distributed_86_loss: 0.1724 - time_distributed_87_loss: 0.1758 - time_distributed_88_loss: 0.1804 - time_distributed_89_loss: 0.1818 - time_distributed_90_loss: 0.1896 - time_distributed_91_loss: 0.1776 - time_distributed_92_loss: 0.1574 - time_distributed_93_loss: 0.1497 - val_loss: 16.4182 - val_time_distributed_85_loss: 0.1621 - val_time_distributed_86_loss: 0.1974 - val_time_distributed_87_loss: 0.2017 - val_time_distributed_88_loss: 0.2039 - val_time_distributed_89_loss: 0.2038 - val_time_distributed_90_loss: 0.2297 - val_time_distributed_91_loss: 0.2070 - val_time_distributed_92_loss: 0.1825 - val_time_distributed_93_loss: 0.1729\n",
      "Epoch 15/25\n",
      "297/297 - 5s - loss: 16.1671 - time_distributed_85_loss: 0.1429 - time_distributed_86_loss: 0.1723 - time_distributed_87_loss: 0.1759 - time_distributed_88_loss: 0.1803 - time_distributed_89_loss: 0.1818 - time_distributed_90_loss: 0.1892 - time_distributed_91_loss: 0.1772 - time_distributed_92_loss: 0.1574 - time_distributed_93_loss: 0.1496 - val_loss: 16.3821 - val_time_distributed_85_loss: 0.1620 - val_time_distributed_86_loss: 0.1971 - val_time_distributed_87_loss: 0.2014 - val_time_distributed_88_loss: 0.2037 - val_time_distributed_89_loss: 0.2035 - val_time_distributed_90_loss: 0.2290 - val_time_distributed_91_loss: 0.2066 - val_time_distributed_92_loss: 0.1823 - val_time_distributed_93_loss: 0.1727\n",
      "Epoch 16/25\n",
      "297/297 - 5s - loss: 16.1328 - time_distributed_85_loss: 0.1428 - time_distributed_86_loss: 0.1721 - time_distributed_87_loss: 0.1756 - time_distributed_88_loss: 0.1802 - time_distributed_89_loss: 0.1818 - time_distributed_90_loss: 0.1891 - time_distributed_91_loss: 0.1770 - time_distributed_92_loss: 0.1573 - time_distributed_93_loss: 0.1495 - val_loss: 16.3469 - val_time_distributed_85_loss: 0.1620 - val_time_distributed_86_loss: 0.1969 - val_time_distributed_87_loss: 0.2010 - val_time_distributed_88_loss: 0.2035 - val_time_distributed_89_loss: 0.2033 - val_time_distributed_90_loss: 0.2283 - val_time_distributed_91_loss: 0.2062 - val_time_distributed_92_loss: 0.1822 - val_time_distributed_93_loss: 0.1726\n",
      "Epoch 17/25\n",
      "297/297 - 5s - loss: 16.0986 - time_distributed_85_loss: 0.1427 - time_distributed_86_loss: 0.1718 - time_distributed_87_loss: 0.1755 - time_distributed_88_loss: 0.1800 - time_distributed_89_loss: 0.1816 - time_distributed_90_loss: 0.1887 - time_distributed_91_loss: 0.1768 - time_distributed_92_loss: 0.1572 - time_distributed_93_loss: 0.1493 - val_loss: 16.3127 - val_time_distributed_85_loss: 0.1619 - val_time_distributed_86_loss: 0.1967 - val_time_distributed_87_loss: 0.2007 - val_time_distributed_88_loss: 0.2033 - val_time_distributed_89_loss: 0.2032 - val_time_distributed_90_loss: 0.2275 - val_time_distributed_91_loss: 0.2058 - val_time_distributed_92_loss: 0.1821 - val_time_distributed_93_loss: 0.1724\n",
      "Epoch 18/25\n",
      "297/297 - 5s - loss: 16.0652 - time_distributed_85_loss: 0.1426 - time_distributed_86_loss: 0.1716 - time_distributed_87_loss: 0.1752 - time_distributed_88_loss: 0.1798 - time_distributed_89_loss: 0.1815 - time_distributed_90_loss: 0.1883 - time_distributed_91_loss: 0.1766 - time_distributed_92_loss: 0.1570 - time_distributed_93_loss: 0.1491 - val_loss: 16.2793 - val_time_distributed_85_loss: 0.1618 - val_time_distributed_86_loss: 0.1965 - val_time_distributed_87_loss: 0.2004 - val_time_distributed_88_loss: 0.2030 - val_time_distributed_89_loss: 0.2030 - val_time_distributed_90_loss: 0.2269 - val_time_distributed_91_loss: 0.2055 - val_time_distributed_92_loss: 0.1819 - val_time_distributed_93_loss: 0.1723\n",
      "Epoch 19/25\n",
      "297/297 - 5s - loss: 16.0326 - time_distributed_85_loss: 0.1424 - time_distributed_86_loss: 0.1713 - time_distributed_87_loss: 0.1751 - time_distributed_88_loss: 0.1797 - time_distributed_89_loss: 0.1812 - time_distributed_90_loss: 0.1880 - time_distributed_91_loss: 0.1763 - time_distributed_92_loss: 0.1569 - time_distributed_93_loss: 0.1489 - val_loss: 16.2468 - val_time_distributed_85_loss: 0.1618 - val_time_distributed_86_loss: 0.1963 - val_time_distributed_87_loss: 0.2002 - val_time_distributed_88_loss: 0.2028 - val_time_distributed_89_loss: 0.2028 - val_time_distributed_90_loss: 0.2263 - val_time_distributed_91_loss: 0.2051 - val_time_distributed_92_loss: 0.1818 - val_time_distributed_93_loss: 0.1721\n",
      "Epoch 20/25\n",
      "297/297 - 5s - loss: 16.0017 - time_distributed_85_loss: 0.1425 - time_distributed_86_loss: 0.1713 - time_distributed_87_loss: 0.1750 - time_distributed_88_loss: 0.1795 - time_distributed_89_loss: 0.1811 - time_distributed_90_loss: 0.1877 - time_distributed_91_loss: 0.1762 - time_distributed_92_loss: 0.1568 - time_distributed_93_loss: 0.1488 - val_loss: 16.2151 - val_time_distributed_85_loss: 0.1617 - val_time_distributed_86_loss: 0.1961 - val_time_distributed_87_loss: 0.1999 - val_time_distributed_88_loss: 0.2026 - val_time_distributed_89_loss: 0.2026 - val_time_distributed_90_loss: 0.2257 - val_time_distributed_91_loss: 0.2048 - val_time_distributed_92_loss: 0.1817 - val_time_distributed_93_loss: 0.1720\n",
      "Epoch 21/25\n",
      "297/297 - 5s - loss: 15.9712 - time_distributed_85_loss: 0.1425 - time_distributed_86_loss: 0.1711 - time_distributed_87_loss: 0.1748 - time_distributed_88_loss: 0.1793 - time_distributed_89_loss: 0.1811 - time_distributed_90_loss: 0.1875 - time_distributed_91_loss: 0.1759 - time_distributed_92_loss: 0.1568 - time_distributed_93_loss: 0.1486 - val_loss: 16.1842 - val_time_distributed_85_loss: 0.1616 - val_time_distributed_86_loss: 0.1959 - val_time_distributed_87_loss: 0.1996 - val_time_distributed_88_loss: 0.2024 - val_time_distributed_89_loss: 0.2025 - val_time_distributed_90_loss: 0.2251 - val_time_distributed_91_loss: 0.2044 - val_time_distributed_92_loss: 0.1816 - val_time_distributed_93_loss: 0.1719\n",
      "Epoch 22/25\n",
      "297/297 - 5s - loss: 15.9417 - time_distributed_85_loss: 0.1424 - time_distributed_86_loss: 0.1710 - time_distributed_87_loss: 0.1748 - time_distributed_88_loss: 0.1793 - time_distributed_89_loss: 0.1809 - time_distributed_90_loss: 0.1873 - time_distributed_91_loss: 0.1758 - time_distributed_92_loss: 0.1567 - time_distributed_93_loss: 0.1486 - val_loss: 16.1540 - val_time_distributed_85_loss: 0.1616 - val_time_distributed_86_loss: 0.1958 - val_time_distributed_87_loss: 0.1994 - val_time_distributed_88_loss: 0.2022 - val_time_distributed_89_loss: 0.2024 - val_time_distributed_90_loss: 0.2245 - val_time_distributed_91_loss: 0.2042 - val_time_distributed_92_loss: 0.1815 - val_time_distributed_93_loss: 0.1717\n",
      "Epoch 23/25\n",
      "297/297 - 5s - loss: 15.9122 - time_distributed_85_loss: 0.1423 - time_distributed_86_loss: 0.1709 - time_distributed_87_loss: 0.1746 - time_distributed_88_loss: 0.1791 - time_distributed_89_loss: 0.1809 - time_distributed_90_loss: 0.1869 - time_distributed_91_loss: 0.1755 - time_distributed_92_loss: 0.1566 - time_distributed_93_loss: 0.1484 - val_loss: 16.1245 - val_time_distributed_85_loss: 0.1615 - val_time_distributed_86_loss: 0.1956 - val_time_distributed_87_loss: 0.1992 - val_time_distributed_88_loss: 0.2020 - val_time_distributed_89_loss: 0.2022 - val_time_distributed_90_loss: 0.2239 - val_time_distributed_91_loss: 0.2039 - val_time_distributed_92_loss: 0.1814 - val_time_distributed_93_loss: 0.1716\n",
      "Epoch 24/25\n",
      "297/297 - 5s - loss: 15.8840 - time_distributed_85_loss: 0.1423 - time_distributed_86_loss: 0.1707 - time_distributed_87_loss: 0.1745 - time_distributed_88_loss: 0.1791 - time_distributed_89_loss: 0.1807 - time_distributed_90_loss: 0.1867 - time_distributed_91_loss: 0.1755 - time_distributed_92_loss: 0.1566 - time_distributed_93_loss: 0.1482 - val_loss: 16.0956 - val_time_distributed_85_loss: 0.1615 - val_time_distributed_86_loss: 0.1954 - val_time_distributed_87_loss: 0.1989 - val_time_distributed_88_loss: 0.2019 - val_time_distributed_89_loss: 0.2020 - val_time_distributed_90_loss: 0.2234 - val_time_distributed_91_loss: 0.2036 - val_time_distributed_92_loss: 0.1813 - val_time_distributed_93_loss: 0.1714\n"
     ]
    },
    {
     "name": "stdout",
     "output_type": "stream",
     "text": [
      "Epoch 25/25\n",
      "297/297 - 5s - loss: 15.8558 - time_distributed_85_loss: 0.1423 - time_distributed_86_loss: 0.1705 - time_distributed_87_loss: 0.1744 - time_distributed_88_loss: 0.1788 - time_distributed_89_loss: 0.1807 - time_distributed_90_loss: 0.1863 - time_distributed_91_loss: 0.1752 - time_distributed_92_loss: 0.1564 - time_distributed_93_loss: 0.1482 - val_loss: 16.0674 - val_time_distributed_85_loss: 0.1614 - val_time_distributed_86_loss: 0.1952 - val_time_distributed_87_loss: 0.1987 - val_time_distributed_88_loss: 0.2017 - val_time_distributed_89_loss: 0.2019 - val_time_distributed_90_loss: 0.2230 - val_time_distributed_91_loss: 0.2033 - val_time_distributed_92_loss: 0.1812 - val_time_distributed_93_loss: 0.1713\n"
     ]
    }
   ],
   "source": [
    "with tf.device('/GPU:0'):\n",
    "    model.fit(X_train, y_train, epochs=25, batch_size=72, validation_data=(X_test, y_test), verbose=2, shuffle=True)"
   ]
  },
  {
   "cell_type": "code",
   "execution_count": 124,
   "metadata": {},
   "outputs": [],
   "source": [
    "model.save('lstm_quantile_15.h5')"
   ]
  },
  {
   "cell_type": "code",
   "execution_count": 96,
   "metadata": {
    "collapsed": true
   },
   "outputs": [
    {
     "name": "stdout",
     "output_type": "stream",
     "text": [
      "WARNING:tensorflow:Layer lstm_17 will not use cuDNN kernel since it doesn't meet the cuDNN kernel criteria. It will use generic GPU kernel as fallback when running on GPU\n"
     ]
    },
    {
     "ename": "ValueError",
     "evalue": "Unknown loss function:<lambda>",
     "output_type": "error",
     "traceback": [
      "\u001b[1;31m---------------------------------------------------------------------------\u001b[0m",
      "\u001b[1;31mValueError\u001b[0m                                Traceback (most recent call last)",
      "\u001b[1;32m<ipython-input-96-897403a2bc36>\u001b[0m in \u001b[0;36m<module>\u001b[1;34m\u001b[0m\n\u001b[1;32m----> 1\u001b[1;33m \u001b[0mmodel\u001b[0m \u001b[1;33m=\u001b[0m \u001b[0mload_model\u001b[0m\u001b[1;33m(\u001b[0m\u001b[1;34m'lstm_2.h5'\u001b[0m\u001b[1;33m)\u001b[0m\u001b[1;33m\u001b[0m\u001b[1;33m\u001b[0m\u001b[0m\n\u001b[0m\u001b[0;32m      2\u001b[0m \u001b[0mmodel\u001b[0m\u001b[1;33m.\u001b[0m\u001b[0msummary\u001b[0m\u001b[1;33m(\u001b[0m\u001b[1;33m)\u001b[0m\u001b[1;33m\u001b[0m\u001b[1;33m\u001b[0m\u001b[0m\n",
      "\u001b[1;32mc:\\users\\kehua\\appdata\\local\\programs\\python\\python38\\lib\\site-packages\\tensorflow\\python\\keras\\saving\\save.py\u001b[0m in \u001b[0;36mload_model\u001b[1;34m(filepath, custom_objects, compile)\u001b[0m\n\u001b[0;32m    182\u001b[0m     if (h5py is not None and (\n\u001b[0;32m    183\u001b[0m         isinstance(filepath, h5py.File) or h5py.is_hdf5(filepath))):\n\u001b[1;32m--> 184\u001b[1;33m       \u001b[1;32mreturn\u001b[0m \u001b[0mhdf5_format\u001b[0m\u001b[1;33m.\u001b[0m\u001b[0mload_model_from_hdf5\u001b[0m\u001b[1;33m(\u001b[0m\u001b[0mfilepath\u001b[0m\u001b[1;33m,\u001b[0m \u001b[0mcustom_objects\u001b[0m\u001b[1;33m,\u001b[0m \u001b[0mcompile\u001b[0m\u001b[1;33m)\u001b[0m\u001b[1;33m\u001b[0m\u001b[1;33m\u001b[0m\u001b[0m\n\u001b[0m\u001b[0;32m    185\u001b[0m \u001b[1;33m\u001b[0m\u001b[0m\n\u001b[0;32m    186\u001b[0m     \u001b[1;32mif\u001b[0m \u001b[0msys\u001b[0m\u001b[1;33m.\u001b[0m\u001b[0mversion_info\u001b[0m \u001b[1;33m>=\u001b[0m \u001b[1;33m(\u001b[0m\u001b[1;36m3\u001b[0m\u001b[1;33m,\u001b[0m \u001b[1;36m4\u001b[0m\u001b[1;33m)\u001b[0m \u001b[1;32mand\u001b[0m \u001b[0misinstance\u001b[0m\u001b[1;33m(\u001b[0m\u001b[0mfilepath\u001b[0m\u001b[1;33m,\u001b[0m \u001b[0mpathlib\u001b[0m\u001b[1;33m.\u001b[0m\u001b[0mPath\u001b[0m\u001b[1;33m)\u001b[0m\u001b[1;33m:\u001b[0m\u001b[1;33m\u001b[0m\u001b[1;33m\u001b[0m\u001b[0m\n",
      "\u001b[1;32mc:\\users\\kehua\\appdata\\local\\programs\\python\\python38\\lib\\site-packages\\tensorflow\\python\\keras\\saving\\hdf5_format.py\u001b[0m in \u001b[0;36mload_model_from_hdf5\u001b[1;34m(filepath, custom_objects, compile)\u001b[0m\n\u001b[0;32m    191\u001b[0m \u001b[1;33m\u001b[0m\u001b[0m\n\u001b[0;32m    192\u001b[0m       \u001b[1;31m# Compile model.\u001b[0m\u001b[1;33m\u001b[0m\u001b[1;33m\u001b[0m\u001b[1;33m\u001b[0m\u001b[0m\n\u001b[1;32m--> 193\u001b[1;33m       model.compile(**saving_utils.compile_args_from_training_config(\n\u001b[0m\u001b[0;32m    194\u001b[0m           training_config, custom_objects))\n\u001b[0;32m    195\u001b[0m \u001b[1;33m\u001b[0m\u001b[0m\n",
      "\u001b[1;32mc:\\users\\kehua\\appdata\\local\\programs\\python\\python38\\lib\\site-packages\\tensorflow\\python\\keras\\saving\\saving_utils.py\u001b[0m in \u001b[0;36mcompile_args_from_training_config\u001b[1;34m(training_config, custom_objects)\u001b[0m\n\u001b[0;32m    213\u001b[0m     \u001b[0mloss_config\u001b[0m \u001b[1;33m=\u001b[0m \u001b[0mtraining_config\u001b[0m\u001b[1;33m.\u001b[0m\u001b[0mget\u001b[0m\u001b[1;33m(\u001b[0m\u001b[1;34m'loss'\u001b[0m\u001b[1;33m,\u001b[0m \u001b[1;32mNone\u001b[0m\u001b[1;33m)\u001b[0m\u001b[1;33m\u001b[0m\u001b[1;33m\u001b[0m\u001b[0m\n\u001b[0;32m    214\u001b[0m     \u001b[1;32mif\u001b[0m \u001b[0mloss_config\u001b[0m \u001b[1;32mis\u001b[0m \u001b[1;32mnot\u001b[0m \u001b[1;32mNone\u001b[0m\u001b[1;33m:\u001b[0m\u001b[1;33m\u001b[0m\u001b[1;33m\u001b[0m\u001b[0m\n\u001b[1;32m--> 215\u001b[1;33m       \u001b[0mloss\u001b[0m \u001b[1;33m=\u001b[0m \u001b[0m_deserialize_nested_config\u001b[0m\u001b[1;33m(\u001b[0m\u001b[0mlosses\u001b[0m\u001b[1;33m.\u001b[0m\u001b[0mdeserialize\u001b[0m\u001b[1;33m,\u001b[0m \u001b[0mloss_config\u001b[0m\u001b[1;33m)\u001b[0m\u001b[1;33m\u001b[0m\u001b[1;33m\u001b[0m\u001b[0m\n\u001b[0m\u001b[0;32m    216\u001b[0m \u001b[1;33m\u001b[0m\u001b[0m\n\u001b[0;32m    217\u001b[0m     \u001b[1;31m# Recover metrics.\u001b[0m\u001b[1;33m\u001b[0m\u001b[1;33m\u001b[0m\u001b[1;33m\u001b[0m\u001b[0m\n",
      "\u001b[1;32mc:\\users\\kehua\\appdata\\local\\programs\\python\\python38\\lib\\site-packages\\tensorflow\\python\\keras\\saving\\saving_utils.py\u001b[0m in \u001b[0;36m_deserialize_nested_config\u001b[1;34m(deserialize_fn, config)\u001b[0m\n\u001b[0;32m    253\u001b[0m     \u001b[1;32mreturn\u001b[0m \u001b[1;32mNone\u001b[0m\u001b[1;33m\u001b[0m\u001b[1;33m\u001b[0m\u001b[0m\n\u001b[0;32m    254\u001b[0m   \u001b[1;32mif\u001b[0m \u001b[0m_is_single_object\u001b[0m\u001b[1;33m(\u001b[0m\u001b[0mconfig\u001b[0m\u001b[1;33m)\u001b[0m\u001b[1;33m:\u001b[0m\u001b[1;33m\u001b[0m\u001b[1;33m\u001b[0m\u001b[0m\n\u001b[1;32m--> 255\u001b[1;33m     \u001b[1;32mreturn\u001b[0m \u001b[0mdeserialize_fn\u001b[0m\u001b[1;33m(\u001b[0m\u001b[0mconfig\u001b[0m\u001b[1;33m)\u001b[0m\u001b[1;33m\u001b[0m\u001b[1;33m\u001b[0m\u001b[0m\n\u001b[0m\u001b[0;32m    256\u001b[0m   \u001b[1;32melif\u001b[0m \u001b[0misinstance\u001b[0m\u001b[1;33m(\u001b[0m\u001b[0mconfig\u001b[0m\u001b[1;33m,\u001b[0m \u001b[0mdict\u001b[0m\u001b[1;33m)\u001b[0m\u001b[1;33m:\u001b[0m\u001b[1;33m\u001b[0m\u001b[1;33m\u001b[0m\u001b[0m\n\u001b[0;32m    257\u001b[0m     return {\n",
      "\u001b[1;32mc:\\users\\kehua\\appdata\\local\\programs\\python\\python38\\lib\\site-packages\\tensorflow\\python\\keras\\losses.py\u001b[0m in \u001b[0;36mdeserialize\u001b[1;34m(name, custom_objects)\u001b[0m\n\u001b[0;32m   1829\u001b[0m       \u001b[0mA\u001b[0m \u001b[0mKeras\u001b[0m\u001b[0;31m \u001b[0m\u001b[0;31m`\u001b[0m\u001b[0mLoss\u001b[0m\u001b[0;31m`\u001b[0m \u001b[0minstance\u001b[0m \u001b[1;32mor\u001b[0m \u001b[0ma\u001b[0m \u001b[0mloss\u001b[0m \u001b[0mfunction\u001b[0m\u001b[1;33m.\u001b[0m\u001b[1;33m\u001b[0m\u001b[1;33m\u001b[0m\u001b[0m\n\u001b[0;32m   1830\u001b[0m   \"\"\"\n\u001b[1;32m-> 1831\u001b[1;33m   return deserialize_keras_object(\n\u001b[0m\u001b[0;32m   1832\u001b[0m       \u001b[0mname\u001b[0m\u001b[1;33m,\u001b[0m\u001b[1;33m\u001b[0m\u001b[1;33m\u001b[0m\u001b[0m\n\u001b[0;32m   1833\u001b[0m       \u001b[0mmodule_objects\u001b[0m\u001b[1;33m=\u001b[0m\u001b[0mglobals\u001b[0m\u001b[1;33m(\u001b[0m\u001b[1;33m)\u001b[0m\u001b[1;33m,\u001b[0m\u001b[1;33m\u001b[0m\u001b[1;33m\u001b[0m\u001b[0m\n",
      "\u001b[1;32mc:\\users\\kehua\\appdata\\local\\programs\\python\\python38\\lib\\site-packages\\tensorflow\\python\\keras\\utils\\generic_utils.py\u001b[0m in \u001b[0;36mdeserialize_keras_object\u001b[1;34m(identifier, module_objects, custom_objects, printable_module_name)\u001b[0m\n\u001b[0;32m    390\u001b[0m       \u001b[0mobj\u001b[0m \u001b[1;33m=\u001b[0m \u001b[0mmodule_objects\u001b[0m\u001b[1;33m.\u001b[0m\u001b[0mget\u001b[0m\u001b[1;33m(\u001b[0m\u001b[0mobject_name\u001b[0m\u001b[1;33m)\u001b[0m\u001b[1;33m\u001b[0m\u001b[1;33m\u001b[0m\u001b[0m\n\u001b[0;32m    391\u001b[0m       \u001b[1;32mif\u001b[0m \u001b[0mobj\u001b[0m \u001b[1;32mis\u001b[0m \u001b[1;32mNone\u001b[0m\u001b[1;33m:\u001b[0m\u001b[1;33m\u001b[0m\u001b[1;33m\u001b[0m\u001b[0m\n\u001b[1;32m--> 392\u001b[1;33m         \u001b[1;32mraise\u001b[0m \u001b[0mValueError\u001b[0m\u001b[1;33m(\u001b[0m\u001b[1;34m'Unknown '\u001b[0m \u001b[1;33m+\u001b[0m \u001b[0mprintable_module_name\u001b[0m \u001b[1;33m+\u001b[0m \u001b[1;34m':'\u001b[0m \u001b[1;33m+\u001b[0m \u001b[0mobject_name\u001b[0m\u001b[1;33m)\u001b[0m\u001b[1;33m\u001b[0m\u001b[1;33m\u001b[0m\u001b[0m\n\u001b[0m\u001b[0;32m    393\u001b[0m     \u001b[1;31m# Classes passed by name are instantiated with no args, functions are\u001b[0m\u001b[1;33m\u001b[0m\u001b[1;33m\u001b[0m\u001b[1;33m\u001b[0m\u001b[0m\n\u001b[0;32m    394\u001b[0m     \u001b[1;31m# returned as-is.\u001b[0m\u001b[1;33m\u001b[0m\u001b[1;33m\u001b[0m\u001b[1;33m\u001b[0m\u001b[0m\n",
      "\u001b[1;31mValueError\u001b[0m: Unknown loss function:<lambda>"
     ]
    }
   ],
   "source": [
    "model = load_model('lstm_2.h5')\n",
    "model.summary()"
   ]
  },
  {
   "cell_type": "code",
   "execution_count": 137,
   "metadata": {},
   "outputs": [],
   "source": [
    "n_counties = deaths2.shape[0]\n",
    "n_features = 3"
   ]
  },
  {
   "cell_type": "code",
   "execution_count": 147,
   "metadata": {},
   "outputs": [],
   "source": [
    "X = np.zeros((n_counties, lag, n_features))\n",
    "t = lag + validation_steps\n",
    "for county in range(n_counties):\n",
    "    f = deaths2[county]\n",
    "    if np.all(np.isnan(f)):\n",
    "        continue\n",
    "\n",
    "    # s is the end of the series\n",
    "    if np.all(~np.isnan(f)):\n",
    "        s = f.shape[0]\n",
    "    else: \n",
    "        s = np.argmax(np.isnan(f))\n",
    "\n",
    "    i = s - t \n",
    "    if i < 0:\n",
    "        continue\n",
    "\n",
    "    x = np.vstack([feature[county, i:i + lag] for feature \n",
    "            in [cases2, deaths2]])\n",
    "    x = np.vstack([x, np.full((lag, ), i)])\n",
    "    x = x.T\n",
    "\n",
    "    X[county, :] = x\n",
    "\n",
    "y_pred = model.predict(X)"
   ]
  },
  {
   "cell_type": "code",
   "execution_count": 148,
   "metadata": {},
   "outputs": [],
   "source": [
    "pred = np.array(y_pred)"
   ]
  },
  {
   "cell_type": "code",
   "execution_count": 136,
   "metadata": {
    "scrolled": true
   },
   "outputs": [
    {
     "name": "stdout",
     "output_type": "stream",
     "text": [
      "50\n",
      "100\n",
      "150\n",
      "200\n",
      "250\n",
      "300\n",
      "350\n",
      "400\n",
      "450\n",
      "500\n",
      "550\n",
      "600\n",
      "650\n",
      "700\n",
      "750\n",
      "800\n",
      "850\n",
      "900\n",
      "950\n",
      "1000\n",
      "1050\n",
      "1100\n",
      "1150\n",
      "1200\n",
      "1250\n",
      "1300\n",
      "1350\n",
      "1400\n",
      "1450\n",
      "1500\n",
      "1550\n",
      "1600\n",
      "1650\n",
      "1700\n",
      "1750\n",
      "1800\n",
      "1850\n",
      "1900\n",
      "1950\n",
      "2000\n",
      "2050\n",
      "2100\n",
      "2150\n",
      "2200\n",
      "2250\n",
      "2300\n",
      "2350\n",
      "2400\n",
      "2450\n",
      "2500\n",
      "2550\n",
      "2600\n",
      "2650\n",
      "2700\n",
      "2750\n",
      "2800\n",
      "2850\n",
      "2900\n",
      "2950\n",
      "3000\n",
      "3050\n",
      "3100\n"
     ]
    }
   ],
   "source": [
    "cases_predictions = {}\n",
    "deaths_predictions = {}\n",
    "count = 0\n",
    "for county in range(deaths2.shape[0]):\n",
    "    count += 1\n",
    "    if count % 50 == 0:\n",
    "        print(count)\n",
    "    d = deaths2[county]\n",
    "    c = cases2[county]\n",
    "    if np.all(np.isnan(d)) or np.all(np.isnan(c)):\n",
    "        continue\n",
    "    s = np.argmax(np.isnan(d))\n",
    "    if s < lag + validation_steps:\n",
    "        continue\n",
    "    i = s - lag - validation_steps\n",
    "    X = np.expand_dims(np.vstack([c[i:i+lag], d[i:i+lag], np.full((lag, ), i)]).T, axis=0)\n",
    "    predictions1 = model.predict(X)\n",
    "    X = np.expand_dims(np.hstack([predictions1[0], np.full((lag, 1), i)]), axis=0)\n",
    "    predictions2 = model.predict(X)\n",
    "    predictions = np.vstack([predictions1[0], predictions2[0]])\n",
    "    cases_predictions[county] = predictions.T[0]\n",
    "    deaths_predictions[county] = predictions.T[1]"
   ]
  },
  {
   "cell_type": "code",
   "execution_count": 120,
   "metadata": {
    "jupyter": {
     "outputs_hidden": true
    },
    "scrolled": true
   },
   "outputs": [
    {
     "name": "stdout",
     "output_type": "stream",
     "text": [
      "dict_keys([0, 1, 3, 4, 7, 8, 9, 10, 11, 12, 13, 14, 15, 16, 18, 19, 21, 23, 24, 25, 27, 29, 31, 32, 34, 35, 36, 37, 38, 39, 40, 41, 42, 43, 44, 45, 46, 47, 48, 49, 50, 51, 53, 54, 55, 56, 57, 58, 59, 60, 61, 62, 63, 64, 65, 69, 74, 77, 78, 79, 96, 97, 98, 103, 104, 105, 106, 107, 108, 109, 110, 112, 114, 120, 122, 123, 126, 128, 129, 133, 136, 137, 138, 140, 145, 146, 148, 150, 153, 156, 166, 167, 168, 170, 171, 172, 173, 175, 176, 177, 179, 180, 181, 182, 183, 186, 189, 192, 194, 195, 197, 198, 199, 200, 201, 204, 205, 206, 209, 211, 212, 213, 214, 215, 216, 218, 219, 220, 221, 222, 223, 224, 225, 226, 227, 228, 229, 230, 233, 234, 235, 236, 239, 241, 242, 243, 244, 246, 247, 248, 250, 251, 252, 254, 260, 262, 263, 264, 265, 267, 270, 274, 278, 279, 282, 283, 286, 287, 288, 293, 295, 298, 301, 303, 304, 306, 308, 309, 310, 311, 312, 313, 314, 315, 316, 317, 318, 319, 320, 321, 322, 323, 324, 325, 327, 328, 329, 330, 331, 332, 334, 335, 336, 338, 344, 345, 346, 347, 349, 351, 353, 354, 355, 356, 358, 359, 360, 361, 362, 363, 364, 365, 367, 368, 369, 370, 371, 372, 373, 374, 375, 376, 377, 378, 379, 380, 383, 384, 385, 387, 389, 390, 391, 393, 394, 395, 397, 400, 401, 402, 403, 404, 405, 406, 408, 409, 411, 414, 415, 416, 417, 419, 420, 421, 422, 424, 426, 428, 429, 430, 431, 432, 433, 434, 435, 437, 441, 442, 443, 444, 446, 449, 450, 451, 452, 453, 454, 455, 457, 458, 461, 462, 463, 464, 465, 468, 469, 470, 471, 473, 474, 475, 476, 478, 479, 480, 482, 483, 484, 485, 486, 487, 488, 490, 491, 492, 493, 494, 496, 497, 498, 499, 500, 501, 502, 505, 506, 507, 508, 509, 511, 512, 513, 515, 516, 520, 521, 522, 523, 524, 527, 528, 531, 533, 534, 535, 536, 540, 541, 544, 545, 546, 547, 549, 550, 551, 557, 560, 564, 570, 573, 577, 578, 582, 585, 588, 591, 592, 595, 598, 604, 605, 608, 610, 613, 615, 616, 626, 631, 632, 633, 637, 639, 640, 641, 643, 644, 646, 647, 650, 651, 652, 653, 654, 661, 663, 665, 666, 673, 675, 676, 678, 683, 684, 692, 693, 694, 695, 696, 698, 699, 702, 703, 705, 706, 707, 708, 709, 711, 712, 714, 715, 716, 717, 718, 720, 723, 724, 725, 726, 727, 728, 729, 730, 731, 732, 733, 735, 736, 737, 738, 739, 740, 741, 742, 743, 744, 745, 746, 748, 749, 750, 751, 752, 753, 755, 756, 757, 760, 763, 764, 765, 766, 767, 768, 769, 771, 772, 774, 775, 776, 778, 780, 783, 784, 785, 788, 791, 794, 795, 804, 805, 811, 812, 813, 819, 831, 832, 836, 838, 840, 841, 845, 846, 852, 855, 858, 865, 866, 867, 870, 871, 872, 873, 874, 877, 879, 880, 885, 893, 895, 903, 910, 915, 917, 933, 937, 939, 943, 944, 950, 965, 968, 972, 974, 976, 992, 993, 1000, 1002, 1007, 1011, 1016, 1017, 1022, 1023, 1026, 1033, 1039, 1041, 1043, 1046, 1048, 1049, 1051, 1065, 1068, 1070, 1081, 1082, 1084, 1092, 1097, 1099, 1106, 1109, 1112, 1113, 1114, 1115, 1116, 1117, 1118, 1119, 1120, 1121, 1122, 1123, 1125, 1126, 1127, 1128, 1129, 1131, 1132, 1133, 1134, 1135, 1136, 1138, 1139, 1140, 1141, 1142, 1143, 1144, 1146, 1147, 1148, 1149, 1150, 1151, 1152, 1154, 1155, 1156, 1157, 1158, 1159, 1160, 1161, 1162, 1163, 1164, 1165, 1167, 1168, 1169, 1170, 1171, 1172, 1173, 1175, 1177, 1179, 1182, 1183, 1184, 1185, 1186, 1188, 1190, 1192, 1193, 1194, 1195, 1196, 1197, 1198, 1199, 1200, 1202, 1204, 1205, 1206, 1207, 1208, 1209, 1210, 1212, 1213, 1214, 1215, 1216, 1217, 1218, 1219, 1220, 1221, 1222, 1223, 1224, 1225, 1226, 1227, 1228, 1229, 1230, 1233, 1235, 1238, 1239, 1241, 1242, 1243, 1244, 1245, 1246, 1249, 1251, 1253, 1254, 1255, 1258, 1259, 1260, 1263, 1264, 1267, 1268, 1269, 1270, 1271, 1274, 1276, 1277, 1280, 1281, 1282, 1284, 1286, 1288, 1289, 1291, 1293, 1299, 1300, 1302, 1303, 1304, 1305, 1306, 1308, 1309, 1310, 1311, 1312, 1313, 1315, 1317, 1320, 1321, 1322, 1323, 1327, 1331, 1332, 1333, 1336, 1337, 1338, 1340, 1353, 1359, 1363, 1368, 1375, 1382, 1383, 1384, 1386, 1387, 1392, 1395, 1398, 1399, 1401, 1402, 1403, 1404, 1406, 1407, 1408, 1409, 1410, 1412, 1413, 1414, 1415, 1416, 1417, 1418, 1422, 1423, 1424, 1425, 1426, 1427, 1430, 1434, 1435, 1436, 1437, 1438, 1439, 1440, 1441, 1442, 1443, 1444, 1445, 1446, 1447, 1448, 1449, 1450, 1451, 1453, 1454, 1455, 1456, 1457, 1458, 1459, 1460, 1461, 1462, 1464, 1465, 1467, 1469, 1470, 1472, 1473, 1474, 1475, 1476, 1478, 1479, 1480, 1481, 1482, 1483, 1492, 1493, 1494, 1496, 1497, 1498, 1501, 1502, 1504, 1506, 1507, 1508, 1517, 1518, 1521, 1530, 1531, 1532, 1533, 1536, 1539, 1555, 1561, 1565, 1567, 1570, 1571, 1574, 1576, 1577, 1578, 1579, 1582, 1585, 1588, 1591, 1596, 1597, 1604, 1612, 1613, 1622, 1624, 1626, 1629, 1631, 1644, 1648, 1653, 1654, 1663, 1680, 1681, 1687, 1693, 1694, 1706, 1708, 1709, 1713, 1730, 1732, 1742, 1748, 1749, 1750, 1753, 1758, 1761, 1763, 1764, 1765, 1766, 1768, 1769, 1770, 1771, 1772, 1773, 1774, 1775, 1776, 1777, 1778, 1779, 1780, 1781, 1782, 1783, 1784, 1785, 1786, 1787, 1788, 1789, 1790, 1791, 1792, 1793, 1794, 1795, 1797, 1798, 1800, 1802, 1803, 1812, 1816, 1818, 1819, 1821, 1823, 1824, 1825, 1827, 1828, 1829, 1830, 1831, 1832, 1833, 1834, 1835, 1836, 1837, 1838, 1839, 1840, 1841, 1842, 1843, 1844, 1845, 1846, 1847, 1849, 1850, 1851, 1852, 1853, 1854, 1855, 1856, 1857, 1858, 1859, 1860, 1861, 1862, 1863, 1864, 1865, 1866, 1867, 1868, 1869, 1870, 1871, 1872, 1873, 1874, 1875, 1877, 1878, 1879, 1880, 1881, 1882, 1883, 1884, 1885, 1886, 1887, 1888, 1890, 1893, 1896, 1897, 1899, 1900, 1901, 1902, 1903, 1905, 1907, 1908, 1909, 1912, 1913, 1914, 1915, 1917, 1918, 1919, 1920, 1921, 1922, 1923, 1924, 1925, 1928, 1929, 1930, 1931, 1932, 1934, 1936, 1938, 1940, 1943, 1944, 1945, 1949, 1951, 1952, 1953, 1954, 1955, 1956, 1957, 1959, 1962, 1963, 1964, 1965, 1967, 1968, 1969, 1970, 1973, 1974, 1975, 1977, 1979, 1980, 1981, 1983, 1984, 1985, 1987, 1988, 1997, 1998, 2007, 2019, 2020, 2034, 2040, 2044, 2046, 2048, 2049, 2051, 2052, 2054, 2055, 2056, 2057, 2058, 2059, 2060, 2061, 2062, 2063, 2064, 2065, 2067, 2070, 2071, 2073, 2074, 2078, 2081, 2083, 2084, 2085, 2086, 2087, 2089, 2090, 2091, 2092, 2093, 2094, 2096, 2097, 2099, 2101, 2102, 2104, 2106, 2107, 2109, 2110, 2112, 2113, 2116, 2117, 2118, 2119, 2120, 2121, 2122, 2125, 2126, 2127, 2129, 2131, 2138, 2139, 2141, 2144, 2146, 2149, 2151, 2155, 2156, 2158, 2163, 2166, 2171, 2172, 2174, 2179, 2181, 2182, 2183, 2185, 2186, 2187, 2188, 2189, 2190, 2191, 2192, 2193, 2196, 2198, 2199, 2202, 2203, 2204, 2209, 2210, 2212, 2216, 2217, 2222, 2224, 2225, 2227, 2229, 2231, 2233, 2234, 2237, 2240, 2241, 2243, 2244, 2245, 2246, 2247, 2249, 2250, 2251, 2252, 2253, 2254, 2256, 2257, 2258, 2259, 2260, 2262, 2263, 2264, 2265, 2266, 2268, 2269, 2271, 2273, 2274, 2275, 2277, 2278, 2279, 2280, 2281, 2282, 2283, 2284, 2286, 2287, 2288, 2289, 2290, 2291, 2292, 2293, 2294, 2295, 2297, 2298, 2299, 2301, 2302, 2303, 2306, 2307, 2308, 2310, 2311, 2312, 2313, 2314, 2315, 2316, 2317, 2319, 2320, 2322, 2323, 2325, 2327, 2328, 2329, 2330, 2331, 2333, 2334, 2335, 2336, 2337, 2338, 2339, 2341, 2342, 2343, 2344, 2345, 2346, 2347, 2350, 2351, 2352, 2353, 2354, 2355, 2357, 2358, 2359, 2360, 2361, 2363, 2366, 2367, 2374, 2375, 2401, 2402, 2410, 2413, 2426, 2428, 2429, 2432, 2433, 2434, 2435, 2436, 2438, 2443, 2445, 2446, 2448, 2449, 2450, 2451, 2453, 2454, 2457, 2458, 2460, 2462, 2464, 2465, 2467, 2472, 2474, 2476, 2477, 2479, 2480, 2482, 2483, 2484, 2485, 2486, 2487, 2489, 2490, 2498, 2501, 2502, 2505, 2506, 2509, 2510, 2511, 2512, 2517, 2521, 2522, 2524, 2525, 2530, 2533, 2536, 2537, 2541, 2542, 2543, 2547, 2551, 2553, 2557, 2558, 2559, 2565, 2567, 2568, 2572, 2579, 2581, 2583, 2584, 2587, 2590, 2592, 2593, 2594, 2597, 2601, 2606, 2612, 2613, 2614, 2615, 2616, 2617, 2622, 2623, 2624, 2627, 2630, 2631, 2632, 2633, 2638, 2645, 2648, 2651, 2652, 2661, 2668, 2669, 2674, 2677, 2683, 2684, 2685, 2687, 2688, 2692, 2693, 2696, 2700, 2703, 2706, 2709, 2710, 2713, 2721, 2723, 2727, 2732, 2734, 2736, 2742, 2743, 2745, 2748, 2749, 2752, 2755, 2756, 2757, 2758, 2759, 2761, 2762, 2763, 2765, 2767, 2768, 2769, 2778, 2779, 2782, 2787, 2791, 2794, 2795, 2798, 2799, 2801, 2802, 2803, 2805, 2806, 2807, 2808, 2809, 2811, 2813, 2815, 2816, 2817, 2818, 2819, 2820, 2821, 2823, 2824, 2826, 2827, 2829, 2831, 2834, 2840, 2843, 2844, 2848, 2849, 2851, 2852, 2853, 2855, 2856, 2861, 2862, 2865, 2866, 2868, 2872, 2873, 2877, 2879, 2881, 2885, 2891, 2892, 2896, 2898, 2901, 2904, 2905, 2907, 2909, 2910, 2913, 2914, 2915, 2918, 2919, 2922, 2927, 2929, 2930, 2931, 2933, 2934, 2937, 2938, 2940, 2942, 2944, 2945, 2948, 2949, 2951, 2952, 2953, 2955, 2956, 2957, 2958, 2960, 2961, 2963, 2965, 2966, 2967, 2968, 2969, 2970, 2971, 2972, 2973, 2975, 2976, 2979, 2980, 2981, 2983, 2984, 2985, 2986, 2988, 2989, 2990, 2991, 2993, 2997, 3006, 3008, 3009, 3010, 3011, 3014, 3016, 3018, 3019, 3022, 3026, 3030, 3031, 3045, 3051, 3055, 3056, 3057, 3059, 3060, 3061, 3062, 3063, 3064, 3066, 3069, 3074, 3076, 3078, 3083, 3087, 3091, 3092, 3094, 3098, 3100, 3102, 3103, 3106, 3111, 3113, 3114, 3117, 3121, 3125, 3128, 3129, 3131, 3135, 3137, 3138])\n"
     ]
    }
   ],
   "source": [
    "print(cases_predictions.keys())"
   ]
  },
  {
   "cell_type": "code",
   "execution_count": 149,
   "metadata": {},
   "outputs": [],
   "source": [
    "dp2 = {}\n",
    "pop = np.expand_dims(demographics['total_pop'].values, axis=1)\n",
    "for county in range(n_counties):\n",
    "    d = deaths2[county]\n",
    "    \n",
    "    predicted_deaths = pred[4, county, :, 1]\n",
    "    \n",
    "    s = np.argmax(np.isnan(d))\n",
    "    d2 = np.concatenate([d[:(s - validation_steps)], predicted_deaths])\n",
    "    \n",
    "    dp2[county] = untransform(d2, dt0[county], dx0[county], 0)\n",
    "    \n",
    "    dp2[county] = dp2[county] * pop[county, 0] / 10000"
   ]
  },
  {
   "cell_type": "code",
   "execution_count": 150,
   "metadata": {},
   "outputs": [],
   "source": [
    "dp3 = {}\n",
    "pop = np.expand_dims(demographics['total_pop'].values, axis=1)\n",
    "for county in range(n_counties):\n",
    "    d = deaths2[county]\n",
    "    \n",
    "    predicted_deaths = pred[0, county, :, 1]\n",
    "    \n",
    "    s = np.argmax(np.isnan(d))\n",
    "    d2 = np.concatenate([d[:(s - validation_steps)], predicted_deaths])\n",
    "    \n",
    "    dp3[county] = untransform(d2, dt0[county], dx0[county], 0)\n",
    "    \n",
    "    dp3[county] = dp3[county] * pop[county, 0] / 10000"
   ]
  },
  {
   "cell_type": "code",
   "execution_count": 151,
   "metadata": {},
   "outputs": [],
   "source": [
    "dp4 = {}\n",
    "pop = np.expand_dims(demographics['total_pop'].values, axis=1)\n",
    "for county in range(n_counties):\n",
    "    d = deaths2[county]\n",
    "    \n",
    "    predicted_deaths = pred[8, county, :, 1]\n",
    "    \n",
    "    s = np.argmax(np.isnan(d))\n",
    "    d2 = np.concatenate([d[:(s - validation_steps)], predicted_deaths])\n",
    "    \n",
    "    \n",
    "    dp4[county] = untransform(d2, dt0[county], dx0[county], 0)\n",
    "    \n",
    "    dp4[county] = dp4[county] * pop[county, 0] / 10000"
   ]
  },
  {
   "cell_type": "code",
   "execution_count": 152,
   "metadata": {},
   "outputs": [
    {
     "data": {
      "text/plain": [
       "array([   0.        ,    0.        ,    0.        ,    0.        ,\n",
       "          1.        ,    1.        ,    1.        ,    1.        ,\n",
       "          1.        ,    1.        ,    1.        ,    1.        ,\n",
       "          1.        ,    2.        ,    3.        ,    3.        ,\n",
       "          4.        ,    4.        ,    4.        ,    4.        ,\n",
       "          4.        ,    4.        ,    4.        ,    4.        ,\n",
       "          5.        ,    5.        ,    6.        ,    6.        ,\n",
       "          6.        ,    6.        ,    6.        ,    6.        ,\n",
       "          6.        ,    6.        ,    6.        ,    6.        ,\n",
       "          6.        ,    6.        ,    6.        ,    6.        ,\n",
       "          6.        ,    6.04151521,    1.81910887,   -8.72638786,\n",
       "        -26.32533877,  -50.8533251 ,  -82.6517947 , -122.07913856,\n",
       "       -169.23492786])"
      ]
     },
     "execution_count": 152,
     "metadata": {},
     "output_type": "execute_result"
    }
   ],
   "source": [
    "dp4[county]"
   ]
  },
  {
   "cell_type": "code",
   "execution_count": 137,
   "metadata": {},
   "outputs": [],
   "source": [
    "cp2 = {}\n",
    "dp2 = {}\n",
    "pop = np.expand_dims(demographics['total_pop'].values, axis=1)\n",
    "for county in cases_predictions:\n",
    "    d = deaths2[county]\n",
    "    c = cases2[county]\n",
    "    s = np.argmax(np.isnan(d))\n",
    "    d2 = np.concatenate([d[:(s - validation_steps)], deaths_predictions[county]])\n",
    "    c2 = np.concatenate([c[:(s - validation_steps)], cases_predictions[county]])\n",
    "    \n",
    "    cp2[county] = untransform(c2, ct0[county], cx0[county], 0)\n",
    "    dp2[county] = untransform(d2, dt0[county], dx0[county], 0)\n",
    "    \n",
    "    cp2[county] = cp2[county] * pop[county, 0] / 10000\n",
    "    dp2[county] = dp2[county] * pop[county, 0] / 10000"
   ]
  },
  {
   "cell_type": "code",
   "execution_count": 54,
   "metadata": {},
   "outputs": [
    {
     "ename": "NameError",
     "evalue": "name 'deaths_predictions' is not defined",
     "output_type": "error",
     "traceback": [
      "\u001b[1;31m---------------------------------------------------------------------------\u001b[0m",
      "\u001b[1;31mNameError\u001b[0m                                 Traceback (most recent call last)",
      "\u001b[1;32m<ipython-input-54-6b17ce9dbd5c>\u001b[0m in \u001b[0;36m<module>\u001b[1;34m\u001b[0m\n\u001b[0;32m      1\u001b[0m \u001b[0mmse\u001b[0m \u001b[1;33m=\u001b[0m \u001b[1;36m0\u001b[0m\u001b[1;33m\u001b[0m\u001b[1;33m\u001b[0m\u001b[0m\n\u001b[0;32m      2\u001b[0m \u001b[0mn\u001b[0m \u001b[1;33m=\u001b[0m \u001b[1;36m0\u001b[0m\u001b[1;33m\u001b[0m\u001b[1;33m\u001b[0m\u001b[0m\n\u001b[1;32m----> 3\u001b[1;33m \u001b[1;32mfor\u001b[0m \u001b[0mcounty\u001b[0m \u001b[1;32min\u001b[0m \u001b[0mdeaths_predictions\u001b[0m\u001b[1;33m:\u001b[0m\u001b[1;33m\u001b[0m\u001b[1;33m\u001b[0m\u001b[0m\n\u001b[0m\u001b[0;32m      4\u001b[0m     \u001b[0mn\u001b[0m \u001b[1;33m+=\u001b[0m \u001b[1;36m1\u001b[0m\u001b[1;33m\u001b[0m\u001b[1;33m\u001b[0m\u001b[0m\n\u001b[0;32m      5\u001b[0m     \u001b[0ms\u001b[0m \u001b[1;33m=\u001b[0m \u001b[0mnp\u001b[0m\u001b[1;33m.\u001b[0m\u001b[0margmax\u001b[0m\u001b[1;33m(\u001b[0m\u001b[0mnp\u001b[0m\u001b[1;33m.\u001b[0m\u001b[0misnan\u001b[0m\u001b[1;33m(\u001b[0m\u001b[0mdeaths2\u001b[0m\u001b[1;33m[\u001b[0m\u001b[0mcounty\u001b[0m\u001b[1;33m]\u001b[0m\u001b[1;33m)\u001b[0m\u001b[1;33m)\u001b[0m\u001b[1;33m\u001b[0m\u001b[1;33m\u001b[0m\u001b[0m\n",
      "\u001b[1;31mNameError\u001b[0m: name 'deaths_predictions' is not defined"
     ]
    }
   ],
   "source": [
    "mse = 0\n",
    "n = 0\n",
    "for county in deaths_predictions:\n",
    "    n += 1\n",
    "    s = np.argmax(np.isnan(deaths2[county]))\n",
    "    pred = dp2[county][(s - validation_steps):s]\n",
    "    real = deaths[county][(s - validation_steps):s]\n",
    "    mse += np.sum((pred - real)**2)\n",
    "    break\n",
    "print(mse / (n*validation_steps))"
   ]
  },
  {
   "cell_type": "code",
   "execution_count": 156,
   "metadata": {},
   "outputs": [
    {
     "data": {
      "image/png": "[encoded data removed]",
      "text/plain": [
       "<Figure size 864x864 with 1 Axes>"
      ]
     },
     "metadata": {
      "needs_background": "light"
     },
     "output_type": "display_data"
    }
   ],
   "source": [
    "fig = plt.figure(figsize=(12, 12))\n",
    "ax = fig.add_subplot(111)\n",
    "\n",
    "county = 1859\n",
    "\n",
    "d1 = deaths\n",
    "x1 = np.linspace(1, d1.shape[1], d1.shape[1])\n",
    "plt.plot(x1, d1[county])\n",
    "\n",
    "s = np.argmax(np.isnan(d1[county])) - 1\n",
    "d2 = dp2[county]\n",
    "x2 = np.linspace(1, d2.shape[0], d2.shape[0])\n",
    "plt.plot(x2[s - validation_steps:], d2[s - validation_steps:])\n",
    "\n",
    "d2 = dp3[county]\n",
    "x2 = np.linspace(1, d2.shape[0], d2.shape[0])\n",
    "plt.plot(x2[s - validation_steps:], d2[s - validation_steps:])\n",
    "\n",
    "d2 = dp4[county]\n",
    "x2 = np.linspace(1, d2.shape[0], d2.shape[0])\n",
    "plt.plot(x2[s - validation_steps:], d2[s - validation_steps:])\n",
    "\n",
    "plt.show()"
   ]
  },
  {
   "cell_type": "code",
   "execution_count": null,
   "metadata": {},
   "outputs": [],
   "source": []
  }
 ],
 "metadata": {
  "kernelspec": {
   "display_name": "Python 3",
   "language": "python",
   "name": "python3"
  },
  "language_info": {
   "codemirror_mode": {
    "name": "ipython",
    "version": 3
   },
   "file_extension": ".py",
   "mimetype": "text/x-python",
   "name": "python",
   "nbconvert_exporter": "python",
   "pygments_lexer": "ipython3",
   "version": "3.8.2"
  }
 },
 "nbformat": 4,
 "nbformat_minor": 4
}
