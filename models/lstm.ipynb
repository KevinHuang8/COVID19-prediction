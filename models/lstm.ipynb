{
 "cells": [
  {
   "cell_type": "code",
   "execution_count": 1,
   "metadata": {},
   "outputs": [
    {
     "name": "stderr",
     "output_type": "stream",
     "text": [
      "Using TensorFlow backend.\n"
     ]
    },
    {
     "data": {
      "text/plain": [
       "<module 'utils' from '..\\\\utils.py'>"
      ]
     },
     "execution_count": 1,
     "metadata": {},
     "output_type": "execute_result"
    }
   ],
   "source": [
    "import sys\n",
    "sys.path.append('../')\n",
    "import numpy as np\n",
    "import importlib\n",
    "import utils as u\n",
    "from sklearn.metrics import mean_squared_error\n",
    "import matplotlib.pyplot as plt\n",
    "import keras\n",
    "import tensorflow as tf\n",
    "from tensorflow.keras.models import Model, Sequential, load_model\n",
    "from tensorflow.keras.layers import Embedding, LSTM, Dense, TimeDistributed, Activation, Dropout\n",
    "from tensorflow.keras.regularizers import L1L2\n",
    "importlib.reload(u)"
   ]
  },
  {
   "cell_type": "code",
   "execution_count": 2,
   "metadata": {},
   "outputs": [],
   "source": [
    "gpus = tf.config.list_physical_devices('GPU')\n",
    "if gpus:\n",
    "    try:\n",
    "        for gpu in gpus:\n",
    "            tf.config.experimental.set_memory_growth(gpu, True)\n",
    "\n",
    "    except RuntimeError as e:\n",
    "        print(e)"
   ]
  },
  {
   "cell_type": "code",
   "execution_count": 3,
   "metadata": {},
   "outputs": [],
   "source": [
    "datadict = u.load_covid_timeseries(smoothing=3, cases_cutoff=10)\n",
    "cases = datadict['cases_calibrated']\n",
    "deaths = datadict['deaths_calibrated']"
   ]
  },
  {
   "cell_type": "code",
   "execution_count": 8,
   "metadata": {},
   "outputs": [
    {
     "data": {
      "text/html": [
       "<div>\n",
       "<style scoped>\n",
       "    .dataframe tbody tr th:only-of-type {\n",
       "        vertical-align: middle;\n",
       "    }\n",
       "\n",
       "    .dataframe tbody tr th {\n",
       "        vertical-align: top;\n",
       "    }\n",
       "\n",
       "    .dataframe thead th {\n",
       "        text-align: right;\n",
       "    }\n",
       "</style>\n",
       "<table border=\"1\" class=\"dataframe\">\n",
       "  <thead>\n",
       "    <tr style=\"text-align: right;\">\n",
       "      <th></th>\n",
       "      <th>FIPS</th>\n",
       "      <th>total_pop</th>\n",
       "      <th>60plus</th>\n",
       "      <th>area</th>\n",
       "      <th>median_age</th>\n",
       "      <th>pop_white</th>\n",
       "      <th>pop_black</th>\n",
       "      <th>pop_hispanic</th>\n",
       "    </tr>\n",
       "  </thead>\n",
       "  <tbody>\n",
       "    <tr>\n",
       "      <th>0</th>\n",
       "      <td>01001</td>\n",
       "      <td>55036</td>\n",
       "      <td>10523</td>\n",
       "      <td>594.44</td>\n",
       "      <td>37.8</td>\n",
       "      <td>76.9</td>\n",
       "      <td>19.1</td>\n",
       "      <td>2.8</td>\n",
       "    </tr>\n",
       "    <tr>\n",
       "      <th>1</th>\n",
       "      <td>01003</td>\n",
       "      <td>203360</td>\n",
       "      <td>53519</td>\n",
       "      <td>1589.78</td>\n",
       "      <td>42.8</td>\n",
       "      <td>86.3</td>\n",
       "      <td>9.5</td>\n",
       "      <td>4.5</td>\n",
       "    </tr>\n",
       "    <tr>\n",
       "      <th>2</th>\n",
       "      <td>01005</td>\n",
       "      <td>26201</td>\n",
       "      <td>6150</td>\n",
       "      <td>884.88</td>\n",
       "      <td>39.9</td>\n",
       "      <td>47.4</td>\n",
       "      <td>47.6</td>\n",
       "      <td>4.3</td>\n",
       "    </tr>\n",
       "    <tr>\n",
       "      <th>3</th>\n",
       "      <td>01007</td>\n",
       "      <td>22580</td>\n",
       "      <td>4773</td>\n",
       "      <td>622.58</td>\n",
       "      <td>39.9</td>\n",
       "      <td>76.7</td>\n",
       "      <td>22.3</td>\n",
       "      <td>2.4</td>\n",
       "    </tr>\n",
       "    <tr>\n",
       "      <th>4</th>\n",
       "      <td>01009</td>\n",
       "      <td>57667</td>\n",
       "      <td>13600</td>\n",
       "      <td>644.78</td>\n",
       "      <td>40.8</td>\n",
       "      <td>95.5</td>\n",
       "      <td>1.5</td>\n",
       "      <td>9.1</td>\n",
       "    </tr>\n",
       "  </tbody>\n",
       "</table>\n",
       "</div>"
      ],
      "text/plain": [
       "    FIPS  total_pop  60plus     area  median_age  pop_white  pop_black  \\\n",
       "0  01001      55036   10523   594.44        37.8       76.9       19.1   \n",
       "1  01003     203360   53519  1589.78        42.8       86.3        9.5   \n",
       "2  01005      26201    6150   884.88        39.9       47.4       47.6   \n",
       "3  01007      22580    4773   622.58        39.9       76.7       22.3   \n",
       "4  01009      57667   13600   644.78        40.8       95.5        1.5   \n",
       "\n",
       "   pop_hispanic  \n",
       "0           2.8  \n",
       "1           4.5  \n",
       "2           4.3  \n",
       "3           2.4  \n",
       "4           9.1  "
      ]
     },
     "execution_count": 8,
     "metadata": {},
     "output_type": "execute_result"
    }
   ],
   "source": [
    "demographics = u.load_demographics_data()\n",
    "demographics.head()"
   ]
  },
  {
   "cell_type": "code",
   "execution_count": 70,
   "metadata": {},
   "outputs": [],
   "source": [
    "pop = np.expand_dims(demographics['total_pop'].values, axis=1)\n",
    "cases_norm = cases / pop * 10000\n",
    "deaths_norm = deaths / pop * 10000"
   ]
  },
  {
   "cell_type": "code",
   "execution_count": 71,
   "metadata": {},
   "outputs": [],
   "source": [
    "def transform(x):\n",
    "    x0 = np.expand_dims(x[:, 0], axis=1)\n",
    "    t = np.diff(x)\n",
    "    t0 = np.expand_dims(t[:, 0], axis=1)\n",
    "    t = np.diff(t)\n",
    "    return t, t0, x0"
   ]
  },
  {
   "cell_type": "code",
   "execution_count": 72,
   "metadata": {},
   "outputs": [],
   "source": [
    "def untransform(t, t0, x0, a=1):\n",
    "    x = np.hstack([t0, t])\n",
    "    x = np.cumsum(x, axis=a)\n",
    "    x = np.hstack([x0, x])\n",
    "    x = np.cumsum(x, axis=a)\n",
    "    return x"
   ]
  },
  {
   "cell_type": "code",
   "execution_count": 73,
   "metadata": {},
   "outputs": [],
   "source": [
    "cases2, ct0, cx0 = transform(cases_norm)\n",
    "deaths2, dt0, dx0 = transform(deaths_norm)"
   ]
  },
  {
   "cell_type": "code",
   "execution_count": 63,
   "metadata": {},
   "outputs": [
    {
     "name": "stdout",
     "output_type": "stream",
     "text": [
      "(3142, 93)\n"
     ]
    },
    {
     "data": {
      "image/png": "[encoded data removed]",
      "text/plain": [
       "<Figure size 576x576 with 1 Axes>"
      ]
     },
     "metadata": {
      "needs_background": "light"
     },
     "output_type": "display_data"
    }
   ],
   "source": [
    "d = cases2\n",
    "x1 = np.linspace(1, d.shape[1], d.shape[1])\n",
    "fig = plt.figure(figsize=(8, 8))\n",
    "ax = fig.add_subplot(111)\n",
    "plt.plot(x1, d[206])\n",
    "print(d.shape)\n",
    "plt.show()"
   ]
  },
  {
   "cell_type": "code",
   "execution_count": 74,
   "metadata": {},
   "outputs": [],
   "source": [
    "X_train = []\n",
    "y_train = []\n",
    "X_test = []\n",
    "y_test = []\n",
    "lag = 8\n",
    "validation_steps = 9\n",
    "for j in range(deaths2.shape[0]):\n",
    "    d = deaths2[j]\n",
    "    c = cases2[j]\n",
    "    if np.all(np.isnan(d)) or np.all(np.isnan(c)):\n",
    "        continue\n",
    "    s = np.argmax(np.isnan(d))\n",
    "    for i in range(s):\n",
    "        if np.any(np.isnan(d[i:i+lag+1])) or np.any(np.isnan(c[i:i+lag+1])):\n",
    "            break\n",
    "        x = np.vstack([c[i:i+lag], d[i:i+lag], np.full((lag,), i)]).T\n",
    "        if i < s - validation_steps:\n",
    "            X_train.append(x)\n",
    "            y_train.append([c[i+lag], d[i+lag]])\n",
    "        else:\n",
    "            X_test.append(x)\n",
    "            y_test.append([c[i+lag], d[i+lag]])\n",
    "X_train = np.array(X_train)\n",
    "y_train = np.array(y_train)\n",
    "X_test = np.array(X_test)\n",
    "y_test = np.array(y_test)"
   ]
  },
  {
   "cell_type": "code",
   "execution_count": 75,
   "metadata": {},
   "outputs": [
    {
     "name": "stdout",
     "output_type": "stream",
     "text": [
      "(22505, 8, 3) (22505, 2) (1497, 8, 3) (1497, 2)\n"
     ]
    }
   ],
   "source": [
    "print(X_train.shape, y_train.shape, X_test.shape, y_test.shape)"
   ]
  },
  {
   "cell_type": "code",
   "execution_count": 76,
   "metadata": {},
   "outputs": [],
   "source": [
    "def LSTM_model():\n",
    "    model = Sequential()\n",
    "    model.add(LSTM(64, input_shape=X_train.shape[1:], recurrent_regularizer=L1L2(0,1e-2), kernel_regularizer=L1L2(0, 0.1)))\n",
    "    model.add(Dropout(0.1))\n",
    "    model.add(Dense(2, kernel_regularizer=L1L2(0.1, 0.1)))\n",
    "    return model"
   ]
  },
  {
   "cell_type": "code",
   "execution_count": 77,
   "metadata": {
    "scrolled": true
   },
   "outputs": [
    {
     "name": "stdout",
     "output_type": "stream",
     "text": [
      "Model: \"sequential_2\"\n",
      "_________________________________________________________________\n",
      "Layer (type)                 Output Shape              Param #   \n",
      "=================================================================\n",
      "lstm_2 (LSTM)                (None, 64)                17408     \n",
      "_________________________________________________________________\n",
      "dropout_2 (Dropout)          (None, 64)                0         \n",
      "_________________________________________________________________\n",
      "dense_2 (Dense)              (None, 2)                 130       \n",
      "=================================================================\n",
      "Total params: 17,538\n",
      "Trainable params: 17,538\n",
      "Non-trainable params: 0\n",
      "_________________________________________________________________\n"
     ]
    }
   ],
   "source": [
    "with tf.device('/GPU:0'):\n",
    "    model = LSTM_model()\n",
    "model.compile(loss='mse', optimizer='adam')\n",
    "model.summary()"
   ]
  },
  {
   "cell_type": "code",
   "execution_count": 78,
   "metadata": {
    "scrolled": true
   },
   "outputs": [
    {
     "name": "stdout",
     "output_type": "stream",
     "text": [
      "Epoch 1/50\n",
      "313/313 - 1s - loss: 3.5135 - val_loss: 5.5162\n",
      "Epoch 2/50\n",
      "313/313 - 1s - loss: 2.4472 - val_loss: 5.4335\n",
      "Epoch 3/50\n",
      "313/313 - 1s - loss: 2.4306 - val_loss: 5.4306\n",
      "Epoch 4/50\n",
      "313/313 - 1s - loss: 2.4301 - val_loss: 5.4301\n",
      "Epoch 5/50\n",
      "313/313 - 1s - loss: 2.4292 - val_loss: 5.4299\n",
      "Epoch 6/50\n",
      "313/313 - 1s - loss: 2.4288 - val_loss: 5.4301\n",
      "Epoch 7/50\n",
      "313/313 - 1s - loss: 2.4300 - val_loss: 5.4297\n",
      "Epoch 8/50\n",
      "313/313 - 1s - loss: 2.4376 - val_loss: 5.4298\n",
      "Epoch 9/50\n",
      "313/313 - 1s - loss: 2.4299 - val_loss: 5.4301\n",
      "Epoch 10/50\n",
      "313/313 - 1s - loss: 2.4302 - val_loss: 5.4303\n",
      "Epoch 11/50\n",
      "313/313 - 1s - loss: 2.4294 - val_loss: 5.4300\n",
      "Epoch 12/50\n",
      "313/313 - 1s - loss: 2.4295 - val_loss: 5.4300\n",
      "Epoch 13/50\n",
      "313/313 - 1s - loss: 2.4310 - val_loss: 5.4298\n",
      "Epoch 14/50\n",
      "313/313 - 1s - loss: 2.4293 - val_loss: 5.4300\n",
      "Epoch 15/50\n",
      "313/313 - 1s - loss: 2.4293 - val_loss: 5.4299\n",
      "Epoch 16/50\n",
      "313/313 - 1s - loss: 2.4290 - val_loss: 5.4302\n",
      "Epoch 17/50\n",
      "313/313 - 1s - loss: 2.4295 - val_loss: 5.4302\n",
      "Epoch 18/50\n",
      "313/313 - 1s - loss: 2.4295 - val_loss: 5.4301\n",
      "Epoch 19/50\n",
      "313/313 - 1s - loss: 2.4291 - val_loss: 5.4299\n",
      "Epoch 20/50\n",
      "313/313 - 1s - loss: 2.4293 - val_loss: 5.4298\n",
      "Epoch 21/50\n",
      "313/313 - 1s - loss: 2.4292 - val_loss: 5.4301\n",
      "Epoch 22/50\n",
      "313/313 - 1s - loss: 2.4293 - val_loss: 5.4300\n",
      "Epoch 23/50\n",
      "313/313 - 1s - loss: 2.4304 - val_loss: 5.4303\n",
      "Epoch 24/50\n",
      "313/313 - 1s - loss: 2.4304 - val_loss: 5.4302\n",
      "Epoch 25/50\n",
      "313/313 - 1s - loss: 2.4294 - val_loss: 5.4302\n",
      "Epoch 26/50\n",
      "313/313 - 1s - loss: 2.4298 - val_loss: 5.4297\n",
      "Epoch 27/50\n",
      "313/313 - 1s - loss: 2.4292 - val_loss: 5.4306\n",
      "Epoch 28/50\n",
      "313/313 - 1s - loss: 2.4300 - val_loss: 5.4300\n",
      "Epoch 29/50\n",
      "313/313 - 1s - loss: 2.4290 - val_loss: 5.4301\n",
      "Epoch 30/50\n",
      "313/313 - 1s - loss: 2.4305 - val_loss: 5.4300\n",
      "Epoch 31/50\n",
      "313/313 - 1s - loss: 2.4295 - val_loss: 5.4299\n",
      "Epoch 32/50\n",
      "313/313 - 1s - loss: 2.4297 - val_loss: 5.4303\n",
      "Epoch 33/50\n",
      "313/313 - 1s - loss: 2.4300 - val_loss: 5.4299\n",
      "Epoch 34/50\n",
      "313/313 - 1s - loss: 2.4298 - val_loss: 5.4304\n",
      "Epoch 35/50\n",
      "313/313 - 1s - loss: 2.4407 - val_loss: 5.4301\n",
      "Epoch 36/50\n",
      "313/313 - 1s - loss: 2.4290 - val_loss: 5.4303\n",
      "Epoch 37/50\n",
      "313/313 - 1s - loss: 2.4324 - val_loss: 5.4305\n",
      "Epoch 38/50\n",
      "313/313 - 1s - loss: 2.4304 - val_loss: 5.4302\n",
      "Epoch 39/50\n",
      "313/313 - 1s - loss: 2.4292 - val_loss: 5.4301\n",
      "Epoch 40/50\n",
      "313/313 - 1s - loss: 2.4387 - val_loss: 5.4303\n",
      "Epoch 41/50\n",
      "313/313 - 1s - loss: 2.4310 - val_loss: 5.4302\n",
      "Epoch 42/50\n",
      "313/313 - 1s - loss: 2.4376 - val_loss: 5.4301\n",
      "Epoch 43/50\n",
      "313/313 - 1s - loss: 2.4391 - val_loss: 5.4305\n",
      "Epoch 44/50\n",
      "313/313 - 1s - loss: 2.4292 - val_loss: 5.4304\n",
      "Epoch 45/50\n",
      "313/313 - 1s - loss: 2.4294 - val_loss: 5.4303\n",
      "Epoch 46/50\n",
      "313/313 - 1s - loss: 2.4307 - val_loss: 5.4299\n",
      "Epoch 47/50\n",
      "313/313 - 1s - loss: 2.4303 - val_loss: 5.4298\n",
      "Epoch 48/50\n",
      "313/313 - 1s - loss: 2.4291 - val_loss: 5.4301\n",
      "Epoch 49/50\n",
      "313/313 - 1s - loss: 2.4440 - val_loss: 5.4300\n",
      "Epoch 50/50\n",
      "313/313 - 1s - loss: 2.4342 - val_loss: 5.4300\n"
     ]
    }
   ],
   "source": [
    "with tf.device('/GPU:0'):\n",
    "    model.fit(X_train, y_train, epochs=50, batch_size=72, validation_data=(X_test, y_test), verbose=2, shuffle=True)"
   ]
  },
  {
   "cell_type": "code",
   "execution_count": 203,
   "metadata": {},
   "outputs": [],
   "source": [
    "model.save('lstm_2.h5')"
   ]
  },
  {
   "cell_type": "code",
   "execution_count": 79,
   "metadata": {
    "scrolled": true
   },
   "outputs": [
    {
     "name": "stdout",
     "output_type": "stream",
     "text": [
      "50\n",
      "100\n",
      "150\n",
      "200\n",
      "250\n",
      "300\n",
      "350\n",
      "400\n",
      "450\n",
      "500\n",
      "550\n",
      "600\n",
      "650\n",
      "700\n",
      "750\n",
      "800\n",
      "850\n",
      "900\n",
      "950\n",
      "1000\n",
      "1050\n",
      "1100\n",
      "1150\n",
      "1200\n",
      "1250\n",
      "1300\n",
      "1350\n",
      "1400\n",
      "1450\n",
      "1500\n",
      "1550\n",
      "1600\n",
      "1650\n",
      "1700\n",
      "1750\n",
      "1800\n",
      "1850\n",
      "1900\n",
      "1950\n",
      "2000\n",
      "2050\n",
      "2100\n",
      "2150\n",
      "2200\n",
      "2250\n",
      "2300\n",
      "2350\n",
      "2400\n",
      "2450\n",
      "2500\n",
      "2550\n",
      "2600\n",
      "2650\n",
      "2700\n",
      "2750\n",
      "2800\n",
      "2850\n",
      "2900\n",
      "2950\n",
      "3000\n",
      "3050\n",
      "3100\n"
     ]
    }
   ],
   "source": [
    "cases_predictions = {}\n",
    "deaths_predictions = {}\n",
    "count = 0\n",
    "for county in range(deaths2.shape[0]):\n",
    "    count += 1\n",
    "    if count % 50 == 0:\n",
    "        print(count)\n",
    "    d = deaths2[county]\n",
    "    c = cases2[county]\n",
    "    if np.all(np.isnan(d)) or np.all(np.isnan(c)):\n",
    "        continue\n",
    "    s = np.argmax(np.isnan(d))\n",
    "    if s < lag + validation_steps:\n",
    "        continue\n",
    "    i = s - lag - validation_steps\n",
    "    predictions = np.vstack([c[i:i+lag], d[i:i+lag]]).T\n",
    "    curr = 0\n",
    "    for day in range(14):\n",
    "        X = np.expand_dims(np.hstack([predictions[curr:curr+lag], np.full((lag, 1), i)]), axis=0)\n",
    "        y = model.predict(X)\n",
    "        predictions = np.vstack([predictions, y])\n",
    "        curr += 1\n",
    "        i += 1\n",
    "    cases_predictions[county] = predictions[lag:].T[0]\n",
    "    deaths_predictions[county] = predictions[lag:].T[1]"
   ]
  },
  {
   "cell_type": "code",
   "execution_count": 80,
   "metadata": {
    "jupyter": {
     "outputs_hidden": true
    },
    "scrolled": true
   },
   "outputs": [
    {
     "name": "stdout",
     "output_type": "stream",
     "text": [
      "dict_keys([0, 1, 7, 8, 10, 14, 21, 24, 25, 27, 34, 35, 36, 38, 40, 41, 44, 45, 46, 47, 48, 50, 51, 53, 54, 55, 56, 57, 58, 59, 60, 61, 62, 63, 65, 69, 74, 77, 78, 79, 96, 98, 103, 104, 105, 106, 107, 109, 110, 114, 120, 122, 126, 128, 133, 136, 145, 146, 150, 153, 156, 168, 170, 172, 173, 180, 181, 182, 183, 186, 189, 192, 194, 195, 197, 198, 199, 200, 204, 205, 206, 209, 211, 212, 213, 214, 215, 216, 218, 219, 220, 221, 222, 223, 224, 225, 226, 227, 228, 229, 230, 233, 234, 235, 236, 239, 241, 242, 243, 244, 246, 250, 251, 252, 260, 262, 263, 265, 267, 270, 274, 278, 279, 282, 283, 287, 288, 293, 295, 298, 303, 304, 306, 308, 309, 310, 311, 312, 313, 314, 315, 316, 317, 318, 319, 320, 321, 322, 323, 324, 325, 327, 328, 329, 330, 331, 332, 334, 335, 336, 345, 346, 347, 349, 353, 354, 355, 358, 359, 360, 361, 362, 363, 364, 365, 367, 368, 369, 370, 371, 372, 373, 374, 375, 376, 377, 378, 379, 380, 383, 385, 389, 391, 393, 394, 397, 401, 403, 404, 405, 406, 408, 411, 414, 415, 416, 417, 419, 420, 421, 422, 424, 426, 428, 429, 430, 432, 433, 434, 435, 437, 442, 443, 444, 446, 449, 450, 452, 453, 455, 457, 458, 461, 462, 464, 471, 473, 474, 475, 478, 480, 485, 486, 487, 488, 491, 492, 493, 494, 496, 497, 499, 501, 506, 507, 508, 511, 512, 513, 515, 521, 522, 523, 527, 528, 531, 533, 534, 536, 541, 545, 546, 547, 549, 550, 551, 557, 564, 570, 577, 578, 582, 585, 592, 604, 605, 608, 610, 613, 616, 631, 633, 639, 640, 641, 643, 644, 650, 651, 652, 654, 661, 666, 673, 675, 676, 678, 684, 692, 693, 695, 698, 699, 702, 705, 706, 711, 712, 714, 716, 717, 718, 720, 723, 724, 725, 726, 727, 728, 729, 730, 732, 733, 736, 737, 739, 741, 742, 743, 744, 745, 749, 750, 751, 753, 755, 756, 760, 763, 765, 766, 767, 769, 774, 775, 778, 780, 783, 784, 785, 791, 794, 795, 804, 805, 811, 813, 819, 832, 840, 845, 846, 852, 858, 865, 870, 874, 879, 880, 903, 910, 933, 939, 943, 968, 974, 976, 992, 1000, 1002, 1007, 1011, 1016, 1017, 1022, 1026, 1041, 1043, 1046, 1048, 1049, 1051, 1065, 1068, 1081, 1092, 1097, 1099, 1106, 1113, 1114, 1115, 1116, 1117, 1118, 1119, 1120, 1121, 1122, 1123, 1125, 1126, 1127, 1128, 1129, 1131, 1132, 1133, 1135, 1136, 1138, 1139, 1140, 1141, 1143, 1144, 1146, 1147, 1148, 1149, 1150, 1151, 1152, 1154, 1156, 1157, 1159, 1160, 1161, 1162, 1163, 1164, 1165, 1167, 1168, 1169, 1170, 1171, 1172, 1173, 1175, 1177, 1179, 1182, 1185, 1186, 1188, 1192, 1194, 1195, 1196, 1197, 1198, 1199, 1200, 1202, 1204, 1205, 1207, 1208, 1209, 1210, 1213, 1214, 1216, 1217, 1218, 1219, 1221, 1222, 1223, 1224, 1225, 1227, 1228, 1229, 1230, 1233, 1239, 1241, 1242, 1243, 1249, 1253, 1254, 1255, 1258, 1260, 1263, 1267, 1268, 1269, 1271, 1274, 1276, 1277, 1280, 1282, 1286, 1288, 1289, 1291, 1293, 1299, 1300, 1303, 1304, 1305, 1306, 1308, 1309, 1310, 1311, 1312, 1315, 1320, 1322, 1327, 1332, 1333, 1337, 1338, 1340, 1353, 1359, 1363, 1368, 1375, 1382, 1383, 1395, 1398, 1399, 1401, 1404, 1406, 1409, 1414, 1415, 1417, 1418, 1423, 1424, 1425, 1426, 1430, 1434, 1436, 1437, 1438, 1440, 1441, 1442, 1443, 1444, 1445, 1446, 1447, 1448, 1449, 1450, 1453, 1454, 1455, 1456, 1457, 1458, 1461, 1462, 1465, 1467, 1469, 1470, 1472, 1474, 1476, 1478, 1479, 1480, 1481, 1482, 1483, 1492, 1493, 1496, 1497, 1498, 1501, 1504, 1506, 1508, 1518, 1521, 1530, 1531, 1532, 1533, 1536, 1539, 1561, 1565, 1567, 1574, 1577, 1578, 1591, 1597, 1604, 1612, 1613, 1622, 1629, 1644, 1648, 1653, 1654, 1663, 1681, 1687, 1693, 1708, 1709, 1730, 1742, 1748, 1753, 1761, 1763, 1764, 1765, 1766, 1768, 1769, 1770, 1771, 1772, 1774, 1775, 1776, 1777, 1778, 1779, 1780, 1781, 1782, 1783, 1784, 1785, 1786, 1787, 1788, 1789, 1790, 1791, 1792, 1793, 1794, 1795, 1797, 1798, 1802, 1812, 1818, 1819, 1821, 1824, 1828, 1829, 1830, 1831, 1832, 1833, 1834, 1835, 1836, 1837, 1838, 1839, 1840, 1841, 1842, 1845, 1846, 1847, 1849, 1850, 1851, 1853, 1854, 1855, 1856, 1857, 1858, 1859, 1860, 1861, 1862, 1863, 1864, 1865, 1866, 1867, 1868, 1869, 1870, 1871, 1872, 1873, 1874, 1875, 1878, 1879, 1880, 1882, 1883, 1884, 1885, 1886, 1887, 1888, 1890, 1899, 1900, 1901, 1902, 1905, 1907, 1908, 1912, 1913, 1914, 1915, 1918, 1919, 1921, 1922, 1923, 1924, 1925, 1928, 1930, 1931, 1932, 1934, 1936, 1938, 1940, 1944, 1949, 1953, 1954, 1955, 1956, 1957, 1963, 1965, 1969, 1970, 1979, 1980, 1981, 1985, 1987, 1997, 1998, 2007, 2019, 2020, 2034, 2040, 2044, 2046, 2049, 2051, 2054, 2055, 2057, 2060, 2061, 2063, 2065, 2067, 2070, 2071, 2073, 2074, 2083, 2085, 2087, 2089, 2090, 2091, 2092, 2093, 2094, 2097, 2099, 2107, 2109, 2112, 2117, 2118, 2119, 2120, 2121, 2125, 2126, 2127, 2129, 2131, 2139, 2141, 2144, 2146, 2149, 2151, 2155, 2158, 2166, 2174, 2179, 2181, 2185, 2186, 2187, 2188, 2189, 2190, 2193, 2196, 2199, 2202, 2203, 2204, 2209, 2210, 2216, 2217, 2222, 2224, 2225, 2227, 2229, 2231, 2233, 2234, 2241, 2243, 2244, 2245, 2246, 2247, 2249, 2251, 2252, 2253, 2256, 2257, 2258, 2262, 2264, 2265, 2266, 2268, 2269, 2271, 2273, 2275, 2277, 2278, 2279, 2280, 2281, 2282, 2283, 2284, 2286, 2288, 2289, 2290, 2291, 2292, 2294, 2295, 2297, 2301, 2306, 2307, 2308, 2310, 2311, 2312, 2313, 2314, 2315, 2317, 2319, 2322, 2323, 2325, 2327, 2328, 2329, 2331, 2333, 2335, 2336, 2337, 2338, 2339, 2341, 2342, 2343, 2344, 2346, 2347, 2353, 2354, 2355, 2357, 2358, 2359, 2360, 2361, 2363, 2367, 2375, 2402, 2410, 2426, 2428, 2432, 2433, 2438, 2445, 2446, 2449, 2451, 2453, 2454, 2457, 2458, 2460, 2464, 2474, 2480, 2483, 2484, 2485, 2487, 2490, 2498, 2501, 2502, 2505, 2506, 2509, 2510, 2511, 2512, 2517, 2521, 2522, 2525, 2533, 2536, 2537, 2541, 2542, 2543, 2551, 2553, 2558, 2565, 2568, 2572, 2579, 2583, 2590, 2592, 2593, 2601, 2606, 2613, 2614, 2616, 2622, 2623, 2624, 2627, 2630, 2645, 2648, 2651, 2668, 2674, 2677, 2683, 2687, 2692, 2696, 2700, 2703, 2710, 2713, 2721, 2723, 2732, 2734, 2742, 2743, 2748, 2749, 2757, 2759, 2761, 2762, 2763, 2765, 2768, 2778, 2779, 2782, 2787, 2794, 2798, 2799, 2801, 2802, 2803, 2805, 2806, 2807, 2809, 2811, 2813, 2816, 2817, 2818, 2819, 2820, 2821, 2826, 2831, 2840, 2848, 2849, 2852, 2853, 2855, 2856, 2861, 2862, 2865, 2866, 2872, 2873, 2877, 2879, 2881, 2891, 2892, 2898, 2901, 2904, 2905, 2914, 2915, 2918, 2919, 2922, 2929, 2930, 2931, 2933, 2934, 2937, 2938, 2942, 2944, 2945, 2948, 2949, 2951, 2952, 2953, 2955, 2956, 2958, 2960, 2963, 2965, 2967, 2968, 2969, 2970, 2971, 2972, 2973, 2975, 2979, 2980, 2981, 2983, 2984, 2986, 2988, 2989, 2990, 2991, 2993, 2997, 3008, 3009, 3010, 3011, 3016, 3022, 3026, 3045, 3051, 3055, 3057, 3059, 3060, 3064, 3066, 3074, 3076, 3078, 3083, 3087, 3091, 3092, 3098, 3100, 3103, 3106, 3111, 3113, 3114, 3117, 3125, 3129, 3131, 3135, 3138])\n"
     ]
    }
   ],
   "source": [
    "print(cases_predictions.keys())"
   ]
  },
  {
   "cell_type": "code",
   "execution_count": 81,
   "metadata": {},
   "outputs": [],
   "source": [
    "cp2 = {}\n",
    "dp2 = {}\n",
    "pop = np.expand_dims(demographics['total_pop'].values, axis=1)\n",
    "for county in cases_predictions:\n",
    "    d = deaths2[county]\n",
    "    c = cases2[county]\n",
    "    s = np.argmax(np.isnan(d))\n",
    "    d2 = np.concatenate([d[:(s - validation_steps)], deaths_predictions[county]])\n",
    "    c2 = np.concatenate([c[:(s - validation_steps)], cases_predictions[county]])\n",
    "    \n",
    "    cp2[county] = untransform(c2, ct0[county], cx0[county], 0)\n",
    "    dp2[county] = untransform(d2, dt0[county], dx0[county], 0)\n",
    "    \n",
    "    cp2[county] = cp2[county] * pop[county, 0] / 10000\n",
    "    dp2[county] = dp2[county] * pop[county, 0] / 10000"
   ]
  },
  {
   "cell_type": "code",
   "execution_count": 82,
   "metadata": {},
   "outputs": [
    {
     "name": "stdout",
     "output_type": "stream",
     "text": [
      "0.35807288812804045\n"
     ]
    }
   ],
   "source": [
    "mse = 0\n",
    "n = 0\n",
    "for county in deaths_predictions:\n",
    "    n += 1\n",
    "    s = np.argmax(np.isnan(deaths2[county]))\n",
    "    pred = dp2[county][(s - validation_steps):s]\n",
    "    real = deaths[county][(s - validation_steps):s]\n",
    "    mse += np.sum((pred - real)**2)\n",
    "    break\n",
    "print(mse / (n*validation_steps))"
   ]
  },
  {
   "cell_type": "code",
   "execution_count": 87,
   "metadata": {},
   "outputs": [
    {
     "data": {
      "image/png": "[encoded data removed]",
      "text/plain": [
       "<Figure size 864x864 with 1 Axes>"
      ]
     },
     "metadata": {
      "needs_background": "light"
     },
     "output_type": "display_data"
    }
   ],
   "source": [
    "fig = plt.figure(figsize=(12, 12))\n",
    "ax = fig.add_subplot(111)\n",
    "\n",
    "county = 306\n",
    "\n",
    "d1 = deaths\n",
    "x1 = np.linspace(1, d1.shape[1], d1.shape[1])\n",
    "plt.plot(x1, d1[county])\n",
    "\n",
    "s = np.argmax(np.isnan(d1[county])) - 1\n",
    "d2 = dp2[county]\n",
    "x2 = np.linspace(1, d2.shape[0], d2.shape[0])\n",
    "plt.plot(x2[s - validation_steps:], d2[s - validation_steps:])\n",
    "\n",
    "plt.show()"
   ]
  },
  {
   "cell_type": "code",
   "execution_count": null,
   "metadata": {},
   "outputs": [],
   "source": []
  },
  {
   "cell_type": "code",
   "execution_count": null,
   "metadata": {},
   "outputs": [],
   "source": []
  }
 ],
 "metadata": {
  "kernelspec": {
   "display_name": "Python 3",
   "language": "python",
   "name": "python3"
  },
  "language_info": {
   "codemirror_mode": {
    "name": "ipython",
    "version": 3
   },
   "file_extension": ".py",
   "mimetype": "text/x-python",
   "name": "python",
   "nbconvert_exporter": "python",
   "pygments_lexer": "ipython3",
   "version": "3.8.2"
  }
 },
 "nbformat": 4,
 "nbformat_minor": 4
}
