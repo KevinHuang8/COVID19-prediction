{
 "cells": [
  {
   "cell_type": "code",
   "execution_count": 1,
   "metadata": {
    "scrolled": true
   },
   "outputs": [
    {
     "name": "stderr",
     "output_type": "stream",
     "text": [
      "Using TensorFlow backend.\n"
     ]
    },
    {
     "data": {
      "text/plain": [
       "<module 'dataloader' from '..\\\\dataloader.py'>"
      ]
     },
     "execution_count": 1,
     "metadata": {},
     "output_type": "execute_result"
    }
   ],
   "source": [
    "import sys\n",
    "sys.path.append('../')\n",
    "import numpy as np\n",
    "import importlib\n",
    "import dataloader as u\n",
    "from sklearn.metrics import mean_squared_error\n",
    "import matplotlib.pyplot as plt\n",
    "import keras\n",
    "import tensorflow as tf\n",
    "from tensorflow.keras.models import Model, Sequential, load_model\n",
    "from tensorflow.keras.layers import Embedding, LSTM, Dense, TimeDistributed, Activation, Dropout, Input\n",
    "from tensorflow.keras.regularizers import L1L2\n",
    "import tensorflow.keras.backend as K\n",
    "import pipeline as p\n",
    "from tensorflow.keras.optimizers import Adam\n",
    "import data\n",
    "import models\n",
    "\n",
    "importlib.reload(models)\n",
    "importlib.reload(data)\n",
    "importlib.reload(p)\n",
    "importlib.reload(u)"
   ]
  },
  {
   "cell_type": "code",
   "execution_count": 2,
   "metadata": {},
   "outputs": [],
   "source": [
    "gpus = tf.config.list_physical_devices('GPU')\n",
    "if gpus:\n",
    "    try:\n",
    "        for gpu in gpus:\n",
    "            tf.config.experimental.set_memory_growth(gpu, True)\n",
    "\n",
    "    except RuntimeError as e:\n",
    "        print(e)"
   ]
  },
  {
   "cell_type": "code",
   "execution_count": 3,
   "metadata": {},
   "outputs": [
    {
     "name": "stdout",
     "output_type": "stream",
     "text": [
      "Reloading NYT data... May take a minute...\n"
     ]
    }
   ],
   "source": [
    "datadict = u.load_covid_timeseries(smoothing=5, cases_cutoff=5)"
   ]
  },
  {
   "cell_type": "code",
   "execution_count": 253,
   "metadata": {},
   "outputs": [],
   "source": [
    "time_features = [\n",
    "#     {\n",
    "#         'name': 'cases_calibrated_smoothed',\n",
    "#         'norm': False,\n",
    "#         'diff_order': 1,\n",
    "#         'target': True\n",
    "#     },\n",
    "    {\n",
    "        'name': 'deaths_calibrated_smoothed',\n",
    "        'norm': False,\n",
    "        'diff_order': 1,\n",
    "        'target': True\n",
    "    },\n",
    "]\n",
    "dformat = {'time_features': time_features, 'time_context': False}\n",
    "\n",
    "loader_args = {'smoothing': 5, 'cases_cutoff': 0, 'log': True}"
   ]
  },
  {
   "cell_type": "code",
   "execution_count": 259,
   "metadata": {},
   "outputs": [],
   "source": [
    "opt = Adam(lr=0.0001, beta_1=0.9, beta_2=0.999, decay=0.01)\n",
    "\n",
    "model_params = {\n",
    "    'name': 'standard_LSTM',\n",
    "    'lag_features': 14,\n",
    "    'prediction_horizon': 14,\n",
    "    'dropout': 0.1,\n",
    "    'quantiles': 9,\n",
    "    'loss': 'mse',\n",
    "    'units': 16,\n",
    "    'layers': 1,\n",
    "    'optimizer': opt,\n",
    "    'reg': (0, 0)\n",
    "}\n",
    "\n",
    "training_params = {\n",
    "    'val_steps': 1,\n",
    "    'predict_time': 0,\n",
    "    'epochs': 50,\n",
    "    'batch_size': 512,\n",
    "    'verbose': 2,\n",
    "    'dense': False,\n",
    "}\n",
    "\n",
    "horizon=14"
   ]
  },
  {
   "cell_type": "code",
   "execution_count": 260,
   "metadata": {},
   "outputs": [
    {
     "data": {
      "text/plain": [
       "<module 'models' from '..\\\\models.py'>"
      ]
     },
     "execution_count": 260,
     "metadata": {},
     "output_type": "execute_result"
    }
   ],
   "source": [
    "importlib.reload(data)\n",
    "importlib.reload(p)\n",
    "importlib.reload(u)\n",
    "importlib.reload(models)"
   ]
  },
  {
   "cell_type": "code",
   "execution_count": 261,
   "metadata": {
    "scrolled": true
   },
   "outputs": [
    {
     "name": "stdout",
     "output_type": "stream",
     "text": [
      "WARNING:tensorflow:Layer lstm_42 will not use cuDNN kernel since it doesn't meet the cuDNN kernel criteria. It will use generic GPU kernel as fallback when running on GPU\n"
     ]
    }
   ],
   "source": [
    "pipeline = p.Pipeline(dformat, model_params, training_params, horizon, loader_args)"
   ]
  },
  {
   "cell_type": "code",
   "execution_count": 262,
   "metadata": {},
   "outputs": [
    {
     "name": "stdout",
     "output_type": "stream",
     "text": [
      "(16600, 14, 1) (16600, 14, 1) (1794, 14, 1) (1794, 14, 1)\n"
     ]
    }
   ],
   "source": [
    "print(pipeline.X_train.shape, pipeline.y_train.shape, pipeline.X_test.shape, pipeline.y_test.shape)"
   ]
  },
  {
   "cell_type": "code",
   "execution_count": 263,
   "metadata": {
    "scrolled": true
   },
   "outputs": [
    {
     "name": "stdout",
     "output_type": "stream",
     "text": [
      "Epoch 1/50\n",
      "33/33 - 1s - loss: 0.1054 - time_distributed_120_loss: 0.0221 - time_distributed_121_loss: 0.0181 - time_distributed_122_loss: 0.0145 - time_distributed_123_loss: 0.0145 - time_distributed_124_loss: 0.0111 - time_distributed_125_loss: 0.0101 - time_distributed_126_loss: 0.0073 - time_distributed_127_loss: 0.0050 - time_distributed_128_loss: 0.0027 - val_loss: 0.0541 - val_time_distributed_120_loss: 0.0109 - val_time_distributed_121_loss: 0.0089 - val_time_distributed_122_loss: 0.0075 - val_time_distributed_123_loss: 0.0076 - val_time_distributed_124_loss: 0.0058 - val_time_distributed_125_loss: 0.0054 - val_time_distributed_126_loss: 0.0037 - val_time_distributed_127_loss: 0.0026 - val_time_distributed_128_loss: 0.0017\n",
      "Epoch 2/50\n",
      "33/33 - 1s - loss: 0.1011 - time_distributed_120_loss: 0.0202 - time_distributed_121_loss: 0.0167 - time_distributed_122_loss: 0.0141 - time_distributed_123_loss: 0.0140 - time_distributed_124_loss: 0.0111 - time_distributed_125_loss: 0.0101 - time_distributed_126_loss: 0.0071 - time_distributed_127_loss: 0.0050 - time_distributed_128_loss: 0.0028 - val_loss: 0.0529 - val_time_distributed_120_loss: 0.0099 - val_time_distributed_121_loss: 0.0084 - val_time_distributed_122_loss: 0.0077 - val_time_distributed_123_loss: 0.0076 - val_time_distributed_124_loss: 0.0058 - val_time_distributed_125_loss: 0.0054 - val_time_distributed_126_loss: 0.0037 - val_time_distributed_127_loss: 0.0026 - val_time_distributed_128_loss: 0.0017\n",
      "Epoch 3/50\n",
      "33/33 - 1s - loss: 0.0984 - time_distributed_120_loss: 0.0189 - time_distributed_121_loss: 0.0157 - time_distributed_122_loss: 0.0139 - time_distributed_123_loss: 0.0138 - time_distributed_124_loss: 0.0112 - time_distributed_125_loss: 0.0101 - time_distributed_126_loss: 0.0071 - time_distributed_127_loss: 0.0050 - time_distributed_128_loss: 0.0028 - val_loss: 0.0521 - val_time_distributed_120_loss: 0.0092 - val_time_distributed_121_loss: 0.0081 - val_time_distributed_122_loss: 0.0078 - val_time_distributed_123_loss: 0.0077 - val_time_distributed_124_loss: 0.0059 - val_time_distributed_125_loss: 0.0054 - val_time_distributed_126_loss: 0.0037 - val_time_distributed_127_loss: 0.0026 - val_time_distributed_128_loss: 0.0017\n",
      "Epoch 4/50\n",
      "33/33 - 1s - loss: 0.0966 - time_distributed_120_loss: 0.0179 - time_distributed_121_loss: 0.0151 - time_distributed_122_loss: 0.0137 - time_distributed_123_loss: 0.0136 - time_distributed_124_loss: 0.0112 - time_distributed_125_loss: 0.0101 - time_distributed_126_loss: 0.0071 - time_distributed_127_loss: 0.0050 - time_distributed_128_loss: 0.0028 - val_loss: 0.0517 - val_time_distributed_120_loss: 0.0087 - val_time_distributed_121_loss: 0.0079 - val_time_distributed_122_loss: 0.0079 - val_time_distributed_123_loss: 0.0078 - val_time_distributed_124_loss: 0.0060 - val_time_distributed_125_loss: 0.0054 - val_time_distributed_126_loss: 0.0037 - val_time_distributed_127_loss: 0.0026 - val_time_distributed_128_loss: 0.0017\n",
      "Epoch 5/50\n",
      "33/33 - 1s - loss: 0.0950 - time_distributed_120_loss: 0.0170 - time_distributed_121_loss: 0.0146 - time_distributed_122_loss: 0.0136 - time_distributed_123_loss: 0.0135 - time_distributed_124_loss: 0.0112 - time_distributed_125_loss: 0.0101 - time_distributed_126_loss: 0.0071 - time_distributed_127_loss: 0.0050 - time_distributed_128_loss: 0.0028 - val_loss: 0.0514 - val_time_distributed_120_loss: 0.0083 - val_time_distributed_121_loss: 0.0078 - val_time_distributed_122_loss: 0.0079 - val_time_distributed_123_loss: 0.0078 - val_time_distributed_124_loss: 0.0060 - val_time_distributed_125_loss: 0.0054 - val_time_distributed_126_loss: 0.0037 - val_time_distributed_127_loss: 0.0026 - val_time_distributed_128_loss: 0.0017\n",
      "Epoch 6/50\n",
      "33/33 - 1s - loss: 0.0938 - time_distributed_120_loss: 0.0163 - time_distributed_121_loss: 0.0143 - time_distributed_122_loss: 0.0135 - time_distributed_123_loss: 0.0134 - time_distributed_124_loss: 0.0112 - time_distributed_125_loss: 0.0101 - time_distributed_126_loss: 0.0071 - time_distributed_127_loss: 0.0050 - time_distributed_128_loss: 0.0028 - val_loss: 0.0512 - val_time_distributed_120_loss: 0.0079 - val_time_distributed_121_loss: 0.0078 - val_time_distributed_122_loss: 0.0080 - val_time_distributed_123_loss: 0.0079 - val_time_distributed_124_loss: 0.0060 - val_time_distributed_125_loss: 0.0054 - val_time_distributed_126_loss: 0.0037 - val_time_distributed_127_loss: 0.0026 - val_time_distributed_128_loss: 0.0017\n",
      "Epoch 7/50\n",
      "33/33 - 1s - loss: 0.0928 - time_distributed_120_loss: 0.0157 - time_distributed_121_loss: 0.0140 - time_distributed_122_loss: 0.0135 - time_distributed_123_loss: 0.0133 - time_distributed_124_loss: 0.0112 - time_distributed_125_loss: 0.0101 - time_distributed_126_loss: 0.0072 - time_distributed_127_loss: 0.0050 - time_distributed_128_loss: 0.0029 - val_loss: 0.0511 - val_time_distributed_120_loss: 0.0077 - val_time_distributed_121_loss: 0.0078 - val_time_distributed_122_loss: 0.0081 - val_time_distributed_123_loss: 0.0080 - val_time_distributed_124_loss: 0.0060 - val_time_distributed_125_loss: 0.0054 - val_time_distributed_126_loss: 0.0037 - val_time_distributed_127_loss: 0.0026 - val_time_distributed_128_loss: 0.0017\n",
      "Epoch 8/50\n",
      "33/33 - 1s - loss: 0.0920 - time_distributed_120_loss: 0.0152 - time_distributed_121_loss: 0.0138 - time_distributed_122_loss: 0.0134 - time_distributed_123_loss: 0.0133 - time_distributed_124_loss: 0.0112 - time_distributed_125_loss: 0.0101 - time_distributed_126_loss: 0.0072 - time_distributed_127_loss: 0.0050 - time_distributed_128_loss: 0.0029 - val_loss: 0.0510 - val_time_distributed_120_loss: 0.0075 - val_time_distributed_121_loss: 0.0077 - val_time_distributed_122_loss: 0.0082 - val_time_distributed_123_loss: 0.0080 - val_time_distributed_124_loss: 0.0061 - val_time_distributed_125_loss: 0.0054 - val_time_distributed_126_loss: 0.0037 - val_time_distributed_127_loss: 0.0027 - val_time_distributed_128_loss: 0.0017\n",
      "Epoch 9/50\n",
      "33/33 - 1s - loss: 0.0914 - time_distributed_120_loss: 0.0148 - time_distributed_121_loss: 0.0136 - time_distributed_122_loss: 0.0134 - time_distributed_123_loss: 0.0132 - time_distributed_124_loss: 0.0113 - time_distributed_125_loss: 0.0101 - time_distributed_126_loss: 0.0072 - time_distributed_127_loss: 0.0050 - time_distributed_128_loss: 0.0029 - val_loss: 0.0510 - val_time_distributed_120_loss: 0.0073 - val_time_distributed_121_loss: 0.0077 - val_time_distributed_122_loss: 0.0082 - val_time_distributed_123_loss: 0.0081 - val_time_distributed_124_loss: 0.0061 - val_time_distributed_125_loss: 0.0054 - val_time_distributed_126_loss: 0.0037 - val_time_distributed_127_loss: 0.0027 - val_time_distributed_128_loss: 0.0017\n",
      "Epoch 10/50\n",
      "33/33 - 1s - loss: 0.0907 - time_distributed_120_loss: 0.0144 - time_distributed_121_loss: 0.0134 - time_distributed_122_loss: 0.0133 - time_distributed_123_loss: 0.0131 - time_distributed_124_loss: 0.0112 - time_distributed_125_loss: 0.0100 - time_distributed_126_loss: 0.0072 - time_distributed_127_loss: 0.0050 - time_distributed_128_loss: 0.0029 - val_loss: 0.0510 - val_time_distributed_120_loss: 0.0072 - val_time_distributed_121_loss: 0.0077 - val_time_distributed_122_loss: 0.0083 - val_time_distributed_123_loss: 0.0081 - val_time_distributed_124_loss: 0.0061 - val_time_distributed_125_loss: 0.0054 - val_time_distributed_126_loss: 0.0037 - val_time_distributed_127_loss: 0.0027 - val_time_distributed_128_loss: 0.0017\n",
      "Epoch 11/50\n",
      "33/33 - 1s - loss: 0.0902 - time_distributed_120_loss: 0.0141 - time_distributed_121_loss: 0.0133 - time_distributed_122_loss: 0.0133 - time_distributed_123_loss: 0.0131 - time_distributed_124_loss: 0.0112 - time_distributed_125_loss: 0.0100 - time_distributed_126_loss: 0.0072 - time_distributed_127_loss: 0.0050 - time_distributed_128_loss: 0.0029 - val_loss: 0.0510 - val_time_distributed_120_loss: 0.0070 - val_time_distributed_121_loss: 0.0077 - val_time_distributed_122_loss: 0.0083 - val_time_distributed_123_loss: 0.0082 - val_time_distributed_124_loss: 0.0061 - val_time_distributed_125_loss: 0.0054 - val_time_distributed_126_loss: 0.0037 - val_time_distributed_127_loss: 0.0027 - val_time_distributed_128_loss: 0.0017\n",
      "Epoch 12/50\n",
      "33/33 - 1s - loss: 0.0896 - time_distributed_120_loss: 0.0138 - time_distributed_121_loss: 0.0132 - time_distributed_122_loss: 0.0132 - time_distributed_123_loss: 0.0131 - time_distributed_124_loss: 0.0112 - time_distributed_125_loss: 0.0100 - time_distributed_126_loss: 0.0072 - time_distributed_127_loss: 0.0050 - time_distributed_128_loss: 0.0029 - val_loss: 0.0510 - val_time_distributed_120_loss: 0.0069 - val_time_distributed_121_loss: 0.0078 - val_time_distributed_122_loss: 0.0084 - val_time_distributed_123_loss: 0.0082 - val_time_distributed_124_loss: 0.0061 - val_time_distributed_125_loss: 0.0054 - val_time_distributed_126_loss: 0.0037 - val_time_distributed_127_loss: 0.0027 - val_time_distributed_128_loss: 0.0017\n"
     ]
    },
    {
     "name": "stdout",
     "output_type": "stream",
     "text": [
      "Epoch 13/50\n",
      "33/33 - 1s - loss: 0.0894 - time_distributed_120_loss: 0.0136 - time_distributed_121_loss: 0.0131 - time_distributed_122_loss: 0.0132 - time_distributed_123_loss: 0.0131 - time_distributed_124_loss: 0.0113 - time_distributed_125_loss: 0.0100 - time_distributed_126_loss: 0.0072 - time_distributed_127_loss: 0.0050 - time_distributed_128_loss: 0.0029 - val_loss: 0.0510 - val_time_distributed_120_loss: 0.0068 - val_time_distributed_121_loss: 0.0078 - val_time_distributed_122_loss: 0.0084 - val_time_distributed_123_loss: 0.0082 - val_time_distributed_124_loss: 0.0061 - val_time_distributed_125_loss: 0.0054 - val_time_distributed_126_loss: 0.0037 - val_time_distributed_127_loss: 0.0027 - val_time_distributed_128_loss: 0.0017\n",
      "Epoch 14/50\n",
      "33/33 - 1s - loss: 0.0890 - time_distributed_120_loss: 0.0134 - time_distributed_121_loss: 0.0130 - time_distributed_122_loss: 0.0132 - time_distributed_123_loss: 0.0131 - time_distributed_124_loss: 0.0112 - time_distributed_125_loss: 0.0100 - time_distributed_126_loss: 0.0072 - time_distributed_127_loss: 0.0050 - time_distributed_128_loss: 0.0029 - val_loss: 0.0510 - val_time_distributed_120_loss: 0.0068 - val_time_distributed_121_loss: 0.0078 - val_time_distributed_122_loss: 0.0085 - val_time_distributed_123_loss: 0.0082 - val_time_distributed_124_loss: 0.0062 - val_time_distributed_125_loss: 0.0054 - val_time_distributed_126_loss: 0.0037 - val_time_distributed_127_loss: 0.0027 - val_time_distributed_128_loss: 0.0017\n",
      "Epoch 15/50\n",
      "33/33 - 1s - loss: 0.0885 - time_distributed_120_loss: 0.0132 - time_distributed_121_loss: 0.0129 - time_distributed_122_loss: 0.0131 - time_distributed_123_loss: 0.0130 - time_distributed_124_loss: 0.0112 - time_distributed_125_loss: 0.0100 - time_distributed_126_loss: 0.0072 - time_distributed_127_loss: 0.0050 - time_distributed_128_loss: 0.0029 - val_loss: 0.0510 - val_time_distributed_120_loss: 0.0067 - val_time_distributed_121_loss: 0.0078 - val_time_distributed_122_loss: 0.0085 - val_time_distributed_123_loss: 0.0082 - val_time_distributed_124_loss: 0.0062 - val_time_distributed_125_loss: 0.0054 - val_time_distributed_126_loss: 0.0037 - val_time_distributed_127_loss: 0.0027 - val_time_distributed_128_loss: 0.0017\n",
      "Epoch 16/50\n",
      "33/33 - 1s - loss: 0.0887 - time_distributed_120_loss: 0.0131 - time_distributed_121_loss: 0.0129 - time_distributed_122_loss: 0.0132 - time_distributed_123_loss: 0.0131 - time_distributed_124_loss: 0.0113 - time_distributed_125_loss: 0.0100 - time_distributed_126_loss: 0.0073 - time_distributed_127_loss: 0.0051 - time_distributed_128_loss: 0.0029 - val_loss: 0.0510 - val_time_distributed_120_loss: 0.0066 - val_time_distributed_121_loss: 0.0078 - val_time_distributed_122_loss: 0.0086 - val_time_distributed_123_loss: 0.0083 - val_time_distributed_124_loss: 0.0062 - val_time_distributed_125_loss: 0.0054 - val_time_distributed_126_loss: 0.0037 - val_time_distributed_127_loss: 0.0027 - val_time_distributed_128_loss: 0.0017\n",
      "Epoch 17/50\n",
      "33/33 - 1s - loss: 0.0882 - time_distributed_120_loss: 0.0128 - time_distributed_121_loss: 0.0128 - time_distributed_122_loss: 0.0131 - time_distributed_123_loss: 0.0130 - time_distributed_124_loss: 0.0113 - time_distributed_125_loss: 0.0100 - time_distributed_126_loss: 0.0072 - time_distributed_127_loss: 0.0050 - time_distributed_128_loss: 0.0029 - val_loss: 0.0511 - val_time_distributed_120_loss: 0.0066 - val_time_distributed_121_loss: 0.0078 - val_time_distributed_122_loss: 0.0086 - val_time_distributed_123_loss: 0.0083 - val_time_distributed_124_loss: 0.0062 - val_time_distributed_125_loss: 0.0054 - val_time_distributed_126_loss: 0.0037 - val_time_distributed_127_loss: 0.0027 - val_time_distributed_128_loss: 0.0017\n",
      "Epoch 18/50\n",
      "33/33 - 1s - loss: 0.0880 - time_distributed_120_loss: 0.0127 - time_distributed_121_loss: 0.0127 - time_distributed_122_loss: 0.0131 - time_distributed_123_loss: 0.0130 - time_distributed_124_loss: 0.0113 - time_distributed_125_loss: 0.0100 - time_distributed_126_loss: 0.0072 - time_distributed_127_loss: 0.0051 - time_distributed_128_loss: 0.0029 - val_loss: 0.0511 - val_time_distributed_120_loss: 0.0066 - val_time_distributed_121_loss: 0.0078 - val_time_distributed_122_loss: 0.0086 - val_time_distributed_123_loss: 0.0083 - val_time_distributed_124_loss: 0.0062 - val_time_distributed_125_loss: 0.0054 - val_time_distributed_126_loss: 0.0037 - val_time_distributed_127_loss: 0.0027 - val_time_distributed_128_loss: 0.0017\n",
      "Epoch 19/50\n",
      "33/33 - 1s - loss: 0.0878 - time_distributed_120_loss: 0.0126 - time_distributed_121_loss: 0.0127 - time_distributed_122_loss: 0.0131 - time_distributed_123_loss: 0.0130 - time_distributed_124_loss: 0.0113 - time_distributed_125_loss: 0.0100 - time_distributed_126_loss: 0.0072 - time_distributed_127_loss: 0.0051 - time_distributed_128_loss: 0.0029 - val_loss: 0.0511 - val_time_distributed_120_loss: 0.0065 - val_time_distributed_121_loss: 0.0079 - val_time_distributed_122_loss: 0.0087 - val_time_distributed_123_loss: 0.0083 - val_time_distributed_124_loss: 0.0062 - val_time_distributed_125_loss: 0.0054 - val_time_distributed_126_loss: 0.0037 - val_time_distributed_127_loss: 0.0027 - val_time_distributed_128_loss: 0.0017\n",
      "Epoch 20/50\n",
      "33/33 - 1s - loss: 0.0874 - time_distributed_120_loss: 0.0124 - time_distributed_121_loss: 0.0126 - time_distributed_122_loss: 0.0131 - time_distributed_123_loss: 0.0130 - time_distributed_124_loss: 0.0112 - time_distributed_125_loss: 0.0099 - time_distributed_126_loss: 0.0072 - time_distributed_127_loss: 0.0050 - time_distributed_128_loss: 0.0029 - val_loss: 0.0511 - val_time_distributed_120_loss: 0.0065 - val_time_distributed_121_loss: 0.0079 - val_time_distributed_122_loss: 0.0087 - val_time_distributed_123_loss: 0.0083 - val_time_distributed_124_loss: 0.0062 - val_time_distributed_125_loss: 0.0054 - val_time_distributed_126_loss: 0.0038 - val_time_distributed_127_loss: 0.0027 - val_time_distributed_128_loss: 0.0017\n",
      "Epoch 21/50\n",
      "33/33 - 1s - loss: 0.0872 - time_distributed_120_loss: 0.0123 - time_distributed_121_loss: 0.0126 - time_distributed_122_loss: 0.0130 - time_distributed_123_loss: 0.0130 - time_distributed_124_loss: 0.0112 - time_distributed_125_loss: 0.0099 - time_distributed_126_loss: 0.0072 - time_distributed_127_loss: 0.0050 - time_distributed_128_loss: 0.0029 - val_loss: 0.0511 - val_time_distributed_120_loss: 0.0064 - val_time_distributed_121_loss: 0.0079 - val_time_distributed_122_loss: 0.0087 - val_time_distributed_123_loss: 0.0083 - val_time_distributed_124_loss: 0.0062 - val_time_distributed_125_loss: 0.0054 - val_time_distributed_126_loss: 0.0038 - val_time_distributed_127_loss: 0.0027 - val_time_distributed_128_loss: 0.0017\n",
      "Epoch 22/50\n",
      "33/33 - 1s - loss: 0.0872 - time_distributed_120_loss: 0.0122 - time_distributed_121_loss: 0.0125 - time_distributed_122_loss: 0.0131 - time_distributed_123_loss: 0.0130 - time_distributed_124_loss: 0.0113 - time_distributed_125_loss: 0.0099 - time_distributed_126_loss: 0.0072 - time_distributed_127_loss: 0.0051 - time_distributed_128_loss: 0.0029 - val_loss: 0.0512 - val_time_distributed_120_loss: 0.0064 - val_time_distributed_121_loss: 0.0079 - val_time_distributed_122_loss: 0.0087 - val_time_distributed_123_loss: 0.0083 - val_time_distributed_124_loss: 0.0062 - val_time_distributed_125_loss: 0.0054 - val_time_distributed_126_loss: 0.0037 - val_time_distributed_127_loss: 0.0027 - val_time_distributed_128_loss: 0.0017\n",
      "Epoch 23/50\n",
      "33/33 - 1s - loss: 0.0871 - time_distributed_120_loss: 0.0121 - time_distributed_121_loss: 0.0125 - time_distributed_122_loss: 0.0131 - time_distributed_123_loss: 0.0130 - time_distributed_124_loss: 0.0113 - time_distributed_125_loss: 0.0099 - time_distributed_126_loss: 0.0073 - time_distributed_127_loss: 0.0051 - time_distributed_128_loss: 0.0029 - val_loss: 0.0512 - val_time_distributed_120_loss: 0.0064 - val_time_distributed_121_loss: 0.0079 - val_time_distributed_122_loss: 0.0088 - val_time_distributed_123_loss: 0.0083 - val_time_distributed_124_loss: 0.0062 - val_time_distributed_125_loss: 0.0054 - val_time_distributed_126_loss: 0.0038 - val_time_distributed_127_loss: 0.0027 - val_time_distributed_128_loss: 0.0017\n",
      "Epoch 24/50\n",
      "33/33 - 1s - loss: 0.0868 - time_distributed_120_loss: 0.0120 - time_distributed_121_loss: 0.0125 - time_distributed_122_loss: 0.0130 - time_distributed_123_loss: 0.0130 - time_distributed_124_loss: 0.0113 - time_distributed_125_loss: 0.0099 - time_distributed_126_loss: 0.0072 - time_distributed_127_loss: 0.0051 - time_distributed_128_loss: 0.0029 - val_loss: 0.0512 - val_time_distributed_120_loss: 0.0063 - val_time_distributed_121_loss: 0.0079 - val_time_distributed_122_loss: 0.0088 - val_time_distributed_123_loss: 0.0083 - val_time_distributed_124_loss: 0.0062 - val_time_distributed_125_loss: 0.0054 - val_time_distributed_126_loss: 0.0038 - val_time_distributed_127_loss: 0.0027 - val_time_distributed_128_loss: 0.0017\n"
     ]
    },
    {
     "name": "stdout",
     "output_type": "stream",
     "text": [
      "Epoch 25/50\n",
      "33/33 - 1s - loss: 0.0867 - time_distributed_120_loss: 0.0119 - time_distributed_121_loss: 0.0124 - time_distributed_122_loss: 0.0130 - time_distributed_123_loss: 0.0129 - time_distributed_124_loss: 0.0113 - time_distributed_125_loss: 0.0099 - time_distributed_126_loss: 0.0073 - time_distributed_127_loss: 0.0051 - time_distributed_128_loss: 0.0029 - val_loss: 0.0512 - val_time_distributed_120_loss: 0.0063 - val_time_distributed_121_loss: 0.0079 - val_time_distributed_122_loss: 0.0088 - val_time_distributed_123_loss: 0.0083 - val_time_distributed_124_loss: 0.0062 - val_time_distributed_125_loss: 0.0054 - val_time_distributed_126_loss: 0.0038 - val_time_distributed_127_loss: 0.0027 - val_time_distributed_128_loss: 0.0017\n",
      "Epoch 26/50\n",
      "33/33 - 1s - loss: 0.0864 - time_distributed_120_loss: 0.0118 - time_distributed_121_loss: 0.0124 - time_distributed_122_loss: 0.0130 - time_distributed_123_loss: 0.0129 - time_distributed_124_loss: 0.0112 - time_distributed_125_loss: 0.0099 - time_distributed_126_loss: 0.0072 - time_distributed_127_loss: 0.0050 - time_distributed_128_loss: 0.0029 - val_loss: 0.0512 - val_time_distributed_120_loss: 0.0063 - val_time_distributed_121_loss: 0.0080 - val_time_distributed_122_loss: 0.0088 - val_time_distributed_123_loss: 0.0083 - val_time_distributed_124_loss: 0.0062 - val_time_distributed_125_loss: 0.0054 - val_time_distributed_126_loss: 0.0037 - val_time_distributed_127_loss: 0.0027 - val_time_distributed_128_loss: 0.0017\n",
      "Epoch 27/50\n",
      "33/33 - 1s - loss: 0.0863 - time_distributed_120_loss: 0.0117 - time_distributed_121_loss: 0.0124 - time_distributed_122_loss: 0.0130 - time_distributed_123_loss: 0.0129 - time_distributed_124_loss: 0.0112 - time_distributed_125_loss: 0.0099 - time_distributed_126_loss: 0.0072 - time_distributed_127_loss: 0.0050 - time_distributed_128_loss: 0.0029 - val_loss: 0.0512 - val_time_distributed_120_loss: 0.0063 - val_time_distributed_121_loss: 0.0080 - val_time_distributed_122_loss: 0.0089 - val_time_distributed_123_loss: 0.0083 - val_time_distributed_124_loss: 0.0062 - val_time_distributed_125_loss: 0.0054 - val_time_distributed_126_loss: 0.0037 - val_time_distributed_127_loss: 0.0027 - val_time_distributed_128_loss: 0.0017\n",
      "Epoch 28/50\n",
      "33/33 - 1s - loss: 0.0863 - time_distributed_120_loss: 0.0116 - time_distributed_121_loss: 0.0124 - time_distributed_122_loss: 0.0130 - time_distributed_123_loss: 0.0129 - time_distributed_124_loss: 0.0113 - time_distributed_125_loss: 0.0099 - time_distributed_126_loss: 0.0072 - time_distributed_127_loss: 0.0051 - time_distributed_128_loss: 0.0029 - val_loss: 0.0513 - val_time_distributed_120_loss: 0.0063 - val_time_distributed_121_loss: 0.0080 - val_time_distributed_122_loss: 0.0089 - val_time_distributed_123_loss: 0.0083 - val_time_distributed_124_loss: 0.0062 - val_time_distributed_125_loss: 0.0054 - val_time_distributed_126_loss: 0.0037 - val_time_distributed_127_loss: 0.0027 - val_time_distributed_128_loss: 0.0017\n",
      "Epoch 29/50\n",
      "33/33 - 1s - loss: 0.0861 - time_distributed_120_loss: 0.0115 - time_distributed_121_loss: 0.0123 - time_distributed_122_loss: 0.0130 - time_distributed_123_loss: 0.0129 - time_distributed_124_loss: 0.0113 - time_distributed_125_loss: 0.0099 - time_distributed_126_loss: 0.0072 - time_distributed_127_loss: 0.0050 - time_distributed_128_loss: 0.0029 - val_loss: 0.0513 - val_time_distributed_120_loss: 0.0062 - val_time_distributed_121_loss: 0.0080 - val_time_distributed_122_loss: 0.0089 - val_time_distributed_123_loss: 0.0083 - val_time_distributed_124_loss: 0.0062 - val_time_distributed_125_loss: 0.0054 - val_time_distributed_126_loss: 0.0037 - val_time_distributed_127_loss: 0.0027 - val_time_distributed_128_loss: 0.0017\n",
      "Epoch 30/50\n",
      "33/33 - 1s - loss: 0.0860 - time_distributed_120_loss: 0.0115 - time_distributed_121_loss: 0.0123 - time_distributed_122_loss: 0.0130 - time_distributed_123_loss: 0.0129 - time_distributed_124_loss: 0.0113 - time_distributed_125_loss: 0.0099 - time_distributed_126_loss: 0.0072 - time_distributed_127_loss: 0.0050 - time_distributed_128_loss: 0.0029 - val_loss: 0.0513 - val_time_distributed_120_loss: 0.0062 - val_time_distributed_121_loss: 0.0080 - val_time_distributed_122_loss: 0.0089 - val_time_distributed_123_loss: 0.0083 - val_time_distributed_124_loss: 0.0062 - val_time_distributed_125_loss: 0.0054 - val_time_distributed_126_loss: 0.0037 - val_time_distributed_127_loss: 0.0027 - val_time_distributed_128_loss: 0.0017\n",
      "Epoch 31/50\n",
      "33/33 - 1s - loss: 0.0859 - time_distributed_120_loss: 0.0114 - time_distributed_121_loss: 0.0123 - time_distributed_122_loss: 0.0130 - time_distributed_123_loss: 0.0129 - time_distributed_124_loss: 0.0113 - time_distributed_125_loss: 0.0099 - time_distributed_126_loss: 0.0072 - time_distributed_127_loss: 0.0050 - time_distributed_128_loss: 0.0029 - val_loss: 0.0513 - val_time_distributed_120_loss: 0.0062 - val_time_distributed_121_loss: 0.0080 - val_time_distributed_122_loss: 0.0089 - val_time_distributed_123_loss: 0.0083 - val_time_distributed_124_loss: 0.0062 - val_time_distributed_125_loss: 0.0054 - val_time_distributed_126_loss: 0.0037 - val_time_distributed_127_loss: 0.0027 - val_time_distributed_128_loss: 0.0017\n",
      "Epoch 32/50\n",
      "33/33 - 1s - loss: 0.0858 - time_distributed_120_loss: 0.0113 - time_distributed_121_loss: 0.0122 - time_distributed_122_loss: 0.0130 - time_distributed_123_loss: 0.0129 - time_distributed_124_loss: 0.0113 - time_distributed_125_loss: 0.0099 - time_distributed_126_loss: 0.0072 - time_distributed_127_loss: 0.0050 - time_distributed_128_loss: 0.0029 - val_loss: 0.0513 - val_time_distributed_120_loss: 0.0062 - val_time_distributed_121_loss: 0.0080 - val_time_distributed_122_loss: 0.0090 - val_time_distributed_123_loss: 0.0083 - val_time_distributed_124_loss: 0.0062 - val_time_distributed_125_loss: 0.0054 - val_time_distributed_126_loss: 0.0037 - val_time_distributed_127_loss: 0.0027 - val_time_distributed_128_loss: 0.0017\n",
      "Epoch 33/50\n",
      "33/33 - 1s - loss: 0.0856 - time_distributed_120_loss: 0.0113 - time_distributed_121_loss: 0.0122 - time_distributed_122_loss: 0.0130 - time_distributed_123_loss: 0.0129 - time_distributed_124_loss: 0.0112 - time_distributed_125_loss: 0.0099 - time_distributed_126_loss: 0.0072 - time_distributed_127_loss: 0.0050 - time_distributed_128_loss: 0.0029 - val_loss: 0.0513 - val_time_distributed_120_loss: 0.0062 - val_time_distributed_121_loss: 0.0080 - val_time_distributed_122_loss: 0.0090 - val_time_distributed_123_loss: 0.0083 - val_time_distributed_124_loss: 0.0062 - val_time_distributed_125_loss: 0.0054 - val_time_distributed_126_loss: 0.0037 - val_time_distributed_127_loss: 0.0027 - val_time_distributed_128_loss: 0.0017\n",
      "Epoch 34/50\n",
      "33/33 - 1s - loss: 0.0856 - time_distributed_120_loss: 0.0112 - time_distributed_121_loss: 0.0122 - time_distributed_122_loss: 0.0130 - time_distributed_123_loss: 0.0129 - time_distributed_124_loss: 0.0112 - time_distributed_125_loss: 0.0099 - time_distributed_126_loss: 0.0072 - time_distributed_127_loss: 0.0050 - time_distributed_128_loss: 0.0029 - val_loss: 0.0513 - val_time_distributed_120_loss: 0.0062 - val_time_distributed_121_loss: 0.0080 - val_time_distributed_122_loss: 0.0090 - val_time_distributed_123_loss: 0.0083 - val_time_distributed_124_loss: 0.0062 - val_time_distributed_125_loss: 0.0054 - val_time_distributed_126_loss: 0.0037 - val_time_distributed_127_loss: 0.0027 - val_time_distributed_128_loss: 0.0017\n",
      "Epoch 35/50\n",
      "33/33 - 1s - loss: 0.0854 - time_distributed_120_loss: 0.0112 - time_distributed_121_loss: 0.0122 - time_distributed_122_loss: 0.0129 - time_distributed_123_loss: 0.0129 - time_distributed_124_loss: 0.0112 - time_distributed_125_loss: 0.0099 - time_distributed_126_loss: 0.0072 - time_distributed_127_loss: 0.0050 - time_distributed_128_loss: 0.0029 - val_loss: 0.0513 - val_time_distributed_120_loss: 0.0062 - val_time_distributed_121_loss: 0.0081 - val_time_distributed_122_loss: 0.0090 - val_time_distributed_123_loss: 0.0083 - val_time_distributed_124_loss: 0.0062 - val_time_distributed_125_loss: 0.0054 - val_time_distributed_126_loss: 0.0037 - val_time_distributed_127_loss: 0.0027 - val_time_distributed_128_loss: 0.0017\n",
      "Epoch 36/50\n",
      "33/33 - 1s - loss: 0.0854 - time_distributed_120_loss: 0.0111 - time_distributed_121_loss: 0.0122 - time_distributed_122_loss: 0.0130 - time_distributed_123_loss: 0.0129 - time_distributed_124_loss: 0.0113 - time_distributed_125_loss: 0.0099 - time_distributed_126_loss: 0.0072 - time_distributed_127_loss: 0.0050 - time_distributed_128_loss: 0.0029 - val_loss: 0.0513 - val_time_distributed_120_loss: 0.0062 - val_time_distributed_121_loss: 0.0081 - val_time_distributed_122_loss: 0.0090 - val_time_distributed_123_loss: 0.0083 - val_time_distributed_124_loss: 0.0062 - val_time_distributed_125_loss: 0.0054 - val_time_distributed_126_loss: 0.0037 - val_time_distributed_127_loss: 0.0027 - val_time_distributed_128_loss: 0.0017\n"
     ]
    },
    {
     "name": "stdout",
     "output_type": "stream",
     "text": [
      "Epoch 37/50\n",
      "33/33 - 1s - loss: 0.0853 - time_distributed_120_loss: 0.0111 - time_distributed_121_loss: 0.0121 - time_distributed_122_loss: 0.0129 - time_distributed_123_loss: 0.0129 - time_distributed_124_loss: 0.0112 - time_distributed_125_loss: 0.0098 - time_distributed_126_loss: 0.0072 - time_distributed_127_loss: 0.0050 - time_distributed_128_loss: 0.0029 - val_loss: 0.0513 - val_time_distributed_120_loss: 0.0061 - val_time_distributed_121_loss: 0.0081 - val_time_distributed_122_loss: 0.0091 - val_time_distributed_123_loss: 0.0083 - val_time_distributed_124_loss: 0.0062 - val_time_distributed_125_loss: 0.0054 - val_time_distributed_126_loss: 0.0037 - val_time_distributed_127_loss: 0.0027 - val_time_distributed_128_loss: 0.0017\n",
      "Epoch 38/50\n",
      "33/33 - 1s - loss: 0.0852 - time_distributed_120_loss: 0.0110 - time_distributed_121_loss: 0.0121 - time_distributed_122_loss: 0.0129 - time_distributed_123_loss: 0.0129 - time_distributed_124_loss: 0.0112 - time_distributed_125_loss: 0.0098 - time_distributed_126_loss: 0.0072 - time_distributed_127_loss: 0.0050 - time_distributed_128_loss: 0.0029 - val_loss: 0.0513 - val_time_distributed_120_loss: 0.0061 - val_time_distributed_121_loss: 0.0081 - val_time_distributed_122_loss: 0.0091 - val_time_distributed_123_loss: 0.0083 - val_time_distributed_124_loss: 0.0062 - val_time_distributed_125_loss: 0.0054 - val_time_distributed_126_loss: 0.0037 - val_time_distributed_127_loss: 0.0027 - val_time_distributed_128_loss: 0.0017\n",
      "Epoch 39/50\n",
      "33/33 - 1s - loss: 0.0852 - time_distributed_120_loss: 0.0110 - time_distributed_121_loss: 0.0121 - time_distributed_122_loss: 0.0129 - time_distributed_123_loss: 0.0129 - time_distributed_124_loss: 0.0112 - time_distributed_125_loss: 0.0098 - time_distributed_126_loss: 0.0072 - time_distributed_127_loss: 0.0050 - time_distributed_128_loss: 0.0029 - val_loss: 0.0513 - val_time_distributed_120_loss: 0.0061 - val_time_distributed_121_loss: 0.0081 - val_time_distributed_122_loss: 0.0091 - val_time_distributed_123_loss: 0.0083 - val_time_distributed_124_loss: 0.0062 - val_time_distributed_125_loss: 0.0053 - val_time_distributed_126_loss: 0.0037 - val_time_distributed_127_loss: 0.0027 - val_time_distributed_128_loss: 0.0017\n",
      "Epoch 40/50\n",
      "33/33 - 1s - loss: 0.0851 - time_distributed_120_loss: 0.0109 - time_distributed_121_loss: 0.0121 - time_distributed_122_loss: 0.0129 - time_distributed_123_loss: 0.0128 - time_distributed_124_loss: 0.0112 - time_distributed_125_loss: 0.0098 - time_distributed_126_loss: 0.0072 - time_distributed_127_loss: 0.0050 - time_distributed_128_loss: 0.0029 - val_loss: 0.0514 - val_time_distributed_120_loss: 0.0061 - val_time_distributed_121_loss: 0.0081 - val_time_distributed_122_loss: 0.0091 - val_time_distributed_123_loss: 0.0083 - val_time_distributed_124_loss: 0.0062 - val_time_distributed_125_loss: 0.0053 - val_time_distributed_126_loss: 0.0037 - val_time_distributed_127_loss: 0.0027 - val_time_distributed_128_loss: 0.0017\n",
      "Epoch 41/50\n",
      "33/33 - 1s - loss: 0.0851 - time_distributed_120_loss: 0.0109 - time_distributed_121_loss: 0.0121 - time_distributed_122_loss: 0.0129 - time_distributed_123_loss: 0.0129 - time_distributed_124_loss: 0.0113 - time_distributed_125_loss: 0.0099 - time_distributed_126_loss: 0.0072 - time_distributed_127_loss: 0.0050 - time_distributed_128_loss: 0.0029 - val_loss: 0.0514 - val_time_distributed_120_loss: 0.0061 - val_time_distributed_121_loss: 0.0081 - val_time_distributed_122_loss: 0.0091 - val_time_distributed_123_loss: 0.0083 - val_time_distributed_124_loss: 0.0062 - val_time_distributed_125_loss: 0.0053 - val_time_distributed_126_loss: 0.0037 - val_time_distributed_127_loss: 0.0027 - val_time_distributed_128_loss: 0.0017\n",
      "Epoch 42/50\n",
      "33/33 - 1s - loss: 0.0850 - time_distributed_120_loss: 0.0109 - time_distributed_121_loss: 0.0121 - time_distributed_122_loss: 0.0129 - time_distributed_123_loss: 0.0128 - time_distributed_124_loss: 0.0113 - time_distributed_125_loss: 0.0098 - time_distributed_126_loss: 0.0072 - time_distributed_127_loss: 0.0050 - time_distributed_128_loss: 0.0029 - val_loss: 0.0514 - val_time_distributed_120_loss: 0.0061 - val_time_distributed_121_loss: 0.0081 - val_time_distributed_122_loss: 0.0091 - val_time_distributed_123_loss: 0.0083 - val_time_distributed_124_loss: 0.0062 - val_time_distributed_125_loss: 0.0053 - val_time_distributed_126_loss: 0.0037 - val_time_distributed_127_loss: 0.0027 - val_time_distributed_128_loss: 0.0017\n",
      "Epoch 43/50\n",
      "33/33 - 1s - loss: 0.0850 - time_distributed_120_loss: 0.0108 - time_distributed_121_loss: 0.0121 - time_distributed_122_loss: 0.0129 - time_distributed_123_loss: 0.0129 - time_distributed_124_loss: 0.0113 - time_distributed_125_loss: 0.0098 - time_distributed_126_loss: 0.0072 - time_distributed_127_loss: 0.0050 - time_distributed_128_loss: 0.0029 - val_loss: 0.0514 - val_time_distributed_120_loss: 0.0061 - val_time_distributed_121_loss: 0.0081 - val_time_distributed_122_loss: 0.0091 - val_time_distributed_123_loss: 0.0083 - val_time_distributed_124_loss: 0.0062 - val_time_distributed_125_loss: 0.0053 - val_time_distributed_126_loss: 0.0037 - val_time_distributed_127_loss: 0.0027 - val_time_distributed_128_loss: 0.0017\n",
      "Epoch 44/50\n",
      "33/33 - 1s - loss: 0.0849 - time_distributed_120_loss: 0.0108 - time_distributed_121_loss: 0.0121 - time_distributed_122_loss: 0.0129 - time_distributed_123_loss: 0.0128 - time_distributed_124_loss: 0.0113 - time_distributed_125_loss: 0.0098 - time_distributed_126_loss: 0.0072 - time_distributed_127_loss: 0.0050 - time_distributed_128_loss: 0.0029 - val_loss: 0.0514 - val_time_distributed_120_loss: 0.0061 - val_time_distributed_121_loss: 0.0081 - val_time_distributed_122_loss: 0.0091 - val_time_distributed_123_loss: 0.0083 - val_time_distributed_124_loss: 0.0062 - val_time_distributed_125_loss: 0.0053 - val_time_distributed_126_loss: 0.0037 - val_time_distributed_127_loss: 0.0027 - val_time_distributed_128_loss: 0.0017\n",
      "Epoch 45/50\n",
      "33/33 - 1s - loss: 0.0848 - time_distributed_120_loss: 0.0107 - time_distributed_121_loss: 0.0120 - time_distributed_122_loss: 0.0129 - time_distributed_123_loss: 0.0128 - time_distributed_124_loss: 0.0113 - time_distributed_125_loss: 0.0098 - time_distributed_126_loss: 0.0072 - time_distributed_127_loss: 0.0050 - time_distributed_128_loss: 0.0029 - val_loss: 0.0514 - val_time_distributed_120_loss: 0.0061 - val_time_distributed_121_loss: 0.0081 - val_time_distributed_122_loss: 0.0092 - val_time_distributed_123_loss: 0.0083 - val_time_distributed_124_loss: 0.0062 - val_time_distributed_125_loss: 0.0053 - val_time_distributed_126_loss: 0.0037 - val_time_distributed_127_loss: 0.0027 - val_time_distributed_128_loss: 0.0017\n",
      "Epoch 46/50\n",
      "33/33 - 1s - loss: 0.0848 - time_distributed_120_loss: 0.0107 - time_distributed_121_loss: 0.0120 - time_distributed_122_loss: 0.0129 - time_distributed_123_loss: 0.0128 - time_distributed_124_loss: 0.0113 - time_distributed_125_loss: 0.0098 - time_distributed_126_loss: 0.0072 - time_distributed_127_loss: 0.0050 - time_distributed_128_loss: 0.0029 - val_loss: 0.0514 - val_time_distributed_120_loss: 0.0061 - val_time_distributed_121_loss: 0.0082 - val_time_distributed_122_loss: 0.0092 - val_time_distributed_123_loss: 0.0083 - val_time_distributed_124_loss: 0.0062 - val_time_distributed_125_loss: 0.0053 - val_time_distributed_126_loss: 0.0037 - val_time_distributed_127_loss: 0.0027 - val_time_distributed_128_loss: 0.0017\n",
      "Epoch 47/50\n",
      "33/33 - 1s - loss: 0.0848 - time_distributed_120_loss: 0.0107 - time_distributed_121_loss: 0.0120 - time_distributed_122_loss: 0.0129 - time_distributed_123_loss: 0.0128 - time_distributed_124_loss: 0.0113 - time_distributed_125_loss: 0.0098 - time_distributed_126_loss: 0.0072 - time_distributed_127_loss: 0.0050 - time_distributed_128_loss: 0.0029 - val_loss: 0.0514 - val_time_distributed_120_loss: 0.0061 - val_time_distributed_121_loss: 0.0082 - val_time_distributed_122_loss: 0.0092 - val_time_distributed_123_loss: 0.0083 - val_time_distributed_124_loss: 0.0062 - val_time_distributed_125_loss: 0.0053 - val_time_distributed_126_loss: 0.0037 - val_time_distributed_127_loss: 0.0027 - val_time_distributed_128_loss: 0.0017\n",
      "Epoch 48/50\n",
      "33/33 - 1s - loss: 0.0847 - time_distributed_120_loss: 0.0107 - time_distributed_121_loss: 0.0120 - time_distributed_122_loss: 0.0129 - time_distributed_123_loss: 0.0128 - time_distributed_124_loss: 0.0113 - time_distributed_125_loss: 0.0098 - time_distributed_126_loss: 0.0072 - time_distributed_127_loss: 0.0050 - time_distributed_128_loss: 0.0029 - val_loss: 0.0514 - val_time_distributed_120_loss: 0.0061 - val_time_distributed_121_loss: 0.0082 - val_time_distributed_122_loss: 0.0092 - val_time_distributed_123_loss: 0.0083 - val_time_distributed_124_loss: 0.0062 - val_time_distributed_125_loss: 0.0053 - val_time_distributed_126_loss: 0.0037 - val_time_distributed_127_loss: 0.0027 - val_time_distributed_128_loss: 0.0017\n"
     ]
    },
    {
     "name": "stdout",
     "output_type": "stream",
     "text": [
      "Epoch 49/50\n",
      "33/33 - 1s - loss: 0.0845 - time_distributed_120_loss: 0.0106 - time_distributed_121_loss: 0.0120 - time_distributed_122_loss: 0.0129 - time_distributed_123_loss: 0.0128 - time_distributed_124_loss: 0.0112 - time_distributed_125_loss: 0.0098 - time_distributed_126_loss: 0.0072 - time_distributed_127_loss: 0.0050 - time_distributed_128_loss: 0.0029 - val_loss: 0.0515 - val_time_distributed_120_loss: 0.0061 - val_time_distributed_121_loss: 0.0082 - val_time_distributed_122_loss: 0.0092 - val_time_distributed_123_loss: 0.0083 - val_time_distributed_124_loss: 0.0062 - val_time_distributed_125_loss: 0.0053 - val_time_distributed_126_loss: 0.0037 - val_time_distributed_127_loss: 0.0027 - val_time_distributed_128_loss: 0.0017\n",
      "Epoch 50/50\n",
      "33/33 - 1s - loss: 0.0847 - time_distributed_120_loss: 0.0106 - time_distributed_121_loss: 0.0120 - time_distributed_122_loss: 0.0129 - time_distributed_123_loss: 0.0128 - time_distributed_124_loss: 0.0113 - time_distributed_125_loss: 0.0098 - time_distributed_126_loss: 0.0073 - time_distributed_127_loss: 0.0050 - time_distributed_128_loss: 0.0029 - val_loss: 0.0515 - val_time_distributed_120_loss: 0.0061 - val_time_distributed_121_loss: 0.0082 - val_time_distributed_122_loss: 0.0092 - val_time_distributed_123_loss: 0.0083 - val_time_distributed_124_loss: 0.0062 - val_time_distributed_125_loss: 0.0053 - val_time_distributed_126_loss: 0.0037 - val_time_distributed_127_loss: 0.0027 - val_time_distributed_128_loss: 0.0017\n"
     ]
    }
   ],
   "source": [
    "pipeline.run()"
   ]
  },
  {
   "cell_type": "code",
   "execution_count": 264,
   "metadata": {
    "scrolled": true
   },
   "outputs": [],
   "source": [
    "predictions = pipeline.get_predictions()"
   ]
  },
  {
   "cell_type": "code",
   "execution_count": 131,
   "metadata": {},
   "outputs": [
    {
     "data": {
      "text/plain": [
       "(3143, 115)"
      ]
     },
     "execution_count": 131,
     "metadata": {},
     "output_type": "execute_result"
    }
   ],
   "source": [
    "predictions[1].shape"
   ]
  },
  {
   "cell_type": "code",
   "execution_count": 21,
   "metadata": {},
   "outputs": [
    {
     "name": "stdout",
     "output_type": "stream",
     "text": [
      "WARNING:tensorflow:Layer lstm_6 will not use cuDNN kernel since it doesn't meet the cuDNN kernel criteria. It will use generic GPU kernel as fallback when running on GPU\n"
     ]
    }
   ],
   "source": [
    "pipeline.model = load_model('LSTM_model2.h5')"
   ]
  },
  {
   "cell_type": "code",
   "execution_count": 25,
   "metadata": {},
   "outputs": [],
   "source": [
    "pipeline.predictions = pipeline.predict(t=pipeline.lag, dense=False)"
   ]
  },
  {
   "cell_type": "code",
   "execution_count": 158,
   "metadata": {},
   "outputs": [
    {
     "name": "stdout",
     "output_type": "stream",
     "text": [
      "(3143, 115)\n"
     ]
    }
   ],
   "source": [
    "print(predictions[0][1].shape)"
   ]
  },
  {
   "cell_type": "code",
   "execution_count": 267,
   "metadata": {},
   "outputs": [
    {
     "data": {
      "image/png": "[encoded data removed]",
      "text/plain": [
       "<Figure size 864x864 with 1 Axes>"
      ]
     },
     "metadata": {
      "needs_background": "light"
     },
     "output_type": "display_data"
    }
   ],
   "source": [
    "fig = plt.figure(figsize=(12, 12))\n",
    "ax = fig.add_subplot(111)\n",
    "\n",
    "county = 1868\n",
    "\n",
    "###\n",
    "\n",
    "d1 = 10**pipeline.data.original()[0]\n",
    "\n",
    "f = pipeline.data.time_features[0].series[county]\n",
    "s = np.argmax(np.isnan(f))\n",
    "d1 = f[:s]\n",
    "\n",
    "x1 = np.linspace(1, d1.shape[0], d1.shape[0])\n",
    "plt.plot(x1, d1, color='red')\n",
    "\n",
    "###\n",
    "#d2 = 10**predictions[1][county]\n",
    "\n",
    "d2 = np.concatenate([d1[:s - 14], pipeline.predictions[8, county, :, 0]])\n",
    "\n",
    "x2 = np.linspace(1, d2.shape[0], d2.shape[0])\n",
    "plt.plot(x2, d2, color='blue')\n",
    "\n",
    "plt.show()"
   ]
  },
  {
   "cell_type": "code",
   "execution_count": 251,
   "metadata": {
    "scrolled": false
   },
   "outputs": [
    {
     "data": {
      "image/png": "[encoded data removed]",
      "text/plain": [
       "<Figure size 864x864 with 1 Axes>"
      ]
     },
     "metadata": {
      "needs_background": "light"
     },
     "output_type": "display_data"
    }
   ],
   "source": [
    "fig = plt.figure(figsize=(12, 12))\n",
    "ax = fig.add_subplot(111)\n",
    "\n",
    "county = 204\n",
    "\n",
    "###\n",
    "\n",
    "d1 = 10**pipeline.data.original()[1][county]\n",
    "x1 = np.linspace(1, d1.shape[0], d1.shape[0])\n",
    "plt.plot(x1, d1, color='red')\n",
    "\n",
    "###\n",
    "d2 = 10**predictions[2][1][county]\n",
    "s = np.argmax(np.isnan(d2))\n",
    "x2 = np.linspace(1, d2.shape[0], d2.shape[0])\n",
    "plt.plot(x2[s - 15:], d2[s - 15:], color='blue')\n",
    "\n",
    "d2 = 10**predictions[6][1][county]\n",
    "s = np.argmax(np.isnan(d2))\n",
    "x2 = np.linspace(1, d2.shape[0], d2.shape[0])\n",
    "plt.plot(x2[s - 15:], d2[s - 15:], color='green')\n",
    "\n",
    "d2 = 10**predictions[7][1][county]\n",
    "s = np.argmax(np.isnan(d2))\n",
    "x2 = np.linspace(1, d2.shape[0], d2.shape[0])\n",
    "plt.plot(x2[s - 15:], d2[s - 15:], color='yellow')\n",
    "\n",
    "d2 = 10**predictions[4][1][county]\n",
    "s = np.argmax(np.isnan(d2))\n",
    "x2 = np.linspace(1, d2.shape[0], d2.shape[0])\n",
    "plt.plot(x2[s - 15:], d2[s - 15:], color='purple')\n",
    "\n",
    "\n",
    "plt.show()"
   ]
  },
  {
   "cell_type": "code",
   "execution_count": 201,
   "metadata": {},
   "outputs": [
    {
     "data": {
      "text/html": [
       "<div>\n",
       "<style scoped>\n",
       "    .dataframe tbody tr th:only-of-type {\n",
       "        vertical-align: middle;\n",
       "    }\n",
       "\n",
       "    .dataframe tbody tr th {\n",
       "        vertical-align: top;\n",
       "    }\n",
       "\n",
       "    .dataframe thead th {\n",
       "        text-align: right;\n",
       "    }\n",
       "</style>\n",
       "<table border=\"1\" class=\"dataframe\">\n",
       "  <thead>\n",
       "    <tr style=\"text-align: right;\">\n",
       "      <th></th>\n",
       "      <th>FIPS</th>\n",
       "      <th>County Name</th>\n",
       "      <th>cases</th>\n",
       "      <th>deaths</th>\n",
       "      <th>log_cases</th>\n",
       "      <th>log_deaths</th>\n",
       "    </tr>\n",
       "  </thead>\n",
       "  <tbody>\n",
       "    <tr>\n",
       "      <th>1189</th>\n",
       "      <td>23025</td>\n",
       "      <td>Somerset County</td>\n",
       "      <td>NaN</td>\n",
       "      <td>NaN</td>\n",
       "      <td>NaN</td>\n",
       "      <td>NaN</td>\n",
       "    </tr>\n",
       "    <tr>\n",
       "      <th>1211</th>\n",
       "      <td>24039</td>\n",
       "      <td>Somerset County</td>\n",
       "      <td>NaN</td>\n",
       "      <td>NaN</td>\n",
       "      <td>NaN</td>\n",
       "      <td>NaN</td>\n",
       "    </tr>\n",
       "    <tr>\n",
       "      <th>1791</th>\n",
       "      <td>34035</td>\n",
       "      <td>Somerset County</td>\n",
       "      <td>NaN</td>\n",
       "      <td>NaN</td>\n",
       "      <td>NaN</td>\n",
       "      <td>NaN</td>\n",
       "    </tr>\n",
       "    <tr>\n",
       "      <th>2299</th>\n",
       "      <td>42111</td>\n",
       "      <td>Somerset County</td>\n",
       "      <td>NaN</td>\n",
       "      <td>NaN</td>\n",
       "      <td>NaN</td>\n",
       "      <td>NaN</td>\n",
       "    </tr>\n",
       "  </tbody>\n",
       "</table>\n",
       "</div>"
      ],
      "text/plain": [
       "       FIPS      County Name  cases  deaths  log_cases  log_deaths\n",
       "1189  23025  Somerset County    NaN     NaN        NaN         NaN\n",
       "1211  24039  Somerset County    NaN     NaN        NaN         NaN\n",
       "1791  34035  Somerset County    NaN     NaN        NaN         NaN\n",
       "2299  42111  Somerset County    NaN     NaN        NaN         NaN"
      ]
     },
     "execution_count": 201,
     "metadata": {},
     "output_type": "execute_result"
    }
   ],
   "source": [
    "demo = u.load_covid_static()\n",
    "demo[demo['County Name'] == 'Somerset County']"
   ]
  },
  {
   "cell_type": "code",
   "execution_count": 87,
   "metadata": {},
   "outputs": [],
   "source": [
    "pipeline.model.save('LSTM_model2.h5')"
   ]
  },
  {
   "cell_type": "code",
   "execution_count": null,
   "metadata": {},
   "outputs": [],
   "source": []
  }
 ],
 "metadata": {
  "kernelspec": {
   "display_name": "Python 3",
   "language": "python",
   "name": "python3"
  },
  "language_info": {
   "codemirror_mode": {
    "name": "ipython",
    "version": 3
   },
   "file_extension": ".py",
   "mimetype": "text/x-python",
   "name": "python",
   "nbconvert_exporter": "python",
   "pygments_lexer": "ipython3",
   "version": "3.8.2"
  }
 },
 "nbformat": 4,
 "nbformat_minor": 4
}
