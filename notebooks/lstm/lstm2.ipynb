{
 "cells": [
  {
   "cell_type": "code",
   "execution_count": 3,
   "metadata": {
    "scrolled": true
   },
   "outputs": [
    {
     "name": "stderr",
     "output_type": "stream",
     "text": [
      "Using TensorFlow backend.\n"
     ]
    },
    {
     "data": {
      "text/plain": [
       "<module 'dataloader' from '..\\\\dataloader.py'>"
      ]
     },
     "execution_count": 3,
     "metadata": {},
     "output_type": "execute_result"
    }
   ],
   "source": [
    "import sys\n",
    "sys.path.append('../')\n",
    "import numpy as np\n",
    "import importlib\n",
    "import dataloader as u\n",
    "from sklearn.metrics import mean_squared_error\n",
    "import matplotlib.pyplot as plt\n",
    "import keras\n",
    "import tensorflow as tf\n",
    "from tensorflow.keras.models import Model, Sequential, load_model\n",
    "from tensorflow.keras.layers import Embedding, LSTM, Dense, TimeDistributed, Activation, Dropout\n",
    "from tensorflow.keras.regularizers import L1L2\n",
    "importlib.reload(u)"
   ]
  },
  {
   "cell_type": "code",
   "execution_count": 4,
   "metadata": {},
   "outputs": [],
   "source": [
    "gpus = tf.config.list_physical_devices('GPU')\n",
    "if gpus:\n",
    "    try:\n",
    "        for gpu in gpus:\n",
    "            tf.config.experimental.set_memory_growth(gpu, True)\n",
    "\n",
    "    except RuntimeError as e:\n",
    "        print(e)"
   ]
  },
  {
   "cell_type": "code",
   "execution_count": 5,
   "metadata": {},
   "outputs": [],
   "source": [
    "datadict = u.load_covid_timeseries(smoothing=3, cases_cutoff=5)\n",
    "cases = datadict['cases_calibrated']\n",
    "deaths = datadict['deaths_calibrated']"
   ]
  },
  {
   "cell_type": "code",
   "execution_count": 6,
   "metadata": {},
   "outputs": [
    {
     "data": {
      "text/html": [
       "<div>\n",
       "<style scoped>\n",
       "    .dataframe tbody tr th:only-of-type {\n",
       "        vertical-align: middle;\n",
       "    }\n",
       "\n",
       "    .dataframe tbody tr th {\n",
       "        vertical-align: top;\n",
       "    }\n",
       "\n",
       "    .dataframe thead th {\n",
       "        text-align: right;\n",
       "    }\n",
       "</style>\n",
       "<table border=\"1\" class=\"dataframe\">\n",
       "  <thead>\n",
       "    <tr style=\"text-align: right;\">\n",
       "      <th></th>\n",
       "      <th>FIPS</th>\n",
       "      <th>total_pop</th>\n",
       "      <th>60plus</th>\n",
       "      <th>area</th>\n",
       "      <th>median_age</th>\n",
       "      <th>pop_white</th>\n",
       "      <th>pop_black</th>\n",
       "      <th>pop_hispanic</th>\n",
       "      <th>pop_density</th>\n",
       "      <th>p60_plus</th>\n",
       "    </tr>\n",
       "  </thead>\n",
       "  <tbody>\n",
       "    <tr>\n",
       "      <th>0</th>\n",
       "      <td>1001</td>\n",
       "      <td>55036</td>\n",
       "      <td>10523</td>\n",
       "      <td>594.44</td>\n",
       "      <td>37.8</td>\n",
       "      <td>76.9</td>\n",
       "      <td>19.1</td>\n",
       "      <td>2.8</td>\n",
       "      <td>92.584617</td>\n",
       "      <td>0.191202</td>\n",
       "    </tr>\n",
       "    <tr>\n",
       "      <th>1</th>\n",
       "      <td>1003</td>\n",
       "      <td>203360</td>\n",
       "      <td>53519</td>\n",
       "      <td>1589.78</td>\n",
       "      <td>42.8</td>\n",
       "      <td>86.3</td>\n",
       "      <td>9.5</td>\n",
       "      <td>4.5</td>\n",
       "      <td>127.917070</td>\n",
       "      <td>0.263174</td>\n",
       "    </tr>\n",
       "    <tr>\n",
       "      <th>2</th>\n",
       "      <td>1005</td>\n",
       "      <td>26201</td>\n",
       "      <td>6150</td>\n",
       "      <td>884.88</td>\n",
       "      <td>39.9</td>\n",
       "      <td>47.4</td>\n",
       "      <td>47.6</td>\n",
       "      <td>4.3</td>\n",
       "      <td>29.609665</td>\n",
       "      <td>0.234724</td>\n",
       "    </tr>\n",
       "    <tr>\n",
       "      <th>3</th>\n",
       "      <td>1007</td>\n",
       "      <td>22580</td>\n",
       "      <td>4773</td>\n",
       "      <td>622.58</td>\n",
       "      <td>39.9</td>\n",
       "      <td>76.7</td>\n",
       "      <td>22.3</td>\n",
       "      <td>2.4</td>\n",
       "      <td>36.268431</td>\n",
       "      <td>0.211382</td>\n",
       "    </tr>\n",
       "    <tr>\n",
       "      <th>4</th>\n",
       "      <td>1009</td>\n",
       "      <td>57667</td>\n",
       "      <td>13600</td>\n",
       "      <td>644.78</td>\n",
       "      <td>40.8</td>\n",
       "      <td>95.5</td>\n",
       "      <td>1.5</td>\n",
       "      <td>9.1</td>\n",
       "      <td>89.436707</td>\n",
       "      <td>0.235837</td>\n",
       "    </tr>\n",
       "  </tbody>\n",
       "</table>\n",
       "</div>"
      ],
      "text/plain": [
       "   FIPS  total_pop  60plus     area  median_age  pop_white  pop_black  \\\n",
       "0  1001      55036   10523   594.44        37.8       76.9       19.1   \n",
       "1  1003     203360   53519  1589.78        42.8       86.3        9.5   \n",
       "2  1005      26201    6150   884.88        39.9       47.4       47.6   \n",
       "3  1007      22580    4773   622.58        39.9       76.7       22.3   \n",
       "4  1009      57667   13600   644.78        40.8       95.5        1.5   \n",
       "\n",
       "   pop_hispanic  pop_density  p60_plus  \n",
       "0           2.8    92.584617  0.191202  \n",
       "1           4.5   127.917070  0.263174  \n",
       "2           4.3    29.609665  0.234724  \n",
       "3           2.4    36.268431  0.211382  \n",
       "4           9.1    89.436707  0.235837  "
      ]
     },
     "execution_count": 6,
     "metadata": {},
     "output_type": "execute_result"
    }
   ],
   "source": [
    "demographics = u.load_demographics_data()\n",
    "demographics.head()"
   ]
  },
  {
   "cell_type": "code",
   "execution_count": 7,
   "metadata": {},
   "outputs": [],
   "source": [
    "pop = np.expand_dims(demographics['total_pop'].values, axis=1)\n",
    "cases_norm = cases / pop * 10000\n",
    "deaths_norm = deaths / pop * 10000"
   ]
  },
  {
   "cell_type": "code",
   "execution_count": 8,
   "metadata": {},
   "outputs": [],
   "source": [
    "def transform(x):\n",
    "    x0 = np.expand_dims(x[:, 0], axis=1)\n",
    "    t = np.diff(x)\n",
    "    t0 = np.expand_dims(t[:, 0], axis=1)\n",
    "    t = np.diff(t)\n",
    "    return t, t0, x0"
   ]
  },
  {
   "cell_type": "code",
   "execution_count": 9,
   "metadata": {},
   "outputs": [],
   "source": [
    "def untransform(t, t0, x0, a=1):\n",
    "    x = np.hstack([t0, t])\n",
    "    x = np.cumsum(x, axis=a)\n",
    "    x = np.hstack([x0, x])\n",
    "    x = np.cumsum(x, axis=a)\n",
    "    return x"
   ]
  },
  {
   "cell_type": "code",
   "execution_count": 10,
   "metadata": {},
   "outputs": [],
   "source": [
    "cases2, ct0, cx0 = transform(cases_norm)\n",
    "deaths2, dt0, dx0 = transform(deaths_norm)"
   ]
  },
  {
   "cell_type": "code",
   "execution_count": 11,
   "metadata": {},
   "outputs": [],
   "source": [
    "X_train = []\n",
    "y_train = []\n",
    "X_test = []\n",
    "y_test = []\n",
    "lag = 7\n",
    "k = 7\n",
    "validation_steps = 9\n",
    "for j in range(deaths2.shape[0]):\n",
    "    d = deaths2[j]\n",
    "    c = cases2[j]\n",
    "    if np.all(np.isnan(d)) or np.all(np.isnan(c)):\n",
    "        continue\n",
    "    s = np.argmax(np.isnan(d))\n",
    "    for i in range(s):\n",
    "        if np.any(np.isnan(d[i:i+lag+k])) or np.any(np.isnan(c[i:i+lag+k])):\n",
    "            break\n",
    "        x = np.vstack([c[i:i+lag], d[i:i+lag], np.full((lag,), i)]).T\n",
    "        if i <= s - validation_steps - lag - k:\n",
    "            X_train.append(x)\n",
    "            y_train.append(np.vstack([c[i+lag:i+lag+k], d[i+lag:i+lag+k]]).T)\n",
    "        else:\n",
    "            X_test.append(x)\n",
    "            y_test.append(np.vstack([c[i+lag:i+lag+k], d[i+lag:i+lag+k]]).T)\n",
    "X_train = np.array(X_train)\n",
    "y_train = np.array(y_train)\n",
    "X_test = np.array(X_test)\n",
    "y_test = np.array(y_test)"
   ]
  },
  {
   "cell_type": "code",
   "execution_count": 12,
   "metadata": {},
   "outputs": [
    {
     "name": "stdout",
     "output_type": "stream",
     "text": [
      "(18125, 7, 3) (18125, 7, 2) (15820, 7, 3) (15820, 7, 2)\n"
     ]
    }
   ],
   "source": [
    "print(X_train.shape, y_train.shape, X_test.shape, y_test.shape)"
   ]
  },
  {
   "cell_type": "code",
   "execution_count": 18,
   "metadata": {},
   "outputs": [],
   "source": [
    "def LSTM_model():\n",
    "    model = Sequential()\n",
    "    model.add(LSTM(64, input_shape=X_train.shape[1:], activation='relu', return_sequences=True, recurrent_regularizer=L1L2(0,1e-2), kernel_regularizer=L1L2(0, 0.1)))\n",
    "    model.add(Dropout(0.1))\n",
    "    model.add(TimeDistributed(Dense(2, kernel_regularizer=L1L2(0.1, 0.1))))\n",
    "    return model"
   ]
  },
  {
   "cell_type": "code",
   "execution_count": 19,
   "metadata": {
    "scrolled": true
   },
   "outputs": [
    {
     "name": "stdout",
     "output_type": "stream",
     "text": [
      "WARNING:tensorflow:Layer lstm_1 will not use cuDNN kernel since it doesn't meet the cuDNN kernel criteria. It will use generic GPU kernel as fallback when running on GPU\n",
      "Model: \"sequential_1\"\n",
      "_________________________________________________________________\n",
      "Layer (type)                 Output Shape              Param #   \n",
      "=================================================================\n",
      "lstm_1 (LSTM)                (None, 7, 64)             17408     \n",
      "_________________________________________________________________\n",
      "dropout_1 (Dropout)          (None, 7, 64)             0         \n",
      "_________________________________________________________________\n",
      "time_distributed (TimeDistri (None, 7, 2)              130       \n",
      "=================================================================\n",
      "Total params: 17,538\n",
      "Trainable params: 17,538\n",
      "Non-trainable params: 0\n",
      "_________________________________________________________________\n"
     ]
    }
   ],
   "source": [
    "from tensorflow.keras.optimizers import Adam\n",
    "opt = Adam(lr=0.0001, beta_1=0.9, beta_2=0.999, decay=0.01)\n",
    "\n",
    "with tf.device('/GPU:0'):\n",
    "    model = LSTM_model()\n",
    "model.compile(loss='mse', optimizer=opt)\n",
    "model.summary()"
   ]
  },
  {
   "cell_type": "code",
   "execution_count": 30,
   "metadata": {},
   "outputs": [
    {
     "data": {
      "text/plain": [
       "<module 'models' from '..\\\\models.py'>"
      ]
     },
     "execution_count": 30,
     "metadata": {},
     "output_type": "execute_result"
    }
   ],
   "source": [
    "import models\n",
    "importlib.reload(models)"
   ]
  },
  {
   "cell_type": "code",
   "execution_count": 31,
   "metadata": {},
   "outputs": [
    {
     "name": "stdout",
     "output_type": "stream",
     "text": [
      "WARNING:tensorflow:Layer lstm_6 will not use cuDNN kernel since it doesn't meet the cuDNN kernel criteria. It will use generic GPU kernel as fallback when running on GPU\n",
      "Model: \"model_4\"\n",
      "_________________________________________________________________\n",
      "Layer (type)                 Output Shape              Param #   \n",
      "=================================================================\n",
      "input_5 (InputLayer)         [(None, 7, 3)]            0         \n",
      "_________________________________________________________________\n",
      "lstm_6 (LSTM)                (None, 7, 64)             17408     \n",
      "_________________________________________________________________\n",
      "dropout_6 (Dropout)          (None, 7, 64)             0         \n",
      "_________________________________________________________________\n",
      "time_distributed_5 (TimeDist (None, 7, 2)              130       \n",
      "=================================================================\n",
      "Total params: 17,538\n",
      "Trainable params: 17,538\n",
      "Non-trainable params: 0\n",
      "_________________________________________________________________\n"
     ]
    }
   ],
   "source": [
    "model = models.standard_LSTM(X_train, y_train, dropout=0.1, optimizer= opt)\n",
    "model.summary()"
   ]
  },
  {
   "cell_type": "code",
   "execution_count": 32,
   "metadata": {
    "scrolled": true
   },
   "outputs": [
    {
     "name": "stdout",
     "output_type": "stream",
     "text": [
      "Epoch 1/50\n",
      "252/252 - 4s - loss: 5.2919 - val_loss: 12.5459\n",
      "Epoch 2/50\n",
      "252/252 - 4s - loss: 5.1326 - val_loss: 12.3278\n",
      "Epoch 3/50\n",
      "252/252 - 4s - loss: 5.0534 - val_loss: 12.1982\n",
      "Epoch 4/50\n",
      "252/252 - 4s - loss: 4.9996 - val_loss: 12.1114\n",
      "Epoch 5/50\n",
      "252/252 - 4s - loss: 4.9607 - val_loss: 12.0488\n",
      "Epoch 6/50\n",
      "252/252 - 4s - loss: 4.9266 - val_loss: 11.9996\n",
      "Epoch 7/50\n",
      "252/252 - 4s - loss: 4.8999 - val_loss: 11.9599\n",
      "Epoch 8/50\n",
      "252/252 - 4s - loss: 4.8707 - val_loss: 11.9260\n",
      "Epoch 9/50\n",
      "252/252 - 4s - loss: 4.8520 - val_loss: 11.8972\n",
      "Epoch 10/50\n",
      "252/252 - 4s - loss: 4.8273 - val_loss: 11.8714\n",
      "Epoch 11/50\n",
      "252/252 - 4s - loss: 4.8065 - val_loss: 11.8474\n",
      "Epoch 12/50\n",
      "252/252 - 4s - loss: 4.7888 - val_loss: 11.8257\n",
      "Epoch 13/50\n",
      "252/252 - 4s - loss: 4.7716 - val_loss: 11.8054\n",
      "Epoch 14/50\n",
      "252/252 - 4s - loss: 4.7546 - val_loss: 11.7869\n",
      "Epoch 15/50\n",
      "252/252 - 4s - loss: 4.7374 - val_loss: 11.7695\n",
      "Epoch 16/50\n",
      "252/252 - 4s - loss: 4.7221 - val_loss: 11.7530\n",
      "Epoch 17/50\n",
      "252/252 - 4s - loss: 4.7084 - val_loss: 11.7374\n",
      "Epoch 18/50\n",
      "252/252 - 4s - loss: 4.6962 - val_loss: 11.7224\n",
      "Epoch 19/50\n",
      "252/252 - 4s - loss: 4.6830 - val_loss: 11.7083\n",
      "Epoch 20/50\n",
      "252/252 - 4s - loss: 4.6690 - val_loss: 11.6947\n",
      "Epoch 21/50\n",
      "252/252 - 4s - loss: 4.6553 - val_loss: 11.6819\n",
      "Epoch 22/50\n",
      "252/252 - 4s - loss: 4.6462 - val_loss: 11.6695\n",
      "Epoch 23/50\n",
      "252/252 - 4s - loss: 4.6338 - val_loss: 11.6576\n",
      "Epoch 24/50\n",
      "252/252 - 4s - loss: 4.6206 - val_loss: 11.6459\n",
      "Epoch 25/50\n",
      "252/252 - 4s - loss: 4.6120 - val_loss: 11.6350\n",
      "Epoch 26/50\n",
      "252/252 - 4s - loss: 4.6019 - val_loss: 11.6243\n",
      "Epoch 27/50\n",
      "252/252 - 4s - loss: 4.5923 - val_loss: 11.6140\n",
      "Epoch 28/50\n",
      "252/252 - 4s - loss: 4.5815 - val_loss: 11.6042\n",
      "Epoch 29/50\n",
      "252/252 - 4s - loss: 4.5725 - val_loss: 11.5946\n",
      "Epoch 30/50\n",
      "252/252 - 4s - loss: 4.5656 - val_loss: 11.5853\n",
      "Epoch 31/50\n",
      "252/252 - 4s - loss: 4.5544 - val_loss: 11.5762\n",
      "Epoch 32/50\n",
      "252/252 - 4s - loss: 4.5454 - val_loss: 11.5674\n",
      "Epoch 33/50\n",
      "252/252 - 4s - loss: 4.5379 - val_loss: 11.5590\n",
      "Epoch 34/50\n",
      "252/252 - 4s - loss: 4.5274 - val_loss: 11.5507\n",
      "Epoch 35/50\n",
      "252/252 - 4s - loss: 4.5196 - val_loss: 11.5426\n",
      "Epoch 36/50\n",
      "252/252 - 4s - loss: 4.5128 - val_loss: 11.5348\n",
      "Epoch 37/50\n",
      "252/252 - 4s - loss: 4.5062 - val_loss: 11.5272\n",
      "Epoch 38/50\n",
      "252/252 - 4s - loss: 4.4970 - val_loss: 11.5197\n",
      "Epoch 39/50\n",
      "252/252 - 4s - loss: 4.4922 - val_loss: 11.5125\n",
      "Epoch 40/50\n",
      "252/252 - 4s - loss: 4.4820 - val_loss: 11.5054\n",
      "Epoch 41/50\n",
      "252/252 - 4s - loss: 4.4799 - val_loss: 11.4985\n",
      "Epoch 42/50\n",
      "252/252 - 4s - loss: 4.4714 - val_loss: 11.4917\n",
      "Epoch 43/50\n",
      "252/252 - 4s - loss: 4.4643 - val_loss: 11.4851\n",
      "Epoch 44/50\n",
      "252/252 - 4s - loss: 4.4570 - val_loss: 11.4786\n",
      "Epoch 45/50\n",
      "252/252 - 4s - loss: 4.4501 - val_loss: 11.4723\n",
      "Epoch 46/50\n",
      "252/252 - 4s - loss: 4.4491 - val_loss: 11.4661\n",
      "Epoch 47/50\n",
      "252/252 - 4s - loss: 4.4390 - val_loss: 11.4600\n",
      "Epoch 48/50\n",
      "252/252 - 4s - loss: 4.4301 - val_loss: 11.4540\n",
      "Epoch 49/50\n",
      "252/252 - 4s - loss: 4.4277 - val_loss: 11.4482\n",
      "Epoch 50/50\n",
      "252/252 - 4s - loss: 4.4199 - val_loss: 11.4424\n"
     ]
    }
   ],
   "source": [
    "with tf.device('/GPU:0'):\n",
    "    model.fit(X_train, y_train, epochs=50, batch_size=72, validation_data=(X_test, y_test), verbose=2, shuffle=True)"
   ]
  },
  {
   "cell_type": "code",
   "execution_count": null,
   "metadata": {},
   "outputs": [],
   "source": [
    "model.save('lstm_2.h5')"
   ]
  },
  {
   "cell_type": "code",
   "execution_count": 14,
   "metadata": {
    "scrolled": true
   },
   "outputs": [
    {
     "name": "stdout",
     "output_type": "stream",
     "text": [
      "WARNING:tensorflow:Layer lstm_10 will not use cuDNN kernel since it doesn't meet the cuDNN kernel criteria. It will use generic GPU kernel as fallback when running on GPU\n",
      "Model: \"sequential_10\"\n",
      "_________________________________________________________________\n",
      "Layer (type)                 Output Shape              Param #   \n",
      "=================================================================\n",
      "lstm_10 (LSTM)               (None, 7, 64)             17408     \n",
      "_________________________________________________________________\n",
      "dropout_8 (Dropout)          (None, 7, 64)             0         \n",
      "_________________________________________________________________\n",
      "dense_8 (Dense)              (None, 7, 2)              130       \n",
      "=================================================================\n",
      "Total params: 17,538\n",
      "Trainable params: 17,538\n",
      "Non-trainable params: 0\n",
      "_________________________________________________________________\n"
     ]
    }
   ],
   "source": [
    "model = load_model('lstm_2.h5')\n",
    "model.summary()"
   ]
  },
  {
   "cell_type": "code",
   "execution_count": 33,
   "metadata": {
    "scrolled": true
   },
   "outputs": [
    {
     "name": "stdout",
     "output_type": "stream",
     "text": [
      "50\n",
      "100\n",
      "150\n",
      "200\n",
      "250\n",
      "300\n",
      "350\n",
      "400\n",
      "450\n",
      "500\n",
      "550\n",
      "600\n",
      "650\n",
      "700\n",
      "750\n",
      "800\n",
      "850\n",
      "900\n",
      "950\n",
      "1000\n",
      "1050\n",
      "1100\n",
      "1150\n",
      "1200\n",
      "1250\n",
      "1300\n",
      "1350\n",
      "1400\n",
      "1450\n",
      "1500\n",
      "1550\n",
      "1600\n",
      "1650\n",
      "1700\n",
      "1750\n",
      "1800\n",
      "1850\n",
      "1900\n",
      "1950\n",
      "2000\n",
      "2050\n",
      "2100\n",
      "2150\n",
      "2200\n",
      "2250\n",
      "2300\n",
      "2350\n",
      "2400\n",
      "2450\n",
      "2500\n",
      "2550\n",
      "2600\n",
      "2650\n",
      "2700\n",
      "2750\n",
      "2800\n",
      "2850\n",
      "2900\n",
      "2950\n",
      "3000\n",
      "3050\n",
      "3100\n"
     ]
    }
   ],
   "source": [
    "cases_predictions = {}\n",
    "deaths_predictions = {}\n",
    "count = 0\n",
    "for county in range(deaths2.shape[0]):\n",
    "    count += 1\n",
    "    if count % 50 == 0:\n",
    "        print(count)\n",
    "    d = deaths2[county]\n",
    "    c = cases2[county]\n",
    "    if np.all(np.isnan(d)) or np.all(np.isnan(c)):\n",
    "        continue\n",
    "    s = np.argmax(np.isnan(d))\n",
    "    if s < lag + validation_steps:\n",
    "        continue\n",
    "    i = s - lag - validation_steps\n",
    "    X = np.expand_dims(np.vstack([c[i:i+lag], d[i:i+lag], np.full((lag, ), i)]).T, axis=0)\n",
    "    predictions1 = model.predict(X)\n",
    "    X = np.expand_dims(np.hstack([predictions1[0], np.full((lag, 1), i)]), axis=0)\n",
    "    predictions2 = model.predict(X)\n",
    "    predictions = np.vstack([predictions1[0], predictions2[0]])\n",
    "    cases_predictions[county] = predictions.T[0]\n",
    "    deaths_predictions[county] = predictions.T[1]"
   ]
  },
  {
   "cell_type": "code",
   "execution_count": 34,
   "metadata": {},
   "outputs": [],
   "source": [
    "cp2 = {}\n",
    "dp2 = {}\n",
    "pop = np.expand_dims(demographics['total_pop'].values, axis=1)\n",
    "for county in cases_predictions:\n",
    "    d = deaths2[county]\n",
    "    c = cases2[county]\n",
    "    s = np.argmax(np.isnan(d))\n",
    "    d2 = np.concatenate([d[:(s - validation_steps)], deaths_predictions[county]])\n",
    "    c2 = np.concatenate([c[:(s - validation_steps)], cases_predictions[county]])\n",
    "    \n",
    "    cp2[county] = untransform(c2, ct0[county], cx0[county], 0)\n",
    "    dp2[county] = untransform(d2, dt0[county], dx0[county], 0)\n",
    "    \n",
    "    cp2[county] = cp2[county] * pop[county, 0] / 10000\n",
    "    dp2[county] = dp2[county] * pop[county, 0] / 10000"
   ]
  },
  {
   "cell_type": "code",
   "execution_count": 35,
   "metadata": {},
   "outputs": [
    {
     "name": "stdout",
     "output_type": "stream",
     "text": [
      "54.72877166187507\n"
     ]
    }
   ],
   "source": [
    "mse = 0\n",
    "n = 0\n",
    "for county in deaths_predictions:\n",
    "    n += 1\n",
    "    s = np.argmax(np.isnan(deaths2[county]))\n",
    "    pred = dp2[county][(s - validation_steps):s]\n",
    "    real = deaths[county][(s - validation_steps):s]\n",
    "    mse += np.sum((pred - real)**2)\n",
    "    break\n",
    "print(mse / (n*validation_steps))"
   ]
  },
  {
   "cell_type": "code",
   "execution_count": 40,
   "metadata": {},
   "outputs": [
    {
     "data": {
      "image/png": "[encoded data removed]",
      "text/plain": [
       "<Figure size 864x864 with 1 Axes>"
      ]
     },
     "metadata": {
      "needs_background": "light"
     },
     "output_type": "display_data"
    }
   ],
   "source": [
    "fig = plt.figure(figsize=(12, 12))\n",
    "ax = fig.add_subplot(111)\n",
    "\n",
    "county = 716\n",
    "\n",
    "d1 = deaths\n",
    "x1 = np.linspace(1, d1.shape[1], d1.shape[1])\n",
    "plt.plot(x1, d1[county])\n",
    "\n",
    "s = np.argmax(np.isnan(d1[county])) - 1\n",
    "d2 = dp2[county]\n",
    "x2 = np.linspace(1, d2.shape[0], d2.shape[0])\n",
    "plt.plot(x2[s - validation_steps:], d2[s - validation_steps:])\n",
    "\n",
    "plt.show()"
   ]
  },
  {
   "cell_type": "code",
   "execution_count": null,
   "metadata": {},
   "outputs": [],
   "source": []
  },
  {
   "cell_type": "code",
   "execution_count": null,
   "metadata": {},
   "outputs": [],
   "source": []
  }
 ],
 "metadata": {
  "kernelspec": {
   "display_name": "Python 3",
   "language": "python",
   "name": "python3"
  },
  "language_info": {
   "codemirror_mode": {
    "name": "ipython",
    "version": 3
   },
   "file_extension": ".py",
   "mimetype": "text/x-python",
   "name": "python",
   "nbconvert_exporter": "python",
   "pygments_lexer": "ipython3",
   "version": "3.8.2"
  }
 },
 "nbformat": 4,
 "nbformat_minor": 4
}
