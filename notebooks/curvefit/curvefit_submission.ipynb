{
 "cells": [
  {
   "cell_type": "code",
   "execution_count": 108,
   "metadata": {},
   "outputs": [
    {
     "data": {
      "text/plain": [
       "<module 'models.curvefit.curvefit_models' from '../..\\\\models\\\\curvefit\\\\curvefit_models.py'>"
      ]
     },
     "execution_count": 108,
     "metadata": {},
     "output_type": "execute_result"
    }
   ],
   "source": [
    "import sys\n",
    "sys.path.append('../../')\n",
    "import numpy as np\n",
    "import importlib\n",
    "from models.utils import dataloader as loader\n",
    "from models.curvefit import curvefit_models as models\n",
    "from models.curvefit import curvefit_pipeline as p\n",
    "import matplotlib.pyplot as plt\n",
    "import datetime as dt\n",
    "import pickle\n",
    "importlib.reload(p)\n",
    "importlib.reload(loader)\n",
    "importlib.reload(models)"
   ]
  },
  {
   "cell_type": "code",
   "execution_count": 109,
   "metadata": {},
   "outputs": [],
   "source": [
    "horizon = 30\n",
    "data_format = {'name': 'deaths_raw', 'smoothing': 3, 'val_steps': 21}\n",
    "gp_params = {'draw': 150, 'tune': 300, 'samples': 100, 'trials': 3, 'horizon': horizon}\n",
    "use_gp = [204, 309, 246, 2289, 1782, 1225, 1312, 610]\n",
    "model_params = {'name': 'ExpNormModel', 'use_gp': use_gp, 'gp_params': gp_params}\n",
    "samples = 250\n",
    "quantiles = [10, 20, 30, 40, 50, 60, 70, 80, 90]\n",
    "\n",
    "today = dt.date.today()\n",
    "output_file = f'../../predictions/predictions-{str(today)}-v7.csv'\n",
    "sample_file = '../sample_submission.csv'"
   ]
  },
  {
   "cell_type": "code",
   "execution_count": 110,
   "metadata": {},
   "outputs": [],
   "source": [
    "with open('use_c_v2.dat', 'rb') as handle:\n",
    "    use_c = pickle.load(handle)"
   ]
  },
  {
   "cell_type": "code",
   "execution_count": 111,
   "metadata": {},
   "outputs": [],
   "source": [
    "pipeline = p.Pipeline(data_format, model_params, horizon, use_c)"
   ]
  },
  {
   "cell_type": "code",
   "execution_count": 112,
   "metadata": {
    "collapsed": true,
    "jupyter": {
     "outputs_hidden": true
    }
   },
   "outputs": [
    {
     "name": "stdout",
     "output_type": "stream",
     "text": [
      "Fitting 3/3142\r"
     ]
    },
    {
     "name": "stderr",
     "output_type": "stream",
     "text": [
      "C:\\Users\\kehua\\AppData\\Local\\Programs\\Python\\python-venv\\37_env\\lib\\site-packages\\scipy\\optimize\\minpack.py:808: OptimizeWarning: Covariance of the parameters could not be estimated\n",
      "  category=OptimizeWarning)\n"
     ]
    },
    {
     "name": "stdout",
     "output_type": "stream",
     "text": [
      "Fitting 204/3142\r"
     ]
    },
    {
     "name": "stderr",
     "output_type": "stream",
     "text": [
      "Only 150 samples in chain.\n",
      "Auto-assigning NUTS sampler...\n",
      "Initializing NUTS using jitter+adapt_diag...\n",
      "Sequential sampling (2 chains in 1 job)\n",
      "NUTS: [σ, η, ρ]\n",
      "Sampling chain 0, 0 divergences: 100%|██████████████████████████████████████████████████████████| 450/450 [00:05<00:00, 84.57it/s]\n",
      "Sampling chain 1, 0 divergences: 100%|█████████████████████████████████████████████████████████| 450/450 [00:04<00:00, 112.45it/s]\n",
      "C:\\Users\\kehua\\AppData\\Local\\Programs\\Python\\python-venv\\37_env\\lib\\site-packages\\theano\\tensor\\basic.py:6611: FutureWarning: Using a non-tuple sequence for multidimensional indexing is deprecated; use `arr[tuple(seq)]` instead of `arr[seq]`. In the future this will be interpreted as an array index, `arr[np.array(seq)]`, which will result either in an error or a different result.\n",
      "  result[diagonal_slice] = x\n",
      "The acceptance probability does not match the target. It is 0.9155304233467942, but should be close to 0.8. Try to increase the number of tuning steps.\n",
      "The acceptance probability does not match the target. It is 0.8929684996500578, but should be close to 0.8. Try to increase the number of tuning steps.\n",
      "C:\\Users\\kehua\\AppData\\Local\\Programs\\Python\\python-venv\\37_env\\lib\\site-packages\\pymc3\\sampling.py:1247: UserWarning: samples parameter is smaller than nchains times ndraws, some draws and/or chains may not be represented in the returned posterior predictive sample\n",
      "  \"samples parameter is smaller than nchains times ndraws, some draws \"\n",
      "100%|███████████████████████████████████████████████████████████████████████████████████████████| 100/100 [00:02<00:00, 35.92it/s]\n",
      "Only 150 samples in chain.\n",
      "Auto-assigning NUTS sampler...\n",
      "Initializing NUTS using jitter+adapt_diag...\n",
      "Sequential sampling (2 chains in 1 job)\n",
      "NUTS: [σ, η, ρ]\n",
      "Sampling chain 0, 0 divergences: 100%|██████████████████████████████████████████████████████████| 450/450 [00:05<00:00, 83.33it/s]\n",
      "Sampling chain 1, 0 divergences: 100%|█████████████████████████████████████████████████████████| 450/450 [00:03<00:00, 116.40it/s]\n",
      "C:\\Users\\kehua\\AppData\\Local\\Programs\\Python\\python-venv\\37_env\\lib\\site-packages\\theano\\tensor\\basic.py:6611: FutureWarning: Using a non-tuple sequence for multidimensional indexing is deprecated; use `arr[tuple(seq)]` instead of `arr[seq]`. In the future this will be interpreted as an array index, `arr[np.array(seq)]`, which will result either in an error or a different result.\n",
      "  result[diagonal_slice] = x\n",
      "The acceptance probability does not match the target. It is 0.9060300332839349, but should be close to 0.8. Try to increase the number of tuning steps.\n",
      "C:\\Users\\kehua\\AppData\\Local\\Programs\\Python\\python-venv\\37_env\\lib\\site-packages\\pymc3\\sampling.py:1247: UserWarning: samples parameter is smaller than nchains times ndraws, some draws and/or chains may not be represented in the returned posterior predictive sample\n",
      "  \"samples parameter is smaller than nchains times ndraws, some draws \"\n",
      "100%|███████████████████████████████████████████████████████████████████████████████████████████| 100/100 [00:02<00:00, 35.02it/s]\n",
      "Only 150 samples in chain.\n",
      "Auto-assigning NUTS sampler...\n",
      "Initializing NUTS using jitter+adapt_diag...\n",
      "Sequential sampling (2 chains in 1 job)\n",
      "NUTS: [σ, η, ρ]\n",
      "Sampling chain 0, 0 divergences: 100%|██████████████████████████████████████████████████████████| 450/450 [00:05<00:00, 84.52it/s]\n",
      "Sampling chain 1, 0 divergences: 100%|█████████████████████████████████████████████████████████| 450/450 [00:03<00:00, 117.25it/s]\n",
      "C:\\Users\\kehua\\AppData\\Local\\Programs\\Python\\python-venv\\37_env\\lib\\site-packages\\theano\\tensor\\basic.py:6611: FutureWarning: Using a non-tuple sequence for multidimensional indexing is deprecated; use `arr[tuple(seq)]` instead of `arr[seq]`. In the future this will be interpreted as an array index, `arr[np.array(seq)]`, which will result either in an error or a different result.\n",
      "  result[diagonal_slice] = x\n",
      "The acceptance probability does not match the target. It is 0.9060300332839349, but should be close to 0.8. Try to increase the number of tuning steps.\n",
      "C:\\Users\\kehua\\AppData\\Local\\Programs\\Python\\python-venv\\37_env\\lib\\site-packages\\pymc3\\sampling.py:1247: UserWarning: samples parameter is smaller than nchains times ndraws, some draws and/or chains may not be represented in the returned posterior predictive sample\n",
      "  \"samples parameter is smaller than nchains times ndraws, some draws \"\n",
      "100%|███████████████████████████████████████████████████████████████████████████████████████████| 100/100 [00:02<00:00, 34.88it/s]\n"
     ]
    },
    {
     "name": "stdout",
     "output_type": "stream",
     "text": [
      "Fitting 246/3142\r"
     ]
    },
    {
     "name": "stderr",
     "output_type": "stream",
     "text": [
      "Only 150 samples in chain.\n",
      "Auto-assigning NUTS sampler...\n",
      "Initializing NUTS using jitter+adapt_diag...\n",
      "Sequential sampling (2 chains in 1 job)\n",
      "NUTS: [σ, η, ρ]\n",
      "Sampling chain 0, 0 divergences: 100%|██████████████████████████████████████████████████████████| 450/450 [00:06<00:00, 70.13it/s]\n",
      "Sampling chain 1, 0 divergences: 100%|█████████████████████████████████████████████████████████| 450/450 [00:04<00:00, 108.31it/s]\n",
      "C:\\Users\\kehua\\AppData\\Local\\Programs\\Python\\python-venv\\37_env\\lib\\site-packages\\theano\\tensor\\basic.py:6611: FutureWarning: Using a non-tuple sequence for multidimensional indexing is deprecated; use `arr[tuple(seq)]` instead of `arr[seq]`. In the future this will be interpreted as an array index, `arr[np.array(seq)]`, which will result either in an error or a different result.\n",
      "  result[diagonal_slice] = x\n",
      "The acceptance probability does not match the target. It is 0.8939681896897423, but should be close to 0.8. Try to increase the number of tuning steps.\n",
      "C:\\Users\\kehua\\AppData\\Local\\Programs\\Python\\python-venv\\37_env\\lib\\site-packages\\pymc3\\sampling.py:1247: UserWarning: samples parameter is smaller than nchains times ndraws, some draws and/or chains may not be represented in the returned posterior predictive sample\n",
      "  \"samples parameter is smaller than nchains times ndraws, some draws \"\n",
      "100%|███████████████████████████████████████████████████████████████████████████████████████████| 100/100 [00:02<00:00, 47.86it/s]\n",
      "Only 150 samples in chain.\n",
      "Auto-assigning NUTS sampler...\n",
      "Initializing NUTS using jitter+adapt_diag...\n",
      "Sequential sampling (2 chains in 1 job)\n",
      "NUTS: [σ, η, ρ]\n",
      "Sampling chain 0, 0 divergences: 100%|██████████████████████████████████████████████████████████| 450/450 [00:06<00:00, 73.00it/s]\n",
      "Sampling chain 1, 0 divergences: 100%|█████████████████████████████████████████████████████████| 450/450 [00:04<00:00, 110.84it/s]\n",
      "C:\\Users\\kehua\\AppData\\Local\\Programs\\Python\\python-venv\\37_env\\lib\\site-packages\\theano\\tensor\\basic.py:6611: FutureWarning: Using a non-tuple sequence for multidimensional indexing is deprecated; use `arr[tuple(seq)]` instead of `arr[seq]`. In the future this will be interpreted as an array index, `arr[np.array(seq)]`, which will result either in an error or a different result.\n",
      "  result[diagonal_slice] = x\n",
      "C:\\Users\\kehua\\AppData\\Local\\Programs\\Python\\python-venv\\37_env\\lib\\site-packages\\pymc3\\sampling.py:1247: UserWarning: samples parameter is smaller than nchains times ndraws, some draws and/or chains may not be represented in the returned posterior predictive sample\n",
      "  \"samples parameter is smaller than nchains times ndraws, some draws \"\n",
      "100%|███████████████████████████████████████████████████████████████████████████████████████████| 100/100 [00:02<00:00, 48.67it/s]\n",
      "Only 150 samples in chain.\n",
      "Auto-assigning NUTS sampler...\n",
      "Initializing NUTS using jitter+adapt_diag...\n",
      "Sequential sampling (2 chains in 1 job)\n",
      "NUTS: [σ, η, ρ]\n",
      "Sampling chain 0, 0 divergences: 100%|██████████████████████████████████████████████████████████| 450/450 [00:06<00:00, 71.98it/s]\n",
      "Sampling chain 1, 0 divergences: 100%|█████████████████████████████████████████████████████████| 450/450 [00:04<00:00, 109.28it/s]\n",
      "C:\\Users\\kehua\\AppData\\Local\\Programs\\Python\\python-venv\\37_env\\lib\\site-packages\\theano\\tensor\\basic.py:6611: FutureWarning: Using a non-tuple sequence for multidimensional indexing is deprecated; use `arr[tuple(seq)]` instead of `arr[seq]`. In the future this will be interpreted as an array index, `arr[np.array(seq)]`, which will result either in an error or a different result.\n",
      "  result[diagonal_slice] = x\n",
      "C:\\Users\\kehua\\AppData\\Local\\Programs\\Python\\python-venv\\37_env\\lib\\site-packages\\pymc3\\sampling.py:1247: UserWarning: samples parameter is smaller than nchains times ndraws, some draws and/or chains may not be represented in the returned posterior predictive sample\n",
      "  \"samples parameter is smaller than nchains times ndraws, some draws \"\n",
      "100%|███████████████████████████████████████████████████████████████████████████████████████████| 100/100 [00:02<00:00, 47.90it/s]\n"
     ]
    },
    {
     "name": "stdout",
     "output_type": "stream",
     "text": [
      "Fitting 279/3142\r"
     ]
    },
    {
     "name": "stderr",
     "output_type": "stream",
     "text": [
      "C:\\Users\\kehua\\AppData\\Local\\Programs\\Python\\python-venv\\37_env\\lib\\site-packages\\scipy\\optimize\\minpack.py:808: OptimizeWarning: Covariance of the parameters could not be estimated\n",
      "  category=OptimizeWarning)\n"
     ]
    },
    {
     "name": "stdout",
     "output_type": "stream",
     "text": [
      "Fitting 309/3142\r"
     ]
    },
    {
     "name": "stderr",
     "output_type": "stream",
     "text": [
      "Only 150 samples in chain.\n",
      "Auto-assigning NUTS sampler...\n",
      "Initializing NUTS using jitter+adapt_diag...\n",
      "Sequential sampling (2 chains in 1 job)\n",
      "NUTS: [σ, η, ρ]\n",
      "Sampling chain 0, 0 divergences: 100%|██████████████████████████████████████████████████████████| 450/450 [00:05<00:00, 83.69it/s]\n",
      "Sampling chain 1, 0 divergences: 100%|█████████████████████████████████████████████████████████| 450/450 [00:04<00:00, 111.91it/s]\n",
      "C:\\Users\\kehua\\AppData\\Local\\Programs\\Python\\python-venv\\37_env\\lib\\site-packages\\theano\\tensor\\basic.py:6611: FutureWarning: Using a non-tuple sequence for multidimensional indexing is deprecated; use `arr[tuple(seq)]` instead of `arr[seq]`. In the future this will be interpreted as an array index, `arr[np.array(seq)]`, which will result either in an error or a different result.\n",
      "  result[diagonal_slice] = x\n",
      "C:\\Users\\kehua\\AppData\\Local\\Programs\\Python\\python-venv\\37_env\\lib\\site-packages\\pymc3\\sampling.py:1247: UserWarning: samples parameter is smaller than nchains times ndraws, some draws and/or chains may not be represented in the returned posterior predictive sample\n",
      "  \"samples parameter is smaller than nchains times ndraws, some draws \"\n",
      "100%|███████████████████████████████████████████████████████████████████████████████████████████| 100/100 [00:02<00:00, 40.80it/s]\n",
      "Only 150 samples in chain.\n",
      "Auto-assigning NUTS sampler...\n",
      "Initializing NUTS using jitter+adapt_diag...\n",
      "Sequential sampling (2 chains in 1 job)\n",
      "NUTS: [σ, η, ρ]\n",
      "Sampling chain 0, 0 divergences: 100%|██████████████████████████████████████████████████████████| 450/450 [00:05<00:00, 82.37it/s]\n",
      "Sampling chain 1, 0 divergences: 100%|█████████████████████████████████████████████████████████| 450/450 [00:04<00:00, 104.22it/s]\n",
      "C:\\Users\\kehua\\AppData\\Local\\Programs\\Python\\python-venv\\37_env\\lib\\site-packages\\theano\\tensor\\basic.py:6611: FutureWarning: Using a non-tuple sequence for multidimensional indexing is deprecated; use `arr[tuple(seq)]` instead of `arr[seq]`. In the future this will be interpreted as an array index, `arr[np.array(seq)]`, which will result either in an error or a different result.\n",
      "  result[diagonal_slice] = x\n",
      "C:\\Users\\kehua\\AppData\\Local\\Programs\\Python\\python-venv\\37_env\\lib\\site-packages\\pymc3\\sampling.py:1247: UserWarning: samples parameter is smaller than nchains times ndraws, some draws and/or chains may not be represented in the returned posterior predictive sample\n",
      "  \"samples parameter is smaller than nchains times ndraws, some draws \"\n",
      "100%|███████████████████████████████████████████████████████████████████████████████████████████| 100/100 [00:02<00:00, 42.76it/s]\n",
      "Only 150 samples in chain.\n",
      "Auto-assigning NUTS sampler...\n",
      "Initializing NUTS using jitter+adapt_diag...\n",
      "Sequential sampling (2 chains in 1 job)\n",
      "NUTS: [σ, η, ρ]\n",
      "Sampling chain 0, 0 divergences: 100%|██████████████████████████████████████████████████████████| 450/450 [00:05<00:00, 82.60it/s]\n",
      "Sampling chain 1, 0 divergences: 100%|█████████████████████████████████████████████████████████| 450/450 [00:04<00:00, 103.88it/s]\n",
      "C:\\Users\\kehua\\AppData\\Local\\Programs\\Python\\python-venv\\37_env\\lib\\site-packages\\theano\\tensor\\basic.py:6611: FutureWarning: Using a non-tuple sequence for multidimensional indexing is deprecated; use `arr[tuple(seq)]` instead of `arr[seq]`. In the future this will be interpreted as an array index, `arr[np.array(seq)]`, which will result either in an error or a different result.\n",
      "  result[diagonal_slice] = x\n",
      "C:\\Users\\kehua\\AppData\\Local\\Programs\\Python\\python-venv\\37_env\\lib\\site-packages\\pymc3\\sampling.py:1247: UserWarning: samples parameter is smaller than nchains times ndraws, some draws and/or chains may not be represented in the returned posterior predictive sample\n",
      "  \"samples parameter is smaller than nchains times ndraws, some draws \"\n",
      "100%|███████████████████████████████████████████████████████████████████████████████████████████| 100/100 [00:02<00:00, 42.87it/s]\n"
     ]
    },
    {
     "name": "stdout",
     "output_type": "stream",
     "text": [
      "Fitting 442/3142\r"
     ]
    },
    {
     "name": "stderr",
     "output_type": "stream",
     "text": [
      "C:\\Users\\kehua\\AppData\\Local\\Programs\\Python\\python-venv\\37_env\\lib\\site-packages\\scipy\\optimize\\minpack.py:808: OptimizeWarning: Covariance of the parameters could not be estimated\n",
      "  category=OptimizeWarning)\n"
     ]
    },
    {
     "name": "stdout",
     "output_type": "stream",
     "text": [
      "Fitting 610/3142\r"
     ]
    },
    {
     "name": "stderr",
     "output_type": "stream",
     "text": [
      "Only 150 samples in chain.\n",
      "Auto-assigning NUTS sampler...\n",
      "Initializing NUTS using jitter+adapt_diag...\n",
      "Sequential sampling (2 chains in 1 job)\n",
      "NUTS: [σ, η, ρ]\n",
      "Sampling chain 0, 0 divergences: 100%|██████████████████████████████████████████████████████████| 450/450 [00:05<00:00, 81.73it/s]\n",
      "Sampling chain 1, 0 divergences: 100%|█████████████████████████████████████████████████████████| 450/450 [00:04<00:00, 106.84it/s]\n",
      "C:\\Users\\kehua\\AppData\\Local\\Programs\\Python\\python-venv\\37_env\\lib\\site-packages\\theano\\tensor\\basic.py:6611: FutureWarning: Using a non-tuple sequence for multidimensional indexing is deprecated; use `arr[tuple(seq)]` instead of `arr[seq]`. In the future this will be interpreted as an array index, `arr[np.array(seq)]`, which will result either in an error or a different result.\n",
      "  result[diagonal_slice] = x\n",
      "The acceptance probability does not match the target. It is 0.8826268528290317, but should be close to 0.8. Try to increase the number of tuning steps.\n",
      "C:\\Users\\kehua\\AppData\\Local\\Programs\\Python\\python-venv\\37_env\\lib\\site-packages\\pymc3\\sampling.py:1247: UserWarning: samples parameter is smaller than nchains times ndraws, some draws and/or chains may not be represented in the returned posterior predictive sample\n",
      "  \"samples parameter is smaller than nchains times ndraws, some draws \"\n",
      "100%|███████████████████████████████████████████████████████████████████████████████████████████| 100/100 [00:02<00:00, 38.44it/s]\n",
      "Only 150 samples in chain.\n",
      "Auto-assigning NUTS sampler...\n",
      "Initializing NUTS using jitter+adapt_diag...\n",
      "Sequential sampling (2 chains in 1 job)\n",
      "NUTS: [σ, η, ρ]\n",
      "Sampling chain 0, 0 divergences: 100%|██████████████████████████████████████████████████████████| 450/450 [00:05<00:00, 88.27it/s]\n",
      "Sampling chain 1, 0 divergences: 100%|█████████████████████████████████████████████████████████| 450/450 [00:03<00:00, 113.15it/s]\n",
      "C:\\Users\\kehua\\AppData\\Local\\Programs\\Python\\python-venv\\37_env\\lib\\site-packages\\theano\\tensor\\basic.py:6611: FutureWarning: Using a non-tuple sequence for multidimensional indexing is deprecated; use `arr[tuple(seq)]` instead of `arr[seq]`. In the future this will be interpreted as an array index, `arr[np.array(seq)]`, which will result either in an error or a different result.\n",
      "  result[diagonal_slice] = x\n",
      "The acceptance probability does not match the target. It is 0.9134529282838602, but should be close to 0.8. Try to increase the number of tuning steps.\n",
      "The acceptance probability does not match the target. It is 0.8805603142610585, but should be close to 0.8. Try to increase the number of tuning steps.\n",
      "C:\\Users\\kehua\\AppData\\Local\\Programs\\Python\\python-venv\\37_env\\lib\\site-packages\\pymc3\\sampling.py:1247: UserWarning: samples parameter is smaller than nchains times ndraws, some draws and/or chains may not be represented in the returned posterior predictive sample\n",
      "  \"samples parameter is smaller than nchains times ndraws, some draws \"\n",
      "100%|███████████████████████████████████████████████████████████████████████████████████████████| 100/100 [00:02<00:00, 39.63it/s]\n",
      "Only 150 samples in chain.\n",
      "Auto-assigning NUTS sampler...\n",
      "Initializing NUTS using jitter+adapt_diag...\n",
      "Sequential sampling (2 chains in 1 job)\n",
      "NUTS: [σ, η, ρ]\n",
      "Sampling chain 0, 0 divergences: 100%|██████████████████████████████████████████████████████████| 450/450 [00:05<00:00, 89.57it/s]\n",
      "Sampling chain 1, 0 divergences: 100%|█████████████████████████████████████████████████████████| 450/450 [00:03<00:00, 113.61it/s]\n",
      "C:\\Users\\kehua\\AppData\\Local\\Programs\\Python\\python-venv\\37_env\\lib\\site-packages\\theano\\tensor\\basic.py:6611: FutureWarning: Using a non-tuple sequence for multidimensional indexing is deprecated; use `arr[tuple(seq)]` instead of `arr[seq]`. In the future this will be interpreted as an array index, `arr[np.array(seq)]`, which will result either in an error or a different result.\n",
      "  result[diagonal_slice] = x\n",
      "The acceptance probability does not match the target. It is 0.9134529282838602, but should be close to 0.8. Try to increase the number of tuning steps.\n",
      "The acceptance probability does not match the target. It is 0.8805603142610585, but should be close to 0.8. Try to increase the number of tuning steps.\n",
      "C:\\Users\\kehua\\AppData\\Local\\Programs\\Python\\python-venv\\37_env\\lib\\site-packages\\pymc3\\sampling.py:1247: UserWarning: samples parameter is smaller than nchains times ndraws, some draws and/or chains may not be represented in the returned posterior predictive sample\n",
      "  \"samples parameter is smaller than nchains times ndraws, some draws \"\n",
      "100%|███████████████████████████████████████████████████████████████████████████████████████████| 100/100 [00:02<00:00, 39.07it/s]\n"
     ]
    },
    {
     "name": "stdout",
     "output_type": "stream",
     "text": [
      "Fitting 634/3142\r"
     ]
    },
    {
     "name": "stderr",
     "output_type": "stream",
     "text": [
      "C:\\Users\\kehua\\AppData\\Local\\Programs\\Python\\python-venv\\37_env\\lib\\site-packages\\scipy\\optimize\\minpack.py:808: OptimizeWarning: Covariance of the parameters could not be estimated\n",
      "  category=OptimizeWarning)\n"
     ]
    },
    {
     "name": "stdout",
     "output_type": "stream",
     "text": [
      "Fitting 1225/3142\r"
     ]
    },
    {
     "name": "stderr",
     "output_type": "stream",
     "text": [
      "Only 150 samples in chain.\n",
      "Auto-assigning NUTS sampler...\n",
      "Initializing NUTS using jitter+adapt_diag...\n",
      "Sequential sampling (2 chains in 1 job)\n",
      "NUTS: [σ, η, ρ]\n",
      "Sampling chain 0, 0 divergences: 100%|██████████████████████████████████████████████████████████| 450/450 [00:05<00:00, 87.59it/s]\n",
      "Sampling chain 1, 0 divergences: 100%|█████████████████████████████████████████████████████████| 450/450 [00:03<00:00, 114.77it/s]\n",
      "C:\\Users\\kehua\\AppData\\Local\\Programs\\Python\\python-venv\\37_env\\lib\\site-packages\\theano\\tensor\\basic.py:6611: FutureWarning: Using a non-tuple sequence for multidimensional indexing is deprecated; use `arr[tuple(seq)]` instead of `arr[seq]`. In the future this will be interpreted as an array index, `arr[np.array(seq)]`, which will result either in an error or a different result.\n",
      "  result[diagonal_slice] = x\n",
      "The acceptance probability does not match the target. It is 0.9005703415278121, but should be close to 0.8. Try to increase the number of tuning steps.\n",
      "C:\\Users\\kehua\\AppData\\Local\\Programs\\Python\\python-venv\\37_env\\lib\\site-packages\\pymc3\\sampling.py:1247: UserWarning: samples parameter is smaller than nchains times ndraws, some draws and/or chains may not be represented in the returned posterior predictive sample\n",
      "  \"samples parameter is smaller than nchains times ndraws, some draws \"\n",
      "100%|███████████████████████████████████████████████████████████████████████████████████████████| 100/100 [00:02<00:00, 40.79it/s]\n",
      "Only 150 samples in chain.\n",
      "Auto-assigning NUTS sampler...\n",
      "Initializing NUTS using jitter+adapt_diag...\n",
      "Sequential sampling (2 chains in 1 job)\n",
      "NUTS: [σ, η, ρ]\n",
      "Sampling chain 0, 0 divergences: 100%|██████████████████████████████████████████████████████████| 450/450 [00:05<00:00, 88.25it/s]\n",
      "Sampling chain 1, 0 divergences: 100%|█████████████████████████████████████████████████████████| 450/450 [00:03<00:00, 117.28it/s]\n",
      "C:\\Users\\kehua\\AppData\\Local\\Programs\\Python\\python-venv\\37_env\\lib\\site-packages\\theano\\tensor\\basic.py:6611: FutureWarning: Using a non-tuple sequence for multidimensional indexing is deprecated; use `arr[tuple(seq)]` instead of `arr[seq]`. In the future this will be interpreted as an array index, `arr[np.array(seq)]`, which will result either in an error or a different result.\n",
      "  result[diagonal_slice] = x\n",
      "The acceptance probability does not match the target. It is 0.9010710670386851, but should be close to 0.8. Try to increase the number of tuning steps.\n",
      "The acceptance probability does not match the target. It is 0.8790941806773901, but should be close to 0.8. Try to increase the number of tuning steps.\n",
      "C:\\Users\\kehua\\AppData\\Local\\Programs\\Python\\python-venv\\37_env\\lib\\site-packages\\pymc3\\sampling.py:1247: UserWarning: samples parameter is smaller than nchains times ndraws, some draws and/or chains may not be represented in the returned posterior predictive sample\n",
      "  \"samples parameter is smaller than nchains times ndraws, some draws \"\n",
      "100%|███████████████████████████████████████████████████████████████████████████████████████████| 100/100 [00:02<00:00, 43.31it/s]\n",
      "Only 150 samples in chain.\n",
      "Auto-assigning NUTS sampler...\n",
      "Initializing NUTS using jitter+adapt_diag...\n",
      "Sequential sampling (2 chains in 1 job)\n",
      "NUTS: [σ, η, ρ]\n",
      "Sampling chain 0, 0 divergences: 100%|██████████████████████████████████████████████████████████| 450/450 [00:05<00:00, 88.49it/s]\n",
      "Sampling chain 1, 0 divergences: 100%|█████████████████████████████████████████████████████████| 450/450 [00:03<00:00, 116.67it/s]\n",
      "C:\\Users\\kehua\\AppData\\Local\\Programs\\Python\\python-venv\\37_env\\lib\\site-packages\\theano\\tensor\\basic.py:6611: FutureWarning: Using a non-tuple sequence for multidimensional indexing is deprecated; use `arr[tuple(seq)]` instead of `arr[seq]`. In the future this will be interpreted as an array index, `arr[np.array(seq)]`, which will result either in an error or a different result.\n",
      "  result[diagonal_slice] = x\n",
      "The acceptance probability does not match the target. It is 0.9010710670386851, but should be close to 0.8. Try to increase the number of tuning steps.\n",
      "The acceptance probability does not match the target. It is 0.8790941806773901, but should be close to 0.8. Try to increase the number of tuning steps.\n",
      "C:\\Users\\kehua\\AppData\\Local\\Programs\\Python\\python-venv\\37_env\\lib\\site-packages\\pymc3\\sampling.py:1247: UserWarning: samples parameter is smaller than nchains times ndraws, some draws and/or chains may not be represented in the returned posterior predictive sample\n",
      "  \"samples parameter is smaller than nchains times ndraws, some draws \"\n",
      "100%|███████████████████████████████████████████████████████████████████████████████████████████| 100/100 [00:02<00:00, 38.25it/s]\n"
     ]
    },
    {
     "name": "stdout",
     "output_type": "stream",
     "text": [
      "Fitting 1301/3142"
     ]
    },
    {
     "name": "stderr",
     "output_type": "stream",
     "text": [
      "C:\\Users\\kehua\\AppData\\Local\\Programs\\Python\\python-venv\\37_env\\lib\\site-packages\\scipy\\optimize\\minpack.py:808: OptimizeWarning: Covariance of the parameters could not be estimated\n",
      "  category=OptimizeWarning)\n"
     ]
    },
    {
     "name": "stdout",
     "output_type": "stream",
     "text": [
      "Fitting 1312/3142\r"
     ]
    },
    {
     "name": "stderr",
     "output_type": "stream",
     "text": [
      "Only 150 samples in chain.\n",
      "Auto-assigning NUTS sampler...\n",
      "Initializing NUTS using jitter+adapt_diag...\n",
      "Sequential sampling (2 chains in 1 job)\n",
      "NUTS: [σ, η, ρ]\n",
      "Sampling chain 0, 0 divergences: 100%|██████████████████████████████████████████████████████████| 450/450 [00:04<00:00, 92.17it/s]\n",
      "Sampling chain 1, 0 divergences: 100%|█████████████████████████████████████████████████████████| 450/450 [00:04<00:00, 101.25it/s]\n",
      "C:\\Users\\kehua\\AppData\\Local\\Programs\\Python\\python-venv\\37_env\\lib\\site-packages\\theano\\tensor\\basic.py:6611: FutureWarning: Using a non-tuple sequence for multidimensional indexing is deprecated; use `arr[tuple(seq)]` instead of `arr[seq]`. In the future this will be interpreted as an array index, `arr[np.array(seq)]`, which will result either in an error or a different result.\n",
      "  result[diagonal_slice] = x\n",
      "The acceptance probability does not match the target. It is 0.8827570281640217, but should be close to 0.8. Try to increase the number of tuning steps.\n",
      "C:\\Users\\kehua\\AppData\\Local\\Programs\\Python\\python-venv\\37_env\\lib\\site-packages\\pymc3\\sampling.py:1247: UserWarning: samples parameter is smaller than nchains times ndraws, some draws and/or chains may not be represented in the returned posterior predictive sample\n",
      "  \"samples parameter is smaller than nchains times ndraws, some draws \"\n",
      "100%|███████████████████████████████████████████████████████████████████████████████████████████| 100/100 [00:02<00:00, 36.74it/s]\n",
      "Only 150 samples in chain.\n",
      "Auto-assigning NUTS sampler...\n",
      "Initializing NUTS using jitter+adapt_diag...\n",
      "Sequential sampling (2 chains in 1 job)\n",
      "NUTS: [σ, η, ρ]\n",
      "Sampling chain 0, 0 divergences: 100%|██████████████████████████████████████████████████████████| 450/450 [00:04<00:00, 91.07it/s]\n",
      "Sampling chain 1, 0 divergences: 100%|█████████████████████████████████████████████████████████| 450/450 [00:04<00:00, 109.57it/s]\n",
      "C:\\Users\\kehua\\AppData\\Local\\Programs\\Python\\python-venv\\37_env\\lib\\site-packages\\theano\\tensor\\basic.py:6611: FutureWarning: Using a non-tuple sequence for multidimensional indexing is deprecated; use `arr[tuple(seq)]` instead of `arr[seq]`. In the future this will be interpreted as an array index, `arr[np.array(seq)]`, which will result either in an error or a different result.\n",
      "  result[diagonal_slice] = x\n",
      "The acceptance probability does not match the target. It is 0.8789460108570897, but should be close to 0.8. Try to increase the number of tuning steps.\n",
      "C:\\Users\\kehua\\AppData\\Local\\Programs\\Python\\python-venv\\37_env\\lib\\site-packages\\pymc3\\sampling.py:1247: UserWarning: samples parameter is smaller than nchains times ndraws, some draws and/or chains may not be represented in the returned posterior predictive sample\n",
      "  \"samples parameter is smaller than nchains times ndraws, some draws \"\n",
      "100%|███████████████████████████████████████████████████████████████████████████████████████████| 100/100 [00:02<00:00, 38.47it/s]\n",
      "Only 150 samples in chain.\n",
      "Auto-assigning NUTS sampler...\n",
      "Initializing NUTS using jitter+adapt_diag...\n",
      "Sequential sampling (2 chains in 1 job)\n",
      "NUTS: [σ, η, ρ]\n",
      "Sampling chain 0, 0 divergences: 100%|██████████████████████████████████████████████████████████| 450/450 [00:05<00:00, 89.95it/s]\n",
      "Sampling chain 1, 0 divergences: 100%|█████████████████████████████████████████████████████████| 450/450 [00:04<00:00, 108.79it/s]\n",
      "C:\\Users\\kehua\\AppData\\Local\\Programs\\Python\\python-venv\\37_env\\lib\\site-packages\\theano\\tensor\\basic.py:6611: FutureWarning: Using a non-tuple sequence for multidimensional indexing is deprecated; use `arr[tuple(seq)]` instead of `arr[seq]`. In the future this will be interpreted as an array index, `arr[np.array(seq)]`, which will result either in an error or a different result.\n",
      "  result[diagonal_slice] = x\n",
      "The acceptance probability does not match the target. It is 0.8789460108570897, but should be close to 0.8. Try to increase the number of tuning steps.\n",
      "C:\\Users\\kehua\\AppData\\Local\\Programs\\Python\\python-venv\\37_env\\lib\\site-packages\\pymc3\\sampling.py:1247: UserWarning: samples parameter is smaller than nchains times ndraws, some draws and/or chains may not be represented in the returned posterior predictive sample\n",
      "  \"samples parameter is smaller than nchains times ndraws, some draws \"\n",
      "100%|███████████████████████████████████████████████████████████████████████████████████████████| 100/100 [00:02<00:00, 34.21it/s]\n"
     ]
    },
    {
     "name": "stdout",
     "output_type": "stream",
     "text": [
      "Fitting 1325/3142"
     ]
    },
    {
     "name": "stderr",
     "output_type": "stream",
     "text": [
      "C:\\Users\\kehua\\AppData\\Local\\Programs\\Python\\python-venv\\37_env\\lib\\site-packages\\scipy\\optimize\\minpack.py:808: OptimizeWarning: Covariance of the parameters could not be estimated\n",
      "  category=OptimizeWarning)\n"
     ]
    },
    {
     "name": "stdout",
     "output_type": "stream",
     "text": [
      "Fitting 1782/3142\r"
     ]
    },
    {
     "name": "stderr",
     "output_type": "stream",
     "text": [
      "Only 150 samples in chain.\n",
      "Auto-assigning NUTS sampler...\n",
      "Initializing NUTS using jitter+adapt_diag...\n",
      "Sequential sampling (2 chains in 1 job)\n",
      "NUTS: [σ, η, ρ]\n",
      "Sampling chain 0, 0 divergences: 100%|██████████████████████████████████████████████████████████| 450/450 [00:05<00:00, 82.48it/s]\n",
      "Sampling chain 1, 0 divergences: 100%|█████████████████████████████████████████████████████████| 450/450 [00:04<00:00, 103.07it/s]\n",
      "C:\\Users\\kehua\\AppData\\Local\\Programs\\Python\\python-venv\\37_env\\lib\\site-packages\\theano\\tensor\\basic.py:6611: FutureWarning: Using a non-tuple sequence for multidimensional indexing is deprecated; use `arr[tuple(seq)]` instead of `arr[seq]`. In the future this will be interpreted as an array index, `arr[np.array(seq)]`, which will result either in an error or a different result.\n",
      "  result[diagonal_slice] = x\n",
      "C:\\Users\\kehua\\AppData\\Local\\Programs\\Python\\python-venv\\37_env\\lib\\site-packages\\pymc3\\sampling.py:1247: UserWarning: samples parameter is smaller than nchains times ndraws, some draws and/or chains may not be represented in the returned posterior predictive sample\n",
      "  \"samples parameter is smaller than nchains times ndraws, some draws \"\n",
      "100%|███████████████████████████████████████████████████████████████████████████████████████████| 100/100 [00:02<00:00, 44.14it/s]\n",
      "Only 150 samples in chain.\n",
      "Auto-assigning NUTS sampler...\n",
      "Initializing NUTS using jitter+adapt_diag...\n",
      "Sequential sampling (2 chains in 1 job)\n",
      "NUTS: [σ, η, ρ]\n",
      "Sampling chain 0, 0 divergences: 100%|██████████████████████████████████████████████████████████| 450/450 [00:05<00:00, 82.93it/s]\n",
      "Sampling chain 1, 0 divergences: 100%|█████████████████████████████████████████████████████████| 450/450 [00:03<00:00, 122.76it/s]\n",
      "C:\\Users\\kehua\\AppData\\Local\\Programs\\Python\\python-venv\\37_env\\lib\\site-packages\\theano\\tensor\\basic.py:6611: FutureWarning: Using a non-tuple sequence for multidimensional indexing is deprecated; use `arr[tuple(seq)]` instead of `arr[seq]`. In the future this will be interpreted as an array index, `arr[np.array(seq)]`, which will result either in an error or a different result.\n",
      "  result[diagonal_slice] = x\n",
      "The acceptance probability does not match the target. It is 0.8818397166133066, but should be close to 0.8. Try to increase the number of tuning steps.\n",
      "C:\\Users\\kehua\\AppData\\Local\\Programs\\Python\\python-venv\\37_env\\lib\\site-packages\\pymc3\\sampling.py:1247: UserWarning: samples parameter is smaller than nchains times ndraws, some draws and/or chains may not be represented in the returned posterior predictive sample\n",
      "  \"samples parameter is smaller than nchains times ndraws, some draws \"\n",
      "100%|███████████████████████████████████████████████████████████████████████████████████████████| 100/100 [00:02<00:00, 47.54it/s]\n",
      "Only 150 samples in chain.\n",
      "Auto-assigning NUTS sampler...\n",
      "Initializing NUTS using jitter+adapt_diag...\n",
      "Sequential sampling (2 chains in 1 job)\n",
      "NUTS: [σ, η, ρ]\n",
      "Sampling chain 0, 0 divergences: 100%|██████████████████████████████████████████████████████████| 450/450 [00:05<00:00, 77.05it/s]\n",
      "Sampling chain 1, 0 divergences: 100%|█████████████████████████████████████████████████████████| 450/450 [00:03<00:00, 112.78it/s]\n",
      "C:\\Users\\kehua\\AppData\\Local\\Programs\\Python\\python-venv\\37_env\\lib\\site-packages\\theano\\tensor\\basic.py:6611: FutureWarning: Using a non-tuple sequence for multidimensional indexing is deprecated; use `arr[tuple(seq)]` instead of `arr[seq]`. In the future this will be interpreted as an array index, `arr[np.array(seq)]`, which will result either in an error or a different result.\n",
      "  result[diagonal_slice] = x\n",
      "The acceptance probability does not match the target. It is 0.8818397166133066, but should be close to 0.8. Try to increase the number of tuning steps.\n",
      "C:\\Users\\kehua\\AppData\\Local\\Programs\\Python\\python-venv\\37_env\\lib\\site-packages\\pymc3\\sampling.py:1247: UserWarning: samples parameter is smaller than nchains times ndraws, some draws and/or chains may not be represented in the returned posterior predictive sample\n",
      "  \"samples parameter is smaller than nchains times ndraws, some draws \"\n",
      "100%|███████████████████████████████████████████████████████████████████████████████████████████| 100/100 [00:02<00:00, 45.38it/s]\n"
     ]
    },
    {
     "name": "stdout",
     "output_type": "stream",
     "text": [
      "Fitting 1906/3142\r"
     ]
    },
    {
     "name": "stderr",
     "output_type": "stream",
     "text": [
      "C:\\Users\\kehua\\AppData\\Local\\Programs\\Python\\python-venv\\37_env\\lib\\site-packages\\scipy\\optimize\\minpack.py:808: OptimizeWarning: Covariance of the parameters could not be estimated\n",
      "  category=OptimizeWarning)\n"
     ]
    },
    {
     "name": "stdout",
     "output_type": "stream",
     "text": [
      "Fitting 2289/3142\r"
     ]
    },
    {
     "name": "stderr",
     "output_type": "stream",
     "text": [
      "Only 150 samples in chain.\n",
      "Auto-assigning NUTS sampler...\n",
      "Initializing NUTS using jitter+adapt_diag...\n",
      "Sequential sampling (2 chains in 1 job)\n",
      "NUTS: [σ, η, ρ]\n",
      "Sampling chain 0, 0 divergences: 100%|██████████████████████████████████████████████████████████| 450/450 [00:05<00:00, 76.57it/s]\n",
      "Sampling chain 1, 0 divergences: 100%|██████████████████████████████████████████████████████████| 450/450 [00:04<00:00, 92.28it/s]\n",
      "C:\\Users\\kehua\\AppData\\Local\\Programs\\Python\\python-venv\\37_env\\lib\\site-packages\\theano\\tensor\\basic.py:6611: FutureWarning: Using a non-tuple sequence for multidimensional indexing is deprecated; use `arr[tuple(seq)]` instead of `arr[seq]`. In the future this will be interpreted as an array index, `arr[np.array(seq)]`, which will result either in an error or a different result.\n",
      "  result[diagonal_slice] = x\n",
      "C:\\Users\\kehua\\AppData\\Local\\Programs\\Python\\python-venv\\37_env\\lib\\site-packages\\pymc3\\sampling.py:1247: UserWarning: samples parameter is smaller than nchains times ndraws, some draws and/or chains may not be represented in the returned posterior predictive sample\n",
      "  \"samples parameter is smaller than nchains times ndraws, some draws \"\n",
      "100%|███████████████████████████████████████████████████████████████████████████████████████████| 100/100 [00:02<00:00, 41.31it/s]\n",
      "Only 150 samples in chain.\n",
      "Auto-assigning NUTS sampler...\n",
      "Initializing NUTS using jitter+adapt_diag...\n",
      "Sequential sampling (2 chains in 1 job)\n",
      "NUTS: [σ, η, ρ]\n",
      "Sampling chain 0, 0 divergences: 100%|██████████████████████████████████████████████████████████| 450/450 [00:06<00:00, 74.50it/s]\n",
      "Sampling chain 1, 0 divergences: 100%|██████████████████████████████████████████████████████████| 450/450 [00:04<00:00, 95.06it/s]\n",
      "C:\\Users\\kehua\\AppData\\Local\\Programs\\Python\\python-venv\\37_env\\lib\\site-packages\\theano\\tensor\\basic.py:6611: FutureWarning: Using a non-tuple sequence for multidimensional indexing is deprecated; use `arr[tuple(seq)]` instead of `arr[seq]`. In the future this will be interpreted as an array index, `arr[np.array(seq)]`, which will result either in an error or a different result.\n",
      "  result[diagonal_slice] = x\n",
      "C:\\Users\\kehua\\AppData\\Local\\Programs\\Python\\python-venv\\37_env\\lib\\site-packages\\pymc3\\sampling.py:1247: UserWarning: samples parameter is smaller than nchains times ndraws, some draws and/or chains may not be represented in the returned posterior predictive sample\n",
      "  \"samples parameter is smaller than nchains times ndraws, some draws \"\n",
      "100%|███████████████████████████████████████████████████████████████████████████████████████████| 100/100 [00:02<00:00, 42.17it/s]\n",
      "Only 150 samples in chain.\n",
      "Auto-assigning NUTS sampler...\n",
      "Initializing NUTS using jitter+adapt_diag...\n",
      "Sequential sampling (2 chains in 1 job)\n",
      "NUTS: [σ, η, ρ]\n",
      "Sampling chain 0, 0 divergences: 100%|██████████████████████████████████████████████████████████| 450/450 [00:06<00:00, 74.61it/s]\n",
      "Sampling chain 1, 0 divergences: 100%|██████████████████████████████████████████████████████████| 450/450 [00:04<00:00, 95.02it/s]\n",
      "C:\\Users\\kehua\\AppData\\Local\\Programs\\Python\\python-venv\\37_env\\lib\\site-packages\\theano\\tensor\\basic.py:6611: FutureWarning: Using a non-tuple sequence for multidimensional indexing is deprecated; use `arr[tuple(seq)]` instead of `arr[seq]`. In the future this will be interpreted as an array index, `arr[np.array(seq)]`, which will result either in an error or a different result.\n",
      "  result[diagonal_slice] = x\n",
      "C:\\Users\\kehua\\AppData\\Local\\Programs\\Python\\python-venv\\37_env\\lib\\site-packages\\pymc3\\sampling.py:1247: UserWarning: samples parameter is smaller than nchains times ndraws, some draws and/or chains may not be represented in the returned posterior predictive sample\n",
      "  \"samples parameter is smaller than nchains times ndraws, some draws \"\n",
      "100%|███████████████████████████████████████████████████████████████████████████████████████████| 100/100 [00:02<00:00, 42.47it/s]\n"
     ]
    },
    {
     "name": "stdout",
     "output_type": "stream",
     "text": [
      "Fitting 2576/3142\r"
     ]
    },
    {
     "name": "stderr",
     "output_type": "stream",
     "text": [
      "C:\\Users\\kehua\\AppData\\Local\\Programs\\Python\\python-venv\\37_env\\lib\\site-packages\\scipy\\optimize\\minpack.py:808: OptimizeWarning: Covariance of the parameters could not be estimated\n",
      "  category=OptimizeWarning)\n"
     ]
    },
    {
     "name": "stdout",
     "output_type": "stream",
     "text": [
      "Fitting 3142/3142\n",
      "Predicting 3142/3142\r"
     ]
    }
   ],
   "source": [
    "pipeline.run()"
   ]
  },
  {
   "cell_type": "code",
   "execution_count": 113,
   "metadata": {},
   "outputs": [
    {
     "name": "stdout",
     "output_type": "stream",
     "text": [
      "\n",
      "Predicting 3142/3142\r"
     ]
    }
   ],
   "source": [
    "pipeline.predict(quantiles=quantiles, samples=samples)"
   ]
  },
  {
   "cell_type": "code",
   "execution_count": 114,
   "metadata": {},
   "outputs": [
    {
     "name": "stdout",
     "output_type": "stream",
     "text": [
      "writing 3142/3142\r"
     ]
    }
   ],
   "source": [
    "pipeline.write_to_file(output_file, sample_file, quantiles)"
   ]
  },
  {
   "cell_type": "code",
   "execution_count": null,
   "metadata": {},
   "outputs": [],
   "source": [
    "pred2 = pipeline.get_combined_predictions(quantiles=quantiles, samples=250)"
   ]
  },
  {
   "cell_type": "code",
   "execution_count": 29,
   "metadata": {},
   "outputs": [],
   "source": [
    "pipeline.save('saved_pipeline_gp_old.pl')"
   ]
  },
  {
   "cell_type": "code",
   "execution_count": 5,
   "metadata": {},
   "outputs": [
    {
     "ename": "ModuleNotFoundError",
     "evalue": "No module named 'curvefit_pipeline'",
     "output_type": "error",
     "traceback": [
      "\u001b[1;31m---------------------------------------------------------------------------\u001b[0m",
      "\u001b[1;31mModuleNotFoundError\u001b[0m                       Traceback (most recent call last)",
      "\u001b[1;32m<ipython-input-5-bd5dcee9c8ba>\u001b[0m in \u001b[0;36m<module>\u001b[1;34m\u001b[0m\n\u001b[1;32m----> 1\u001b[1;33m \u001b[0mpipeline\u001b[0m \u001b[1;33m=\u001b[0m \u001b[0mpipeline\u001b[0m\u001b[1;33m.\u001b[0m\u001b[0mload\u001b[0m\u001b[1;33m(\u001b[0m\u001b[1;34m'saved_pipeline_gp2.pl'\u001b[0m\u001b[1;33m)\u001b[0m\u001b[1;33m\u001b[0m\u001b[1;33m\u001b[0m\u001b[0m\n\u001b[0m",
      "\u001b[1;32m~\\Documents\\Caltech\\CS156-COVID19\\models\\curvefit\\curvefit_pipeline.py\u001b[0m in \u001b[0;36mload\u001b[1;34m(filename)\u001b[0m\n\u001b[0;32m    468\u001b[0m     \u001b[1;32mdef\u001b[0m \u001b[0mload\u001b[0m\u001b[1;33m(\u001b[0m\u001b[0mfilename\u001b[0m\u001b[1;33m)\u001b[0m\u001b[1;33m:\u001b[0m\u001b[1;33m\u001b[0m\u001b[1;33m\u001b[0m\u001b[0m\n\u001b[0;32m    469\u001b[0m         \u001b[1;32mwith\u001b[0m \u001b[0mopen\u001b[0m\u001b[1;33m(\u001b[0m\u001b[0mfilename\u001b[0m\u001b[1;33m,\u001b[0m \u001b[1;34m'rb'\u001b[0m\u001b[1;33m)\u001b[0m \u001b[1;32mas\u001b[0m \u001b[0mfile\u001b[0m\u001b[1;33m:\u001b[0m\u001b[1;33m\u001b[0m\u001b[1;33m\u001b[0m\u001b[0m\n\u001b[1;32m--> 470\u001b[1;33m             \u001b[0msaved\u001b[0m \u001b[1;33m=\u001b[0m \u001b[0mpickle\u001b[0m\u001b[1;33m.\u001b[0m\u001b[0mload\u001b[0m\u001b[1;33m(\u001b[0m\u001b[0mfile\u001b[0m\u001b[1;33m)\u001b[0m\u001b[1;33m\u001b[0m\u001b[1;33m\u001b[0m\u001b[0m\n\u001b[0m\u001b[0;32m    471\u001b[0m         \u001b[1;32mreturn\u001b[0m \u001b[0msaved\u001b[0m\u001b[1;33m\u001b[0m\u001b[1;33m\u001b[0m\u001b[0m\n",
      "\u001b[1;31mModuleNotFoundError\u001b[0m: No module named 'curvefit_pipeline'"
     ]
    }
   ],
   "source": [
    "pipeline = pipeline.load('saved_pipeline_gp2.pl')"
   ]
  },
  {
   "cell_type": "code",
   "execution_count": 27,
   "metadata": {},
   "outputs": [],
   "source": [
    "pred2=pipeline.combined"
   ]
  },
  {
   "cell_type": "code",
   "execution_count": 65,
   "metadata": {},
   "outputs": [
    {
     "data": {
      "text/plain": [
       "[<matplotlib.lines.Line2D at 0x24bb778eec8>]"
      ]
     },
     "execution_count": 65,
     "metadata": {},
     "output_type": "execute_result"
    },
    {
     "data": {
      "image/png": "[encoded data removed]",
      "text/plain": [
       "<Figure size 432x288 with 1 Axes>"
      ]
     },
     "metadata": {
      "needs_background": "light"
     },
     "output_type": "display_data"
    }
   ],
   "source": [
    "# 1208**, 1200, 716, 1382, 204, 1791, 1868, 1858, 2969, 1887, 1308, 1224, 1776-1794, 2289**, 2848, 3087**, 1138*, 1280, 1293**, 1870**, 2312!!, 2315!!\n",
    "county = 204\n",
    "x = np.arange(0, pred2[county].shape[0])\n",
    "y = pred2[county][:, 0]\n",
    "plt.plot(x, y)\n",
    "\n",
    "y = pred2[county][:, 4]\n",
    "plt.plot(x, y)\n",
    "\n",
    "y = pred2[county][:, 8]\n",
    "plt.plot(x, y)\n",
    "\n",
    "d = pipeline.data.daily_change[county]\n",
    "x = np.linspace(0, d.shape[0] - 1, d.shape[0])\n",
    "y = d\n",
    "plt.plot(x, y, marker='o')\n",
    "\n",
    "# plt.axvline(x=pred2[county].shape[0], color='red')\n",
    "# plt.ylim(0, 110)\n",
    "# plt.xlim(60,)"
   ]
  },
  {
   "cell_type": "code",
   "execution_count": 81,
   "metadata": {},
   "outputs": [
    {
     "data": {
      "text/plain": [
       "[<matplotlib.lines.Line2D at 0x27b4cb0d748>]"
      ]
     },
     "execution_count": 81,
     "metadata": {},
     "output_type": "execute_result"
    },
    {
     "data": {
      "image/png": "[encoded data removed]",
      "text/plain": [
       "<Figure size 432x288 with 1 Axes>"
      ]
     },
     "metadata": {
      "needs_background": "light"
     },
     "output_type": "display_data"
    }
   ],
   "source": [
    "# 1208**, 1200, 716, 1382, 204, 1791, 1868, 1858, 2969, 1887, 1308, 1224, 1776-1794, 2289**, 2848, 3087**, 1138*, 1280, 1293**, 1870**, 2312!!, 2315!!\n",
    "county = 2294\n",
    "x = np.arange(0, pred2[county].shape[0])\n",
    "y = pred2[county][:, 0]\n",
    "plt.plot(x, y)\n",
    "\n",
    "y = pred2[county][:, 4]\n",
    "plt.plot(x, y)\n",
    "\n",
    "y = pred2[county][:, 8]\n",
    "plt.plot(x, y)\n",
    "\n",
    "d = pipeline.data.daily_change[county]\n",
    "x = np.linspace(0, d.shape[0] - 1, d.shape[0])\n",
    "y = d\n",
    "plt.plot(x, y)"
   ]
  },
  {
   "cell_type": "code",
   "execution_count": null,
   "metadata": {},
   "outputs": [],
   "source": []
  }
 ],
 "metadata": {
  "kernelspec": {
   "display_name": "37_env",
   "language": "python",
   "name": "37_env"
  },
  "language_info": {
   "codemirror_mode": {
    "name": "ipython",
    "version": 3
   },
   "file_extension": ".py",
   "mimetype": "text/x-python",
   "name": "python",
   "nbconvert_exporter": "python",
   "pygments_lexer": "ipython3",
   "version": "3.7.6"
  }
 },
 "nbformat": 4,
 "nbformat_minor": 4
}
